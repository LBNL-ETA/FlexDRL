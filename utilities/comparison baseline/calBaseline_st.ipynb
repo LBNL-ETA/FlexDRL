{
 "cells": [
  {
   "cell_type": "code",
   "execution_count": 1,
   "metadata": {},
   "outputs": [],
   "source": [
    "from scipy.io import loadmat\n",
    "import numpy as np\n",
    "import pandas as pd\n",
    "\n"
   ]
  },
  {
   "cell_type": "code",
   "execution_count": 6,
   "metadata": {},
   "outputs": [],
   "source": [
    "def calculate_energy_baseline(year):\n",
    "\n",
    "    pv = loadmat(f'data/PV_{year}.mat')\n",
    "\n",
    "    pv_gen = pv['data_2'][12]\n",
    "    time = pv['data_2'][0].astype('int')\n",
    "\n",
    "    pv_df_hour = pd.DataFrame(index=time, data=pv_gen, columns=['pv_gen']) \n",
    "    pv_df_hour['day'] = pv_df_hour.index//(3600*24)\n",
    "\n",
    "    pv_df_day = 2.0*14/14*pv_df_hour.groupby('day').sum()[:-1]\n",
    "    \n",
    "\n",
    "    columns = ['FLEXLAB-XR-ZONEB LIGHTS:Lights Electric Power [W](TimeStep)',\n",
    "               'FLEXLAB-XR-ZONEB ELECEQ:Electric Equipment Electric Power [W](TimeStep)',\n",
    "               'SYS-B HEATING COIL:Heating Coil Heating Rate [W](TimeStep)',\n",
    "               'SYS-B COOLING COIL:Cooling Coil Total Cooling Rate [W](TimeStep)',\n",
    "               'SYS-B SUPPLY FAN:Fan Electric Power [W](TimeStep)',\n",
    "               'SYS-B CW SEC CIRC PUMP2:Pump Electric Power [W](TimeStep)',\n",
    "               'SYS-B HW SEC CIRC PUMP2:Pump Electric Power [W](TimeStep)']\n",
    "\n",
    "    load_hour = pd.read_csv(f'data/{year}.csv',usecols=columns)\n",
    "    load_hour.columns = ['lig','mels','hea','coo','fan','cooPump','heaPump']\n",
    "\n",
    "    load_hour['day'] = load_hour.index//(4*24)\n",
    "\n",
    "    load_day = load_hour.groupby('day').sum()/4  # divided by 4 as each measurement is for 15 mins only\n",
    "\n",
    "    load_day['total_load'] = load_day[['lig','mels','fan','cooPump','heaPump']].sum(axis=1)+load_day['hea']/0.95+load_day['coo']/3.0\n",
    "    \n",
    "    EMax = 6300\n",
    "\n",
    "    daily_net = np.maximum(load_day['total_load']-pv_df_day['pv_gen'],np.ones(365)*EMax*-1)\n",
    "\n",
    "    energy_baseline = round(daily_net.sum()/1000,2)\n",
    "    \n",
    "    print(f'Energy baseline for year {year} is: {energy_baseline} kWh')"
   ]
  },
  {
   "cell_type": "code",
   "execution_count": 7,
   "metadata": {},
   "outputs": [
    {
     "output_type": "stream",
     "name": "stdout",
     "text": "Energy baseline for year 2013 is: 40.81 kWh\nEnergy baseline for year 2014 is: -747.16 kWh\nEnergy baseline for year 2015 is: -504.17 kWh\nEnergy baseline for year 2017 is: 220.0 kWh\nEnergy baseline for year TMY is: -120.66 kWh\n"
    }
   ],
   "source": [
    "for year in [2013,2014,2015,2017,'TMY']:\n",
    "    calculate_energy_baseline(year)"
   ]
  },
  {
   "cell_type": "code",
   "execution_count": 42,
   "metadata": {},
   "outputs": [
    {
     "output_type": "stream",
     "name": "stdout",
     "text": "Energy baseline for year 2013 is: 1814.3 kWh\nEnergy baseline for year 2014 is: 751.38 kWh\nEnergy baseline for year 2015 is: 1256.22 kWh\nEnergy baseline for year 2017 is: 2072.65 kWh\nEnergy baseline for year TMY is: 1781.52 kWh\n"
    }
   ],
   "source": [
    "for year in [2013,2014,2015,2017,'TMY']:\n",
    "    calculate_energy_baseline(year)"
   ]
  },
  {
   "cell_type": "code",
   "execution_count": 12,
   "metadata": {},
   "outputs": [
    {
     "output_type": "execute_result",
     "data": {
      "text/plain": "5710"
     },
     "metadata": {},
     "execution_count": 12
    }
   ],
   "source": [
    "7579-2284+415"
   ]
  },
  {
   "cell_type": "code",
   "execution_count": null,
   "metadata": {},
   "outputs": [],
   "source": []
  },
  {
   "cell_type": "code",
   "execution_count": 4,
   "metadata": {},
   "outputs": [],
   "source": [
    "pv = loadmat('data/PV_2013.mat')"
   ]
  },
  {
   "cell_type": "code",
   "execution_count": 5,
   "metadata": {},
   "outputs": [],
   "source": [
    "pv_gen = pv['data_2'][12]"
   ]
  },
  {
   "cell_type": "code",
   "execution_count": 6,
   "metadata": {},
   "outputs": [
    {
     "output_type": "execute_result",
     "data": {
      "text/plain": "4921.278214285714"
     },
     "metadata": {},
     "execution_count": 6
    }
   ],
   "source": [
    "2*pv_gen.sum()/1000*(11.0/14.0)"
   ]
  },
  {
   "cell_type": "code",
   "execution_count": 8,
   "metadata": {},
   "outputs": [],
   "source": [
    "year = 2014\n",
    "\n",
    "columns = ['FLEXLAB-XR-ZONEB LIGHTS:Lights Electric Power [W](TimeStep)',\n",
    "               'FLEXLAB-XR-ZONEB ELECEQ:Electric Equipment Electric Power [W](TimeStep)',\n",
    "               'SYS-B HEATING COIL:Heating Coil Heating Rate [W](TimeStep)',\n",
    "               'SYS-B COOLING COIL:Cooling Coil Total Cooling Rate [W](TimeStep)',\n",
    "               'SYS-B SUPPLY FAN:Fan Electric Power [W](TimeStep)',\n",
    "               'SYS-B CW SEC CIRC PUMP2:Pump Electric Power [W](TimeStep)',\n",
    "               'SYS-B HW SEC CIRC PUMP2:Pump Electric Power [W](TimeStep)']\n",
    "\n",
    "load_hour = pd.read_csv(f'data/{year}.csv',usecols=columns)\n",
    "load_hour.columns = ['lig','mels','hea','coo','fan','cooPump','heaPump']"
   ]
  },
  {
   "cell_type": "code",
   "execution_count": 9,
   "metadata": {},
   "outputs": [
    {
     "output_type": "stream",
     "name": "stdout",
     "text": "Total Lighting: 1646.389410216 kWh\nTotal plug load: 1802.1102832989002 kWh\nTotal heating: 117.50658867582001 kWh\nTotal cooling: 1149.699721643369 kWh\nTotal fan: 932.4232616159998 kWh\nTotal energy consumed : 5648.129265450089 kWh\n"
    }
   ],
   "source": [
    "total_lig = load_hour['lig'].sum()*.25/1000\n",
    "total_mels = load_hour['mels'].sum()*.25/1000\n",
    "total_hea = load_hour['hea'].sum()*.25/1000\n",
    "total_coo = load_hour['coo'].sum()*.25/1000\n",
    "total_fan = load_hour['fan'].sum()*.25/1000\n",
    "total =total_lig+total_mels+total_hea/.95+total_coo/3.0+total_fan\n",
    "\n",
    "print('Total Lighting: {0} kWh'.format(total_lig))\n",
    "print('Total plug load: {0} kWh'.format(total_mels))\n",
    "print('Total heating: {0} kWh'.format(total_hea/.95))\n",
    "print('Total cooling: {0} kWh'.format(total_coo/3.0))\n",
    "print('Total fan: {0} kWh'.format(total_fan))\n",
    "print('Total energy consumed : {0} kWh'.format(total))"
   ]
  },
  {
   "cell_type": "code",
   "execution_count": 14,
   "metadata": {},
   "outputs": [],
   "source": [
    "pv = loadmat(f'data/PV_{year}.mat')\n",
    "\n",
    "pv_gen = pv['data_2'][12]\n",
    "time = pv['data_2'][0].astype('int')\n",
    "\n",
    "pv_df_hour = pd.DataFrame(index=time, data=pv_gen, columns=['pv_gen']) \n",
    "pv_df_hour['day'] = pv_df_hour.index//(3600*24)\n",
    "\n",
    "pv_df_day = pv_df_hour.groupby('day').sum()[:-1]"
   ]
  },
  {
   "cell_type": "code",
   "execution_count": 66,
   "metadata": {},
   "outputs": [
    {
     "output_type": "execute_result",
     "data": {
      "text/plain": "pv_gen    3790.835938\ndtype: float32"
     },
     "metadata": {},
     "execution_count": 66
    }
   ],
   "source": [
    "pv_df_day.sum()/1000"
   ]
  },
  {
   "cell_type": "code",
   "execution_count": 70,
   "metadata": {},
   "outputs": [],
   "source": [
    "load_hour['day'] = load_hour.index//(4*24)\n",
    "load_day = load_hour.groupby('day').sum()/4  # divided by 4 as each measurement is for 15 mins only\n",
    "load_day['total_load'] = load_day[['lig','mels','fan','cooPump','heaPump']].sum(axis=1)+load_day['hea']/0.95+load_day['coo']/3.0"
   ]
  },
  {
   "cell_type": "code",
   "execution_count": 79,
   "metadata": {},
   "outputs": [
    {
     "output_type": "execute_result",
     "data": {
      "text/plain": "-3982.25456099285"
     },
     "metadata": {},
     "execution_count": 79
    }
   ],
   "source": [
    "np.mean(load_day['total_load']*.7-pv_df_day['pv_gen']*10.0/7.0)"
   ]
  },
  {
   "cell_type": "code",
   "execution_count": 83,
   "metadata": {},
   "outputs": [
    {
     "output_type": "error",
     "ename": "TypeError",
     "evalue": "'float' object is not subscriptable",
     "traceback": [
      "\u001b[0;31m---------------------------------------------------------------------------\u001b[0m",
      "\u001b[0;31mTypeError\u001b[0m                                 Traceback (most recent call last)",
      "\u001b[0;32m<ipython-input-83-8aa1bca0757a>\u001b[0m in \u001b[0;36m<module>\u001b[0;34m\u001b[0m\n\u001b[0;32m----> 1\u001b[0;31m \u001b[0mnp\u001b[0m\u001b[0;34m.\u001b[0m\u001b[0mstd\u001b[0m\u001b[0;34m(\u001b[0m\u001b[0mload_day\u001b[0m\u001b[0;34m[\u001b[0m\u001b[0;34m'total_load'\u001b[0m\u001b[0;34m]\u001b[0m\u001b[0;34m*\u001b[0m\u001b[0;36m.7\u001b[0m\u001b[0;34m-\u001b[0m\u001b[0mpv_df_day\u001b[0m\u001b[0;34m[\u001b[0m\u001b[0;34m'pv_gen'\u001b[0m\u001b[0;34m]\u001b[0m\u001b[0;34m*\u001b[0m\u001b[0;36m10.0\u001b[0m\u001b[0;34m/\u001b[0m\u001b[0;36m7.0\u001b[0m\u001b[0;34m)\u001b[0m\u001b[0;34m[\u001b[0m\u001b[0;36m100\u001b[0m\u001b[0;34m:\u001b[0m\u001b[0;36m150\u001b[0m\u001b[0;34m]\u001b[0m\u001b[0;34m\u001b[0m\u001b[0;34m\u001b[0m\u001b[0m\n\u001b[0m",
      "\u001b[0;31mTypeError\u001b[0m: 'float' object is not subscriptable"
     ]
    }
   ],
   "source": [
    "np.std(load_day['total_load']*.7-pv_df_day['pv_gen']*10.0/7.0)"
   ]
  },
  {
   "cell_type": "code",
   "execution_count": 86,
   "metadata": {},
   "outputs": [],
   "source": [
    "diff = load_day['total_load']*.7-pv_df_day['pv_gen']*7.0/7.0"
   ]
  },
  {
   "cell_type": "code",
   "execution_count": 87,
   "metadata": {},
   "outputs": [
    {
     "output_type": "execute_result",
     "data": {
      "text/plain": "day\n100    -927.214328\n101   -5760.259911\n102   -6139.837826\n103   -2207.278820\n104   -4088.439148\n105   -3369.578215\n106   -3692.187048\n107   -3301.763833\n108   -6279.971466\n109   -5968.265730\n110   -1688.357113\n111   -4410.286790\n112   -3809.685924\n113   -1279.402179\n114     489.476460\n115   -4361.423723\n116   -6327.780687\n117   -4545.137648\n118   -2189.959798\n119    -677.138320\n120     -13.803800\n121   -4507.353933\n122   -5794.613113\n123   -3901.827918\n124   -4519.424650\n125   -5184.383860\n126   -3986.414924\n127     262.702128\n128   -5309.912972\n129   -7264.230380\n130   -7027.957794\n131   -2837.871200\n132   -2250.832927\n133    -754.627117\n134    -639.924746\n135   -4203.200474\n136   -4399.497173\n137   -7114.549452\n138   -3007.715803\n139   -4432.915453\n140   -5653.302223\n141   -4417.502262\n142   -3966.872806\n143   -6609.013227\n144   -7600.530608\n145   -5554.994465\n146   -6464.024561\n147   -5947.522878\n148   -5059.788903\n149   -4127.794506\ndtype: float64"
     },
     "metadata": {},
     "execution_count": 87
    }
   ],
   "source": [
    "diff[100:150]"
   ]
  },
  {
   "cell_type": "code",
   "execution_count": null,
   "metadata": {},
   "outputs": [],
   "source": []
  }
 ],
 "metadata": {
  "hide_input": false,
  "kernelspec": {
   "display_name": "Python 3.6.8 64-bit ('base': conda)",
   "language": "python",
   "name": "python36864bitbaseconda83f0f7daf4974cbebd49ef9d4b466cc7"
  },
  "language_info": {
   "codemirror_mode": {
    "name": "ipython",
    "version": 3
   },
   "file_extension": ".py",
   "mimetype": "text/x-python",
   "name": "python",
   "nbconvert_exporter": "python",
   "pygments_lexer": "ipython3",
   "version": "3.6.8-final"
  },
  "toc": {
   "base_numbering": 1,
   "nav_menu": {},
   "number_sections": true,
   "sideBar": true,
   "skip_h1_title": false,
   "title_cell": "Table of Contents",
   "title_sidebar": "Contents",
   "toc_cell": false,
   "toc_position": {},
   "toc_section_display": true,
   "toc_window_display": false
  },
  "varInspector": {
   "cols": {
    "lenName": 16,
    "lenType": 16,
    "lenVar": 40
   },
   "kernels_config": {
    "python": {
     "delete_cmd_postfix": "",
     "delete_cmd_prefix": "del ",
     "library": "var_list.py",
     "varRefreshCmd": "print(var_dic_list())"
    },
    "r": {
     "delete_cmd_postfix": ") ",
     "delete_cmd_prefix": "rm(",
     "library": "var_list.r",
     "varRefreshCmd": "cat(var_dic_list()) "
    }
   },
   "types_to_exclude": [
    "module",
    "function",
    "builtin_function_or_method",
    "instance",
    "_Feature"
   ],
   "window_display": false
  }
 },
 "nbformat": 4,
 "nbformat_minor": 2
}