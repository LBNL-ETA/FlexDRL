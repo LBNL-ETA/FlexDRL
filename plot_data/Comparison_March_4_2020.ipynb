{
 "cells": [
  {
   "cell_type": "code",
   "execution_count": 1,
   "metadata": {},
   "outputs": [],
   "source": [
    "import pandas as pd\n",
    "\n",
    "from make_charts import plot_df"
   ]
  },
  {
   "cell_type": "code",
   "execution_count": 76,
   "metadata": {},
   "outputs": [],
   "source": [
    "actions_df = pd.read_csv(\"../preds/actions_df_ddpg.csv\")\n",
    "reward_df = pd.read_csv(\"../preds/reward_df_ddpg.csv\")\n",
    "obs_df = pd.read_csv(\"../preds/obs_df_ddpg.csv\")\n",
    "e_cost_df = pd.read_csv(\"../preds/e_costs_df_ddpg.csv\")\n",
    "\n",
    "index = pd.date_range(start='1/1/{0}'.format(2014), end='1/1/{0}'.format(2014+1), periods=35040+1)\n",
    "index = index[:-1]\n",
    "actions_df.index = pd.to_datetime(index)\n",
    "reward_df.index = pd.to_datetime(index)\n",
    "obs_df.index = pd.to_datetime(index)\n",
    "e_cost_df.index = pd.to_datetime(index)\n",
    "\n",
    "actions_df_0 = pd.read_csv(\"../preds/actions_df_ddpg_00.csv\")\n",
    "reward_df_0 = pd.read_csv(\"../preds/reward_df_ddpg_00.csv\")\n",
    "obs_df_0 = pd.read_csv(\"../preds/obs_df_ddpg_00.csv\")\n",
    "e_cost_df_0 = pd.read_csv(\"../preds/e_costs_df_ddpg_00.csv\")\n",
    "net_energy_df_0 = pd.read_csv(\"../preds/net_energy_df_ddpg_00.csv\")\n",
    "net_power_df_0 = pd.read_csv(\"../preds/net_power_df_ddpg_00.csv\")\n",
    "\n",
    "\n",
    "actions_df_0.index = pd.to_datetime(index)\n",
    "reward_df_0.index = pd.to_datetime(index)\n",
    "obs_df_0.index = pd.to_datetime(index)\n",
    "e_cost_df_0.index = pd.to_datetime(index)\n",
    "net_energy_df_0.index = pd.to_datetime(index)\n",
    "net_power_df_0.index = pd.to_datetime(index)\n",
    "\n",
    "e_price_2014 = pd.read_csv(\"../e_tariffs/e_price_2014.csv\", index_col=0, parse_dates=True)\n",
    "e_price_2014.index = pd.to_datetime(e_price_2014.index)"
   ]
  },
  {
   "cell_type": "code",
   "execution_count": 33,
   "metadata": {},
   "outputs": [
    {
     "data": {
      "text/html": [
       "<div>\n",
       "<style scoped>\n",
       "    .dataframe tbody tr th:only-of-type {\n",
       "        vertical-align: middle;\n",
       "    }\n",
       "\n",
       "    .dataframe tbody tr th {\n",
       "        vertical-align: top;\n",
       "    }\n",
       "\n",
       "    .dataframe thead th {\n",
       "        text-align: right;\n",
       "    }\n",
       "</style>\n",
       "<table border=\"1\" class=\"dataframe\">\n",
       "  <thead>\n",
       "    <tr style=\"text-align: right;\">\n",
       "      <th></th>\n",
       "      <th>CwTempA_action</th>\n",
       "      <th>HwTempA_action</th>\n",
       "      <th>LigA_input_action</th>\n",
       "      <th>P_ctrl_action</th>\n",
       "      <th>SaFrA_action</th>\n",
       "      <th>SaTempA_action</th>\n",
       "    </tr>\n",
       "  </thead>\n",
       "  <tbody>\n",
       "    <tr>\n",
       "      <th>2014-01-01 00:00:00</th>\n",
       "      <td>0.000000</td>\n",
       "      <td>0.000000</td>\n",
       "      <td>0.000000</td>\n",
       "      <td>0.000000</td>\n",
       "      <td>0.000000</td>\n",
       "      <td>0.000000</td>\n",
       "    </tr>\n",
       "    <tr>\n",
       "      <th>2014-01-01 00:15:00</th>\n",
       "      <td>5.843977</td>\n",
       "      <td>30.000008</td>\n",
       "      <td>0.130417</td>\n",
       "      <td>-938.868408</td>\n",
       "      <td>1.999582</td>\n",
       "      <td>23.893993</td>\n",
       "    </tr>\n",
       "    <tr>\n",
       "      <th>2014-01-01 00:30:00</th>\n",
       "      <td>14.999771</td>\n",
       "      <td>30.004332</td>\n",
       "      <td>0.000393</td>\n",
       "      <td>-1004.464844</td>\n",
       "      <td>0.329723</td>\n",
       "      <td>20.773239</td>\n",
       "    </tr>\n",
       "    <tr>\n",
       "      <th>2014-01-01 00:45:00</th>\n",
       "      <td>14.999969</td>\n",
       "      <td>43.186256</td>\n",
       "      <td>0.256085</td>\n",
       "      <td>-1037.609863</td>\n",
       "      <td>0.100115</td>\n",
       "      <td>27.465096</td>\n",
       "    </tr>\n",
       "    <tr>\n",
       "      <th>2014-01-01 01:00:00</th>\n",
       "      <td>14.999994</td>\n",
       "      <td>59.922375</td>\n",
       "      <td>0.083410</td>\n",
       "      <td>-1208.562988</td>\n",
       "      <td>0.100010</td>\n",
       "      <td>27.747005</td>\n",
       "    </tr>\n",
       "  </tbody>\n",
       "</table>\n",
       "</div>"
      ],
      "text/plain": [
       "                     CwTempA_action  HwTempA_action  LigA_input_action  \\\n",
       "2014-01-01 00:00:00        0.000000        0.000000           0.000000   \n",
       "2014-01-01 00:15:00        5.843977       30.000008           0.130417   \n",
       "2014-01-01 00:30:00       14.999771       30.004332           0.000393   \n",
       "2014-01-01 00:45:00       14.999969       43.186256           0.256085   \n",
       "2014-01-01 01:00:00       14.999994       59.922375           0.083410   \n",
       "\n",
       "                     P_ctrl_action  SaFrA_action  SaTempA_action  \n",
       "2014-01-01 00:00:00       0.000000      0.000000        0.000000  \n",
       "2014-01-01 00:15:00    -938.868408      1.999582       23.893993  \n",
       "2014-01-01 00:30:00   -1004.464844      0.329723       20.773239  \n",
       "2014-01-01 00:45:00   -1037.609863      0.100115       27.465096  \n",
       "2014-01-01 01:00:00   -1208.562988      0.100010       27.747005  "
      ]
     },
     "execution_count": 33,
     "metadata": {},
     "output_type": "execute_result"
    }
   ],
   "source": [
    "actions_df.columns = [col+'_action' for col in actions_df.columns]\n",
    "actions_df.head()"
   ]
  },
  {
   "cell_type": "code",
   "execution_count": 34,
   "metadata": {},
   "outputs": [],
   "source": [
    "#plot_df(actions_df, filename='actions_columns_ddpg.html')"
   ]
  },
  {
   "cell_type": "code",
   "execution_count": 35,
   "metadata": {},
   "outputs": [
    {
     "data": {
      "text/html": [
       "<div>\n",
       "<style scoped>\n",
       "    .dataframe tbody tr th:only-of-type {\n",
       "        vertical-align: middle;\n",
       "    }\n",
       "\n",
       "    .dataframe tbody tr th {\n",
       "        vertical-align: top;\n",
       "    }\n",
       "\n",
       "    .dataframe thead th {\n",
       "        text-align: right;\n",
       "    }\n",
       "</style>\n",
       "<table border=\"1\" class=\"dataframe\">\n",
       "  <thead>\n",
       "    <tr style=\"text-align: right;\">\n",
       "      <th></th>\n",
       "      <th>reward</th>\n",
       "    </tr>\n",
       "  </thead>\n",
       "  <tbody>\n",
       "    <tr>\n",
       "      <th>2014-01-01 00:00:00</th>\n",
       "      <td>0.000000</td>\n",
       "    </tr>\n",
       "    <tr>\n",
       "      <th>2014-01-01 00:15:00</th>\n",
       "      <td>-0.010736</td>\n",
       "    </tr>\n",
       "    <tr>\n",
       "      <th>2014-01-01 00:30:00</th>\n",
       "      <td>-0.000000</td>\n",
       "    </tr>\n",
       "    <tr>\n",
       "      <th>2014-01-01 00:45:00</th>\n",
       "      <td>-0.006302</td>\n",
       "    </tr>\n",
       "    <tr>\n",
       "      <th>2014-01-01 01:00:00</th>\n",
       "      <td>-0.005016</td>\n",
       "    </tr>\n",
       "  </tbody>\n",
       "</table>\n",
       "</div>"
      ],
      "text/plain": [
       "                       reward\n",
       "2014-01-01 00:00:00  0.000000\n",
       "2014-01-01 00:15:00 -0.010736\n",
       "2014-01-01 00:30:00 -0.000000\n",
       "2014-01-01 00:45:00 -0.006302\n",
       "2014-01-01 01:00:00 -0.005016"
      ]
     },
     "execution_count": 35,
     "metadata": {},
     "output_type": "execute_result"
    }
   ],
   "source": [
    "reward_df.head()"
   ]
  },
  {
   "cell_type": "code",
   "execution_count": 36,
   "metadata": {},
   "outputs": [],
   "source": [
    "#plot_df(reward_df, filename='rewards_columns_ddpg.html')"
   ]
  },
  {
   "cell_type": "code",
   "execution_count": 37,
   "metadata": {},
   "outputs": [
    {
     "data": {
      "text/html": [
       "<div>\n",
       "<style scoped>\n",
       "    .dataframe tbody tr th:only-of-type {\n",
       "        vertical-align: middle;\n",
       "    }\n",
       "\n",
       "    .dataframe tbody tr th {\n",
       "        vertical-align: top;\n",
       "    }\n",
       "\n",
       "    .dataframe thead th {\n",
       "        text-align: right;\n",
       "    }\n",
       "</style>\n",
       "<table border=\"1\" class=\"dataframe\">\n",
       "  <thead>\n",
       "    <tr style=\"text-align: right;\">\n",
       "      <th></th>\n",
       "      <th>CoolA_obs</th>\n",
       "      <th>FanPowerA_obs</th>\n",
       "      <th>HeatA_obs</th>\n",
       "      <th>LigA_obs</th>\n",
       "      <th>OutRH_obs</th>\n",
       "      <th>OutSI_obs</th>\n",
       "      <th>OutTemp_obs</th>\n",
       "      <th>P_obs</th>\n",
       "      <th>P_batt_obs</th>\n",
       "      <th>SOC_obs</th>\n",
       "      <th>ZoneTempA_obs</th>\n",
       "    </tr>\n",
       "  </thead>\n",
       "  <tbody>\n",
       "    <tr>\n",
       "      <th>2014-01-01 00:00:00</th>\n",
       "      <td>0.000000</td>\n",
       "      <td>0.000000</td>\n",
       "      <td>0.000000</td>\n",
       "      <td>0.000000</td>\n",
       "      <td>0.0</td>\n",
       "      <td>0.0</td>\n",
       "      <td>0.000</td>\n",
       "      <td>0.000000</td>\n",
       "      <td>0.000000</td>\n",
       "      <td>0.000000</td>\n",
       "      <td>0.000000</td>\n",
       "    </tr>\n",
       "    <tr>\n",
       "      <th>2014-01-01 00:15:00</th>\n",
       "      <td>1351.532046</td>\n",
       "      <td>909.280425</td>\n",
       "      <td>163.790164</td>\n",
       "      <td>61.277585</td>\n",
       "      <td>77.0</td>\n",
       "      <td>0.0</td>\n",
       "      <td>9.350</td>\n",
       "      <td>0.000025</td>\n",
       "      <td>-938.868408</td>\n",
       "      <td>0.172292</td>\n",
       "      <td>23.829443</td>\n",
       "    </tr>\n",
       "    <tr>\n",
       "      <th>2014-01-01 00:30:00</th>\n",
       "      <td>576.675057</td>\n",
       "      <td>47.964828</td>\n",
       "      <td>0.000000</td>\n",
       "      <td>0.184614</td>\n",
       "      <td>74.0</td>\n",
       "      <td>0.0</td>\n",
       "      <td>9.075</td>\n",
       "      <td>0.000025</td>\n",
       "      <td>-1004.464844</td>\n",
       "      <td>0.133429</td>\n",
       "      <td>21.860070</td>\n",
       "    </tr>\n",
       "    <tr>\n",
       "      <th>2014-01-01 00:45:00</th>\n",
       "      <td>0.000000</td>\n",
       "      <td>5.969367</td>\n",
       "      <td>566.472695</td>\n",
       "      <td>120.324142</td>\n",
       "      <td>71.0</td>\n",
       "      <td>0.0</td>\n",
       "      <td>8.800</td>\n",
       "      <td>0.000025</td>\n",
       "      <td>0.000000</td>\n",
       "      <td>0.100000</td>\n",
       "      <td>22.319926</td>\n",
       "    </tr>\n",
       "    <tr>\n",
       "      <th>2014-01-01 01:00:00</th>\n",
       "      <td>0.000000</td>\n",
       "      <td>5.960054</td>\n",
       "      <td>617.015278</td>\n",
       "      <td>39.191145</td>\n",
       "      <td>71.5</td>\n",
       "      <td>0.0</td>\n",
       "      <td>8.275</td>\n",
       "      <td>0.000025</td>\n",
       "      <td>0.000000</td>\n",
       "      <td>0.100000</td>\n",
       "      <td>22.499638</td>\n",
       "    </tr>\n",
       "  </tbody>\n",
       "</table>\n",
       "</div>"
      ],
      "text/plain": [
       "                       CoolA_obs  FanPowerA_obs   HeatA_obs    LigA_obs  \\\n",
       "2014-01-01 00:00:00     0.000000       0.000000    0.000000    0.000000   \n",
       "2014-01-01 00:15:00  1351.532046     909.280425  163.790164   61.277585   \n",
       "2014-01-01 00:30:00   576.675057      47.964828    0.000000    0.184614   \n",
       "2014-01-01 00:45:00     0.000000       5.969367  566.472695  120.324142   \n",
       "2014-01-01 01:00:00     0.000000       5.960054  617.015278   39.191145   \n",
       "\n",
       "                     OutRH_obs  OutSI_obs  OutTemp_obs     P_obs   P_batt_obs  \\\n",
       "2014-01-01 00:00:00        0.0        0.0        0.000  0.000000     0.000000   \n",
       "2014-01-01 00:15:00       77.0        0.0        9.350  0.000025  -938.868408   \n",
       "2014-01-01 00:30:00       74.0        0.0        9.075  0.000025 -1004.464844   \n",
       "2014-01-01 00:45:00       71.0        0.0        8.800  0.000025     0.000000   \n",
       "2014-01-01 01:00:00       71.5        0.0        8.275  0.000025     0.000000   \n",
       "\n",
       "                      SOC_obs  ZoneTempA_obs  \n",
       "2014-01-01 00:00:00  0.000000       0.000000  \n",
       "2014-01-01 00:15:00  0.172292      23.829443  \n",
       "2014-01-01 00:30:00  0.133429      21.860070  \n",
       "2014-01-01 00:45:00  0.100000      22.319926  \n",
       "2014-01-01 01:00:00  0.100000      22.499638  "
      ]
     },
     "execution_count": 37,
     "metadata": {},
     "output_type": "execute_result"
    }
   ],
   "source": [
    "obs_df.columns = [col+'_obs' for col in obs_df.columns]\n",
    "obs_df.head()"
   ]
  },
  {
   "cell_type": "code",
   "execution_count": 38,
   "metadata": {},
   "outputs": [],
   "source": [
    "#plot_df(obs_df, filename='obs_columns_ddpg.html')"
   ]
  },
  {
   "cell_type": "code",
   "execution_count": 39,
   "metadata": {},
   "outputs": [
    {
     "data": {
      "text/html": [
       "<div>\n",
       "<style scoped>\n",
       "    .dataframe tbody tr th:only-of-type {\n",
       "        vertical-align: middle;\n",
       "    }\n",
       "\n",
       "    .dataframe tbody tr th {\n",
       "        vertical-align: top;\n",
       "    }\n",
       "\n",
       "    .dataframe thead th {\n",
       "        text-align: right;\n",
       "    }\n",
       "</style>\n",
       "<table border=\"1\" class=\"dataframe\">\n",
       "  <thead>\n",
       "    <tr style=\"text-align: right;\">\n",
       "      <th></th>\n",
       "      <th>e_price</th>\n",
       "    </tr>\n",
       "    <tr>\n",
       "      <th>date_time</th>\n",
       "      <th></th>\n",
       "    </tr>\n",
       "  </thead>\n",
       "  <tbody>\n",
       "    <tr>\n",
       "      <th>2014-01-01 00:00:00</th>\n",
       "      <td>8</td>\n",
       "    </tr>\n",
       "    <tr>\n",
       "      <th>2014-01-01 00:15:00</th>\n",
       "      <td>8</td>\n",
       "    </tr>\n",
       "    <tr>\n",
       "      <th>2014-01-01 00:30:00</th>\n",
       "      <td>8</td>\n",
       "    </tr>\n",
       "    <tr>\n",
       "      <th>2014-01-01 00:45:00</th>\n",
       "      <td>8</td>\n",
       "    </tr>\n",
       "    <tr>\n",
       "      <th>2014-01-01 01:00:00</th>\n",
       "      <td>8</td>\n",
       "    </tr>\n",
       "  </tbody>\n",
       "</table>\n",
       "</div>"
      ],
      "text/plain": [
       "                     e_price\n",
       "date_time                   \n",
       "2014-01-01 00:00:00        8\n",
       "2014-01-01 00:15:00        8\n",
       "2014-01-01 00:30:00        8\n",
       "2014-01-01 00:45:00        8\n",
       "2014-01-01 01:00:00        8"
      ]
     },
     "execution_count": 39,
     "metadata": {},
     "output_type": "execute_result"
    }
   ],
   "source": [
    "e_price_2014.head()"
   ]
  },
  {
   "cell_type": "code",
   "execution_count": 63,
   "metadata": {},
   "outputs": [
    {
     "data": {
      "text/html": [
       "<div>\n",
       "<style scoped>\n",
       "    .dataframe tbody tr th:only-of-type {\n",
       "        vertical-align: middle;\n",
       "    }\n",
       "\n",
       "    .dataframe tbody tr th {\n",
       "        vertical-align: top;\n",
       "    }\n",
       "\n",
       "    .dataframe thead th {\n",
       "        text-align: right;\n",
       "    }\n",
       "</style>\n",
       "<table border=\"1\" class=\"dataframe\">\n",
       "  <thead>\n",
       "    <tr style=\"text-align: right;\">\n",
       "      <th></th>\n",
       "      <th>e_cost</th>\n",
       "    </tr>\n",
       "  </thead>\n",
       "  <tbody>\n",
       "    <tr>\n",
       "      <th>2014-01-01 00:00:00</th>\n",
       "      <td>NaN</td>\n",
       "    </tr>\n",
       "    <tr>\n",
       "      <th>2014-01-01 00:15:00</th>\n",
       "      <td>0.010736</td>\n",
       "    </tr>\n",
       "    <tr>\n",
       "      <th>2014-01-01 00:30:00</th>\n",
       "      <td>0.000000</td>\n",
       "    </tr>\n",
       "    <tr>\n",
       "      <th>2014-01-01 00:45:00</th>\n",
       "      <td>0.006302</td>\n",
       "    </tr>\n",
       "    <tr>\n",
       "      <th>2014-01-01 01:00:00</th>\n",
       "      <td>0.005016</td>\n",
       "    </tr>\n",
       "  </tbody>\n",
       "</table>\n",
       "</div>"
      ],
      "text/plain": [
       "                       e_cost\n",
       "2014-01-01 00:00:00       NaN\n",
       "2014-01-01 00:15:00  0.010736\n",
       "2014-01-01 00:30:00  0.000000\n",
       "2014-01-01 00:45:00  0.006302\n",
       "2014-01-01 01:00:00  0.005016"
      ]
     },
     "execution_count": 63,
     "metadata": {},
     "output_type": "execute_result"
    }
   ],
   "source": [
    "e_cost_df = e_cost_df.drop(['reward'], axis=1)\n",
    "e_cost_df.head()"
   ]
  },
  {
   "cell_type": "code",
   "execution_count": 66,
   "metadata": {},
   "outputs": [
    {
     "data": {
      "text/html": [
       "<div>\n",
       "<style scoped>\n",
       "    .dataframe tbody tr th:only-of-type {\n",
       "        vertical-align: middle;\n",
       "    }\n",
       "\n",
       "    .dataframe tbody tr th {\n",
       "        vertical-align: top;\n",
       "    }\n",
       "\n",
       "    .dataframe thead th {\n",
       "        text-align: right;\n",
       "    }\n",
       "</style>\n",
       "<table border=\"1\" class=\"dataframe\">\n",
       "  <thead>\n",
       "    <tr style=\"text-align: right;\">\n",
       "      <th></th>\n",
       "      <th>e_price</th>\n",
       "      <th>CoolA</th>\n",
       "      <th>FanPowerA</th>\n",
       "      <th>HeatA</th>\n",
       "      <th>LigA</th>\n",
       "      <th>OutRH</th>\n",
       "      <th>OutSI</th>\n",
       "      <th>OutTemp</th>\n",
       "      <th>P</th>\n",
       "      <th>P_batt</th>\n",
       "      <th>...</th>\n",
       "      <th>ZoneTempA</th>\n",
       "      <th>reward</th>\n",
       "      <th>CwTempA</th>\n",
       "      <th>HwTempA</th>\n",
       "      <th>LigA_input</th>\n",
       "      <th>P_ctrl</th>\n",
       "      <th>SaFrA</th>\n",
       "      <th>SaTempA</th>\n",
       "      <th>e_cost</th>\n",
       "      <th>Tcomfort</th>\n",
       "    </tr>\n",
       "  </thead>\n",
       "  <tbody>\n",
       "    <tr>\n",
       "      <th>2014-01-01 00:00:00</th>\n",
       "      <td>8</td>\n",
       "      <td>0.000000</td>\n",
       "      <td>0.000000</td>\n",
       "      <td>0.000000</td>\n",
       "      <td>0.000000</td>\n",
       "      <td>0.0</td>\n",
       "      <td>0.0</td>\n",
       "      <td>0.000</td>\n",
       "      <td>0.000000</td>\n",
       "      <td>0.000000</td>\n",
       "      <td>...</td>\n",
       "      <td>0.000000</td>\n",
       "      <td>0.000000</td>\n",
       "      <td>0.000000</td>\n",
       "      <td>0.000000</td>\n",
       "      <td>0.000000</td>\n",
       "      <td>0.000000</td>\n",
       "      <td>0.000000</td>\n",
       "      <td>0.000000</td>\n",
       "      <td>NaN</td>\n",
       "      <td>NaN</td>\n",
       "    </tr>\n",
       "    <tr>\n",
       "      <th>2014-01-01 00:15:00</th>\n",
       "      <td>8</td>\n",
       "      <td>1351.532046</td>\n",
       "      <td>909.280425</td>\n",
       "      <td>163.790164</td>\n",
       "      <td>61.277585</td>\n",
       "      <td>77.0</td>\n",
       "      <td>0.0</td>\n",
       "      <td>9.350</td>\n",
       "      <td>0.000025</td>\n",
       "      <td>-938.868408</td>\n",
       "      <td>...</td>\n",
       "      <td>23.829443</td>\n",
       "      <td>-0.010736</td>\n",
       "      <td>5.843977</td>\n",
       "      <td>30.000008</td>\n",
       "      <td>0.130417</td>\n",
       "      <td>-938.868408</td>\n",
       "      <td>1.999582</td>\n",
       "      <td>23.893993</td>\n",
       "      <td>0.010736</td>\n",
       "      <td>0.0</td>\n",
       "    </tr>\n",
       "    <tr>\n",
       "      <th>2014-01-01 00:30:00</th>\n",
       "      <td>8</td>\n",
       "      <td>576.675057</td>\n",
       "      <td>47.964828</td>\n",
       "      <td>0.000000</td>\n",
       "      <td>0.184614</td>\n",
       "      <td>74.0</td>\n",
       "      <td>0.0</td>\n",
       "      <td>9.075</td>\n",
       "      <td>0.000025</td>\n",
       "      <td>-1004.464844</td>\n",
       "      <td>...</td>\n",
       "      <td>21.860070</td>\n",
       "      <td>-0.000000</td>\n",
       "      <td>14.999771</td>\n",
       "      <td>30.004332</td>\n",
       "      <td>0.000393</td>\n",
       "      <td>-1004.464844</td>\n",
       "      <td>0.329723</td>\n",
       "      <td>20.773239</td>\n",
       "      <td>0.000000</td>\n",
       "      <td>0.0</td>\n",
       "    </tr>\n",
       "    <tr>\n",
       "      <th>2014-01-01 00:45:00</th>\n",
       "      <td>8</td>\n",
       "      <td>0.000000</td>\n",
       "      <td>5.969367</td>\n",
       "      <td>566.472695</td>\n",
       "      <td>120.324142</td>\n",
       "      <td>71.0</td>\n",
       "      <td>0.0</td>\n",
       "      <td>8.800</td>\n",
       "      <td>0.000025</td>\n",
       "      <td>0.000000</td>\n",
       "      <td>...</td>\n",
       "      <td>22.319926</td>\n",
       "      <td>-0.006302</td>\n",
       "      <td>14.999969</td>\n",
       "      <td>43.186256</td>\n",
       "      <td>0.256085</td>\n",
       "      <td>-1037.609863</td>\n",
       "      <td>0.100115</td>\n",
       "      <td>27.465096</td>\n",
       "      <td>0.006302</td>\n",
       "      <td>0.0</td>\n",
       "    </tr>\n",
       "    <tr>\n",
       "      <th>2014-01-01 01:00:00</th>\n",
       "      <td>8</td>\n",
       "      <td>0.000000</td>\n",
       "      <td>5.960054</td>\n",
       "      <td>617.015278</td>\n",
       "      <td>39.191145</td>\n",
       "      <td>71.5</td>\n",
       "      <td>0.0</td>\n",
       "      <td>8.275</td>\n",
       "      <td>0.000025</td>\n",
       "      <td>0.000000</td>\n",
       "      <td>...</td>\n",
       "      <td>22.499638</td>\n",
       "      <td>-0.005016</td>\n",
       "      <td>14.999994</td>\n",
       "      <td>59.922375</td>\n",
       "      <td>0.083410</td>\n",
       "      <td>-1208.562988</td>\n",
       "      <td>0.100010</td>\n",
       "      <td>27.747005</td>\n",
       "      <td>0.005016</td>\n",
       "      <td>0.0</td>\n",
       "    </tr>\n",
       "  </tbody>\n",
       "</table>\n",
       "<p>5 rows × 21 columns</p>\n",
       "</div>"
      ],
      "text/plain": [
       "                     e_price        CoolA   FanPowerA       HeatA        LigA  \\\n",
       "2014-01-01 00:00:00        8     0.000000    0.000000    0.000000    0.000000   \n",
       "2014-01-01 00:15:00        8  1351.532046  909.280425  163.790164   61.277585   \n",
       "2014-01-01 00:30:00        8   576.675057   47.964828    0.000000    0.184614   \n",
       "2014-01-01 00:45:00        8     0.000000    5.969367  566.472695  120.324142   \n",
       "2014-01-01 01:00:00        8     0.000000    5.960054  617.015278   39.191145   \n",
       "\n",
       "                     OutRH  OutSI  OutTemp         P       P_batt    ...     \\\n",
       "2014-01-01 00:00:00    0.0    0.0    0.000  0.000000     0.000000    ...      \n",
       "2014-01-01 00:15:00   77.0    0.0    9.350  0.000025  -938.868408    ...      \n",
       "2014-01-01 00:30:00   74.0    0.0    9.075  0.000025 -1004.464844    ...      \n",
       "2014-01-01 00:45:00   71.0    0.0    8.800  0.000025     0.000000    ...      \n",
       "2014-01-01 01:00:00   71.5    0.0    8.275  0.000025     0.000000    ...      \n",
       "\n",
       "                     ZoneTempA    reward    CwTempA    HwTempA  LigA_input  \\\n",
       "2014-01-01 00:00:00   0.000000  0.000000   0.000000   0.000000    0.000000   \n",
       "2014-01-01 00:15:00  23.829443 -0.010736   5.843977  30.000008    0.130417   \n",
       "2014-01-01 00:30:00  21.860070 -0.000000  14.999771  30.004332    0.000393   \n",
       "2014-01-01 00:45:00  22.319926 -0.006302  14.999969  43.186256    0.256085   \n",
       "2014-01-01 01:00:00  22.499638 -0.005016  14.999994  59.922375    0.083410   \n",
       "\n",
       "                          P_ctrl     SaFrA    SaTempA    e_cost  Tcomfort  \n",
       "2014-01-01 00:00:00     0.000000  0.000000   0.000000       NaN       NaN  \n",
       "2014-01-01 00:15:00  -938.868408  1.999582  23.893993  0.010736       0.0  \n",
       "2014-01-01 00:30:00 -1004.464844  0.329723  20.773239  0.000000       0.0  \n",
       "2014-01-01 00:45:00 -1037.609863  0.100115  27.465096  0.006302       0.0  \n",
       "2014-01-01 01:00:00 -1208.562988  0.100010  27.747005  0.005016       0.0  \n",
       "\n",
       "[5 rows x 21 columns]"
      ]
     },
     "execution_count": 66,
     "metadata": {},
     "output_type": "execute_result"
    }
   ],
   "source": [
    "final_df = pd.concat([e_price_2014, obs_df, reward_df, actions_df,e_cost_df],axis=1)\n",
    "final_df[\"Tcomfort\"] = final_df[\"reward\"] + final_df[\"e_cost\"]\n",
    "final_df.head()"
   ]
  },
  {
   "cell_type": "code",
   "execution_count": 67,
   "metadata": {},
   "outputs": [],
   "source": [
    "plot_df(final_df, filename='all_columns_ddpg.html')"
   ]
  },
  {
   "cell_type": "code",
   "execution_count": null,
   "metadata": {},
   "outputs": [],
   "source": [
    "\n",
    "\n"
   ]
  },
  {
   "cell_type": "code",
   "execution_count": 77,
   "metadata": {},
   "outputs": [
    {
     "data": {
      "text/html": [
       "<div>\n",
       "<style scoped>\n",
       "    .dataframe tbody tr th:only-of-type {\n",
       "        vertical-align: middle;\n",
       "    }\n",
       "\n",
       "    .dataframe tbody tr th {\n",
       "        vertical-align: top;\n",
       "    }\n",
       "\n",
       "    .dataframe thead th {\n",
       "        text-align: right;\n",
       "    }\n",
       "</style>\n",
       "<table border=\"1\" class=\"dataframe\">\n",
       "  <thead>\n",
       "    <tr style=\"text-align: right;\">\n",
       "      <th></th>\n",
       "      <th>e_price</th>\n",
       "      <th>CoolA</th>\n",
       "      <th>FanPowerA</th>\n",
       "      <th>HeatA</th>\n",
       "      <th>LigA</th>\n",
       "      <th>OutRH</th>\n",
       "      <th>OutSI</th>\n",
       "      <th>OutTemp</th>\n",
       "      <th>P</th>\n",
       "      <th>P_batt</th>\n",
       "      <th>...</th>\n",
       "      <th>CwTempA</th>\n",
       "      <th>HwTempA</th>\n",
       "      <th>LigA_input</th>\n",
       "      <th>P_ctrl</th>\n",
       "      <th>SaFrA</th>\n",
       "      <th>SaTempA</th>\n",
       "      <th>e_cost</th>\n",
       "      <th>net_energy</th>\n",
       "      <th>net_power</th>\n",
       "      <th>Tcomfort</th>\n",
       "    </tr>\n",
       "  </thead>\n",
       "  <tbody>\n",
       "    <tr>\n",
       "      <th>2014-01-01 00:00:00</th>\n",
       "      <td>8</td>\n",
       "      <td>0.000000</td>\n",
       "      <td>0.000000</td>\n",
       "      <td>0.000000</td>\n",
       "      <td>0.0</td>\n",
       "      <td>0.0</td>\n",
       "      <td>0.0</td>\n",
       "      <td>0.000</td>\n",
       "      <td>0.000000</td>\n",
       "      <td>0.0</td>\n",
       "      <td>...</td>\n",
       "      <td>0.000000</td>\n",
       "      <td>0.000000</td>\n",
       "      <td>0.0</td>\n",
       "      <td>0.000000</td>\n",
       "      <td>0.0</td>\n",
       "      <td>0.000000</td>\n",
       "      <td>0.000000</td>\n",
       "      <td>0.000000</td>\n",
       "      <td>0.000000</td>\n",
       "      <td>0.0</td>\n",
       "    </tr>\n",
       "    <tr>\n",
       "      <th>2014-01-01 00:15:00</th>\n",
       "      <td>8</td>\n",
       "      <td>5.974950</td>\n",
       "      <td>5.959208</td>\n",
       "      <td>183.681804</td>\n",
       "      <td>0.0</td>\n",
       "      <td>77.0</td>\n",
       "      <td>0.0</td>\n",
       "      <td>9.350</td>\n",
       "      <td>0.000025</td>\n",
       "      <td>0.0</td>\n",
       "      <td>...</td>\n",
       "      <td>5.000000</td>\n",
       "      <td>30.830412</td>\n",
       "      <td>0.0</td>\n",
       "      <td>-3288.459961</td>\n",
       "      <td>0.1</td>\n",
       "      <td>25.513840</td>\n",
       "      <td>0.402600</td>\n",
       "      <td>0.050325</td>\n",
       "      <td>201.300100</td>\n",
       "      <td>0.0</td>\n",
       "    </tr>\n",
       "    <tr>\n",
       "      <th>2014-01-01 00:30:00</th>\n",
       "      <td>8</td>\n",
       "      <td>19.649948</td>\n",
       "      <td>5.959208</td>\n",
       "      <td>18.124276</td>\n",
       "      <td>0.0</td>\n",
       "      <td>74.0</td>\n",
       "      <td>0.0</td>\n",
       "      <td>9.075</td>\n",
       "      <td>0.000025</td>\n",
       "      <td>0.0</td>\n",
       "      <td>...</td>\n",
       "      <td>14.966031</td>\n",
       "      <td>56.056793</td>\n",
       "      <td>0.0</td>\n",
       "      <td>-214.903809</td>\n",
       "      <td>0.1</td>\n",
       "      <td>22.279613</td>\n",
       "      <td>0.063175</td>\n",
       "      <td>0.007897</td>\n",
       "      <td>31.587351</td>\n",
       "      <td>0.0</td>\n",
       "    </tr>\n",
       "    <tr>\n",
       "      <th>2014-01-01 00:45:00</th>\n",
       "      <td>8</td>\n",
       "      <td>11.299145</td>\n",
       "      <td>5.959208</td>\n",
       "      <td>16.418273</td>\n",
       "      <td>0.0</td>\n",
       "      <td>71.0</td>\n",
       "      <td>0.0</td>\n",
       "      <td>8.800</td>\n",
       "      <td>0.000025</td>\n",
       "      <td>0.0</td>\n",
       "      <td>...</td>\n",
       "      <td>13.631529</td>\n",
       "      <td>56.069485</td>\n",
       "      <td>0.0</td>\n",
       "      <td>-239.269043</td>\n",
       "      <td>0.1</td>\n",
       "      <td>21.881699</td>\n",
       "      <td>0.054016</td>\n",
       "      <td>0.006752</td>\n",
       "      <td>27.007957</td>\n",
       "      <td>0.0</td>\n",
       "    </tr>\n",
       "    <tr>\n",
       "      <th>2014-01-01 01:00:00</th>\n",
       "      <td>8</td>\n",
       "      <td>6.660431</td>\n",
       "      <td>5.959208</td>\n",
       "      <td>6.491169</td>\n",
       "      <td>0.0</td>\n",
       "      <td>71.5</td>\n",
       "      <td>0.0</td>\n",
       "      <td>8.275</td>\n",
       "      <td>0.000025</td>\n",
       "      <td>0.0</td>\n",
       "      <td>...</td>\n",
       "      <td>5.998333</td>\n",
       "      <td>53.243820</td>\n",
       "      <td>0.0</td>\n",
       "      <td>-294.293701</td>\n",
       "      <td>0.1</td>\n",
       "      <td>21.431618</td>\n",
       "      <td>0.030024</td>\n",
       "      <td>0.003753</td>\n",
       "      <td>15.012135</td>\n",
       "      <td>0.0</td>\n",
       "    </tr>\n",
       "  </tbody>\n",
       "</table>\n",
       "<p>5 rows × 23 columns</p>\n",
       "</div>"
      ],
      "text/plain": [
       "                     e_price      CoolA  FanPowerA       HeatA  LigA  OutRH  \\\n",
       "2014-01-01 00:00:00        8   0.000000   0.000000    0.000000   0.0    0.0   \n",
       "2014-01-01 00:15:00        8   5.974950   5.959208  183.681804   0.0   77.0   \n",
       "2014-01-01 00:30:00        8  19.649948   5.959208   18.124276   0.0   74.0   \n",
       "2014-01-01 00:45:00        8  11.299145   5.959208   16.418273   0.0   71.0   \n",
       "2014-01-01 01:00:00        8   6.660431   5.959208    6.491169   0.0   71.5   \n",
       "\n",
       "                     OutSI  OutTemp         P  P_batt    ...       CwTempA  \\\n",
       "2014-01-01 00:00:00    0.0    0.000  0.000000     0.0    ...      0.000000   \n",
       "2014-01-01 00:15:00    0.0    9.350  0.000025     0.0    ...      5.000000   \n",
       "2014-01-01 00:30:00    0.0    9.075  0.000025     0.0    ...     14.966031   \n",
       "2014-01-01 00:45:00    0.0    8.800  0.000025     0.0    ...     13.631529   \n",
       "2014-01-01 01:00:00    0.0    8.275  0.000025     0.0    ...      5.998333   \n",
       "\n",
       "                       HwTempA  LigA_input       P_ctrl  SaFrA    SaTempA  \\\n",
       "2014-01-01 00:00:00   0.000000         0.0     0.000000    0.0   0.000000   \n",
       "2014-01-01 00:15:00  30.830412         0.0 -3288.459961    0.1  25.513840   \n",
       "2014-01-01 00:30:00  56.056793         0.0  -214.903809    0.1  22.279613   \n",
       "2014-01-01 00:45:00  56.069485         0.0  -239.269043    0.1  21.881699   \n",
       "2014-01-01 01:00:00  53.243820         0.0  -294.293701    0.1  21.431618   \n",
       "\n",
       "                       e_cost  net_energy   net_power  Tcomfort  \n",
       "2014-01-01 00:00:00  0.000000    0.000000    0.000000       0.0  \n",
       "2014-01-01 00:15:00  0.402600    0.050325  201.300100       0.0  \n",
       "2014-01-01 00:30:00  0.063175    0.007897   31.587351       0.0  \n",
       "2014-01-01 00:45:00  0.054016    0.006752   27.007957       0.0  \n",
       "2014-01-01 01:00:00  0.030024    0.003753   15.012135       0.0  \n",
       "\n",
       "[5 rows x 23 columns]"
      ]
     },
     "execution_count": 77,
     "metadata": {},
     "output_type": "execute_result"
    }
   ],
   "source": [
    "#e_cost_df_0 = e_cost_df_0.drop(['reward'], axis=1)\n",
    "#e_cost_df_0.head()\n",
    "final_df_0 = pd.concat([e_price_2014, obs_df_0, reward_df_0, actions_df_0,e_cost_df_0,net_energy_df_0,net_power_df_0],axis=1)\n",
    "final_df_0[\"Tcomfort\"] = final_df_0[\"reward\"] + final_df_0[\"e_cost\"]\n",
    "final_df_0.head()"
   ]
  },
  {
   "cell_type": "code",
   "execution_count": 73,
   "metadata": {},
   "outputs": [],
   "source": [
    "plot_df(final_df_0, filename='all_columns_ddpg_0.html')"
   ]
  },
  {
   "cell_type": "code",
   "execution_count": null,
   "metadata": {},
   "outputs": [],
   "source": []
  },
  {
   "cell_type": "code",
   "execution_count": null,
   "metadata": {},
   "outputs": [],
   "source": []
  },
  {
   "cell_type": "code",
   "execution_count": 51,
   "metadata": {},
   "outputs": [],
   "source": [
    "baseline_df = pd.read_csv(\"../preds/FlexlabXR_baseline_AMY2014.csv\")\n",
    "baseline_df.index = pd.to_datetime(index)"
   ]
  },
  {
   "cell_type": "code",
   "execution_count": 56,
   "metadata": {},
   "outputs": [
    {
     "data": {
      "text/html": [
       "<div>\n",
       "<style scoped>\n",
       "    .dataframe tbody tr th:only-of-type {\n",
       "        vertical-align: middle;\n",
       "    }\n",
       "\n",
       "    .dataframe tbody tr th {\n",
       "        vertical-align: top;\n",
       "    }\n",
       "\n",
       "    .dataframe thead th {\n",
       "        text-align: right;\n",
       "    }\n",
       "</style>\n",
       "<table border=\"1\" class=\"dataframe\">\n",
       "  <thead>\n",
       "    <tr style=\"text-align: right;\">\n",
       "      <th></th>\n",
       "      <th>Date/Time</th>\n",
       "      <th>FLEXLAB-XR-ZONEA:Zone Mean Air Temperature [C](TimeStep)</th>\n",
       "      <th>SYS-A HEATING COIL:Heating Coil Heating Rate [W](TimeStep)</th>\n",
       "      <th>SYS-A COOLING COIL:Cooling Coil Total Cooling Rate [W](TimeStep)</th>\n",
       "    </tr>\n",
       "  </thead>\n",
       "  <tbody>\n",
       "    <tr>\n",
       "      <th>2014-01-01 00:00:00</th>\n",
       "      <td>01/01  00:15:00</td>\n",
       "      <td>23.641904</td>\n",
       "      <td>2838.467650</td>\n",
       "      <td>0.0</td>\n",
       "    </tr>\n",
       "    <tr>\n",
       "      <th>2014-01-01 00:15:00</th>\n",
       "      <td>01/01  00:30:00</td>\n",
       "      <td>23.729739</td>\n",
       "      <td>2866.469351</td>\n",
       "      <td>0.0</td>\n",
       "    </tr>\n",
       "    <tr>\n",
       "      <th>2014-01-01 00:30:00</th>\n",
       "      <td>01/01  00:45:00</td>\n",
       "      <td>23.684463</td>\n",
       "      <td>2765.402740</td>\n",
       "      <td>0.0</td>\n",
       "    </tr>\n",
       "    <tr>\n",
       "      <th>2014-01-01 00:45:00</th>\n",
       "      <td>01/01  01:00:00</td>\n",
       "      <td>23.656490</td>\n",
       "      <td>2757.962275</td>\n",
       "      <td>0.0</td>\n",
       "    </tr>\n",
       "    <tr>\n",
       "      <th>2014-01-01 01:00:00</th>\n",
       "      <td>01/01  01:15:00</td>\n",
       "      <td>24.132569</td>\n",
       "      <td>3474.780893</td>\n",
       "      <td>0.0</td>\n",
       "    </tr>\n",
       "  </tbody>\n",
       "</table>\n",
       "</div>"
      ],
      "text/plain": [
       "                            Date/Time  \\\n",
       "2014-01-01 00:00:00   01/01  00:15:00   \n",
       "2014-01-01 00:15:00   01/01  00:30:00   \n",
       "2014-01-01 00:30:00   01/01  00:45:00   \n",
       "2014-01-01 00:45:00   01/01  01:00:00   \n",
       "2014-01-01 01:00:00   01/01  01:15:00   \n",
       "\n",
       "                     FLEXLAB-XR-ZONEA:Zone Mean Air Temperature [C](TimeStep)  \\\n",
       "2014-01-01 00:00:00                                          23.641904          \n",
       "2014-01-01 00:15:00                                          23.729739          \n",
       "2014-01-01 00:30:00                                          23.684463          \n",
       "2014-01-01 00:45:00                                          23.656490          \n",
       "2014-01-01 01:00:00                                          24.132569          \n",
       "\n",
       "                     SYS-A HEATING COIL:Heating Coil Heating Rate [W](TimeStep)  \\\n",
       "2014-01-01 00:00:00                                        2838.467650            \n",
       "2014-01-01 00:15:00                                        2866.469351            \n",
       "2014-01-01 00:30:00                                        2765.402740            \n",
       "2014-01-01 00:45:00                                        2757.962275            \n",
       "2014-01-01 01:00:00                                        3474.780893            \n",
       "\n",
       "                     SYS-A COOLING COIL:Cooling Coil Total Cooling Rate [W](TimeStep)  \n",
       "2014-01-01 00:00:00                                                0.0                 \n",
       "2014-01-01 00:15:00                                                0.0                 \n",
       "2014-01-01 00:30:00                                                0.0                 \n",
       "2014-01-01 00:45:00                                                0.0                 \n",
       "2014-01-01 01:00:00                                                0.0                 "
      ]
     },
     "execution_count": 56,
     "metadata": {},
     "output_type": "execute_result"
    }
   ],
   "source": [
    "baseline_df.head()"
   ]
  },
  {
   "cell_type": "code",
   "execution_count": 78,
   "metadata": {},
   "outputs": [],
   "source": [
    "baseline_df['SYS-A COOLING COIL:Cooling Coil Total Cooling Rate [W](TimeStep)']=baseline_df['SYS-A COOLING COIL:Cooling Coil Total Cooling Rate [W](TimeStep)']/3.0"
   ]
  },
  {
   "cell_type": "code",
   "execution_count": 79,
   "metadata": {},
   "outputs": [
    {
     "data": {
      "text/html": [
       "<div>\n",
       "<style scoped>\n",
       "    .dataframe tbody tr th:only-of-type {\n",
       "        vertical-align: middle;\n",
       "    }\n",
       "\n",
       "    .dataframe tbody tr th {\n",
       "        vertical-align: top;\n",
       "    }\n",
       "\n",
       "    .dataframe thead th {\n",
       "        text-align: right;\n",
       "    }\n",
       "</style>\n",
       "<table border=\"1\" class=\"dataframe\">\n",
       "  <thead>\n",
       "    <tr style=\"text-align: right;\">\n",
       "      <th></th>\n",
       "      <th>Date/Time</th>\n",
       "      <th>FLEXLAB-XR-ZONEA:Zone Mean Air Temperature [C](TimeStep)</th>\n",
       "      <th>SYS-A HEATING COIL:Heating Coil Heating Rate [W](TimeStep)</th>\n",
       "      <th>SYS-A COOLING COIL:Cooling Coil Total Cooling Rate [W](TimeStep)</th>\n",
       "    </tr>\n",
       "  </thead>\n",
       "  <tbody>\n",
       "    <tr>\n",
       "      <th>2014-01-01 00:00:00</th>\n",
       "      <td>01/01  00:15:00</td>\n",
       "      <td>23.641904</td>\n",
       "      <td>2838.467650</td>\n",
       "      <td>0.0</td>\n",
       "    </tr>\n",
       "    <tr>\n",
       "      <th>2014-01-01 00:15:00</th>\n",
       "      <td>01/01  00:30:00</td>\n",
       "      <td>23.729739</td>\n",
       "      <td>2866.469351</td>\n",
       "      <td>0.0</td>\n",
       "    </tr>\n",
       "    <tr>\n",
       "      <th>2014-01-01 00:30:00</th>\n",
       "      <td>01/01  00:45:00</td>\n",
       "      <td>23.684463</td>\n",
       "      <td>2765.402740</td>\n",
       "      <td>0.0</td>\n",
       "    </tr>\n",
       "    <tr>\n",
       "      <th>2014-01-01 00:45:00</th>\n",
       "      <td>01/01  01:00:00</td>\n",
       "      <td>23.656490</td>\n",
       "      <td>2757.962275</td>\n",
       "      <td>0.0</td>\n",
       "    </tr>\n",
       "    <tr>\n",
       "      <th>2014-01-01 01:00:00</th>\n",
       "      <td>01/01  01:15:00</td>\n",
       "      <td>24.132569</td>\n",
       "      <td>3474.780893</td>\n",
       "      <td>0.0</td>\n",
       "    </tr>\n",
       "  </tbody>\n",
       "</table>\n",
       "</div>"
      ],
      "text/plain": [
       "                            Date/Time  \\\n",
       "2014-01-01 00:00:00   01/01  00:15:00   \n",
       "2014-01-01 00:15:00   01/01  00:30:00   \n",
       "2014-01-01 00:30:00   01/01  00:45:00   \n",
       "2014-01-01 00:45:00   01/01  01:00:00   \n",
       "2014-01-01 01:00:00   01/01  01:15:00   \n",
       "\n",
       "                     FLEXLAB-XR-ZONEA:Zone Mean Air Temperature [C](TimeStep)  \\\n",
       "2014-01-01 00:00:00                                          23.641904          \n",
       "2014-01-01 00:15:00                                          23.729739          \n",
       "2014-01-01 00:30:00                                          23.684463          \n",
       "2014-01-01 00:45:00                                          23.656490          \n",
       "2014-01-01 01:00:00                                          24.132569          \n",
       "\n",
       "                     SYS-A HEATING COIL:Heating Coil Heating Rate [W](TimeStep)  \\\n",
       "2014-01-01 00:00:00                                        2838.467650            \n",
       "2014-01-01 00:15:00                                        2866.469351            \n",
       "2014-01-01 00:30:00                                        2765.402740            \n",
       "2014-01-01 00:45:00                                        2757.962275            \n",
       "2014-01-01 01:00:00                                        3474.780893            \n",
       "\n",
       "                     SYS-A COOLING COIL:Cooling Coil Total Cooling Rate [W](TimeStep)  \n",
       "2014-01-01 00:00:00                                                0.0                 \n",
       "2014-01-01 00:15:00                                                0.0                 \n",
       "2014-01-01 00:30:00                                                0.0                 \n",
       "2014-01-01 00:45:00                                                0.0                 \n",
       "2014-01-01 01:00:00                                                0.0                 "
      ]
     },
     "execution_count": 79,
     "metadata": {},
     "output_type": "execute_result"
    }
   ],
   "source": [
    "baseline_df.head()"
   ]
  },
  {
   "cell_type": "code",
   "execution_count": 80,
   "metadata": {},
   "outputs": [
    {
     "data": {
      "text/html": [
       "<div>\n",
       "<style scoped>\n",
       "    .dataframe tbody tr th:only-of-type {\n",
       "        vertical-align: middle;\n",
       "    }\n",
       "\n",
       "    .dataframe tbody tr th {\n",
       "        vertical-align: top;\n",
       "    }\n",
       "\n",
       "    .dataframe thead th {\n",
       "        text-align: right;\n",
       "    }\n",
       "</style>\n",
       "<table border=\"1\" class=\"dataframe\">\n",
       "  <thead>\n",
       "    <tr style=\"text-align: right;\">\n",
       "      <th></th>\n",
       "      <th>e_price</th>\n",
       "      <th>Date/Time</th>\n",
       "      <th>FLEXLAB-XR-ZONEA:Zone Mean Air Temperature [C](TimeStep)</th>\n",
       "      <th>SYS-A HEATING COIL:Heating Coil Heating Rate [W](TimeStep)</th>\n",
       "      <th>SYS-A COOLING COIL:Cooling Coil Total Cooling Rate [W](TimeStep)</th>\n",
       "      <th>CoolA</th>\n",
       "      <th>FanPowerA</th>\n",
       "      <th>HeatA</th>\n",
       "      <th>LigA</th>\n",
       "      <th>OutRH</th>\n",
       "      <th>...</th>\n",
       "      <th>P</th>\n",
       "      <th>P_batt</th>\n",
       "      <th>SOC</th>\n",
       "      <th>ZoneTempA</th>\n",
       "      <th>CwTempA</th>\n",
       "      <th>HwTempA</th>\n",
       "      <th>LigA_input</th>\n",
       "      <th>P_ctrl</th>\n",
       "      <th>SaFrA</th>\n",
       "      <th>SaTempA</th>\n",
       "    </tr>\n",
       "  </thead>\n",
       "  <tbody>\n",
       "    <tr>\n",
       "      <th>2014-01-01 00:00:00</th>\n",
       "      <td>8</td>\n",
       "      <td>01/01  00:15:00</td>\n",
       "      <td>23.641904</td>\n",
       "      <td>2838.467650</td>\n",
       "      <td>0.0</td>\n",
       "      <td>0.000000</td>\n",
       "      <td>0.000000</td>\n",
       "      <td>0.000000</td>\n",
       "      <td>0.0</td>\n",
       "      <td>0.0</td>\n",
       "      <td>...</td>\n",
       "      <td>0.000000</td>\n",
       "      <td>0.0</td>\n",
       "      <td>0.0</td>\n",
       "      <td>0.000000</td>\n",
       "      <td>0.000000</td>\n",
       "      <td>0.000000</td>\n",
       "      <td>0.0</td>\n",
       "      <td>0.000000</td>\n",
       "      <td>0.0</td>\n",
       "      <td>0.000000</td>\n",
       "    </tr>\n",
       "    <tr>\n",
       "      <th>2014-01-01 00:15:00</th>\n",
       "      <td>8</td>\n",
       "      <td>01/01  00:30:00</td>\n",
       "      <td>23.729739</td>\n",
       "      <td>2866.469351</td>\n",
       "      <td>0.0</td>\n",
       "      <td>5.974950</td>\n",
       "      <td>5.959208</td>\n",
       "      <td>183.681804</td>\n",
       "      <td>0.0</td>\n",
       "      <td>77.0</td>\n",
       "      <td>...</td>\n",
       "      <td>0.000025</td>\n",
       "      <td>0.0</td>\n",
       "      <td>0.1</td>\n",
       "      <td>23.899524</td>\n",
       "      <td>5.000000</td>\n",
       "      <td>30.830412</td>\n",
       "      <td>0.0</td>\n",
       "      <td>-3288.459961</td>\n",
       "      <td>0.1</td>\n",
       "      <td>25.513840</td>\n",
       "    </tr>\n",
       "    <tr>\n",
       "      <th>2014-01-01 00:30:00</th>\n",
       "      <td>8</td>\n",
       "      <td>01/01  00:45:00</td>\n",
       "      <td>23.684463</td>\n",
       "      <td>2765.402740</td>\n",
       "      <td>0.0</td>\n",
       "      <td>19.649948</td>\n",
       "      <td>5.959208</td>\n",
       "      <td>18.124276</td>\n",
       "      <td>0.0</td>\n",
       "      <td>74.0</td>\n",
       "      <td>...</td>\n",
       "      <td>0.000025</td>\n",
       "      <td>0.0</td>\n",
       "      <td>0.1</td>\n",
       "      <td>22.564921</td>\n",
       "      <td>14.966031</td>\n",
       "      <td>56.056793</td>\n",
       "      <td>0.0</td>\n",
       "      <td>-214.903809</td>\n",
       "      <td>0.1</td>\n",
       "      <td>22.279613</td>\n",
       "    </tr>\n",
       "    <tr>\n",
       "      <th>2014-01-01 00:45:00</th>\n",
       "      <td>8</td>\n",
       "      <td>01/01  01:00:00</td>\n",
       "      <td>23.656490</td>\n",
       "      <td>2757.962275</td>\n",
       "      <td>0.0</td>\n",
       "      <td>11.299145</td>\n",
       "      <td>5.959208</td>\n",
       "      <td>16.418273</td>\n",
       "      <td>0.0</td>\n",
       "      <td>71.0</td>\n",
       "      <td>...</td>\n",
       "      <td>0.000025</td>\n",
       "      <td>0.0</td>\n",
       "      <td>0.1</td>\n",
       "      <td>21.777997</td>\n",
       "      <td>13.631529</td>\n",
       "      <td>56.069485</td>\n",
       "      <td>0.0</td>\n",
       "      <td>-239.269043</td>\n",
       "      <td>0.1</td>\n",
       "      <td>21.881699</td>\n",
       "    </tr>\n",
       "    <tr>\n",
       "      <th>2014-01-01 01:00:00</th>\n",
       "      <td>8</td>\n",
       "      <td>01/01  01:15:00</td>\n",
       "      <td>24.132569</td>\n",
       "      <td>3474.780893</td>\n",
       "      <td>0.0</td>\n",
       "      <td>6.660431</td>\n",
       "      <td>5.959208</td>\n",
       "      <td>6.491169</td>\n",
       "      <td>0.0</td>\n",
       "      <td>71.5</td>\n",
       "      <td>...</td>\n",
       "      <td>0.000025</td>\n",
       "      <td>0.0</td>\n",
       "      <td>0.1</td>\n",
       "      <td>21.210388</td>\n",
       "      <td>5.998333</td>\n",
       "      <td>53.243820</td>\n",
       "      <td>0.0</td>\n",
       "      <td>-294.293701</td>\n",
       "      <td>0.1</td>\n",
       "      <td>21.431618</td>\n",
       "    </tr>\n",
       "  </tbody>\n",
       "</table>\n",
       "<p>5 rows × 22 columns</p>\n",
       "</div>"
      ],
      "text/plain": [
       "                     e_price         Date/Time  \\\n",
       "2014-01-01 00:00:00        8   01/01  00:15:00   \n",
       "2014-01-01 00:15:00        8   01/01  00:30:00   \n",
       "2014-01-01 00:30:00        8   01/01  00:45:00   \n",
       "2014-01-01 00:45:00        8   01/01  01:00:00   \n",
       "2014-01-01 01:00:00        8   01/01  01:15:00   \n",
       "\n",
       "                     FLEXLAB-XR-ZONEA:Zone Mean Air Temperature [C](TimeStep)  \\\n",
       "2014-01-01 00:00:00                                          23.641904          \n",
       "2014-01-01 00:15:00                                          23.729739          \n",
       "2014-01-01 00:30:00                                          23.684463          \n",
       "2014-01-01 00:45:00                                          23.656490          \n",
       "2014-01-01 01:00:00                                          24.132569          \n",
       "\n",
       "                     SYS-A HEATING COIL:Heating Coil Heating Rate [W](TimeStep)  \\\n",
       "2014-01-01 00:00:00                                        2838.467650            \n",
       "2014-01-01 00:15:00                                        2866.469351            \n",
       "2014-01-01 00:30:00                                        2765.402740            \n",
       "2014-01-01 00:45:00                                        2757.962275            \n",
       "2014-01-01 01:00:00                                        3474.780893            \n",
       "\n",
       "                     SYS-A COOLING COIL:Cooling Coil Total Cooling Rate [W](TimeStep)  \\\n",
       "2014-01-01 00:00:00                                                0.0                  \n",
       "2014-01-01 00:15:00                                                0.0                  \n",
       "2014-01-01 00:30:00                                                0.0                  \n",
       "2014-01-01 00:45:00                                                0.0                  \n",
       "2014-01-01 01:00:00                                                0.0                  \n",
       "\n",
       "                         CoolA  FanPowerA       HeatA  LigA  OutRH    ...      \\\n",
       "2014-01-01 00:00:00   0.000000   0.000000    0.000000   0.0    0.0    ...       \n",
       "2014-01-01 00:15:00   5.974950   5.959208  183.681804   0.0   77.0    ...       \n",
       "2014-01-01 00:30:00  19.649948   5.959208   18.124276   0.0   74.0    ...       \n",
       "2014-01-01 00:45:00  11.299145   5.959208   16.418273   0.0   71.0    ...       \n",
       "2014-01-01 01:00:00   6.660431   5.959208    6.491169   0.0   71.5    ...       \n",
       "\n",
       "                            P  P_batt  SOC  ZoneTempA    CwTempA    HwTempA  \\\n",
       "2014-01-01 00:00:00  0.000000     0.0  0.0   0.000000   0.000000   0.000000   \n",
       "2014-01-01 00:15:00  0.000025     0.0  0.1  23.899524   5.000000  30.830412   \n",
       "2014-01-01 00:30:00  0.000025     0.0  0.1  22.564921  14.966031  56.056793   \n",
       "2014-01-01 00:45:00  0.000025     0.0  0.1  21.777997  13.631529  56.069485   \n",
       "2014-01-01 01:00:00  0.000025     0.0  0.1  21.210388   5.998333  53.243820   \n",
       "\n",
       "                     LigA_input       P_ctrl  SaFrA    SaTempA  \n",
       "2014-01-01 00:00:00         0.0     0.000000    0.0   0.000000  \n",
       "2014-01-01 00:15:00         0.0 -3288.459961    0.1  25.513840  \n",
       "2014-01-01 00:30:00         0.0  -214.903809    0.1  22.279613  \n",
       "2014-01-01 00:45:00         0.0  -239.269043    0.1  21.881699  \n",
       "2014-01-01 01:00:00         0.0  -294.293701    0.1  21.431618  \n",
       "\n",
       "[5 rows x 22 columns]"
      ]
     },
     "execution_count": 80,
     "metadata": {},
     "output_type": "execute_result"
    }
   ],
   "source": [
    "final_df_base = pd.concat([e_price_2014, baseline_df,obs_df_0, actions_df_0],axis=1)\n",
    "final_df_base.head()"
   ]
  },
  {
   "cell_type": "code",
   "execution_count": 81,
   "metadata": {},
   "outputs": [],
   "source": [
    "plot_df(final_df_base, filename='all_columns_ddpg_base.html')"
   ]
  },
  {
   "cell_type": "code",
   "execution_count": 82,
   "metadata": {},
   "outputs": [
    {
     "data": {
      "text/html": [
       "<div>\n",
       "<style scoped>\n",
       "    .dataframe tbody tr th:only-of-type {\n",
       "        vertical-align: middle;\n",
       "    }\n",
       "\n",
       "    .dataframe tbody tr th {\n",
       "        vertical-align: top;\n",
       "    }\n",
       "\n",
       "    .dataframe thead th {\n",
       "        text-align: right;\n",
       "    }\n",
       "</style>\n",
       "<table border=\"1\" class=\"dataframe\">\n",
       "  <thead>\n",
       "    <tr style=\"text-align: right;\">\n",
       "      <th></th>\n",
       "      <th>CoolA_Test_B</th>\n",
       "      <th>FanPowerA_Test_B</th>\n",
       "      <th>HeatA_Test_B</th>\n",
       "      <th>LigA_Test_B</th>\n",
       "      <th>OutRH_Test_B</th>\n",
       "      <th>OutSI_Test_B</th>\n",
       "      <th>OutTemp_Test_B</th>\n",
       "      <th>P_Test_B</th>\n",
       "      <th>P_batt_Test_B</th>\n",
       "      <th>SOC_Test_B</th>\n",
       "      <th>ZoneTempA_Test_B</th>\n",
       "    </tr>\n",
       "  </thead>\n",
       "  <tbody>\n",
       "    <tr>\n",
       "      <th>2014-01-01 00:00:00</th>\n",
       "      <td>0.000000</td>\n",
       "      <td>0.000000</td>\n",
       "      <td>0.000000</td>\n",
       "      <td>0.000000</td>\n",
       "      <td>0.0</td>\n",
       "      <td>0.0</td>\n",
       "      <td>0.000</td>\n",
       "      <td>0.000000</td>\n",
       "      <td>0.000000</td>\n",
       "      <td>0.000000</td>\n",
       "      <td>0.000000</td>\n",
       "    </tr>\n",
       "    <tr>\n",
       "      <th>2014-01-01 00:15:00</th>\n",
       "      <td>1351.532046</td>\n",
       "      <td>909.280425</td>\n",
       "      <td>163.790164</td>\n",
       "      <td>61.277585</td>\n",
       "      <td>77.0</td>\n",
       "      <td>0.0</td>\n",
       "      <td>9.350</td>\n",
       "      <td>0.000025</td>\n",
       "      <td>-938.868408</td>\n",
       "      <td>0.172292</td>\n",
       "      <td>23.829443</td>\n",
       "    </tr>\n",
       "    <tr>\n",
       "      <th>2014-01-01 00:30:00</th>\n",
       "      <td>576.675057</td>\n",
       "      <td>47.964828</td>\n",
       "      <td>0.000000</td>\n",
       "      <td>0.184614</td>\n",
       "      <td>74.0</td>\n",
       "      <td>0.0</td>\n",
       "      <td>9.075</td>\n",
       "      <td>0.000025</td>\n",
       "      <td>-1004.464844</td>\n",
       "      <td>0.133429</td>\n",
       "      <td>21.860070</td>\n",
       "    </tr>\n",
       "    <tr>\n",
       "      <th>2014-01-01 00:45:00</th>\n",
       "      <td>0.000000</td>\n",
       "      <td>5.969367</td>\n",
       "      <td>566.472695</td>\n",
       "      <td>120.324142</td>\n",
       "      <td>71.0</td>\n",
       "      <td>0.0</td>\n",
       "      <td>8.800</td>\n",
       "      <td>0.000025</td>\n",
       "      <td>0.000000</td>\n",
       "      <td>0.100000</td>\n",
       "      <td>22.319926</td>\n",
       "    </tr>\n",
       "    <tr>\n",
       "      <th>2014-01-01 01:00:00</th>\n",
       "      <td>0.000000</td>\n",
       "      <td>5.960054</td>\n",
       "      <td>617.015278</td>\n",
       "      <td>39.191145</td>\n",
       "      <td>71.5</td>\n",
       "      <td>0.0</td>\n",
       "      <td>8.275</td>\n",
       "      <td>0.000025</td>\n",
       "      <td>0.000000</td>\n",
       "      <td>0.100000</td>\n",
       "      <td>22.499638</td>\n",
       "    </tr>\n",
       "  </tbody>\n",
       "</table>\n",
       "</div>"
      ],
      "text/plain": [
       "                     CoolA_Test_B  FanPowerA_Test_B  HeatA_Test_B  \\\n",
       "2014-01-01 00:00:00      0.000000          0.000000      0.000000   \n",
       "2014-01-01 00:15:00   1351.532046        909.280425    163.790164   \n",
       "2014-01-01 00:30:00    576.675057         47.964828      0.000000   \n",
       "2014-01-01 00:45:00      0.000000          5.969367    566.472695   \n",
       "2014-01-01 01:00:00      0.000000          5.960054    617.015278   \n",
       "\n",
       "                     LigA_Test_B  OutRH_Test_B  OutSI_Test_B  OutTemp_Test_B  \\\n",
       "2014-01-01 00:00:00     0.000000           0.0           0.0           0.000   \n",
       "2014-01-01 00:15:00    61.277585          77.0           0.0           9.350   \n",
       "2014-01-01 00:30:00     0.184614          74.0           0.0           9.075   \n",
       "2014-01-01 00:45:00   120.324142          71.0           0.0           8.800   \n",
       "2014-01-01 01:00:00    39.191145          71.5           0.0           8.275   \n",
       "\n",
       "                     P_Test_B  P_batt_Test_B  SOC_Test_B  ZoneTempA_Test_B  \n",
       "2014-01-01 00:00:00  0.000000       0.000000    0.000000          0.000000  \n",
       "2014-01-01 00:15:00  0.000025    -938.868408    0.172292         23.829443  \n",
       "2014-01-01 00:30:00  0.000025   -1004.464844    0.133429         21.860070  \n",
       "2014-01-01 00:45:00  0.000025       0.000000    0.100000         22.319926  \n",
       "2014-01-01 01:00:00  0.000025       0.000000    0.100000         22.499638  "
      ]
     },
     "execution_count": 82,
     "metadata": {},
     "output_type": "execute_result"
    }
   ],
   "source": [
    "obs_df.columns = [col+'_Test_B' for col in obs_df.columns]\n",
    "obs_df.head()"
   ]
  },
  {
   "cell_type": "code",
   "execution_count": 83,
   "metadata": {},
   "outputs": [
    {
     "data": {
      "text/html": [
       "<div>\n",
       "<style scoped>\n",
       "    .dataframe tbody tr th:only-of-type {\n",
       "        vertical-align: middle;\n",
       "    }\n",
       "\n",
       "    .dataframe tbody tr th {\n",
       "        vertical-align: top;\n",
       "    }\n",
       "\n",
       "    .dataframe thead th {\n",
       "        text-align: right;\n",
       "    }\n",
       "</style>\n",
       "<table border=\"1\" class=\"dataframe\">\n",
       "  <thead>\n",
       "    <tr style=\"text-align: right;\">\n",
       "      <th></th>\n",
       "      <th>CoolA_Test_A</th>\n",
       "      <th>FanPowerA_Test_A</th>\n",
       "      <th>HeatA_Test_A</th>\n",
       "      <th>LigA_Test_A</th>\n",
       "      <th>OutRH_Test_A</th>\n",
       "      <th>OutSI_Test_A</th>\n",
       "      <th>OutTemp_Test_A</th>\n",
       "      <th>P_Test_A</th>\n",
       "      <th>P_batt_Test_A</th>\n",
       "      <th>SOC_Test_A</th>\n",
       "      <th>ZoneTempA_Test_A</th>\n",
       "    </tr>\n",
       "  </thead>\n",
       "  <tbody>\n",
       "    <tr>\n",
       "      <th>2014-01-01 00:00:00</th>\n",
       "      <td>0.000000</td>\n",
       "      <td>0.000000</td>\n",
       "      <td>0.000000</td>\n",
       "      <td>0.0</td>\n",
       "      <td>0.0</td>\n",
       "      <td>0.0</td>\n",
       "      <td>0.000</td>\n",
       "      <td>0.000000</td>\n",
       "      <td>0.0</td>\n",
       "      <td>0.0</td>\n",
       "      <td>0.000000</td>\n",
       "    </tr>\n",
       "    <tr>\n",
       "      <th>2014-01-01 00:15:00</th>\n",
       "      <td>5.974950</td>\n",
       "      <td>5.959208</td>\n",
       "      <td>183.681804</td>\n",
       "      <td>0.0</td>\n",
       "      <td>77.0</td>\n",
       "      <td>0.0</td>\n",
       "      <td>9.350</td>\n",
       "      <td>0.000025</td>\n",
       "      <td>0.0</td>\n",
       "      <td>0.1</td>\n",
       "      <td>23.899524</td>\n",
       "    </tr>\n",
       "    <tr>\n",
       "      <th>2014-01-01 00:30:00</th>\n",
       "      <td>19.649948</td>\n",
       "      <td>5.959208</td>\n",
       "      <td>18.124276</td>\n",
       "      <td>0.0</td>\n",
       "      <td>74.0</td>\n",
       "      <td>0.0</td>\n",
       "      <td>9.075</td>\n",
       "      <td>0.000025</td>\n",
       "      <td>0.0</td>\n",
       "      <td>0.1</td>\n",
       "      <td>22.564921</td>\n",
       "    </tr>\n",
       "    <tr>\n",
       "      <th>2014-01-01 00:45:00</th>\n",
       "      <td>11.299145</td>\n",
       "      <td>5.959208</td>\n",
       "      <td>16.418273</td>\n",
       "      <td>0.0</td>\n",
       "      <td>71.0</td>\n",
       "      <td>0.0</td>\n",
       "      <td>8.800</td>\n",
       "      <td>0.000025</td>\n",
       "      <td>0.0</td>\n",
       "      <td>0.1</td>\n",
       "      <td>21.777997</td>\n",
       "    </tr>\n",
       "    <tr>\n",
       "      <th>2014-01-01 01:00:00</th>\n",
       "      <td>6.660431</td>\n",
       "      <td>5.959208</td>\n",
       "      <td>6.491169</td>\n",
       "      <td>0.0</td>\n",
       "      <td>71.5</td>\n",
       "      <td>0.0</td>\n",
       "      <td>8.275</td>\n",
       "      <td>0.000025</td>\n",
       "      <td>0.0</td>\n",
       "      <td>0.1</td>\n",
       "      <td>21.210388</td>\n",
       "    </tr>\n",
       "  </tbody>\n",
       "</table>\n",
       "</div>"
      ],
      "text/plain": [
       "                     CoolA_Test_A  FanPowerA_Test_A  HeatA_Test_A  \\\n",
       "2014-01-01 00:00:00      0.000000          0.000000      0.000000   \n",
       "2014-01-01 00:15:00      5.974950          5.959208    183.681804   \n",
       "2014-01-01 00:30:00     19.649948          5.959208     18.124276   \n",
       "2014-01-01 00:45:00     11.299145          5.959208     16.418273   \n",
       "2014-01-01 01:00:00      6.660431          5.959208      6.491169   \n",
       "\n",
       "                     LigA_Test_A  OutRH_Test_A  OutSI_Test_A  OutTemp_Test_A  \\\n",
       "2014-01-01 00:00:00          0.0           0.0           0.0           0.000   \n",
       "2014-01-01 00:15:00          0.0          77.0           0.0           9.350   \n",
       "2014-01-01 00:30:00          0.0          74.0           0.0           9.075   \n",
       "2014-01-01 00:45:00          0.0          71.0           0.0           8.800   \n",
       "2014-01-01 01:00:00          0.0          71.5           0.0           8.275   \n",
       "\n",
       "                     P_Test_A  P_batt_Test_A  SOC_Test_A  ZoneTempA_Test_A  \n",
       "2014-01-01 00:00:00  0.000000            0.0         0.0          0.000000  \n",
       "2014-01-01 00:15:00  0.000025            0.0         0.1         23.899524  \n",
       "2014-01-01 00:30:00  0.000025            0.0         0.1         22.564921  \n",
       "2014-01-01 00:45:00  0.000025            0.0         0.1         21.777997  \n",
       "2014-01-01 01:00:00  0.000025            0.0         0.1         21.210388  "
      ]
     },
     "execution_count": 83,
     "metadata": {},
     "output_type": "execute_result"
    }
   ],
   "source": [
    "obs_df_0.columns = [col+'_Test_A' for col in obs_df_0.columns]\n",
    "obs_df_0.head()"
   ]
  },
  {
   "cell_type": "code",
   "execution_count": 86,
   "metadata": {},
   "outputs": [
    {
     "data": {
      "text/html": [
       "<div>\n",
       "<style scoped>\n",
       "    .dataframe tbody tr th:only-of-type {\n",
       "        vertical-align: middle;\n",
       "    }\n",
       "\n",
       "    .dataframe tbody tr th {\n",
       "        vertical-align: top;\n",
       "    }\n",
       "\n",
       "    .dataframe thead th {\n",
       "        text-align: right;\n",
       "    }\n",
       "</style>\n",
       "<table border=\"1\" class=\"dataframe\">\n",
       "  <thead>\n",
       "    <tr style=\"text-align: right;\">\n",
       "      <th></th>\n",
       "      <th>CoolA_Test_B</th>\n",
       "      <th>CoolA_Test_A</th>\n",
       "    </tr>\n",
       "  </thead>\n",
       "  <tbody>\n",
       "    <tr>\n",
       "      <th>2014-01-01 00:00:00</th>\n",
       "      <td>0.000000</td>\n",
       "      <td>0.000000</td>\n",
       "    </tr>\n",
       "    <tr>\n",
       "      <th>2014-01-01 00:15:00</th>\n",
       "      <td>1351.532046</td>\n",
       "      <td>5.974950</td>\n",
       "    </tr>\n",
       "    <tr>\n",
       "      <th>2014-01-01 00:30:00</th>\n",
       "      <td>576.675057</td>\n",
       "      <td>19.649948</td>\n",
       "    </tr>\n",
       "    <tr>\n",
       "      <th>2014-01-01 00:45:00</th>\n",
       "      <td>0.000000</td>\n",
       "      <td>11.299145</td>\n",
       "    </tr>\n",
       "    <tr>\n",
       "      <th>2014-01-01 01:00:00</th>\n",
       "      <td>0.000000</td>\n",
       "      <td>6.660431</td>\n",
       "    </tr>\n",
       "  </tbody>\n",
       "</table>\n",
       "</div>"
      ],
      "text/plain": [
       "                     CoolA_Test_B  CoolA_Test_A\n",
       "2014-01-01 00:00:00      0.000000      0.000000\n",
       "2014-01-01 00:15:00   1351.532046      5.974950\n",
       "2014-01-01 00:30:00    576.675057     19.649948\n",
       "2014-01-01 00:45:00      0.000000     11.299145\n",
       "2014-01-01 01:00:00      0.000000      6.660431"
      ]
     },
     "execution_count": 86,
     "metadata": {},
     "output_type": "execute_result"
    }
   ],
   "source": [
    "final_df_base_cool = pd.concat([ obs_df['CoolA_Test_B'],obs_df_0['CoolA_Test_A']],axis=1)\n",
    "final_df_base_cool.head()"
   ]
  },
  {
   "cell_type": "code",
   "execution_count": 87,
   "metadata": {},
   "outputs": [],
   "source": [
    "plot_df(final_df_base_cool, filename='all_columns_ddpg_cool.html')"
   ]
  },
  {
   "cell_type": "code",
   "execution_count": null,
   "metadata": {},
   "outputs": [],
   "source": []
  },
  {
   "cell_type": "code",
   "execution_count": 88,
   "metadata": {},
   "outputs": [
    {
     "data": {
      "text/html": [
       "<div>\n",
       "<style scoped>\n",
       "    .dataframe tbody tr th:only-of-type {\n",
       "        vertical-align: middle;\n",
       "    }\n",
       "\n",
       "    .dataframe tbody tr th {\n",
       "        vertical-align: top;\n",
       "    }\n",
       "\n",
       "    .dataframe thead th {\n",
       "        text-align: right;\n",
       "    }\n",
       "</style>\n",
       "<table border=\"1\" class=\"dataframe\">\n",
       "  <thead>\n",
       "    <tr style=\"text-align: right;\">\n",
       "      <th></th>\n",
       "      <th>SOC_Test_B</th>\n",
       "      <th>SOC_Test_A</th>\n",
       "    </tr>\n",
       "  </thead>\n",
       "  <tbody>\n",
       "    <tr>\n",
       "      <th>2014-01-01 00:00:00</th>\n",
       "      <td>0.000000</td>\n",
       "      <td>0.0</td>\n",
       "    </tr>\n",
       "    <tr>\n",
       "      <th>2014-01-01 00:15:00</th>\n",
       "      <td>0.172292</td>\n",
       "      <td>0.1</td>\n",
       "    </tr>\n",
       "    <tr>\n",
       "      <th>2014-01-01 00:30:00</th>\n",
       "      <td>0.133429</td>\n",
       "      <td>0.1</td>\n",
       "    </tr>\n",
       "    <tr>\n",
       "      <th>2014-01-01 00:45:00</th>\n",
       "      <td>0.100000</td>\n",
       "      <td>0.1</td>\n",
       "    </tr>\n",
       "    <tr>\n",
       "      <th>2014-01-01 01:00:00</th>\n",
       "      <td>0.100000</td>\n",
       "      <td>0.1</td>\n",
       "    </tr>\n",
       "  </tbody>\n",
       "</table>\n",
       "</div>"
      ],
      "text/plain": [
       "                     SOC_Test_B  SOC_Test_A\n",
       "2014-01-01 00:00:00    0.000000         0.0\n",
       "2014-01-01 00:15:00    0.172292         0.1\n",
       "2014-01-01 00:30:00    0.133429         0.1\n",
       "2014-01-01 00:45:00    0.100000         0.1\n",
       "2014-01-01 01:00:00    0.100000         0.1"
      ]
     },
     "execution_count": 88,
     "metadata": {},
     "output_type": "execute_result"
    }
   ],
   "source": [
    "final_df_base_cool = pd.concat([ obs_df['SOC_Test_B'],obs_df_0['SOC_Test_A']],axis=1)\n",
    "final_df_base_cool.head()"
   ]
  },
  {
   "cell_type": "code",
   "execution_count": 89,
   "metadata": {},
   "outputs": [],
   "source": [
    "plot_df(final_df_base_cool, filename='all_columns_ddpg_SOC.html')"
   ]
  },
  {
   "cell_type": "code",
   "execution_count": 90,
   "metadata": {},
   "outputs": [
    {
     "data": {
      "text/plain": [
       "10.0"
      ]
     },
     "execution_count": 90,
     "metadata": {},
     "output_type": "execute_result"
    }
   ],
   "source": [
    "abs(-10.0\n",
    "   )"
   ]
  },
  {
   "cell_type": "code",
   "execution_count": null,
   "metadata": {},
   "outputs": [],
   "source": []
  },
  {
   "cell_type": "code",
   "execution_count": null,
   "metadata": {},
   "outputs": [],
   "source": []
  },
  {
   "cell_type": "code",
   "execution_count": 91,
   "metadata": {},
   "outputs": [],
   "source": [
    "actions_df_01 = pd.read_csv(\"../preds/actions_df_ddpg_001.csv\")\n",
    "reward_df_01 = pd.read_csv(\"../preds/reward_df_ddpg_001.csv\")\n",
    "obs_df_01 = pd.read_csv(\"../preds/obs_df_ddpg_001.csv\")\n",
    "e_cost_df_01 = pd.read_csv(\"../preds/e_costs_df_ddpg_001.csv\")\n",
    "net_energy_df_01 = pd.read_csv(\"../preds/net_energy_df_ddpg_001.csv\")\n",
    "net_power_df_01 = pd.read_csv(\"../preds/net_power_df_ddpg_001.csv\")\n",
    "\n",
    "\n",
    "actions_df_01.index = pd.to_datetime(index)\n",
    "reward_df_01.index = pd.to_datetime(index)\n",
    "obs_df_01.index = pd.to_datetime(index)\n",
    "e_cost_df_01.index = pd.to_datetime(index)\n",
    "net_energy_df_01.index = pd.to_datetime(index)\n",
    "net_power_df_01.index = pd.to_datetime(index)\n",
    "\n",
    "e_price_2014 = pd.read_csv(\"../e_tariffs/e_price_2014.csv\", index_col=0, parse_dates=True)\n",
    "e_price_2014.index = pd.to_datetime(e_price_2014.index)"
   ]
  },
  {
   "cell_type": "code",
   "execution_count": 92,
   "metadata": {},
   "outputs": [
    {
     "data": {
      "text/html": [
       "<div>\n",
       "<style scoped>\n",
       "    .dataframe tbody tr th:only-of-type {\n",
       "        vertical-align: middle;\n",
       "    }\n",
       "\n",
       "    .dataframe tbody tr th {\n",
       "        vertical-align: top;\n",
       "    }\n",
       "\n",
       "    .dataframe thead th {\n",
       "        text-align: right;\n",
       "    }\n",
       "</style>\n",
       "<table border=\"1\" class=\"dataframe\">\n",
       "  <thead>\n",
       "    <tr style=\"text-align: right;\">\n",
       "      <th></th>\n",
       "      <th>e_price</th>\n",
       "      <th>CoolA</th>\n",
       "      <th>FanPowerA</th>\n",
       "      <th>HeatA</th>\n",
       "      <th>LigA</th>\n",
       "      <th>OutRH</th>\n",
       "      <th>OutSI</th>\n",
       "      <th>OutTemp</th>\n",
       "      <th>P</th>\n",
       "      <th>P_batt</th>\n",
       "      <th>...</th>\n",
       "      <th>CwTempA</th>\n",
       "      <th>HwTempA</th>\n",
       "      <th>LigA_input</th>\n",
       "      <th>P_ctrl</th>\n",
       "      <th>SaFrA</th>\n",
       "      <th>SaTempA</th>\n",
       "      <th>e_cost</th>\n",
       "      <th>net_energy</th>\n",
       "      <th>net_power</th>\n",
       "      <th>Tcomfort</th>\n",
       "    </tr>\n",
       "  </thead>\n",
       "  <tbody>\n",
       "    <tr>\n",
       "      <th>2014-01-01 00:00:00</th>\n",
       "      <td>8</td>\n",
       "      <td>0.000000</td>\n",
       "      <td>0.000000</td>\n",
       "      <td>0.0</td>\n",
       "      <td>0.000000</td>\n",
       "      <td>0.0</td>\n",
       "      <td>0.0</td>\n",
       "      <td>0.000</td>\n",
       "      <td>0.000000</td>\n",
       "      <td>0.000000</td>\n",
       "      <td>...</td>\n",
       "      <td>0.0</td>\n",
       "      <td>0.0</td>\n",
       "      <td>0.000000e+00</td>\n",
       "      <td>0.000000</td>\n",
       "      <td>0.000000</td>\n",
       "      <td>0.000000</td>\n",
       "      <td>0.000000</td>\n",
       "      <td>0.000000</td>\n",
       "      <td>0.000000</td>\n",
       "      <td>0.0</td>\n",
       "    </tr>\n",
       "    <tr>\n",
       "      <th>2014-01-01 00:15:00</th>\n",
       "      <td>8</td>\n",
       "      <td>4646.148063</td>\n",
       "      <td>651.188679</td>\n",
       "      <td>0.0</td>\n",
       "      <td>0.000028</td>\n",
       "      <td>77.0</td>\n",
       "      <td>0.0</td>\n",
       "      <td>9.350</td>\n",
       "      <td>0.000025</td>\n",
       "      <td>2374.748047</td>\n",
       "      <td>...</td>\n",
       "      <td>5.0</td>\n",
       "      <td>60.0</td>\n",
       "      <td>5.960464e-08</td>\n",
       "      <td>2374.748047</td>\n",
       "      <td>1.285217</td>\n",
       "      <td>19.216961</td>\n",
       "      <td>9.149305</td>\n",
       "      <td>1.143663</td>\n",
       "      <td>4574.652749</td>\n",
       "      <td>0.0</td>\n",
       "    </tr>\n",
       "    <tr>\n",
       "      <th>2014-01-01 00:30:00</th>\n",
       "      <td>8</td>\n",
       "      <td>121.060358</td>\n",
       "      <td>5.959208</td>\n",
       "      <td>0.0</td>\n",
       "      <td>1.404997</td>\n",
       "      <td>74.0</td>\n",
       "      <td>0.0</td>\n",
       "      <td>9.075</td>\n",
       "      <td>0.000025</td>\n",
       "      <td>3299.999023</td>\n",
       "      <td>...</td>\n",
       "      <td>5.0</td>\n",
       "      <td>60.0</td>\n",
       "      <td>2.990246e-03</td>\n",
       "      <td>3299.999023</td>\n",
       "      <td>0.100000</td>\n",
       "      <td>20.211340</td>\n",
       "      <td>6.695433</td>\n",
       "      <td>0.836929</td>\n",
       "      <td>3347.716655</td>\n",
       "      <td>0.0</td>\n",
       "    </tr>\n",
       "    <tr>\n",
       "      <th>2014-01-01 00:45:00</th>\n",
       "      <td>8</td>\n",
       "      <td>114.329309</td>\n",
       "      <td>5.959208</td>\n",
       "      <td>0.0</td>\n",
       "      <td>0.238456</td>\n",
       "      <td>71.0</td>\n",
       "      <td>0.0</td>\n",
       "      <td>8.800</td>\n",
       "      <td>0.000025</td>\n",
       "      <td>3300.000000</td>\n",
       "      <td>...</td>\n",
       "      <td>5.0</td>\n",
       "      <td>60.0</td>\n",
       "      <td>5.075037e-04</td>\n",
       "      <td>3300.000000</td>\n",
       "      <td>0.100000</td>\n",
       "      <td>20.101637</td>\n",
       "      <td>6.688615</td>\n",
       "      <td>0.836077</td>\n",
       "      <td>3344.307408</td>\n",
       "      <td>0.0</td>\n",
       "    </tr>\n",
       "    <tr>\n",
       "      <th>2014-01-01 01:00:00</th>\n",
       "      <td>8</td>\n",
       "      <td>75.457573</td>\n",
       "      <td>5.959208</td>\n",
       "      <td>0.0</td>\n",
       "      <td>0.214329</td>\n",
       "      <td>71.5</td>\n",
       "      <td>0.0</td>\n",
       "      <td>8.275</td>\n",
       "      <td>0.000025</td>\n",
       "      <td>3299.997559</td>\n",
       "      <td>...</td>\n",
       "      <td>5.0</td>\n",
       "      <td>60.0</td>\n",
       "      <td>4.561543e-04</td>\n",
       "      <td>3299.997559</td>\n",
       "      <td>0.100000</td>\n",
       "      <td>20.209724</td>\n",
       "      <td>6.662647</td>\n",
       "      <td>0.832831</td>\n",
       "      <td>3331.323594</td>\n",
       "      <td>0.0</td>\n",
       "    </tr>\n",
       "  </tbody>\n",
       "</table>\n",
       "<p>5 rows × 23 columns</p>\n",
       "</div>"
      ],
      "text/plain": [
       "                     e_price        CoolA   FanPowerA  HeatA      LigA  OutRH  \\\n",
       "2014-01-01 00:00:00        8     0.000000    0.000000    0.0  0.000000    0.0   \n",
       "2014-01-01 00:15:00        8  4646.148063  651.188679    0.0  0.000028   77.0   \n",
       "2014-01-01 00:30:00        8   121.060358    5.959208    0.0  1.404997   74.0   \n",
       "2014-01-01 00:45:00        8   114.329309    5.959208    0.0  0.238456   71.0   \n",
       "2014-01-01 01:00:00        8    75.457573    5.959208    0.0  0.214329   71.5   \n",
       "\n",
       "                     OutSI  OutTemp         P       P_batt    ...     CwTempA  \\\n",
       "2014-01-01 00:00:00    0.0    0.000  0.000000     0.000000    ...         0.0   \n",
       "2014-01-01 00:15:00    0.0    9.350  0.000025  2374.748047    ...         5.0   \n",
       "2014-01-01 00:30:00    0.0    9.075  0.000025  3299.999023    ...         5.0   \n",
       "2014-01-01 00:45:00    0.0    8.800  0.000025  3300.000000    ...         5.0   \n",
       "2014-01-01 01:00:00    0.0    8.275  0.000025  3299.997559    ...         5.0   \n",
       "\n",
       "                     HwTempA    LigA_input       P_ctrl     SaFrA    SaTempA  \\\n",
       "2014-01-01 00:00:00      0.0  0.000000e+00     0.000000  0.000000   0.000000   \n",
       "2014-01-01 00:15:00     60.0  5.960464e-08  2374.748047  1.285217  19.216961   \n",
       "2014-01-01 00:30:00     60.0  2.990246e-03  3299.999023  0.100000  20.211340   \n",
       "2014-01-01 00:45:00     60.0  5.075037e-04  3300.000000  0.100000  20.101637   \n",
       "2014-01-01 01:00:00     60.0  4.561543e-04  3299.997559  0.100000  20.209724   \n",
       "\n",
       "                       e_cost  net_energy    net_power  Tcomfort  \n",
       "2014-01-01 00:00:00  0.000000    0.000000     0.000000       0.0  \n",
       "2014-01-01 00:15:00  9.149305    1.143663  4574.652749       0.0  \n",
       "2014-01-01 00:30:00  6.695433    0.836929  3347.716655       0.0  \n",
       "2014-01-01 00:45:00  6.688615    0.836077  3344.307408       0.0  \n",
       "2014-01-01 01:00:00  6.662647    0.832831  3331.323594       0.0  \n",
       "\n",
       "[5 rows x 23 columns]"
      ]
     },
     "execution_count": 92,
     "metadata": {},
     "output_type": "execute_result"
    }
   ],
   "source": [
    "final_df_01 = pd.concat([e_price_2014, obs_df_01, reward_df_01, actions_df_01,e_cost_df_01,net_energy_df_01,net_power_df_01],axis=1)\n",
    "final_df_01[\"Tcomfort\"] = final_df_01[\"reward\"] + final_df_01[\"e_cost\"]\n",
    "final_df_01.head()"
   ]
  },
  {
   "cell_type": "code",
   "execution_count": 93,
   "metadata": {},
   "outputs": [],
   "source": [
    "plot_df(final_df_01, filename='all_columns_ddpg_001.html')"
   ]
  },
  {
   "cell_type": "code",
   "execution_count": 97,
   "metadata": {},
   "outputs": [
    {
     "data": {
      "text/html": [
       "<div>\n",
       "<style scoped>\n",
       "    .dataframe tbody tr th:only-of-type {\n",
       "        vertical-align: middle;\n",
       "    }\n",
       "\n",
       "    .dataframe tbody tr th {\n",
       "        vertical-align: top;\n",
       "    }\n",
       "\n",
       "    .dataframe thead th {\n",
       "        text-align: right;\n",
       "    }\n",
       "</style>\n",
       "<table border=\"1\" class=\"dataframe\">\n",
       "  <thead>\n",
       "    <tr style=\"text-align: right;\">\n",
       "      <th></th>\n",
       "      <th>CoolA_Test_B</th>\n",
       "      <th>CoolA_Test_A</th>\n",
       "      <th>CoolA</th>\n",
       "    </tr>\n",
       "  </thead>\n",
       "  <tbody>\n",
       "    <tr>\n",
       "      <th>2014-01-01 00:00:00</th>\n",
       "      <td>0.000000</td>\n",
       "      <td>0.000000</td>\n",
       "      <td>0.000000</td>\n",
       "    </tr>\n",
       "    <tr>\n",
       "      <th>2014-01-01 00:15:00</th>\n",
       "      <td>1351.532046</td>\n",
       "      <td>5.974950</td>\n",
       "      <td>4646.148063</td>\n",
       "    </tr>\n",
       "    <tr>\n",
       "      <th>2014-01-01 00:30:00</th>\n",
       "      <td>576.675057</td>\n",
       "      <td>19.649948</td>\n",
       "      <td>121.060358</td>\n",
       "    </tr>\n",
       "    <tr>\n",
       "      <th>2014-01-01 00:45:00</th>\n",
       "      <td>0.000000</td>\n",
       "      <td>11.299145</td>\n",
       "      <td>114.329309</td>\n",
       "    </tr>\n",
       "    <tr>\n",
       "      <th>2014-01-01 01:00:00</th>\n",
       "      <td>0.000000</td>\n",
       "      <td>6.660431</td>\n",
       "      <td>75.457573</td>\n",
       "    </tr>\n",
       "  </tbody>\n",
       "</table>\n",
       "</div>"
      ],
      "text/plain": [
       "                     CoolA_Test_B  CoolA_Test_A        CoolA\n",
       "2014-01-01 00:00:00      0.000000      0.000000     0.000000\n",
       "2014-01-01 00:15:00   1351.532046      5.974950  4646.148063\n",
       "2014-01-01 00:30:00    576.675057     19.649948   121.060358\n",
       "2014-01-01 00:45:00      0.000000     11.299145   114.329309\n",
       "2014-01-01 01:00:00      0.000000      6.660431    75.457573"
      ]
     },
     "execution_count": 97,
     "metadata": {},
     "output_type": "execute_result"
    }
   ],
   "source": [
    "final_df_base_cool = pd.concat([ obs_df['CoolA_Test_B'],obs_df_0['CoolA_Test_A'],obs_df_01['CoolA']],axis=1)\n",
    "final_df_base_cool.head()"
   ]
  },
  {
   "cell_type": "code",
   "execution_count": 98,
   "metadata": {},
   "outputs": [],
   "source": [
    "plot_df(final_df_base_cool, filename='all_columns_ddpg_cool.html')"
   ]
  },
  {
   "cell_type": "code",
   "execution_count": null,
   "metadata": {},
   "outputs": [],
   "source": []
  },
  {
   "cell_type": "code",
   "execution_count": null,
   "metadata": {},
   "outputs": [],
   "source": []
  },
  {
   "cell_type": "code",
   "execution_count": 99,
   "metadata": {},
   "outputs": [],
   "source": [
    "actions_df_02 = pd.read_csv(\"../preds/actions_df_ddpg_002.csv\")\n",
    "reward_df_02 = pd.read_csv(\"../preds/reward_df_ddpg_002.csv\")\n",
    "obs_df_02 = pd.read_csv(\"../preds/obs_df_ddpg_002.csv\")\n",
    "e_cost_df_02 = pd.read_csv(\"../preds/e_costs_df_ddpg_002.csv\")\n",
    "net_energy_df_02 = pd.read_csv(\"../preds/net_energy_df_ddpg_002.csv\")\n",
    "net_power_df_02 = pd.read_csv(\"../preds/net_power_df_ddpg_002.csv\")\n",
    "\n",
    "\n",
    "actions_df_02.index = pd.to_datetime(index)\n",
    "reward_df_02.index = pd.to_datetime(index)\n",
    "obs_df_02.index = pd.to_datetime(index)\n",
    "e_cost_df_02.index = pd.to_datetime(index)\n",
    "net_energy_df_02.index = pd.to_datetime(index)\n",
    "net_power_df_02.index = pd.to_datetime(index)\n",
    "\n",
    "e_price_2014 = pd.read_csv(\"../e_tariffs/e_price_2014.csv\", index_col=0, parse_dates=True)\n",
    "e_price_2014.index = pd.to_datetime(e_price_2014.index)"
   ]
  },
  {
   "cell_type": "code",
   "execution_count": 100,
   "metadata": {},
   "outputs": [
    {
     "data": {
      "text/html": [
       "<div>\n",
       "<style scoped>\n",
       "    .dataframe tbody tr th:only-of-type {\n",
       "        vertical-align: middle;\n",
       "    }\n",
       "\n",
       "    .dataframe tbody tr th {\n",
       "        vertical-align: top;\n",
       "    }\n",
       "\n",
       "    .dataframe thead th {\n",
       "        text-align: right;\n",
       "    }\n",
       "</style>\n",
       "<table border=\"1\" class=\"dataframe\">\n",
       "  <thead>\n",
       "    <tr style=\"text-align: right;\">\n",
       "      <th></th>\n",
       "      <th>e_price</th>\n",
       "      <th>CoolA</th>\n",
       "      <th>FanPowerA</th>\n",
       "      <th>HeatA</th>\n",
       "      <th>LigA</th>\n",
       "      <th>OutRH</th>\n",
       "      <th>OutSI</th>\n",
       "      <th>OutTemp</th>\n",
       "      <th>P</th>\n",
       "      <th>P_batt</th>\n",
       "      <th>...</th>\n",
       "      <th>CwTempA</th>\n",
       "      <th>HwTempA</th>\n",
       "      <th>LigA_input</th>\n",
       "      <th>P_ctrl</th>\n",
       "      <th>SaFrA</th>\n",
       "      <th>SaTempA</th>\n",
       "      <th>e_cost</th>\n",
       "      <th>net_energy</th>\n",
       "      <th>net_power</th>\n",
       "      <th>Tcomfort</th>\n",
       "    </tr>\n",
       "  </thead>\n",
       "  <tbody>\n",
       "    <tr>\n",
       "      <th>2014-01-01 00:00:00</th>\n",
       "      <td>8</td>\n",
       "      <td>0.000000</td>\n",
       "      <td>0.000000</td>\n",
       "      <td>0.000000</td>\n",
       "      <td>0.000000</td>\n",
       "      <td>0.0</td>\n",
       "      <td>0.0</td>\n",
       "      <td>0.000</td>\n",
       "      <td>0.000000</td>\n",
       "      <td>0.000000</td>\n",
       "      <td>...</td>\n",
       "      <td>0.000000</td>\n",
       "      <td>0.000000</td>\n",
       "      <td>0.000000</td>\n",
       "      <td>0.000000</td>\n",
       "      <td>0.000000</td>\n",
       "      <td>0.000000</td>\n",
       "      <td>0.000000</td>\n",
       "      <td>0.000000</td>\n",
       "      <td>0.000000</td>\n",
       "      <td>0.0</td>\n",
       "    </tr>\n",
       "    <tr>\n",
       "      <th>2014-01-01 00:15:00</th>\n",
       "      <td>8</td>\n",
       "      <td>4801.099412</td>\n",
       "      <td>820.402113</td>\n",
       "      <td>0.000000</td>\n",
       "      <td>0.000000</td>\n",
       "      <td>77.0</td>\n",
       "      <td>0.0</td>\n",
       "      <td>9.350</td>\n",
       "      <td>0.000025</td>\n",
       "      <td>1238.181152</td>\n",
       "      <td>...</td>\n",
       "      <td>15.000000</td>\n",
       "      <td>60.000000</td>\n",
       "      <td>0.000000</td>\n",
       "      <td>1238.181152</td>\n",
       "      <td>1.452485</td>\n",
       "      <td>19.614037</td>\n",
       "      <td>7.317899</td>\n",
       "      <td>0.914737</td>\n",
       "      <td>3658.949711</td>\n",
       "      <td>0.0</td>\n",
       "    </tr>\n",
       "    <tr>\n",
       "      <th>2014-01-01 00:30:00</th>\n",
       "      <td>8</td>\n",
       "      <td>0.000000</td>\n",
       "      <td>5.959208</td>\n",
       "      <td>106.601329</td>\n",
       "      <td>0.019254</td>\n",
       "      <td>74.0</td>\n",
       "      <td>0.0</td>\n",
       "      <td>9.075</td>\n",
       "      <td>0.000025</td>\n",
       "      <td>-428.277344</td>\n",
       "      <td>...</td>\n",
       "      <td>14.997832</td>\n",
       "      <td>59.735207</td>\n",
       "      <td>0.000041</td>\n",
       "      <td>-428.277344</td>\n",
       "      <td>0.100000</td>\n",
       "      <td>22.611010</td>\n",
       "      <td>0.000000</td>\n",
       "      <td>-0.077522</td>\n",
       "      <td>-310.086982</td>\n",
       "      <td>0.0</td>\n",
       "    </tr>\n",
       "    <tr>\n",
       "      <th>2014-01-01 00:45:00</th>\n",
       "      <td>8</td>\n",
       "      <td>0.000000</td>\n",
       "      <td>5.959208</td>\n",
       "      <td>107.862843</td>\n",
       "      <td>0.009312</td>\n",
       "      <td>71.0</td>\n",
       "      <td>0.0</td>\n",
       "      <td>8.800</td>\n",
       "      <td>0.000025</td>\n",
       "      <td>391.608643</td>\n",
       "      <td>...</td>\n",
       "      <td>14.988341</td>\n",
       "      <td>59.841309</td>\n",
       "      <td>0.000020</td>\n",
       "      <td>391.608643</td>\n",
       "      <td>0.100000</td>\n",
       "      <td>22.526129</td>\n",
       "      <td>1.022234</td>\n",
       "      <td>0.127779</td>\n",
       "      <td>511.116972</td>\n",
       "      <td>0.0</td>\n",
       "    </tr>\n",
       "    <tr>\n",
       "      <th>2014-01-01 01:00:00</th>\n",
       "      <td>8</td>\n",
       "      <td>0.000000</td>\n",
       "      <td>5.959208</td>\n",
       "      <td>127.510927</td>\n",
       "      <td>0.003935</td>\n",
       "      <td>71.5</td>\n",
       "      <td>0.0</td>\n",
       "      <td>8.275</td>\n",
       "      <td>0.000025</td>\n",
       "      <td>283.690186</td>\n",
       "      <td>...</td>\n",
       "      <td>14.997738</td>\n",
       "      <td>59.962311</td>\n",
       "      <td>0.000008</td>\n",
       "      <td>283.690186</td>\n",
       "      <td>0.100000</td>\n",
       "      <td>22.469889</td>\n",
       "      <td>0.847751</td>\n",
       "      <td>0.105969</td>\n",
       "      <td>423.875331</td>\n",
       "      <td>0.0</td>\n",
       "    </tr>\n",
       "  </tbody>\n",
       "</table>\n",
       "<p>5 rows × 23 columns</p>\n",
       "</div>"
      ],
      "text/plain": [
       "                     e_price        CoolA   FanPowerA       HeatA      LigA  \\\n",
       "2014-01-01 00:00:00        8     0.000000    0.000000    0.000000  0.000000   \n",
       "2014-01-01 00:15:00        8  4801.099412  820.402113    0.000000  0.000000   \n",
       "2014-01-01 00:30:00        8     0.000000    5.959208  106.601329  0.019254   \n",
       "2014-01-01 00:45:00        8     0.000000    5.959208  107.862843  0.009312   \n",
       "2014-01-01 01:00:00        8     0.000000    5.959208  127.510927  0.003935   \n",
       "\n",
       "                     OutRH  OutSI  OutTemp         P       P_batt    ...     \\\n",
       "2014-01-01 00:00:00    0.0    0.0    0.000  0.000000     0.000000    ...      \n",
       "2014-01-01 00:15:00   77.0    0.0    9.350  0.000025  1238.181152    ...      \n",
       "2014-01-01 00:30:00   74.0    0.0    9.075  0.000025  -428.277344    ...      \n",
       "2014-01-01 00:45:00   71.0    0.0    8.800  0.000025   391.608643    ...      \n",
       "2014-01-01 01:00:00   71.5    0.0    8.275  0.000025   283.690186    ...      \n",
       "\n",
       "                       CwTempA    HwTempA  LigA_input       P_ctrl     SaFrA  \\\n",
       "2014-01-01 00:00:00   0.000000   0.000000    0.000000     0.000000  0.000000   \n",
       "2014-01-01 00:15:00  15.000000  60.000000    0.000000  1238.181152  1.452485   \n",
       "2014-01-01 00:30:00  14.997832  59.735207    0.000041  -428.277344  0.100000   \n",
       "2014-01-01 00:45:00  14.988341  59.841309    0.000020   391.608643  0.100000   \n",
       "2014-01-01 01:00:00  14.997738  59.962311    0.000008   283.690186  0.100000   \n",
       "\n",
       "                       SaTempA    e_cost  net_energy    net_power  Tcomfort  \n",
       "2014-01-01 00:00:00   0.000000  0.000000    0.000000     0.000000       0.0  \n",
       "2014-01-01 00:15:00  19.614037  7.317899    0.914737  3658.949711       0.0  \n",
       "2014-01-01 00:30:00  22.611010  0.000000   -0.077522  -310.086982       0.0  \n",
       "2014-01-01 00:45:00  22.526129  1.022234    0.127779   511.116972       0.0  \n",
       "2014-01-01 01:00:00  22.469889  0.847751    0.105969   423.875331       0.0  \n",
       "\n",
       "[5 rows x 23 columns]"
      ]
     },
     "execution_count": 100,
     "metadata": {},
     "output_type": "execute_result"
    }
   ],
   "source": [
    "final_df_02 = pd.concat([e_price_2014, obs_df_02, reward_df_02, actions_df_02,e_cost_df_02,net_energy_df_02,net_power_df_02],axis=1)\n",
    "final_df_02[\"Tcomfort\"] = final_df_02[\"reward\"] + final_df_02[\"e_cost\"]\n",
    "final_df_02.head()"
   ]
  },
  {
   "cell_type": "code",
   "execution_count": 106,
   "metadata": {},
   "outputs": [],
   "source": [
    "plot_df(final_df_02, filename='all_columns_ddpg_002.html')"
   ]
  },
  {
   "cell_type": "code",
   "execution_count": 105,
   "metadata": {},
   "outputs": [
    {
     "data": {
      "text/plain": [
       "589.16566097592"
      ]
     },
     "execution_count": 105,
     "metadata": {},
     "output_type": "execute_result"
    }
   ],
   "source": [
    "sum(1.0/1000.0 * (900 / 3600.0)*obs_df_02['P'])"
   ]
  },
  {
   "cell_type": "code",
   "execution_count": 119,
   "metadata": {},
   "outputs": [
    {
     "data": {
      "text/plain": [
       "2976"
      ]
     },
     "execution_count": 119,
     "metadata": {},
     "output_type": "execute_result"
    }
   ],
   "source": [
    "sum(index.month==1)"
   ]
  },
  {
   "cell_type": "code",
   "execution_count": 122,
   "metadata": {},
   "outputs": [
    {
     "data": {
      "text/plain": [
       "7452.840386123038"
      ]
     },
     "execution_count": 122,
     "metadata": {},
     "output_type": "execute_result"
    }
   ],
   "source": [
    "sum(e_cost_df_02['e_cost'])"
   ]
  },
  {
   "cell_type": "code",
   "execution_count": 130,
   "metadata": {},
   "outputs": [],
   "source": [
    "actions_df_03 = pd.read_csv(\"../preds/actions_df_ddpg_003.csv\")\n",
    "reward_df_03 = pd.read_csv(\"../preds/reward_df_ddpg_003.csv\")\n",
    "obs_df_03 = pd.read_csv(\"../preds/obs_df_ddpg_003.csv\")\n",
    "e_cost_df_03 = pd.read_csv(\"../preds/e_costs_df_ddpg_003.csv\")\n",
    "net_energy_df_03 = pd.read_csv(\"../preds/net_energy_df_ddpg_003.csv\")\n",
    "net_power_df_03 = pd.read_csv(\"../preds/net_power_df_ddpg_003.csv\")\n",
    "\n",
    "\n",
    "actions_df_03.index = pd.to_datetime(index)\n",
    "reward_df_03.index = pd.to_datetime(index)\n",
    "obs_df_03.index = pd.to_datetime(index)\n",
    "e_cost_df_03.index = pd.to_datetime(index)\n",
    "net_energy_df_03.index = pd.to_datetime(index)\n",
    "net_power_df_03.index = pd.to_datetime(index)\n",
    "\n",
    "e_price_2014 = pd.read_csv(\"../e_tariffs/e_price_2014.csv\", index_col=0, parse_dates=True)\n",
    "e_price_2014.index = pd.to_datetime(e_price_2014.index)"
   ]
  },
  {
   "cell_type": "code",
   "execution_count": 131,
   "metadata": {},
   "outputs": [
    {
     "data": {
      "text/html": [
       "<div>\n",
       "<style scoped>\n",
       "    .dataframe tbody tr th:only-of-type {\n",
       "        vertical-align: middle;\n",
       "    }\n",
       "\n",
       "    .dataframe tbody tr th {\n",
       "        vertical-align: top;\n",
       "    }\n",
       "\n",
       "    .dataframe thead th {\n",
       "        text-align: right;\n",
       "    }\n",
       "</style>\n",
       "<table border=\"1\" class=\"dataframe\">\n",
       "  <thead>\n",
       "    <tr style=\"text-align: right;\">\n",
       "      <th></th>\n",
       "      <th>e_price</th>\n",
       "      <th>CoolA</th>\n",
       "      <th>FanPowerA</th>\n",
       "      <th>HeatA</th>\n",
       "      <th>LigA</th>\n",
       "      <th>OutRH</th>\n",
       "      <th>OutSI</th>\n",
       "      <th>OutTemp</th>\n",
       "      <th>P</th>\n",
       "      <th>P_batt</th>\n",
       "      <th>...</th>\n",
       "      <th>CwTempA</th>\n",
       "      <th>HwTempA</th>\n",
       "      <th>LigA_input</th>\n",
       "      <th>P_ctrl</th>\n",
       "      <th>SaFrA</th>\n",
       "      <th>SaTempA</th>\n",
       "      <th>e_cost</th>\n",
       "      <th>net_energy</th>\n",
       "      <th>net_power</th>\n",
       "      <th>Tcomfort</th>\n",
       "    </tr>\n",
       "  </thead>\n",
       "  <tbody>\n",
       "    <tr>\n",
       "      <th>2014-01-01 00:00:00</th>\n",
       "      <td>8</td>\n",
       "      <td>0.000000</td>\n",
       "      <td>0.000000</td>\n",
       "      <td>0.000000</td>\n",
       "      <td>0.000000</td>\n",
       "      <td>0.0</td>\n",
       "      <td>0.0</td>\n",
       "      <td>0.000</td>\n",
       "      <td>0.000000</td>\n",
       "      <td>0.000000</td>\n",
       "      <td>...</td>\n",
       "      <td>0.000000</td>\n",
       "      <td>0.000000</td>\n",
       "      <td>0.000000e+00</td>\n",
       "      <td>0.000000</td>\n",
       "      <td>0.000000</td>\n",
       "      <td>0.000000</td>\n",
       "      <td>0.000000</td>\n",
       "      <td>0.000000</td>\n",
       "      <td>0.000000</td>\n",
       "      <td>0.0</td>\n",
       "    </tr>\n",
       "    <tr>\n",
       "      <th>2014-01-01 00:15:00</th>\n",
       "      <td>8</td>\n",
       "      <td>3131.904426</td>\n",
       "      <td>348.827959</td>\n",
       "      <td>0.000000</td>\n",
       "      <td>0.000000</td>\n",
       "      <td>77.0</td>\n",
       "      <td>0.0</td>\n",
       "      <td>9.350</td>\n",
       "      <td>0.000076</td>\n",
       "      <td>1497.518555</td>\n",
       "      <td>...</td>\n",
       "      <td>14.725409</td>\n",
       "      <td>30.000029</td>\n",
       "      <td>0.000000e+00</td>\n",
       "      <td>1497.518555</td>\n",
       "      <td>0.926387</td>\n",
       "      <td>19.905361</td>\n",
       "      <td>5.780629</td>\n",
       "      <td>0.722579</td>\n",
       "      <td>2890.314579</td>\n",
       "      <td>0.0</td>\n",
       "    </tr>\n",
       "    <tr>\n",
       "      <th>2014-01-01 00:30:00</th>\n",
       "      <td>8</td>\n",
       "      <td>0.000000</td>\n",
       "      <td>5.959208</td>\n",
       "      <td>68.248168</td>\n",
       "      <td>0.000042</td>\n",
       "      <td>74.0</td>\n",
       "      <td>0.0</td>\n",
       "      <td>9.075</td>\n",
       "      <td>0.000076</td>\n",
       "      <td>963.329590</td>\n",
       "      <td>...</td>\n",
       "      <td>6.594240</td>\n",
       "      <td>30.001255</td>\n",
       "      <td>8.940697e-08</td>\n",
       "      <td>963.329590</td>\n",
       "      <td>0.100000</td>\n",
       "      <td>22.654282</td>\n",
       "      <td>2.082258</td>\n",
       "      <td>0.260282</td>\n",
       "      <td>1041.128940</td>\n",
       "      <td>0.0</td>\n",
       "    </tr>\n",
       "    <tr>\n",
       "      <th>2014-01-01 00:45:00</th>\n",
       "      <td>8</td>\n",
       "      <td>0.000000</td>\n",
       "      <td>5.959208</td>\n",
       "      <td>117.700811</td>\n",
       "      <td>0.000056</td>\n",
       "      <td>71.0</td>\n",
       "      <td>0.0</td>\n",
       "      <td>8.800</td>\n",
       "      <td>0.000076</td>\n",
       "      <td>726.354492</td>\n",
       "      <td>...</td>\n",
       "      <td>8.483440</td>\n",
       "      <td>30.003717</td>\n",
       "      <td>1.192093e-07</td>\n",
       "      <td>726.354492</td>\n",
       "      <td>0.100000</td>\n",
       "      <td>22.982313</td>\n",
       "      <td>1.712419</td>\n",
       "      <td>0.214052</td>\n",
       "      <td>856.209270</td>\n",
       "      <td>0.0</td>\n",
       "    </tr>\n",
       "    <tr>\n",
       "      <th>2014-01-01 01:00:00</th>\n",
       "      <td>8</td>\n",
       "      <td>0.000000</td>\n",
       "      <td>5.959208</td>\n",
       "      <td>192.134065</td>\n",
       "      <td>0.000042</td>\n",
       "      <td>71.5</td>\n",
       "      <td>0.0</td>\n",
       "      <td>8.275</td>\n",
       "      <td>0.000076</td>\n",
       "      <td>553.326660</td>\n",
       "      <td>...</td>\n",
       "      <td>10.977774</td>\n",
       "      <td>30.010880</td>\n",
       "      <td>8.940697e-08</td>\n",
       "      <td>553.326660</td>\n",
       "      <td>0.100000</td>\n",
       "      <td>23.146002</td>\n",
       "      <td>1.523064</td>\n",
       "      <td>0.190383</td>\n",
       "      <td>761.532218</td>\n",
       "      <td>0.0</td>\n",
       "    </tr>\n",
       "  </tbody>\n",
       "</table>\n",
       "<p>5 rows × 23 columns</p>\n",
       "</div>"
      ],
      "text/plain": [
       "                     e_price        CoolA   FanPowerA       HeatA      LigA  \\\n",
       "2014-01-01 00:00:00        8     0.000000    0.000000    0.000000  0.000000   \n",
       "2014-01-01 00:15:00        8  3131.904426  348.827959    0.000000  0.000000   \n",
       "2014-01-01 00:30:00        8     0.000000    5.959208   68.248168  0.000042   \n",
       "2014-01-01 00:45:00        8     0.000000    5.959208  117.700811  0.000056   \n",
       "2014-01-01 01:00:00        8     0.000000    5.959208  192.134065  0.000042   \n",
       "\n",
       "                     OutRH  OutSI  OutTemp         P       P_batt    ...     \\\n",
       "2014-01-01 00:00:00    0.0    0.0    0.000  0.000000     0.000000    ...      \n",
       "2014-01-01 00:15:00   77.0    0.0    9.350  0.000076  1497.518555    ...      \n",
       "2014-01-01 00:30:00   74.0    0.0    9.075  0.000076   963.329590    ...      \n",
       "2014-01-01 00:45:00   71.0    0.0    8.800  0.000076   726.354492    ...      \n",
       "2014-01-01 01:00:00   71.5    0.0    8.275  0.000076   553.326660    ...      \n",
       "\n",
       "                       CwTempA    HwTempA    LigA_input       P_ctrl  \\\n",
       "2014-01-01 00:00:00   0.000000   0.000000  0.000000e+00     0.000000   \n",
       "2014-01-01 00:15:00  14.725409  30.000029  0.000000e+00  1497.518555   \n",
       "2014-01-01 00:30:00   6.594240  30.001255  8.940697e-08   963.329590   \n",
       "2014-01-01 00:45:00   8.483440  30.003717  1.192093e-07   726.354492   \n",
       "2014-01-01 01:00:00  10.977774  30.010880  8.940697e-08   553.326660   \n",
       "\n",
       "                        SaFrA    SaTempA    e_cost  net_energy    net_power  \\\n",
       "2014-01-01 00:00:00  0.000000   0.000000  0.000000    0.000000     0.000000   \n",
       "2014-01-01 00:15:00  0.926387  19.905361  5.780629    0.722579  2890.314579   \n",
       "2014-01-01 00:30:00  0.100000  22.654282  2.082258    0.260282  1041.128940   \n",
       "2014-01-01 00:45:00  0.100000  22.982313  1.712419    0.214052   856.209270   \n",
       "2014-01-01 01:00:00  0.100000  23.146002  1.523064    0.190383   761.532218   \n",
       "\n",
       "                     Tcomfort  \n",
       "2014-01-01 00:00:00       0.0  \n",
       "2014-01-01 00:15:00       0.0  \n",
       "2014-01-01 00:30:00       0.0  \n",
       "2014-01-01 00:45:00       0.0  \n",
       "2014-01-01 01:00:00       0.0  \n",
       "\n",
       "[5 rows x 23 columns]"
      ]
     },
     "execution_count": 131,
     "metadata": {},
     "output_type": "execute_result"
    }
   ],
   "source": [
    "final_df_03 = pd.concat([e_price_2014, obs_df_03, reward_df_03, actions_df_03,e_cost_df_03,net_energy_df_03,net_power_df_03],axis=1)\n",
    "final_df_03[\"Tcomfort\"] = final_df_03[\"reward\"] + final_df_03[\"e_cost\"]\n",
    "final_df_03.head()\n",
    "\n",
    "\n",
    "\n"
   ]
  },
  {
   "cell_type": "code",
   "execution_count": 124,
   "metadata": {},
   "outputs": [
    {
     "data": {
      "text/plain": [
       "5789.7353647361415"
      ]
     },
     "execution_count": 124,
     "metadata": {},
     "output_type": "execute_result"
    }
   ],
   "source": [
    "sum(e_cost_df_03['e_cost'])"
   ]
  },
  {
   "cell_type": "code",
   "execution_count": 126,
   "metadata": {},
   "outputs": [],
   "source": [
    "plot_df(final_df_03, filename='all_columns_ddpg_003.html')"
   ]
  },
  {
   "cell_type": "code",
   "execution_count": null,
   "metadata": {},
   "outputs": [],
   "source": []
  },
  {
   "cell_type": "code",
   "execution_count": null,
   "metadata": {},
   "outputs": [],
   "source": []
  },
  {
   "cell_type": "code",
   "execution_count": null,
   "metadata": {},
   "outputs": [],
   "source": []
  },
  {
   "cell_type": "code",
   "execution_count": 132,
   "metadata": {},
   "outputs": [],
   "source": [
    "actions_df_04 = pd.read_csv(\"../preds/actions_df_dp4g_001.csv\")\n",
    "reward_df_04 = pd.read_csv(\"../preds/reward_df_dp4g_001.csv\")\n",
    "obs_df_04 = pd.read_csv(\"../preds/obs_df_dp4g_001.csv\")\n",
    "e_cost_df_04 = pd.read_csv(\"../preds/e_costs_df_dp4g_001.csv\")\n",
    "net_energy_df_04 = pd.read_csv(\"../preds/net_energy_df_dp4g_001.csv\")\n",
    "net_power_df_04 = pd.read_csv(\"../preds/net_power_df_dp4g_001.csv\")\n",
    "\n",
    "\n",
    "actions_df_04.index = pd.to_datetime(index)\n",
    "reward_df_04.index = pd.to_datetime(index)\n",
    "obs_df_04.index = pd.to_datetime(index)\n",
    "e_cost_df_04.index = pd.to_datetime(index)\n",
    "net_energy_df_04.index = pd.to_datetime(index)\n",
    "net_power_df_04.index = pd.to_datetime(index)\n",
    "\n",
    "e_price_2014 = pd.read_csv(\"../e_tariffs/e_price_2014.csv\", index_col=0, parse_dates=True)\n",
    "e_price_2014.index = pd.to_datetime(e_price_2014.index)"
   ]
  },
  {
   "cell_type": "code",
   "execution_count": 133,
   "metadata": {},
   "outputs": [
    {
     "data": {
      "text/html": [
       "<div>\n",
       "<style scoped>\n",
       "    .dataframe tbody tr th:only-of-type {\n",
       "        vertical-align: middle;\n",
       "    }\n",
       "\n",
       "    .dataframe tbody tr th {\n",
       "        vertical-align: top;\n",
       "    }\n",
       "\n",
       "    .dataframe thead th {\n",
       "        text-align: right;\n",
       "    }\n",
       "</style>\n",
       "<table border=\"1\" class=\"dataframe\">\n",
       "  <thead>\n",
       "    <tr style=\"text-align: right;\">\n",
       "      <th></th>\n",
       "      <th>e_price</th>\n",
       "      <th>CoolA</th>\n",
       "      <th>FanPowerA</th>\n",
       "      <th>HeatA</th>\n",
       "      <th>LigA</th>\n",
       "      <th>OutRH</th>\n",
       "      <th>OutSI</th>\n",
       "      <th>OutTemp</th>\n",
       "      <th>P</th>\n",
       "      <th>P_batt</th>\n",
       "      <th>...</th>\n",
       "      <th>CwTempA</th>\n",
       "      <th>HwTempA</th>\n",
       "      <th>LigA_input</th>\n",
       "      <th>P_ctrl</th>\n",
       "      <th>SaFrA</th>\n",
       "      <th>SaTempA</th>\n",
       "      <th>e_cost</th>\n",
       "      <th>net_energy</th>\n",
       "      <th>net_power</th>\n",
       "      <th>Tcomfort</th>\n",
       "    </tr>\n",
       "  </thead>\n",
       "  <tbody>\n",
       "    <tr>\n",
       "      <th>2014-01-01 00:00:00</th>\n",
       "      <td>8</td>\n",
       "      <td>0.000000</td>\n",
       "      <td>0.000000</td>\n",
       "      <td>0.0</td>\n",
       "      <td>0.0</td>\n",
       "      <td>0.0</td>\n",
       "      <td>0.0</td>\n",
       "      <td>0.000</td>\n",
       "      <td>0.000000</td>\n",
       "      <td>0.000000</td>\n",
       "      <td>...</td>\n",
       "      <td>0.000000</td>\n",
       "      <td>0.000000</td>\n",
       "      <td>0.0</td>\n",
       "      <td>0.000000</td>\n",
       "      <td>0.0</td>\n",
       "      <td>0.000000</td>\n",
       "      <td>0.000000</td>\n",
       "      <td>0.000000</td>\n",
       "      <td>0.000000</td>\n",
       "      <td>0.0</td>\n",
       "    </tr>\n",
       "    <tr>\n",
       "      <th>2014-01-01 00:15:00</th>\n",
       "      <td>8</td>\n",
       "      <td>392.756673</td>\n",
       "      <td>5.959208</td>\n",
       "      <td>0.0</td>\n",
       "      <td>0.0</td>\n",
       "      <td>77.0</td>\n",
       "      <td>0.0</td>\n",
       "      <td>9.350</td>\n",
       "      <td>0.000076</td>\n",
       "      <td>209.331055</td>\n",
       "      <td>...</td>\n",
       "      <td>8.695532</td>\n",
       "      <td>32.012581</td>\n",
       "      <td>0.0</td>\n",
       "      <td>209.331055</td>\n",
       "      <td>0.1</td>\n",
       "      <td>19.519541</td>\n",
       "      <td>0.692418</td>\n",
       "      <td>0.086552</td>\n",
       "      <td>346.209077</td>\n",
       "      <td>0.0</td>\n",
       "    </tr>\n",
       "    <tr>\n",
       "      <th>2014-01-01 00:30:00</th>\n",
       "      <td>8</td>\n",
       "      <td>240.776034</td>\n",
       "      <td>5.959208</td>\n",
       "      <td>0.0</td>\n",
       "      <td>0.0</td>\n",
       "      <td>74.0</td>\n",
       "      <td>0.0</td>\n",
       "      <td>9.075</td>\n",
       "      <td>0.000076</td>\n",
       "      <td>186.275146</td>\n",
       "      <td>...</td>\n",
       "      <td>5.845575</td>\n",
       "      <td>38.187225</td>\n",
       "      <td>0.0</td>\n",
       "      <td>186.275146</td>\n",
       "      <td>0.1</td>\n",
       "      <td>19.709927</td>\n",
       "      <td>0.544986</td>\n",
       "      <td>0.068123</td>\n",
       "      <td>272.492956</td>\n",
       "      <td>0.0</td>\n",
       "    </tr>\n",
       "    <tr>\n",
       "      <th>2014-01-01 00:45:00</th>\n",
       "      <td>8</td>\n",
       "      <td>236.845124</td>\n",
       "      <td>5.959208</td>\n",
       "      <td>0.0</td>\n",
       "      <td>0.0</td>\n",
       "      <td>71.0</td>\n",
       "      <td>0.0</td>\n",
       "      <td>8.800</td>\n",
       "      <td>0.000076</td>\n",
       "      <td>180.381348</td>\n",
       "      <td>...</td>\n",
       "      <td>7.580124</td>\n",
       "      <td>39.136982</td>\n",
       "      <td>0.0</td>\n",
       "      <td>180.381348</td>\n",
       "      <td>0.1</td>\n",
       "      <td>19.290043</td>\n",
       "      <td>0.530578</td>\n",
       "      <td>0.066322</td>\n",
       "      <td>265.288854</td>\n",
       "      <td>0.0</td>\n",
       "    </tr>\n",
       "    <tr>\n",
       "      <th>2014-01-01 01:00:00</th>\n",
       "      <td>8</td>\n",
       "      <td>205.952123</td>\n",
       "      <td>5.959208</td>\n",
       "      <td>0.0</td>\n",
       "      <td>0.0</td>\n",
       "      <td>71.5</td>\n",
       "      <td>0.0</td>\n",
       "      <td>8.275</td>\n",
       "      <td>0.000076</td>\n",
       "      <td>140.893555</td>\n",
       "      <td>...</td>\n",
       "      <td>10.559698</td>\n",
       "      <td>34.039646</td>\n",
       "      <td>0.0</td>\n",
       "      <td>140.893555</td>\n",
       "      <td>0.1</td>\n",
       "      <td>19.191328</td>\n",
       "      <td>0.431007</td>\n",
       "      <td>0.053876</td>\n",
       "      <td>215.503394</td>\n",
       "      <td>0.0</td>\n",
       "    </tr>\n",
       "  </tbody>\n",
       "</table>\n",
       "<p>5 rows × 23 columns</p>\n",
       "</div>"
      ],
      "text/plain": [
       "                     e_price       CoolA  FanPowerA  HeatA  LigA  OutRH  \\\n",
       "2014-01-01 00:00:00        8    0.000000   0.000000    0.0   0.0    0.0   \n",
       "2014-01-01 00:15:00        8  392.756673   5.959208    0.0   0.0   77.0   \n",
       "2014-01-01 00:30:00        8  240.776034   5.959208    0.0   0.0   74.0   \n",
       "2014-01-01 00:45:00        8  236.845124   5.959208    0.0   0.0   71.0   \n",
       "2014-01-01 01:00:00        8  205.952123   5.959208    0.0   0.0   71.5   \n",
       "\n",
       "                     OutSI  OutTemp         P      P_batt    ...     \\\n",
       "2014-01-01 00:00:00    0.0    0.000  0.000000    0.000000    ...      \n",
       "2014-01-01 00:15:00    0.0    9.350  0.000076  209.331055    ...      \n",
       "2014-01-01 00:30:00    0.0    9.075  0.000076  186.275146    ...      \n",
       "2014-01-01 00:45:00    0.0    8.800  0.000076  180.381348    ...      \n",
       "2014-01-01 01:00:00    0.0    8.275  0.000076  140.893555    ...      \n",
       "\n",
       "                       CwTempA    HwTempA  LigA_input      P_ctrl  SaFrA  \\\n",
       "2014-01-01 00:00:00   0.000000   0.000000         0.0    0.000000    0.0   \n",
       "2014-01-01 00:15:00   8.695532  32.012581         0.0  209.331055    0.1   \n",
       "2014-01-01 00:30:00   5.845575  38.187225         0.0  186.275146    0.1   \n",
       "2014-01-01 00:45:00   7.580124  39.136982         0.0  180.381348    0.1   \n",
       "2014-01-01 01:00:00  10.559698  34.039646         0.0  140.893555    0.1   \n",
       "\n",
       "                       SaTempA    e_cost  net_energy   net_power  Tcomfort  \n",
       "2014-01-01 00:00:00   0.000000  0.000000    0.000000    0.000000       0.0  \n",
       "2014-01-01 00:15:00  19.519541  0.692418    0.086552  346.209077       0.0  \n",
       "2014-01-01 00:30:00  19.709927  0.544986    0.068123  272.492956       0.0  \n",
       "2014-01-01 00:45:00  19.290043  0.530578    0.066322  265.288854       0.0  \n",
       "2014-01-01 01:00:00  19.191328  0.431007    0.053876  215.503394       0.0  \n",
       "\n",
       "[5 rows x 23 columns]"
      ]
     },
     "execution_count": 133,
     "metadata": {},
     "output_type": "execute_result"
    }
   ],
   "source": [
    "final_df_04 = pd.concat([e_price_2014, obs_df_04, reward_df_04, actions_df_04,e_cost_df_04,net_energy_df_04,net_power_df_04],axis=1)\n",
    "final_df_04[\"Tcomfort\"] = final_df_04[\"reward\"] + final_df_04[\"e_cost\"]\n",
    "final_df_04.head()\n"
   ]
  },
  {
   "cell_type": "code",
   "execution_count": 129,
   "metadata": {},
   "outputs": [],
   "source": [
    "plot_df(final_df_03, filename='all_columns_d4pg_001.html')"
   ]
  },
  {
   "cell_type": "code",
   "execution_count": null,
   "metadata": {},
   "outputs": [],
   "source": []
  },
  {
   "cell_type": "code",
   "execution_count": 140,
   "metadata": {},
   "outputs": [],
   "source": [
    "actions_df_05 = pd.read_csv(\"../preds/actions_df_dp4g_002.csv\")\n",
    "reward_df_05 = pd.read_csv(\"../preds/reward_df_dp4g_002.csv\")\n",
    "obs_df_05 = pd.read_csv(\"../preds/obs_df_dp4g_002.csv\")\n",
    "e_cost_df_05 = pd.read_csv(\"../preds/e_costs_df_dp4g_002.csv\")\n",
    "net_energy_df_05 = pd.read_csv(\"../preds/net_energy_df_dp4g_002.csv\")\n",
    "net_power_df_05 = pd.read_csv(\"../preds/net_power_df_dp4g_002.csv\")\n",
    "\n",
    "\n",
    "actions_df_05.index = pd.to_datetime(index)\n",
    "reward_df_05.index = pd.to_datetime(index)\n",
    "obs_df_05.index = pd.to_datetime(index)\n",
    "e_cost_df_05.index = pd.to_datetime(index)\n",
    "net_energy_df_05.index = pd.to_datetime(index)\n",
    "net_power_df_05.index = pd.to_datetime(index)\n",
    "\n",
    "e_price_2014 = pd.read_csv(\"../e_tariffs/e_price_2014.csv\", index_col=0, parse_dates=True)\n",
    "e_price_2014.index = pd.to_datetime(e_price_2014.index)"
   ]
  },
  {
   "cell_type": "code",
   "execution_count": 141,
   "metadata": {},
   "outputs": [
    {
     "data": {
      "text/html": [
       "<div>\n",
       "<style scoped>\n",
       "    .dataframe tbody tr th:only-of-type {\n",
       "        vertical-align: middle;\n",
       "    }\n",
       "\n",
       "    .dataframe tbody tr th {\n",
       "        vertical-align: top;\n",
       "    }\n",
       "\n",
       "    .dataframe thead th {\n",
       "        text-align: right;\n",
       "    }\n",
       "</style>\n",
       "<table border=\"1\" class=\"dataframe\">\n",
       "  <thead>\n",
       "    <tr style=\"text-align: right;\">\n",
       "      <th></th>\n",
       "      <th>e_price</th>\n",
       "      <th>CoolA</th>\n",
       "      <th>FanPowerA</th>\n",
       "      <th>HeatA</th>\n",
       "      <th>LigA</th>\n",
       "      <th>OutRH</th>\n",
       "      <th>OutSI</th>\n",
       "      <th>OutTemp</th>\n",
       "      <th>P</th>\n",
       "      <th>P_batt</th>\n",
       "      <th>...</th>\n",
       "      <th>CwTempA</th>\n",
       "      <th>HwTempA</th>\n",
       "      <th>LigA_input</th>\n",
       "      <th>P_ctrl</th>\n",
       "      <th>SaFrA</th>\n",
       "      <th>SaTempA</th>\n",
       "      <th>e_cost</th>\n",
       "      <th>net_energy</th>\n",
       "      <th>net_power</th>\n",
       "      <th>Tcomfort</th>\n",
       "    </tr>\n",
       "  </thead>\n",
       "  <tbody>\n",
       "    <tr>\n",
       "      <th>2014-01-01 00:00:00</th>\n",
       "      <td>8</td>\n",
       "      <td>0.000000</td>\n",
       "      <td>0.000000</td>\n",
       "      <td>0.000000</td>\n",
       "      <td>0.0</td>\n",
       "      <td>0.0</td>\n",
       "      <td>0.0</td>\n",
       "      <td>0.000</td>\n",
       "      <td>0.000000</td>\n",
       "      <td>0.000000</td>\n",
       "      <td>...</td>\n",
       "      <td>0.000000</td>\n",
       "      <td>0.000000</td>\n",
       "      <td>0.0</td>\n",
       "      <td>0.000000</td>\n",
       "      <td>0.0</td>\n",
       "      <td>0.000000</td>\n",
       "      <td>0.000000</td>\n",
       "      <td>0.000000</td>\n",
       "      <td>0.000000</td>\n",
       "      <td>0.0</td>\n",
       "    </tr>\n",
       "    <tr>\n",
       "      <th>2014-01-01 00:15:00</th>\n",
       "      <td>8</td>\n",
       "      <td>911.880717</td>\n",
       "      <td>5.959208</td>\n",
       "      <td>0.000000</td>\n",
       "      <td>0.0</td>\n",
       "      <td>77.0</td>\n",
       "      <td>0.0</td>\n",
       "      <td>9.350</td>\n",
       "      <td>0.000076</td>\n",
       "      <td>680.480957</td>\n",
       "      <td>...</td>\n",
       "      <td>12.886711</td>\n",
       "      <td>30.000334</td>\n",
       "      <td>0.0</td>\n",
       "      <td>680.480957</td>\n",
       "      <td>0.1</td>\n",
       "      <td>14.124861</td>\n",
       "      <td>1.980801</td>\n",
       "      <td>0.247600</td>\n",
       "      <td>990.400328</td>\n",
       "      <td>0.0</td>\n",
       "    </tr>\n",
       "    <tr>\n",
       "      <th>2014-01-01 00:30:00</th>\n",
       "      <td>8</td>\n",
       "      <td>3.687590</td>\n",
       "      <td>5.959208</td>\n",
       "      <td>45.657579</td>\n",
       "      <td>0.0</td>\n",
       "      <td>74.0</td>\n",
       "      <td>0.0</td>\n",
       "      <td>9.075</td>\n",
       "      <td>0.000076</td>\n",
       "      <td>25.005859</td>\n",
       "      <td>...</td>\n",
       "      <td>7.242727</td>\n",
       "      <td>30.311638</td>\n",
       "      <td>0.0</td>\n",
       "      <td>25.005859</td>\n",
       "      <td>0.1</td>\n",
       "      <td>22.480274</td>\n",
       "      <td>0.160510</td>\n",
       "      <td>0.020064</td>\n",
       "      <td>80.254798</td>\n",
       "      <td>0.0</td>\n",
       "    </tr>\n",
       "    <tr>\n",
       "      <th>2014-01-01 00:45:00</th>\n",
       "      <td>8</td>\n",
       "      <td>8.305599</td>\n",
       "      <td>5.959208</td>\n",
       "      <td>0.000000</td>\n",
       "      <td>0.0</td>\n",
       "      <td>71.0</td>\n",
       "      <td>0.0</td>\n",
       "      <td>8.800</td>\n",
       "      <td>0.000076</td>\n",
       "      <td>-13.482422</td>\n",
       "      <td>...</td>\n",
       "      <td>9.572248</td>\n",
       "      <td>30.075930</td>\n",
       "      <td>0.0</td>\n",
       "      <td>-13.482422</td>\n",
       "      <td>0.1</td>\n",
       "      <td>21.782476</td>\n",
       "      <td>0.000000</td>\n",
       "      <td>-0.001189</td>\n",
       "      <td>-4.754757</td>\n",
       "      <td>0.0</td>\n",
       "    </tr>\n",
       "    <tr>\n",
       "      <th>2014-01-01 01:00:00</th>\n",
       "      <td>8</td>\n",
       "      <td>0.000000</td>\n",
       "      <td>5.959208</td>\n",
       "      <td>26.981024</td>\n",
       "      <td>0.0</td>\n",
       "      <td>71.5</td>\n",
       "      <td>0.0</td>\n",
       "      <td>8.275</td>\n",
       "      <td>0.000076</td>\n",
       "      <td>51.837891</td>\n",
       "      <td>...</td>\n",
       "      <td>9.589709</td>\n",
       "      <td>30.088264</td>\n",
       "      <td>0.0</td>\n",
       "      <td>51.837891</td>\n",
       "      <td>0.1</td>\n",
       "      <td>21.689850</td>\n",
       "      <td>0.172396</td>\n",
       "      <td>0.021550</td>\n",
       "      <td>86.198100</td>\n",
       "      <td>0.0</td>\n",
       "    </tr>\n",
       "  </tbody>\n",
       "</table>\n",
       "<p>5 rows × 23 columns</p>\n",
       "</div>"
      ],
      "text/plain": [
       "                     e_price       CoolA  FanPowerA      HeatA  LigA  OutRH  \\\n",
       "2014-01-01 00:00:00        8    0.000000   0.000000   0.000000   0.0    0.0   \n",
       "2014-01-01 00:15:00        8  911.880717   5.959208   0.000000   0.0   77.0   \n",
       "2014-01-01 00:30:00        8    3.687590   5.959208  45.657579   0.0   74.0   \n",
       "2014-01-01 00:45:00        8    8.305599   5.959208   0.000000   0.0   71.0   \n",
       "2014-01-01 01:00:00        8    0.000000   5.959208  26.981024   0.0   71.5   \n",
       "\n",
       "                     OutSI  OutTemp         P      P_batt    ...     \\\n",
       "2014-01-01 00:00:00    0.0    0.000  0.000000    0.000000    ...      \n",
       "2014-01-01 00:15:00    0.0    9.350  0.000076  680.480957    ...      \n",
       "2014-01-01 00:30:00    0.0    9.075  0.000076   25.005859    ...      \n",
       "2014-01-01 00:45:00    0.0    8.800  0.000076  -13.482422    ...      \n",
       "2014-01-01 01:00:00    0.0    8.275  0.000076   51.837891    ...      \n",
       "\n",
       "                       CwTempA    HwTempA  LigA_input      P_ctrl  SaFrA  \\\n",
       "2014-01-01 00:00:00   0.000000   0.000000         0.0    0.000000    0.0   \n",
       "2014-01-01 00:15:00  12.886711  30.000334         0.0  680.480957    0.1   \n",
       "2014-01-01 00:30:00   7.242727  30.311638         0.0   25.005859    0.1   \n",
       "2014-01-01 00:45:00   9.572248  30.075930         0.0  -13.482422    0.1   \n",
       "2014-01-01 01:00:00   9.589709  30.088264         0.0   51.837891    0.1   \n",
       "\n",
       "                       SaTempA    e_cost  net_energy   net_power  Tcomfort  \n",
       "2014-01-01 00:00:00   0.000000  0.000000    0.000000    0.000000       0.0  \n",
       "2014-01-01 00:15:00  14.124861  1.980801    0.247600  990.400328       0.0  \n",
       "2014-01-01 00:30:00  22.480274  0.160510    0.020064   80.254798       0.0  \n",
       "2014-01-01 00:45:00  21.782476  0.000000   -0.001189   -4.754757       0.0  \n",
       "2014-01-01 01:00:00  21.689850  0.172396    0.021550   86.198100       0.0  \n",
       "\n",
       "[5 rows x 23 columns]"
      ]
     },
     "execution_count": 141,
     "metadata": {},
     "output_type": "execute_result"
    }
   ],
   "source": [
    "final_df_05 = pd.concat([e_price_2014, obs_df_05, reward_df_05, actions_df_05,e_cost_df_05,net_energy_df_05,net_power_df_05],axis=1)\n",
    "final_df_05[\"Tcomfort\"] = final_df_05[\"reward\"] + final_df_05[\"e_cost\"]\n",
    "final_df_05.head()"
   ]
  },
  {
   "cell_type": "code",
   "execution_count": null,
   "metadata": {},
   "outputs": [],
   "source": [
    "#plot_df(final_df_05, filename='all_columns_d4pg_002.html')"
   ]
  },
  {
   "cell_type": "code",
   "execution_count": null,
   "metadata": {},
   "outputs": [],
   "source": []
  },
  {
   "cell_type": "code",
   "execution_count": null,
   "metadata": {},
   "outputs": [],
   "source": []
  },
  {
   "cell_type": "code",
   "execution_count": null,
   "metadata": {},
   "outputs": [],
   "source": []
  },
  {
   "cell_type": "code",
   "execution_count": null,
   "metadata": {},
   "outputs": [],
   "source": []
  },
  {
   "cell_type": "code",
   "execution_count": null,
   "metadata": {},
   "outputs": [],
   "source": []
  },
  {
   "cell_type": "code",
   "execution_count": 143,
   "metadata": {},
   "outputs": [],
   "source": [
    "final_df_03.columns = [col+'_DDPG' for col in final_df_03.columns]"
   ]
  },
  {
   "cell_type": "code",
   "execution_count": 144,
   "metadata": {},
   "outputs": [],
   "source": [
    "final_df_04.columns = [col+'_D4PG' for col in final_df_04.columns]"
   ]
  },
  {
   "cell_type": "code",
   "execution_count": 145,
   "metadata": {},
   "outputs": [],
   "source": [
    "final_df_05.columns = [col+'_D4PG_2' for col in final_df_05.columns]"
   ]
  },
  {
   "cell_type": "code",
   "execution_count": 146,
   "metadata": {},
   "outputs": [],
   "source": [
    "final_df_03_04_05 = pd.concat([final_df_03, final_df_04, final_df_05],axis=1)\n"
   ]
  },
  {
   "cell_type": "code",
   "execution_count": 147,
   "metadata": {},
   "outputs": [],
   "source": [
    "plot_df(final_df_03_04_05, filename='all_columns_d4pg_ddpg_001.html')"
   ]
  },
  {
   "cell_type": "code",
   "execution_count": 139,
   "metadata": {},
   "outputs": [
    {
     "data": {
      "text/plain": [
       "1.0"
      ]
     },
     "execution_count": 139,
     "metadata": {},
     "output_type": "execute_result"
    }
   ],
   "source": [
    "Vmax = 25.0\n",
    "Vmin = -25.0\n",
    "N_ATOMS = 51\n",
    "(Vmax - Vmin) / (N_ATOMS - 1)"
   ]
  },
  {
   "cell_type": "code",
   "execution_count": null,
   "metadata": {},
   "outputs": [],
   "source": []
  },
  {
   "cell_type": "code",
   "execution_count": null,
   "metadata": {},
   "outputs": [],
   "source": []
  },
  {
   "cell_type": "code",
   "execution_count": 4,
   "metadata": {},
   "outputs": [],
   "source": [
    "index = pd.date_range(start='1/1/{0}'.format(2017), end='1/1/{0}'.format(2017+1), periods=35040+1)\n",
    "index = index[:-1]"
   ]
  },
  {
   "cell_type": "code",
   "execution_count": 5,
   "metadata": {},
   "outputs": [],
   "source": [
    "actions_df_05 = pd.read_csv(\"../preds/actions_df_ddpg_multienv_001.csv\")\n",
    "reward_df_05 = pd.read_csv(\"../preds/reward_df_ddpg_multienv_001.csv\")\n",
    "obs_df_05 = pd.read_csv(\"../preds/obs_df_ddpg_multienv_001.csv\")\n",
    "e_cost_df_05 = pd.read_csv(\"../preds/e_costs_df_ddpg_multienv_001.csv\")\n",
    "net_energy_df_05 = pd.read_csv(\"../preds/net_energy_df_ddpg_multienv_001.csv\")\n",
    "net_power_df_05 = pd.read_csv(\"../preds/net_power_df_ddpg_multienv_001.csv\")\n",
    "\n",
    "\n",
    "actions_df_05.index = pd.to_datetime(index)\n",
    "reward_df_05.index = pd.to_datetime(index)\n",
    "obs_df_05.index = pd.to_datetime(index)\n",
    "e_cost_df_05.index = pd.to_datetime(index)\n",
    "net_energy_df_05.index = pd.to_datetime(index)\n",
    "net_power_df_05.index = pd.to_datetime(index)\n",
    "\n",
    "e_price_2017 = pd.read_csv(\"../e_tariffs/e_price_2017.csv\", index_col=0, parse_dates=True)\n",
    "e_price_2017.index = pd.to_datetime(e_price_2017.index)"
   ]
  },
  {
   "cell_type": "code",
   "execution_count": 6,
   "metadata": {},
   "outputs": [
    {
     "output_type": "execute_result",
     "data": {
      "text/plain": "                     e_price        CoolA  FanPowerA       HeatA      LigA  \\\n2017-01-01 00:00:00        8     0.000000   0.000000    0.000000  0.000000   \n2017-01-01 00:15:00        8  1265.674598   5.959208    0.000000  0.190790   \n2017-01-01 00:30:00        8     0.000000   5.962376  847.951228  0.000098   \n2017-01-01 00:45:00        8     0.000000   5.959263  874.397427  0.000000   \n2017-01-01 01:00:00        8     0.000000   5.959223  911.471046  0.000000   \n\n                          MelsA  OutRH  OutSI  OutTemp         P    ...     \\\n2017-01-01 00:00:00    0.000000   0.00    0.0    0.000  0.000000    ...      \n2017-01-01 00:15:00  231.403202  76.50    0.0    9.450  0.000076    ...      \n2017-01-01 00:30:00  231.403202  75.25    0.0   10.025  0.000076    ...      \n2017-01-01 00:45:00  231.403202  74.00    0.0   10.600  0.000076    ...      \n2017-01-01 01:00:00  231.403202  73.25    0.0   10.600  0.000076    ...      \n\n                     ZoneTempA    reward    LigA_input       P_ctrl     SaFrA  \\\n2017-01-01 00:00:00   0.000000  0.000000  0.000000e+00     0.000000  0.000000   \n2017-01-01 00:15:00  22.164982 -2.778976  4.060566e-04   730.043457  0.100000   \n2017-01-01 00:30:00  22.835193 -3.609492  2.086163e-07   674.800293  0.100036   \n2017-01-01 00:45:00  22.995536 -4.022111  0.000000e+00   853.274902  0.100001   \n2017-01-01 01:00:00  23.149283 -5.360934  0.000000e+00  1483.661621  0.100000   \n\n                       SaTempA    e_cost  net_energy    net_power  Tcomfort  \n2017-01-01 00:00:00   0.000000  0.000000    0.000000     0.000000       0.0  \n2017-01-01 00:15:00  10.004648  2.778976    0.347372  1389.488113       0.0  \n2017-01-01 00:30:00  30.000000  3.609492    0.451187  1804.746133       0.0  \n2017-01-01 00:45:00  30.000000  4.022111    0.502764  2011.055635       0.0  \n2017-01-01 01:00:00  30.000000  5.360934    0.670117  2680.467176       0.0  \n\n[5 rows x 22 columns]",
      "text/html": "<div>\n<style scoped>\n    .dataframe tbody tr th:only-of-type {\n        vertical-align: middle;\n    }\n\n    .dataframe tbody tr th {\n        vertical-align: top;\n    }\n\n    .dataframe thead th {\n        text-align: right;\n    }\n</style>\n<table border=\"1\" class=\"dataframe\">\n  <thead>\n    <tr style=\"text-align: right;\">\n      <th></th>\n      <th>e_price</th>\n      <th>CoolA</th>\n      <th>FanPowerA</th>\n      <th>HeatA</th>\n      <th>LigA</th>\n      <th>MelsA</th>\n      <th>OutRH</th>\n      <th>OutSI</th>\n      <th>OutTemp</th>\n      <th>P</th>\n      <th>...</th>\n      <th>ZoneTempA</th>\n      <th>reward</th>\n      <th>LigA_input</th>\n      <th>P_ctrl</th>\n      <th>SaFrA</th>\n      <th>SaTempA</th>\n      <th>e_cost</th>\n      <th>net_energy</th>\n      <th>net_power</th>\n      <th>Tcomfort</th>\n    </tr>\n  </thead>\n  <tbody>\n    <tr>\n      <th>2017-01-01 00:00:00</th>\n      <td>8</td>\n      <td>0.000000</td>\n      <td>0.000000</td>\n      <td>0.000000</td>\n      <td>0.000000</td>\n      <td>0.000000</td>\n      <td>0.00</td>\n      <td>0.0</td>\n      <td>0.000</td>\n      <td>0.000000</td>\n      <td>...</td>\n      <td>0.000000</td>\n      <td>0.000000</td>\n      <td>0.000000e+00</td>\n      <td>0.000000</td>\n      <td>0.000000</td>\n      <td>0.000000</td>\n      <td>0.000000</td>\n      <td>0.000000</td>\n      <td>0.000000</td>\n      <td>0.0</td>\n    </tr>\n    <tr>\n      <th>2017-01-01 00:15:00</th>\n      <td>8</td>\n      <td>1265.674598</td>\n      <td>5.959208</td>\n      <td>0.000000</td>\n      <td>0.190790</td>\n      <td>231.403202</td>\n      <td>76.50</td>\n      <td>0.0</td>\n      <td>9.450</td>\n      <td>0.000076</td>\n      <td>...</td>\n      <td>22.164982</td>\n      <td>-2.778976</td>\n      <td>4.060566e-04</td>\n      <td>730.043457</td>\n      <td>0.100000</td>\n      <td>10.004648</td>\n      <td>2.778976</td>\n      <td>0.347372</td>\n      <td>1389.488113</td>\n      <td>0.0</td>\n    </tr>\n    <tr>\n      <th>2017-01-01 00:30:00</th>\n      <td>8</td>\n      <td>0.000000</td>\n      <td>5.962376</td>\n      <td>847.951228</td>\n      <td>0.000098</td>\n      <td>231.403202</td>\n      <td>75.25</td>\n      <td>0.0</td>\n      <td>10.025</td>\n      <td>0.000076</td>\n      <td>...</td>\n      <td>22.835193</td>\n      <td>-3.609492</td>\n      <td>2.086163e-07</td>\n      <td>674.800293</td>\n      <td>0.100036</td>\n      <td>30.000000</td>\n      <td>3.609492</td>\n      <td>0.451187</td>\n      <td>1804.746133</td>\n      <td>0.0</td>\n    </tr>\n    <tr>\n      <th>2017-01-01 00:45:00</th>\n      <td>8</td>\n      <td>0.000000</td>\n      <td>5.959263</td>\n      <td>874.397427</td>\n      <td>0.000000</td>\n      <td>231.403202</td>\n      <td>74.00</td>\n      <td>0.0</td>\n      <td>10.600</td>\n      <td>0.000076</td>\n      <td>...</td>\n      <td>22.995536</td>\n      <td>-4.022111</td>\n      <td>0.000000e+00</td>\n      <td>853.274902</td>\n      <td>0.100001</td>\n      <td>30.000000</td>\n      <td>4.022111</td>\n      <td>0.502764</td>\n      <td>2011.055635</td>\n      <td>0.0</td>\n    </tr>\n    <tr>\n      <th>2017-01-01 01:00:00</th>\n      <td>8</td>\n      <td>0.000000</td>\n      <td>5.959223</td>\n      <td>911.471046</td>\n      <td>0.000000</td>\n      <td>231.403202</td>\n      <td>73.25</td>\n      <td>0.0</td>\n      <td>10.600</td>\n      <td>0.000076</td>\n      <td>...</td>\n      <td>23.149283</td>\n      <td>-5.360934</td>\n      <td>0.000000e+00</td>\n      <td>1483.661621</td>\n      <td>0.100000</td>\n      <td>30.000000</td>\n      <td>5.360934</td>\n      <td>0.670117</td>\n      <td>2680.467176</td>\n      <td>0.0</td>\n    </tr>\n  </tbody>\n</table>\n<p>5 rows × 22 columns</p>\n</div>"
     },
     "metadata": {},
     "execution_count": 6
    }
   ],
   "source": [
    "final_df_05 = pd.concat([e_price_2017, obs_df_05, reward_df_05, actions_df_05,e_cost_df_05,net_energy_df_05,net_power_df_05],axis=1)\n",
    "final_df_05[\"Tcomfort\"] = final_df_05[\"reward\"] + final_df_05[\"e_cost\"]\n",
    "final_df_05.head()"
   ]
  },
  {
   "cell_type": "code",
   "execution_count": 7,
   "metadata": {},
   "outputs": [],
   "source": [
    "plot_df(final_df_05, filename='all_columns_ddpg_multienv_001.html')"
   ]
  },
  {
   "cell_type": "code",
   "execution_count": null,
   "metadata": {},
   "outputs": [],
   "source": []
  },
  {
   "cell_type": "code",
   "execution_count": null,
   "metadata": {},
   "outputs": [],
   "source": []
  },
  {
   "cell_type": "code",
   "execution_count": null,
   "metadata": {},
   "outputs": [],
   "source": []
  },
  {
   "cell_type": "code",
   "execution_count": null,
   "metadata": {},
   "outputs": [],
   "source": []
  },
  {
   "cell_type": "code",
   "execution_count": 14,
   "metadata": {},
   "outputs": [],
   "source": [
    "index = pd.date_range(start='1/1/{0}'.format(2017), end='1/1/{0}'.format(2017+1), periods=35040+1)\n",
    "index = index[:-1]\n",
    "\n",
    "actions_df_05 = pd.read_csv(\"../preds/actions_df_ddpg_multienv_002.csv\")\n",
    "reward_df_05 = pd.read_csv(\"../preds/reward_df_ddpg_multienv_002.csv\")\n",
    "obs_df_05 = pd.read_csv(\"../preds/obs_df_ddpg_multienv_002.csv\")\n",
    "e_cost_df_05 = pd.read_csv(\"../preds/e_costs_df_ddpg_multienv_002.csv\")\n",
    "#net_energy_df_05 = pd.read_csv(\"../preds/net_energy_df_ddpg_multienv_002.csv\")\n",
    "#net_power_df_05 = pd.read_csv(\"../preds/net_power_df_ddpg_multienv_002.csv\")\n",
    "\n",
    "\n",
    "actions_df_05.index = pd.to_datetime(index)\n",
    "reward_df_05.index = pd.to_datetime(index)\n",
    "obs_df_05.index = pd.to_datetime(index)\n",
    "e_cost_df_05.index = pd.to_datetime(index)\n",
    "#net_energy_df_05.index = pd.to_datetime(index)\n",
    "#net_power_df_05.index = pd.to_datetime(index)\n",
    "\n",
    "e_price_2017 = pd.read_csv(\"../e_tariffs/e_price_2017.csv\", index_col=0, parse_dates=True)\n",
    "e_price_2017.index = pd.to_datetime(e_price_2017.index)"
   ]
  },
  {
   "cell_type": "code",
   "execution_count": 15,
   "metadata": {},
   "outputs": [
    {
     "output_type": "execute_result",
     "data": {
      "text/plain": "                     e_price  OutRH  OutSI  OutTemp         P       SOC  \\\n2017-01-01 00:00:00        8   0.00    0.0    0.000  0.000000  0.000000   \n2017-01-01 00:15:00        8  76.50    0.0    9.450  0.000076  0.158111   \n2017-01-01 00:30:00        8  75.25    0.0   10.025  0.000076  0.166136   \n2017-01-01 00:45:00        8  74.00    0.0   10.600  0.000076  0.146912   \n2017-01-01 01:00:00        8  73.25    0.0   10.600  0.000076  0.188077   \n\n                     ZoneTempA  net_energy    net_power        reward  \\\n2017-01-01 00:00:00   0.000000    0.000000     0.000000  0.000000e+00   \n2017-01-01 00:15:00  21.900639    0.700422  2801.688451 -5.611316e+00   \n2017-01-01 00:30:00  24.187396    0.800350  3201.401702 -6.402803e+00   \n2017-01-01 00:45:00  22.160411   -0.030284  -121.134784 -8.905092e-09   \n2017-01-01 01:00:00  22.657226    0.612929  2451.716959 -4.903434e+00   \n\n                     LigA_input       P_ctrl     SaFrA    SaTempA    e_cost  \\\n2017-01-01 00:00:00    0.000000     0.000000  0.000000   0.000000  0.000000   \n2017-01-01 00:15:00    0.063005  1765.517578  0.618509  19.815250  5.603377   \n2017-01-01 00:30:00    0.000000   243.831787  0.883016  25.777170  6.402803   \n2017-01-01 00:45:00    0.000067  -496.872314  0.232357  21.008343  0.000000   \n2017-01-01 01:00:00    0.000124  1250.661621  0.105481  29.932556  4.903434   \n\n                         Tcomfort  \n2017-01-01 00:00:00  0.000000e+00  \n2017-01-01 00:15:00 -7.939238e-03  \n2017-01-01 00:30:00  0.000000e+00  \n2017-01-01 00:45:00 -8.905092e-09  \n2017-01-01 01:00:00 -3.059331e-08  ",
      "text/html": "<div>\n<style scoped>\n    .dataframe tbody tr th:only-of-type {\n        vertical-align: middle;\n    }\n\n    .dataframe tbody tr th {\n        vertical-align: top;\n    }\n\n    .dataframe thead th {\n        text-align: right;\n    }\n</style>\n<table border=\"1\" class=\"dataframe\">\n  <thead>\n    <tr style=\"text-align: right;\">\n      <th></th>\n      <th>e_price</th>\n      <th>OutRH</th>\n      <th>OutSI</th>\n      <th>OutTemp</th>\n      <th>P</th>\n      <th>SOC</th>\n      <th>ZoneTempA</th>\n      <th>net_energy</th>\n      <th>net_power</th>\n      <th>reward</th>\n      <th>LigA_input</th>\n      <th>P_ctrl</th>\n      <th>SaFrA</th>\n      <th>SaTempA</th>\n      <th>e_cost</th>\n      <th>Tcomfort</th>\n    </tr>\n  </thead>\n  <tbody>\n    <tr>\n      <th>2017-01-01 00:00:00</th>\n      <td>8</td>\n      <td>0.00</td>\n      <td>0.0</td>\n      <td>0.000</td>\n      <td>0.000000</td>\n      <td>0.000000</td>\n      <td>0.000000</td>\n      <td>0.000000</td>\n      <td>0.000000</td>\n      <td>0.000000e+00</td>\n      <td>0.000000</td>\n      <td>0.000000</td>\n      <td>0.000000</td>\n      <td>0.000000</td>\n      <td>0.000000</td>\n      <td>0.000000e+00</td>\n    </tr>\n    <tr>\n      <th>2017-01-01 00:15:00</th>\n      <td>8</td>\n      <td>76.50</td>\n      <td>0.0</td>\n      <td>9.450</td>\n      <td>0.000076</td>\n      <td>0.158111</td>\n      <td>21.900639</td>\n      <td>0.700422</td>\n      <td>2801.688451</td>\n      <td>-5.611316e+00</td>\n      <td>0.063005</td>\n      <td>1765.517578</td>\n      <td>0.618509</td>\n      <td>19.815250</td>\n      <td>5.603377</td>\n      <td>-7.939238e-03</td>\n    </tr>\n    <tr>\n      <th>2017-01-01 00:30:00</th>\n      <td>8</td>\n      <td>75.25</td>\n      <td>0.0</td>\n      <td>10.025</td>\n      <td>0.000076</td>\n      <td>0.166136</td>\n      <td>24.187396</td>\n      <td>0.800350</td>\n      <td>3201.401702</td>\n      <td>-6.402803e+00</td>\n      <td>0.000000</td>\n      <td>243.831787</td>\n      <td>0.883016</td>\n      <td>25.777170</td>\n      <td>6.402803</td>\n      <td>0.000000e+00</td>\n    </tr>\n    <tr>\n      <th>2017-01-01 00:45:00</th>\n      <td>8</td>\n      <td>74.00</td>\n      <td>0.0</td>\n      <td>10.600</td>\n      <td>0.000076</td>\n      <td>0.146912</td>\n      <td>22.160411</td>\n      <td>-0.030284</td>\n      <td>-121.134784</td>\n      <td>-8.905092e-09</td>\n      <td>0.000067</td>\n      <td>-496.872314</td>\n      <td>0.232357</td>\n      <td>21.008343</td>\n      <td>0.000000</td>\n      <td>-8.905092e-09</td>\n    </tr>\n    <tr>\n      <th>2017-01-01 01:00:00</th>\n      <td>8</td>\n      <td>73.25</td>\n      <td>0.0</td>\n      <td>10.600</td>\n      <td>0.000076</td>\n      <td>0.188077</td>\n      <td>22.657226</td>\n      <td>0.612929</td>\n      <td>2451.716959</td>\n      <td>-4.903434e+00</td>\n      <td>0.000124</td>\n      <td>1250.661621</td>\n      <td>0.105481</td>\n      <td>29.932556</td>\n      <td>4.903434</td>\n      <td>-3.059331e-08</td>\n    </tr>\n  </tbody>\n</table>\n</div>"
     },
     "metadata": {},
     "execution_count": 15
    }
   ],
   "source": [
    "final_df_05 = pd.concat([e_price_2017, obs_df_05, reward_df_05, actions_df_05,e_cost_df_05],axis=1) #,net_energy_df_05,net_power_df_05\n",
    "final_df_05[\"Tcomfort\"] = final_df_05[\"reward\"] + final_df_05[\"e_cost\"]\n",
    "final_df_05.head()"
   ]
  },
  {
   "cell_type": "code",
   "execution_count": 16,
   "metadata": {},
   "outputs": [],
   "source": [
    "plot_df(final_df_05, filename='all_columns_ddpg_multienv_002.html')"
   ]
  },
  {
   "cell_type": "code",
   "execution_count": null,
   "metadata": {},
   "outputs": [],
   "source": []
  },
  {
   "cell_type": "code",
   "execution_count": 8,
   "metadata": {},
   "outputs": [
    {
     "output_type": "execute_result",
     "data": {
      "text/plain": "                     e_price  OutRH  OutSI  OutTemp        P1        P2  \\\n2017-01-01 00:00:00        8   0.00    0.0    0.000  0.000000  0.000000   \n2017-01-01 00:15:00        8  76.50    0.0    9.450  0.000179  0.000179   \n2017-01-01 00:30:00        8  75.25    0.0   10.025  0.000179  0.000179   \n2017-01-01 00:45:00        8  74.00    0.0   10.600  0.000179  0.000179   \n2017-01-01 01:00:00        8  73.25    0.0   10.600  0.000179  0.000179   \n\n                          SOC     TOW  ZoneTempB  ZoneTotalIlluB  net_energy  \\\n2017-01-01 00:00:00  0.000000    0.00   0.000000        0.000000    0.000000   \n2017-01-01 00:15:00  0.198556  144.25  22.652589      500.272374    1.109206   \n2017-01-01 00:30:00  0.210432  144.50  22.504205      507.233703    0.442514   \n2017-01-01 00:45:00  0.218146  144.75  22.617754        0.003896    0.366662   \n2017-01-01 01:00:00  0.215699  145.00  22.888236      535.948623    0.352817   \n\n                     net_power     reward  LigB_input       P_ctrl  SaFrB  \\\n2017-01-01 00:00:00   0.000000   0.000000    0.000000     0.000000    0.0   \n2017-01-01 00:15:00   4.436823 -52.916687    0.929874  2994.310059    0.1   \n2017-01-01 00:30:00   1.770055 -46.746561    0.942814   360.831787    0.1   \n2017-01-01 00:45:00   1.466650  -4.088286    0.000007   234.372314    0.1   \n2017-01-01 01:00:00   1.411268 -51.163122    0.996187   -63.263428    0.1   \n\n                       SaTempB     e_cost   Tcomfort  \n2017-01-01 00:00:00   0.000000   0.000000   0.000000  \n2017-01-01 00:15:00  29.945669  12.367645 -40.549042  \n2017-01-01 00:30:00  29.521549   4.934029 -41.812532  \n2017-01-01 00:45:00  29.997208   4.088286   0.000000  \n2017-01-01 01:00:00  29.987953   3.933910 -47.229213  ",
      "text/html": "<div>\n<style scoped>\n    .dataframe tbody tr th:only-of-type {\n        vertical-align: middle;\n    }\n\n    .dataframe tbody tr th {\n        vertical-align: top;\n    }\n\n    .dataframe thead th {\n        text-align: right;\n    }\n</style>\n<table border=\"1\" class=\"dataframe\">\n  <thead>\n    <tr style=\"text-align: right;\">\n      <th></th>\n      <th>e_price</th>\n      <th>OutRH</th>\n      <th>OutSI</th>\n      <th>OutTemp</th>\n      <th>P1</th>\n      <th>P2</th>\n      <th>SOC</th>\n      <th>TOW</th>\n      <th>ZoneTempB</th>\n      <th>ZoneTotalIlluB</th>\n      <th>net_energy</th>\n      <th>net_power</th>\n      <th>reward</th>\n      <th>LigB_input</th>\n      <th>P_ctrl</th>\n      <th>SaFrB</th>\n      <th>SaTempB</th>\n      <th>e_cost</th>\n      <th>Tcomfort</th>\n    </tr>\n  </thead>\n  <tbody>\n    <tr>\n      <th>2017-01-01 00:00:00</th>\n      <td>8</td>\n      <td>0.00</td>\n      <td>0.0</td>\n      <td>0.000</td>\n      <td>0.000000</td>\n      <td>0.000000</td>\n      <td>0.000000</td>\n      <td>0.00</td>\n      <td>0.000000</td>\n      <td>0.000000</td>\n      <td>0.000000</td>\n      <td>0.000000</td>\n      <td>0.000000</td>\n      <td>0.000000</td>\n      <td>0.000000</td>\n      <td>0.0</td>\n      <td>0.000000</td>\n      <td>0.000000</td>\n      <td>0.000000</td>\n    </tr>\n    <tr>\n      <th>2017-01-01 00:15:00</th>\n      <td>8</td>\n      <td>76.50</td>\n      <td>0.0</td>\n      <td>9.450</td>\n      <td>0.000179</td>\n      <td>0.000179</td>\n      <td>0.198556</td>\n      <td>144.25</td>\n      <td>22.652589</td>\n      <td>500.272374</td>\n      <td>1.109206</td>\n      <td>4.436823</td>\n      <td>-52.916687</td>\n      <td>0.929874</td>\n      <td>2994.310059</td>\n      <td>0.1</td>\n      <td>29.945669</td>\n      <td>12.367645</td>\n      <td>-40.549042</td>\n    </tr>\n    <tr>\n      <th>2017-01-01 00:30:00</th>\n      <td>8</td>\n      <td>75.25</td>\n      <td>0.0</td>\n      <td>10.025</td>\n      <td>0.000179</td>\n      <td>0.000179</td>\n      <td>0.210432</td>\n      <td>144.50</td>\n      <td>22.504205</td>\n      <td>507.233703</td>\n      <td>0.442514</td>\n      <td>1.770055</td>\n      <td>-46.746561</td>\n      <td>0.942814</td>\n      <td>360.831787</td>\n      <td>0.1</td>\n      <td>29.521549</td>\n      <td>4.934029</td>\n      <td>-41.812532</td>\n    </tr>\n    <tr>\n      <th>2017-01-01 00:45:00</th>\n      <td>8</td>\n      <td>74.00</td>\n      <td>0.0</td>\n      <td>10.600</td>\n      <td>0.000179</td>\n      <td>0.000179</td>\n      <td>0.218146</td>\n      <td>144.75</td>\n      <td>22.617754</td>\n      <td>0.003896</td>\n      <td>0.366662</td>\n      <td>1.466650</td>\n      <td>-4.088286</td>\n      <td>0.000007</td>\n      <td>234.372314</td>\n      <td>0.1</td>\n      <td>29.997208</td>\n      <td>4.088286</td>\n      <td>0.000000</td>\n    </tr>\n    <tr>\n      <th>2017-01-01 01:00:00</th>\n      <td>8</td>\n      <td>73.25</td>\n      <td>0.0</td>\n      <td>10.600</td>\n      <td>0.000179</td>\n      <td>0.000179</td>\n      <td>0.215699</td>\n      <td>145.00</td>\n      <td>22.888236</td>\n      <td>535.948623</td>\n      <td>0.352817</td>\n      <td>1.411268</td>\n      <td>-51.163122</td>\n      <td>0.996187</td>\n      <td>-63.263428</td>\n      <td>0.1</td>\n      <td>29.987953</td>\n      <td>3.933910</td>\n      <td>-47.229213</td>\n    </tr>\n  </tbody>\n</table>\n</div>"
     },
     "metadata": {},
     "execution_count": 8
    }
   ],
   "source": [
    "index = pd.date_range(start='1/1/{0}'.format(2017), end='1/1/{0}'.format(2017+1), periods=35040+1)\n",
    "index = index[:-1]\n",
    "\n",
    "actions_df_05 = pd.read_csv(\"../preds/actions_df_ddpg_multienv_003.csv\")\n",
    "reward_df_05 = pd.read_csv(\"../preds/reward_df_ddpg_multienv_003.csv\")\n",
    "obs_df_05 = pd.read_csv(\"../preds/obs_df_ddpg_multienv_003.csv\")\n",
    "e_cost_df_05 = pd.read_csv(\"../preds/e_costs_df_ddpg_multienv_003.csv\")\n",
    "#net_energy_df_05 = pd.read_csv(\"../preds/net_energy_df_ddpg_multienv_002.csv\")\n",
    "#net_power_df_05 = pd.read_csv(\"../preds/net_power_df_ddpg_multienv_002.csv\")\n",
    "\n",
    "\n",
    "actions_df_05.index = pd.to_datetime(index)\n",
    "reward_df_05.index = pd.to_datetime(index)\n",
    "obs_df_05.index = pd.to_datetime(index)\n",
    "e_cost_df_05.index = pd.to_datetime(index)\n",
    "#net_energy_df_05.index = pd.to_datetime(index)\n",
    "#net_power_df_05.index = pd.to_datetime(index)\n",
    "\n",
    "e_price_2017 = pd.read_csv(\"../e_tariffs/e_price_2017.csv\", index_col=0, parse_dates=True)\n",
    "e_price_2017.index = pd.to_datetime(e_price_2017.index)\n",
    "\n",
    "final_df_05 = pd.concat([e_price_2017, obs_df_05, reward_df_05, actions_df_05,e_cost_df_05],axis=1) #,net_energy_df_05,net_power_df_05\n",
    "final_df_05[\"Tcomfort\"] = final_df_05[\"reward\"] + final_df_05[\"e_cost\"]\n",
    "final_df_05.head()"
   ]
  },
  {
   "cell_type": "code",
   "execution_count": 9,
   "metadata": {},
   "outputs": [
    {
     "output_type": "execute_result",
     "data": {
      "text/plain": "13771.816815302267"
     },
     "metadata": {},
     "execution_count": 9
    }
   ],
   "source": [
    "final_df_05[\"e_cost\"].sum() "
   ]
  },
  {
   "cell_type": "code",
   "execution_count": 10,
   "metadata": {},
   "outputs": [
    {
     "output_type": "execute_result",
     "data": {
      "text/plain": "-391366.7866936351"
     },
     "metadata": {},
     "execution_count": 10
    }
   ],
   "source": [
    "final_df_05[\"reward\"].sum() "
   ]
  },
  {
   "cell_type": "code",
   "execution_count": null,
   "metadata": {},
   "outputs": [],
   "source": []
  },
  {
   "cell_type": "code",
   "execution_count": 3,
   "metadata": {},
   "outputs": [
    {
     "output_type": "execute_result",
     "data": {
      "text/plain": "                     e_price  OutRH  OutSI  OutTemp        P1        P2  \\\n2017-01-01 00:00:00        8   0.00    0.0    0.000  0.000000  0.000000   \n2017-01-01 00:15:00        8  76.50    0.0    9.450  0.000179  0.000179   \n2017-01-01 00:30:00        8  75.25    0.0   10.025  0.000179  0.000179   \n2017-01-01 00:45:00        8  74.00    0.0   10.600  0.000179  0.000179   \n2017-01-01 01:00:00        8  73.25    0.0   10.600  0.000179  0.000179   \n\n                          SOC     TOW  ZoneTempB  ZoneTotalIlluB  net_energy  \\\n2017-01-01 00:00:00  0.000000    0.00   0.000000        0.000000    0.000000   \n2017-01-01 00:15:00  0.185210  144.25  22.339716      537.987430    0.804175   \n2017-01-01 00:30:00  0.170935  144.50  22.353857      537.859449    0.087340   \n2017-01-01 00:45:00  0.158386  144.75  22.350581      537.868973    0.079999   \n2017-01-01 01:00:00  0.152553  145.00  22.275859      537.918421    0.120380   \n\n                     net_power    reward  LigB_input       P_ctrl     SaFrB  \\\n2017-01-01 00:00:00   0.000000  0.000000    0.000000     0.000000  0.000000   \n2017-01-01 00:15:00   3.216698 -8.966547    0.999977  2588.855957  0.101974   \n2017-01-01 00:30:00   0.349361 -0.973845    0.999739  -368.975586  0.101075   \n2017-01-01 00:45:00   0.319996 -0.891990    0.999756  -324.337646  0.101944   \n2017-01-01 01:00:00   0.481520 -1.342236    0.999848  -150.759033  0.101434   \n\n                       SaTempB    e_cost  Tcomfort  \n2017-01-01 00:00:00   0.000000  0.000000       0.0  \n2017-01-01 00:15:00  22.202436  8.966547       0.0  \n2017-01-01 00:30:00  23.009251  0.973845       0.0  \n2017-01-01 00:45:00  22.267902  0.891990       0.0  \n2017-01-01 01:00:00  22.189880  1.342236       0.0  ",
      "text/html": "<div>\n<style scoped>\n    .dataframe tbody tr th:only-of-type {\n        vertical-align: middle;\n    }\n\n    .dataframe tbody tr th {\n        vertical-align: top;\n    }\n\n    .dataframe thead th {\n        text-align: right;\n    }\n</style>\n<table border=\"1\" class=\"dataframe\">\n  <thead>\n    <tr style=\"text-align: right;\">\n      <th></th>\n      <th>e_price</th>\n      <th>OutRH</th>\n      <th>OutSI</th>\n      <th>OutTemp</th>\n      <th>P1</th>\n      <th>P2</th>\n      <th>SOC</th>\n      <th>TOW</th>\n      <th>ZoneTempB</th>\n      <th>ZoneTotalIlluB</th>\n      <th>net_energy</th>\n      <th>net_power</th>\n      <th>reward</th>\n      <th>LigB_input</th>\n      <th>P_ctrl</th>\n      <th>SaFrB</th>\n      <th>SaTempB</th>\n      <th>e_cost</th>\n      <th>Tcomfort</th>\n    </tr>\n  </thead>\n  <tbody>\n    <tr>\n      <th>2017-01-01 00:00:00</th>\n      <td>8</td>\n      <td>0.00</td>\n      <td>0.0</td>\n      <td>0.000</td>\n      <td>0.000000</td>\n      <td>0.000000</td>\n      <td>0.000000</td>\n      <td>0.00</td>\n      <td>0.000000</td>\n      <td>0.000000</td>\n      <td>0.000000</td>\n      <td>0.000000</td>\n      <td>0.000000</td>\n      <td>0.000000</td>\n      <td>0.000000</td>\n      <td>0.000000</td>\n      <td>0.000000</td>\n      <td>0.000000</td>\n      <td>0.0</td>\n    </tr>\n    <tr>\n      <th>2017-01-01 00:15:00</th>\n      <td>8</td>\n      <td>76.50</td>\n      <td>0.0</td>\n      <td>9.450</td>\n      <td>0.000179</td>\n      <td>0.000179</td>\n      <td>0.185210</td>\n      <td>144.25</td>\n      <td>22.339716</td>\n      <td>537.987430</td>\n      <td>0.804175</td>\n      <td>3.216698</td>\n      <td>-8.966547</td>\n      <td>0.999977</td>\n      <td>2588.855957</td>\n      <td>0.101974</td>\n      <td>22.202436</td>\n      <td>8.966547</td>\n      <td>0.0</td>\n    </tr>\n    <tr>\n      <th>2017-01-01 00:30:00</th>\n      <td>8</td>\n      <td>75.25</td>\n      <td>0.0</td>\n      <td>10.025</td>\n      <td>0.000179</td>\n      <td>0.000179</td>\n      <td>0.170935</td>\n      <td>144.50</td>\n      <td>22.353857</td>\n      <td>537.859449</td>\n      <td>0.087340</td>\n      <td>0.349361</td>\n      <td>-0.973845</td>\n      <td>0.999739</td>\n      <td>-368.975586</td>\n      <td>0.101075</td>\n      <td>23.009251</td>\n      <td>0.973845</td>\n      <td>0.0</td>\n    </tr>\n    <tr>\n      <th>2017-01-01 00:45:00</th>\n      <td>8</td>\n      <td>74.00</td>\n      <td>0.0</td>\n      <td>10.600</td>\n      <td>0.000179</td>\n      <td>0.000179</td>\n      <td>0.158386</td>\n      <td>144.75</td>\n      <td>22.350581</td>\n      <td>537.868973</td>\n      <td>0.079999</td>\n      <td>0.319996</td>\n      <td>-0.891990</td>\n      <td>0.999756</td>\n      <td>-324.337646</td>\n      <td>0.101944</td>\n      <td>22.267902</td>\n      <td>0.891990</td>\n      <td>0.0</td>\n    </tr>\n    <tr>\n      <th>2017-01-01 01:00:00</th>\n      <td>8</td>\n      <td>73.25</td>\n      <td>0.0</td>\n      <td>10.600</td>\n      <td>0.000179</td>\n      <td>0.000179</td>\n      <td>0.152553</td>\n      <td>145.00</td>\n      <td>22.275859</td>\n      <td>537.918421</td>\n      <td>0.120380</td>\n      <td>0.481520</td>\n      <td>-1.342236</td>\n      <td>0.999848</td>\n      <td>-150.759033</td>\n      <td>0.101434</td>\n      <td>22.189880</td>\n      <td>1.342236</td>\n      <td>0.0</td>\n    </tr>\n  </tbody>\n</table>\n</div>"
     },
     "metadata": {},
     "execution_count": 3
    }
   ],
   "source": [
    "index = pd.date_range(start='1/1/{0}'.format(2017), end='1/1/{0}'.format(2017+1), periods=35040+1)\n",
    "index = index[:-1]\n",
    "\n",
    "actions_df_05 = pd.read_csv(\"../preds/actions_df_ddpg_multienv_005.csv\")\n",
    "reward_df_05 = pd.read_csv(\"../preds/reward_df_ddpg_multienv_005.csv\")\n",
    "obs_df_05 = pd.read_csv(\"../preds/obs_df_ddpg_multienv_005.csv\")\n",
    "e_cost_df_05 = pd.read_csv(\"../preds/e_costs_df_ddpg_multienv_005.csv\")\n",
    "#net_energy_df_05 = pd.read_csv(\"../preds/net_energy_df_ddpg_multienv_002.csv\")\n",
    "#net_power_df_05 = pd.read_csv(\"../preds/net_power_df_ddpg_multienv_002.csv\")\n",
    "\n",
    "\n",
    "actions_df_05.index = pd.to_datetime(index)\n",
    "reward_df_05.index = pd.to_datetime(index)\n",
    "obs_df_05.index = pd.to_datetime(index)\n",
    "e_cost_df_05.index = pd.to_datetime(index)\n",
    "#net_energy_df_05.index = pd.to_datetime(index)\n",
    "#net_power_df_05.index = pd.to_datetime(index)\n",
    "\n",
    "e_price_2017 = pd.read_csv(\"../e_tariffs/e_price_2017.csv\", index_col=0, parse_dates=True)\n",
    "e_price_2017.index = pd.to_datetime(e_price_2017.index)\n",
    "\n",
    "final_df_05 = pd.concat([e_price_2017, obs_df_05, reward_df_05, actions_df_05,e_cost_df_05],axis=1) #,net_energy_df_05,net_power_df_05\n",
    "final_df_05[\"Tcomfort\"] = final_df_05[\"reward\"] + final_df_05[\"e_cost\"]\n",
    "final_df_05.head()"
   ]
  },
  {
   "cell_type": "code",
   "execution_count": 4,
   "metadata": {},
   "outputs": [],
   "source": [
    "plot_df(final_df_05, filename='all_columns_ddpg_multienv_005_no_light_pen.html')"
   ]
  },
  {
   "cell_type": "code",
   "execution_count": null,
   "metadata": {},
   "outputs": [],
   "source": []
  },
  {
   "cell_type": "code",
   "execution_count": null,
   "metadata": {},
   "outputs": [],
   "source": []
  },
  {
   "cell_type": "code",
   "execution_count": null,
   "metadata": {},
   "outputs": [],
   "source": []
  },
  {
   "cell_type": "code",
   "execution_count": null,
   "metadata": {},
   "outputs": [],
   "source": []
  },
  {
   "cell_type": "code",
   "execution_count": 5,
   "metadata": {},
   "outputs": [
    {
     "output_type": "execute_result",
     "data": {
      "text/plain": "                     e_price  OutRH  OutSI  OutTemp        P1        P2  \\\n2017-01-01 00:00:00        8   0.00    0.0    0.000  0.000000  0.000000   \n2017-01-01 00:15:00        8  76.50    0.0    9.450  0.000179  0.000179   \n2017-01-01 00:30:00        8  75.25    0.0   10.025  0.000179  0.000179   \n2017-01-01 00:45:00        8  74.00    0.0   10.600  0.000179  0.000179   \n2017-01-01 01:00:00        8  73.25    0.0   10.600  0.000179  0.000179   \n\n                          SOC     TOW  ZoneTempB  ZoneTotalIlluB  net_energy  \\\n2017-01-01 00:00:00  0.000000    0.00   0.000000             0.0    0.000000   \n2017-01-01 00:15:00  0.136153  144.25  22.656986           538.0    0.641391   \n2017-01-01 00:30:00  0.148218  144.50  22.527302           538.0    0.460944   \n2017-01-01 00:45:00  0.156021  144.75  22.674547           538.0    0.430671   \n2017-01-01 01:00:00  0.161122  145.00  22.965297           538.0    0.408939   \n\n                     net_power    reward  LigB_input       P_ctrl     SaFrB  \\\n2017-01-01 00:00:00   0.000000  0.000000         0.0     0.000000  0.000000   \n2017-01-01 00:15:00   2.565565 -7.151513         1.0  1098.403809  0.100168   \n2017-01-01 00:30:00   1.843776 -5.139525         1.0   366.545166  0.100635   \n2017-01-01 00:45:00   1.722686 -4.801987         1.0   237.078369  0.100629   \n2017-01-01 01:00:00   1.635758 -4.559675         1.0   154.979492  0.100503   \n\n                     SaTempB    e_cost  Tcomfort  \n2017-01-01 00:00:00      0.0  0.000000       0.0  \n2017-01-01 00:15:00     30.0  7.151513       0.0  \n2017-01-01 00:30:00     30.0  5.139525       0.0  \n2017-01-01 00:45:00     30.0  4.801987       0.0  \n2017-01-01 01:00:00     30.0  4.559675       0.0  ",
      "text/html": "<div>\n<style scoped>\n    .dataframe tbody tr th:only-of-type {\n        vertical-align: middle;\n    }\n\n    .dataframe tbody tr th {\n        vertical-align: top;\n    }\n\n    .dataframe thead th {\n        text-align: right;\n    }\n</style>\n<table border=\"1\" class=\"dataframe\">\n  <thead>\n    <tr style=\"text-align: right;\">\n      <th></th>\n      <th>e_price</th>\n      <th>OutRH</th>\n      <th>OutSI</th>\n      <th>OutTemp</th>\n      <th>P1</th>\n      <th>P2</th>\n      <th>SOC</th>\n      <th>TOW</th>\n      <th>ZoneTempB</th>\n      <th>ZoneTotalIlluB</th>\n      <th>net_energy</th>\n      <th>net_power</th>\n      <th>reward</th>\n      <th>LigB_input</th>\n      <th>P_ctrl</th>\n      <th>SaFrB</th>\n      <th>SaTempB</th>\n      <th>e_cost</th>\n      <th>Tcomfort</th>\n    </tr>\n  </thead>\n  <tbody>\n    <tr>\n      <th>2017-01-01 00:00:00</th>\n      <td>8</td>\n      <td>0.00</td>\n      <td>0.0</td>\n      <td>0.000</td>\n      <td>0.000000</td>\n      <td>0.000000</td>\n      <td>0.000000</td>\n      <td>0.00</td>\n      <td>0.000000</td>\n      <td>0.0</td>\n      <td>0.000000</td>\n      <td>0.000000</td>\n      <td>0.000000</td>\n      <td>0.0</td>\n      <td>0.000000</td>\n      <td>0.000000</td>\n      <td>0.0</td>\n      <td>0.000000</td>\n      <td>0.0</td>\n    </tr>\n    <tr>\n      <th>2017-01-01 00:15:00</th>\n      <td>8</td>\n      <td>76.50</td>\n      <td>0.0</td>\n      <td>9.450</td>\n      <td>0.000179</td>\n      <td>0.000179</td>\n      <td>0.136153</td>\n      <td>144.25</td>\n      <td>22.656986</td>\n      <td>538.0</td>\n      <td>0.641391</td>\n      <td>2.565565</td>\n      <td>-7.151513</td>\n      <td>1.0</td>\n      <td>1098.403809</td>\n      <td>0.100168</td>\n      <td>30.0</td>\n      <td>7.151513</td>\n      <td>0.0</td>\n    </tr>\n    <tr>\n      <th>2017-01-01 00:30:00</th>\n      <td>8</td>\n      <td>75.25</td>\n      <td>0.0</td>\n      <td>10.025</td>\n      <td>0.000179</td>\n      <td>0.000179</td>\n      <td>0.148218</td>\n      <td>144.50</td>\n      <td>22.527302</td>\n      <td>538.0</td>\n      <td>0.460944</td>\n      <td>1.843776</td>\n      <td>-5.139525</td>\n      <td>1.0</td>\n      <td>366.545166</td>\n      <td>0.100635</td>\n      <td>30.0</td>\n      <td>5.139525</td>\n      <td>0.0</td>\n    </tr>\n    <tr>\n      <th>2017-01-01 00:45:00</th>\n      <td>8</td>\n      <td>74.00</td>\n      <td>0.0</td>\n      <td>10.600</td>\n      <td>0.000179</td>\n      <td>0.000179</td>\n      <td>0.156021</td>\n      <td>144.75</td>\n      <td>22.674547</td>\n      <td>538.0</td>\n      <td>0.430671</td>\n      <td>1.722686</td>\n      <td>-4.801987</td>\n      <td>1.0</td>\n      <td>237.078369</td>\n      <td>0.100629</td>\n      <td>30.0</td>\n      <td>4.801987</td>\n      <td>0.0</td>\n    </tr>\n    <tr>\n      <th>2017-01-01 01:00:00</th>\n      <td>8</td>\n      <td>73.25</td>\n      <td>0.0</td>\n      <td>10.600</td>\n      <td>0.000179</td>\n      <td>0.000179</td>\n      <td>0.161122</td>\n      <td>145.00</td>\n      <td>22.965297</td>\n      <td>538.0</td>\n      <td>0.408939</td>\n      <td>1.635758</td>\n      <td>-4.559675</td>\n      <td>1.0</td>\n      <td>154.979492</td>\n      <td>0.100503</td>\n      <td>30.0</td>\n      <td>4.559675</td>\n      <td>0.0</td>\n    </tr>\n  </tbody>\n</table>\n</div>"
     },
     "metadata": {},
     "execution_count": 5
    }
   ],
   "source": [
    "index = pd.date_range(start='1/1/{0}'.format(2017), end='1/1/{0}'.format(2017+1), periods=35040+1)\n",
    "index = index[:-1]\n",
    "\n",
    "actions_df_05 = pd.read_csv(\"../preds/actions_df_ddpg_multienv_006.csv\")\n",
    "reward_df_05 = pd.read_csv(\"../preds/reward_df_ddpg_multienv_006.csv\")\n",
    "obs_df_05 = pd.read_csv(\"../preds/obs_df_ddpg_multienv_006.csv\")\n",
    "e_cost_df_05 = pd.read_csv(\"../preds/e_costs_df_ddpg_multienv_006.csv\")\n",
    "#net_energy_df_05 = pd.read_csv(\"../preds/net_energy_df_ddpg_multienv_002.csv\")\n",
    "#net_power_df_05 = pd.read_csv(\"../preds/net_power_df_ddpg_multienv_002.csv\")\n",
    "\n",
    "\n",
    "actions_df_05.index = pd.to_datetime(index)\n",
    "reward_df_05.index = pd.to_datetime(index)\n",
    "obs_df_05.index = pd.to_datetime(index)\n",
    "e_cost_df_05.index = pd.to_datetime(index)\n",
    "#net_energy_df_05.index = pd.to_datetime(index)\n",
    "#net_power_df_05.index = pd.to_datetime(index)\n",
    "\n",
    "e_price_2017 = pd.read_csv(\"../e_tariffs/e_price_2017.csv\", index_col=0, parse_dates=True)\n",
    "e_price_2017.index = pd.to_datetime(e_price_2017.index)\n",
    "\n",
    "final_df_05 = pd.concat([e_price_2017, obs_df_05, reward_df_05, actions_df_05,e_cost_df_05],axis=1) #,net_energy_df_05,net_power_df_05\n",
    "final_df_05[\"Tcomfort\"] = final_df_05[\"reward\"] + final_df_05[\"e_cost\"]\n",
    "final_df_05.head()"
   ]
  },
  {
   "cell_type": "code",
   "execution_count": 6,
   "metadata": {},
   "outputs": [],
   "source": [
    "plot_df(final_df_05, filename='all_columns_ddpg_multienv_006_no_light_pen_2.html')"
   ]
  },
  {
   "cell_type": "code",
   "execution_count": null,
   "metadata": {},
   "outputs": [],
   "source": []
  },
  {
   "cell_type": "code",
   "execution_count": 11,
   "metadata": {},
   "outputs": [
    {
     "output_type": "execute_result",
     "data": {
      "text/plain": "                     e_price  OutRH  OutSI  OutTemp        P1        P2  \\\n2014-01-01 00:00:00        8    0.0    0.0    0.000  0.000000  0.000000   \n2014-01-01 00:15:00        8   77.0    0.0    9.350  0.000179  0.000179   \n2014-01-01 00:30:00        8   74.0    0.0    9.075  0.000179  0.000179   \n2014-01-01 00:45:00        8   71.0    0.0    8.800  0.000179  0.000179   \n2014-01-01 01:00:00        8   71.5    0.0    8.275  0.000179  0.000179   \n\n                          SOC    TOW  ZoneTempB  ZoneTotalIlluB  net_energy  \\\n2014-01-01 00:00:00  0.000000   0.00   0.000000        0.000000    0.000000   \n2014-01-01 00:15:00  0.128324  48.25  22.730762       35.478891    0.473875   \n2014-01-01 00:30:00  0.142551  48.50  22.617335      288.941306    0.436150   \n2014-01-01 00:45:00  0.157704  48.75  22.766952        1.444568    0.413269   \n2014-01-01 01:00:00  0.166144  49.00  23.053568      440.358217    0.411715   \n\n                     net_power    reward  LigB_input      P_ctrl  SaFrB  \\\n2014-01-01 00:00:00   0.000000  0.000000    0.000000    0.000000    0.0   \n2014-01-01 00:15:00   1.895502 -5.283711    0.065946  860.540527    0.1   \n2014-01-01 00:30:00   1.744599 -4.863069    0.537066  432.249756    0.1   \n2014-01-01 00:45:00   1.653074 -4.607945    0.002685  460.366943    0.1   \n2014-01-01 01:00:00   1.646859 -4.590621    0.818510  256.419189    0.1   \n\n                       SaTempB    e_cost  Tcomfort  \n2014-01-01 00:00:00   0.000000  0.000000       0.0  \n2014-01-01 00:15:00  28.506399  5.283711       0.0  \n2014-01-01 00:30:00  29.999924  4.863069       0.0  \n2014-01-01 00:45:00  29.999996  4.607945       0.0  \n2014-01-01 01:00:00  29.999897  4.590621       0.0  ",
      "text/html": "<div>\n<style scoped>\n    .dataframe tbody tr th:only-of-type {\n        vertical-align: middle;\n    }\n\n    .dataframe tbody tr th {\n        vertical-align: top;\n    }\n\n    .dataframe thead th {\n        text-align: right;\n    }\n</style>\n<table border=\"1\" class=\"dataframe\">\n  <thead>\n    <tr style=\"text-align: right;\">\n      <th></th>\n      <th>e_price</th>\n      <th>OutRH</th>\n      <th>OutSI</th>\n      <th>OutTemp</th>\n      <th>P1</th>\n      <th>P2</th>\n      <th>SOC</th>\n      <th>TOW</th>\n      <th>ZoneTempB</th>\n      <th>ZoneTotalIlluB</th>\n      <th>net_energy</th>\n      <th>net_power</th>\n      <th>reward</th>\n      <th>LigB_input</th>\n      <th>P_ctrl</th>\n      <th>SaFrB</th>\n      <th>SaTempB</th>\n      <th>e_cost</th>\n      <th>Tcomfort</th>\n    </tr>\n  </thead>\n  <tbody>\n    <tr>\n      <th>2014-01-01 00:00:00</th>\n      <td>8</td>\n      <td>0.0</td>\n      <td>0.0</td>\n      <td>0.000</td>\n      <td>0.000000</td>\n      <td>0.000000</td>\n      <td>0.000000</td>\n      <td>0.00</td>\n      <td>0.000000</td>\n      <td>0.000000</td>\n      <td>0.000000</td>\n      <td>0.000000</td>\n      <td>0.000000</td>\n      <td>0.000000</td>\n      <td>0.000000</td>\n      <td>0.0</td>\n      <td>0.000000</td>\n      <td>0.000000</td>\n      <td>0.0</td>\n    </tr>\n    <tr>\n      <th>2014-01-01 00:15:00</th>\n      <td>8</td>\n      <td>77.0</td>\n      <td>0.0</td>\n      <td>9.350</td>\n      <td>0.000179</td>\n      <td>0.000179</td>\n      <td>0.128324</td>\n      <td>48.25</td>\n      <td>22.730762</td>\n      <td>35.478891</td>\n      <td>0.473875</td>\n      <td>1.895502</td>\n      <td>-5.283711</td>\n      <td>0.065946</td>\n      <td>860.540527</td>\n      <td>0.1</td>\n      <td>28.506399</td>\n      <td>5.283711</td>\n      <td>0.0</td>\n    </tr>\n    <tr>\n      <th>2014-01-01 00:30:00</th>\n      <td>8</td>\n      <td>74.0</td>\n      <td>0.0</td>\n      <td>9.075</td>\n      <td>0.000179</td>\n      <td>0.000179</td>\n      <td>0.142551</td>\n      <td>48.50</td>\n      <td>22.617335</td>\n      <td>288.941306</td>\n      <td>0.436150</td>\n      <td>1.744599</td>\n      <td>-4.863069</td>\n      <td>0.537066</td>\n      <td>432.249756</td>\n      <td>0.1</td>\n      <td>29.999924</td>\n      <td>4.863069</td>\n      <td>0.0</td>\n    </tr>\n    <tr>\n      <th>2014-01-01 00:45:00</th>\n      <td>8</td>\n      <td>71.0</td>\n      <td>0.0</td>\n      <td>8.800</td>\n      <td>0.000179</td>\n      <td>0.000179</td>\n      <td>0.157704</td>\n      <td>48.75</td>\n      <td>22.766952</td>\n      <td>1.444568</td>\n      <td>0.413269</td>\n      <td>1.653074</td>\n      <td>-4.607945</td>\n      <td>0.002685</td>\n      <td>460.366943</td>\n      <td>0.1</td>\n      <td>29.999996</td>\n      <td>4.607945</td>\n      <td>0.0</td>\n    </tr>\n    <tr>\n      <th>2014-01-01 01:00:00</th>\n      <td>8</td>\n      <td>71.5</td>\n      <td>0.0</td>\n      <td>8.275</td>\n      <td>0.000179</td>\n      <td>0.000179</td>\n      <td>0.166144</td>\n      <td>49.00</td>\n      <td>23.053568</td>\n      <td>440.358217</td>\n      <td>0.411715</td>\n      <td>1.646859</td>\n      <td>-4.590621</td>\n      <td>0.818510</td>\n      <td>256.419189</td>\n      <td>0.1</td>\n      <td>29.999897</td>\n      <td>4.590621</td>\n      <td>0.0</td>\n    </tr>\n  </tbody>\n</table>\n</div>"
     },
     "metadata": {},
     "execution_count": 11
    }
   ],
   "source": [
    "index = pd.date_range(start='1/1/{0}'.format(2014), end='1/1/{0}'.format(2014+1), periods=35040+1)\n",
    "index = index[:-1]\n",
    "\n",
    "actions_df_05 = pd.read_csv(\"../preds/actions_df_ddpg_multienv_003_2014.csv\")\n",
    "reward_df_05 = pd.read_csv(\"../preds/reward_df_ddpg_multienv_003_2014.csv\")\n",
    "obs_df_05 = pd.read_csv(\"../preds/obs_df_ddpg_multienv_003_2014.csv\")\n",
    "e_cost_df_05 = pd.read_csv(\"../preds/e_costs_df_ddpg_multienv_003_2014.csv\")\n",
    "#net_energy_df_05 = pd.read_csv(\"../preds/net_energy_df_ddpg_multienv_002.csv\")\n",
    "#net_power_df_05 = pd.read_csv(\"../preds/net_power_df_ddpg_multienv_002.csv\")\n",
    "\n",
    "\n",
    "actions_df_05.index = pd.to_datetime(index)\n",
    "reward_df_05.index = pd.to_datetime(index)\n",
    "obs_df_05.index = pd.to_datetime(index)\n",
    "e_cost_df_05.index = pd.to_datetime(index)\n",
    "#net_energy_df_05.index = pd.to_datetime(index)\n",
    "#net_power_df_05.index = pd.to_datetime(index)\n",
    "\n",
    "e_price_2017 = pd.read_csv(\"../e_tariffs/e_price_2014.csv\", index_col=0, parse_dates=True)\n",
    "e_price_2017.index = pd.to_datetime(e_price_2017.index)\n",
    "\n",
    "final_df_05 = pd.concat([e_price_2017, obs_df_05, reward_df_05, actions_df_05,e_cost_df_05],axis=1) #,net_energy_df_05,net_power_df_05\n",
    "final_df_05[\"Tcomfort\"] = final_df_05[\"reward\"] + final_df_05[\"e_cost\"]\n",
    "final_df_05.head()"
   ]
  },
  {
   "cell_type": "code",
   "execution_count": 12,
   "metadata": {},
   "outputs": [],
   "source": [
    "plot_df(final_df_05, filename='all_columns_ddpg_multienv_003_2014.html')"
   ]
  },
  {
   "cell_type": "code",
   "execution_count": null,
   "metadata": {},
   "outputs": [],
   "source": []
  },
  {
   "cell_type": "code",
   "execution_count": null,
   "metadata": {},
   "outputs": [],
   "source": []
  },
  {
   "cell_type": "code",
   "execution_count": null,
   "metadata": {},
   "outputs": [],
   "source": []
  },
  {
   "cell_type": "code",
   "execution_count": 16,
   "metadata": {},
   "outputs": [
    {
     "output_type": "execute_result",
     "data": {
      "text/plain": "                     e_price  OutRH  OutSI  OutTemp        P1        P2  \\\n2014-01-01 00:00:00        8    0.0    0.0    0.000  0.000000  0.000000   \n2014-01-01 00:15:00        8   77.0    0.0    9.350  0.000179  0.000179   \n2014-01-01 00:30:00        8   74.0    0.0    9.075  0.000179  0.000179   \n2014-01-01 00:45:00        8   71.0    0.0    8.800  0.000179  0.000179   \n2014-01-01 01:00:00        8   71.5    0.0    8.275  0.000179  0.000179   \n\n                          SOC    TOW  ZoneTempB  net_energy  net_power  \\\n2014-01-01 00:00:00  0.000000   0.00   0.000000    0.000000   0.000000   \n2014-01-01 00:15:00  0.135150  48.25  22.593518    0.465282   1.861129   \n2014-01-01 00:30:00  0.158430  48.50  22.640358    0.859079   3.436317   \n2014-01-01 00:45:00  0.192508  48.75  23.104859    0.834166   3.336663   \n2014-01-01 01:00:00  0.227022  49.00  23.249903    0.391678   1.566713   \n\n                       reward       P_ctrl     SaFrB    SaTempB    e_cost  \\\n2014-01-01 00:00:00  0.000000     0.000000  0.000000   0.000000  0.000000   \n2014-01-01 00:15:00 -5.187897  1067.910645  0.102377  26.291969  5.187897   \n2014-01-01 00:30:00 -9.578734   707.299072  0.269740  29.679165  9.578734   \n2014-01-01 00:45:00 -9.300947  1035.368164  0.249605  28.865213  9.300947   \n2014-01-01 01:00:00 -4.367214  1048.610352  0.263229  22.487480  4.367214   \n\n                     Tcomfort         P1_P2  \n2014-01-01 00:00:00       0.0  0.000000e+00  \n2014-01-01 00:15:00       0.0  3.573101e-07  \n2014-01-01 00:30:00       0.0  3.573314e-07  \n2014-01-01 00:45:00       0.0  3.573628e-07  \n2014-01-01 01:00:00       0.0  3.574020e-07  ",
      "text/html": "<div>\n<style scoped>\n    .dataframe tbody tr th:only-of-type {\n        vertical-align: middle;\n    }\n\n    .dataframe tbody tr th {\n        vertical-align: top;\n    }\n\n    .dataframe thead th {\n        text-align: right;\n    }\n</style>\n<table border=\"1\" class=\"dataframe\">\n  <thead>\n    <tr style=\"text-align: right;\">\n      <th></th>\n      <th>e_price</th>\n      <th>OutRH</th>\n      <th>OutSI</th>\n      <th>OutTemp</th>\n      <th>P1</th>\n      <th>P2</th>\n      <th>SOC</th>\n      <th>TOW</th>\n      <th>ZoneTempB</th>\n      <th>net_energy</th>\n      <th>net_power</th>\n      <th>reward</th>\n      <th>P_ctrl</th>\n      <th>SaFrB</th>\n      <th>SaTempB</th>\n      <th>e_cost</th>\n      <th>Tcomfort</th>\n      <th>P1_P2</th>\n    </tr>\n  </thead>\n  <tbody>\n    <tr>\n      <th>2014-01-01 00:00:00</th>\n      <td>8</td>\n      <td>0.0</td>\n      <td>0.0</td>\n      <td>0.000</td>\n      <td>0.000000</td>\n      <td>0.000000</td>\n      <td>0.000000</td>\n      <td>0.00</td>\n      <td>0.000000</td>\n      <td>0.000000</td>\n      <td>0.000000</td>\n      <td>0.000000</td>\n      <td>0.000000</td>\n      <td>0.000000</td>\n      <td>0.000000</td>\n      <td>0.000000</td>\n      <td>0.0</td>\n      <td>0.000000e+00</td>\n    </tr>\n    <tr>\n      <th>2014-01-01 00:15:00</th>\n      <td>8</td>\n      <td>77.0</td>\n      <td>0.0</td>\n      <td>9.350</td>\n      <td>0.000179</td>\n      <td>0.000179</td>\n      <td>0.135150</td>\n      <td>48.25</td>\n      <td>22.593518</td>\n      <td>0.465282</td>\n      <td>1.861129</td>\n      <td>-5.187897</td>\n      <td>1067.910645</td>\n      <td>0.102377</td>\n      <td>26.291969</td>\n      <td>5.187897</td>\n      <td>0.0</td>\n      <td>3.573101e-07</td>\n    </tr>\n    <tr>\n      <th>2014-01-01 00:30:00</th>\n      <td>8</td>\n      <td>74.0</td>\n      <td>0.0</td>\n      <td>9.075</td>\n      <td>0.000179</td>\n      <td>0.000179</td>\n      <td>0.158430</td>\n      <td>48.50</td>\n      <td>22.640358</td>\n      <td>0.859079</td>\n      <td>3.436317</td>\n      <td>-9.578734</td>\n      <td>707.299072</td>\n      <td>0.269740</td>\n      <td>29.679165</td>\n      <td>9.578734</td>\n      <td>0.0</td>\n      <td>3.573314e-07</td>\n    </tr>\n    <tr>\n      <th>2014-01-01 00:45:00</th>\n      <td>8</td>\n      <td>71.0</td>\n      <td>0.0</td>\n      <td>8.800</td>\n      <td>0.000179</td>\n      <td>0.000179</td>\n      <td>0.192508</td>\n      <td>48.75</td>\n      <td>23.104859</td>\n      <td>0.834166</td>\n      <td>3.336663</td>\n      <td>-9.300947</td>\n      <td>1035.368164</td>\n      <td>0.249605</td>\n      <td>28.865213</td>\n      <td>9.300947</td>\n      <td>0.0</td>\n      <td>3.573628e-07</td>\n    </tr>\n    <tr>\n      <th>2014-01-01 01:00:00</th>\n      <td>8</td>\n      <td>71.5</td>\n      <td>0.0</td>\n      <td>8.275</td>\n      <td>0.000179</td>\n      <td>0.000179</td>\n      <td>0.227022</td>\n      <td>49.00</td>\n      <td>23.249903</td>\n      <td>0.391678</td>\n      <td>1.566713</td>\n      <td>-4.367214</td>\n      <td>1048.610352</td>\n      <td>0.263229</td>\n      <td>22.487480</td>\n      <td>4.367214</td>\n      <td>0.0</td>\n      <td>3.574020e-07</td>\n    </tr>\n  </tbody>\n</table>\n</div>"
     },
     "metadata": {},
     "execution_count": 16
    }
   ],
   "source": [
    "index = pd.date_range(start='1/1/{0}'.format(2014), end='1/1/{0}'.format(2014+1), periods=35040+1)\n",
    "index = index[:-1]\n",
    "\n",
    "actions_df_05 = pd.read_csv(\"../preds/actions_df_ddpg_multienv_007_2014.csv\")\n",
    "reward_df_05 = pd.read_csv(\"../preds/reward_df_ddpg_multienv_007_2014.csv\")\n",
    "obs_df_05 = pd.read_csv(\"../preds/obs_df_ddpg_multienv_007_2014.csv\")\n",
    "e_cost_df_05 = pd.read_csv(\"../preds/e_costs_df_ddpg_multienv_007_2014.csv\")\n",
    "#net_energy_df_05 = pd.read_csv(\"../preds/net_energy_df_ddpg_multienv_002.csv\")\n",
    "#net_power_df_05 = pd.read_csv(\"../preds/net_power_df_ddpg_multienv_002.csv\")\n",
    "\n",
    "\n",
    "actions_df_05.index = pd.to_datetime(index)\n",
    "reward_df_05.index = pd.to_datetime(index)\n",
    "obs_df_05.index = pd.to_datetime(index)\n",
    "e_cost_df_05.index = pd.to_datetime(index)\n",
    "#net_energy_df_05.index = pd.to_datetime(index)\n",
    "#net_power_df_05.index = pd.to_datetime(index)\n",
    "\n",
    "e_price_2017 = pd.read_csv(\"../e_tariffs/e_price_2014.csv\", index_col=0, parse_dates=True)\n",
    "e_price_2017.index = pd.to_datetime(e_price_2017.index)\n",
    "\n",
    "final_df_05 = pd.concat([e_price_2017, obs_df_05, reward_df_05, actions_df_05,e_cost_df_05],axis=1) #,net_energy_df_05,net_power_df_05\n",
    "final_df_05[\"Tcomfort\"] = final_df_05[\"reward\"] + final_df_05[\"e_cost\"]\n",
    "final_df_05[\"P1_P2\"] = final_df_05[\"P1\"]/1000.0 + final_df_05[\"P2\"]/1000.0\n",
    "final_df_05.head()"
   ]
  },
  {
   "cell_type": "code",
   "execution_count": 17,
   "metadata": {},
   "outputs": [],
   "source": [
    "plot_df(final_df_05, filename='all_columns_ddpg_multienv_007_2014.html')"
   ]
  },
  {
   "cell_type": "code",
   "execution_count": null,
   "metadata": {},
   "outputs": [],
   "source": []
  },
  {
   "cell_type": "code",
   "execution_count": null,
   "metadata": {},
   "outputs": [],
   "source": []
  },
  {
   "cell_type": "code",
   "execution_count": null,
   "metadata": {},
   "outputs": [],
   "source": []
  },
  {
   "cell_type": "code",
   "execution_count": 21,
   "metadata": {},
   "outputs": [
    {
     "output_type": "execute_result",
     "data": {
      "text/plain": "                     e_price  OutRH  OutSI  OutTemp        P1        P2  \\\n2014-01-01 00:00:00        8    0.0    0.0    0.000  0.000000  0.000000   \n2014-01-01 00:15:00        8   77.0    0.0    9.350  0.000179  0.000179   \n2014-01-01 00:30:00        8   74.0    0.0    9.075  0.000179  0.000179   \n2014-01-01 00:45:00        8   71.0    0.0    8.800  0.000179  0.000179   \n2014-01-01 01:00:00        8   71.5    0.0    8.275  0.000179  0.000179   \n\n                          SOC    TOW  ZoneTempB  net_energy  net_power  \\\n2014-01-01 00:00:00  0.000000   0.00   0.000000    0.000000   0.000000   \n2014-01-01 00:15:00  0.208617  48.25  23.924628    2.438593   9.754374   \n2014-01-01 00:30:00  0.197098  48.50  23.898320    0.546409   2.185635   \n2014-01-01 00:45:00  0.188104  48.75  20.567064    1.079705   4.318820   \n2014-01-01 01:00:00  0.181783  49.00  20.849625    0.028469   0.113874   \n\n                         reward       P_ctrl     SaFrB    SaTempB     e_cost  \\\n2014-01-01 00:00:00    0.000000     0.000000  0.000000   0.000000   0.000000   \n2014-01-01 00:15:00 -135.951582  3300.000000  1.994639  26.072882  27.190316   \n2014-01-01 00:30:00  -30.462287  -297.719238  1.944523  24.402613   6.092457   \n2014-01-01 00:45:00  -60.193553  -232.458496  1.430808  15.525446  12.038711   \n2014-01-01 01:00:00   -1.587125  -163.379150  0.100110  20.676247   0.317425   \n\n                       Tcomfort         P1_P2  \n2014-01-01 00:00:00    0.000000  0.000000e+00  \n2014-01-01 00:15:00 -108.761265  3.573101e-07  \n2014-01-01 00:30:00  -24.369830  3.573314e-07  \n2014-01-01 00:45:00  -48.154843  3.573628e-07  \n2014-01-01 01:00:00   -1.269700  3.574020e-07  ",
      "text/html": "<div>\n<style scoped>\n    .dataframe tbody tr th:only-of-type {\n        vertical-align: middle;\n    }\n\n    .dataframe tbody tr th {\n        vertical-align: top;\n    }\n\n    .dataframe thead th {\n        text-align: right;\n    }\n</style>\n<table border=\"1\" class=\"dataframe\">\n  <thead>\n    <tr style=\"text-align: right;\">\n      <th></th>\n      <th>e_price</th>\n      <th>OutRH</th>\n      <th>OutSI</th>\n      <th>OutTemp</th>\n      <th>P1</th>\n      <th>P2</th>\n      <th>SOC</th>\n      <th>TOW</th>\n      <th>ZoneTempB</th>\n      <th>net_energy</th>\n      <th>net_power</th>\n      <th>reward</th>\n      <th>P_ctrl</th>\n      <th>SaFrB</th>\n      <th>SaTempB</th>\n      <th>e_cost</th>\n      <th>Tcomfort</th>\n      <th>P1_P2</th>\n    </tr>\n  </thead>\n  <tbody>\n    <tr>\n      <th>2014-01-01 00:00:00</th>\n      <td>8</td>\n      <td>0.0</td>\n      <td>0.0</td>\n      <td>0.000</td>\n      <td>0.000000</td>\n      <td>0.000000</td>\n      <td>0.000000</td>\n      <td>0.00</td>\n      <td>0.000000</td>\n      <td>0.000000</td>\n      <td>0.000000</td>\n      <td>0.000000</td>\n      <td>0.000000</td>\n      <td>0.000000</td>\n      <td>0.000000</td>\n      <td>0.000000</td>\n      <td>0.000000</td>\n      <td>0.000000e+00</td>\n    </tr>\n    <tr>\n      <th>2014-01-01 00:15:00</th>\n      <td>8</td>\n      <td>77.0</td>\n      <td>0.0</td>\n      <td>9.350</td>\n      <td>0.000179</td>\n      <td>0.000179</td>\n      <td>0.208617</td>\n      <td>48.25</td>\n      <td>23.924628</td>\n      <td>2.438593</td>\n      <td>9.754374</td>\n      <td>-135.951582</td>\n      <td>3300.000000</td>\n      <td>1.994639</td>\n      <td>26.072882</td>\n      <td>27.190316</td>\n      <td>-108.761265</td>\n      <td>3.573101e-07</td>\n    </tr>\n    <tr>\n      <th>2014-01-01 00:30:00</th>\n      <td>8</td>\n      <td>74.0</td>\n      <td>0.0</td>\n      <td>9.075</td>\n      <td>0.000179</td>\n      <td>0.000179</td>\n      <td>0.197098</td>\n      <td>48.50</td>\n      <td>23.898320</td>\n      <td>0.546409</td>\n      <td>2.185635</td>\n      <td>-30.462287</td>\n      <td>-297.719238</td>\n      <td>1.944523</td>\n      <td>24.402613</td>\n      <td>6.092457</td>\n      <td>-24.369830</td>\n      <td>3.573314e-07</td>\n    </tr>\n    <tr>\n      <th>2014-01-01 00:45:00</th>\n      <td>8</td>\n      <td>71.0</td>\n      <td>0.0</td>\n      <td>8.800</td>\n      <td>0.000179</td>\n      <td>0.000179</td>\n      <td>0.188104</td>\n      <td>48.75</td>\n      <td>20.567064</td>\n      <td>1.079705</td>\n      <td>4.318820</td>\n      <td>-60.193553</td>\n      <td>-232.458496</td>\n      <td>1.430808</td>\n      <td>15.525446</td>\n      <td>12.038711</td>\n      <td>-48.154843</td>\n      <td>3.573628e-07</td>\n    </tr>\n    <tr>\n      <th>2014-01-01 01:00:00</th>\n      <td>8</td>\n      <td>71.5</td>\n      <td>0.0</td>\n      <td>8.275</td>\n      <td>0.000179</td>\n      <td>0.000179</td>\n      <td>0.181783</td>\n      <td>49.00</td>\n      <td>20.849625</td>\n      <td>0.028469</td>\n      <td>0.113874</td>\n      <td>-1.587125</td>\n      <td>-163.379150</td>\n      <td>0.100110</td>\n      <td>20.676247</td>\n      <td>0.317425</td>\n      <td>-1.269700</td>\n      <td>3.574020e-07</td>\n    </tr>\n  </tbody>\n</table>\n</div>"
     },
     "metadata": {},
     "execution_count": 21
    }
   ],
   "source": [
    "index = pd.date_range(start='1/1/{0}'.format(2014), end='1/1/{0}'.format(2014+1), periods=35040+1)\n",
    "index = index[:-1]\n",
    "\n",
    "actions_df_05 = pd.read_csv(\"../preds/actions_df_ddpg_multienv_008_2014.csv\")\n",
    "reward_df_05 = pd.read_csv(\"../preds/reward_df_ddpg_multienv_008_2014.csv\")\n",
    "obs_df_05 = pd.read_csv(\"../preds/obs_df_ddpg_multienv_008_2014.csv\")\n",
    "e_cost_df_05 = pd.read_csv(\"../preds/e_costs_df_ddpg_multienv_008_2014.csv\")\n",
    "#net_energy_df_05 = pd.read_csv(\"../preds/net_energy_df_ddpg_multienv_002.csv\")\n",
    "#net_power_df_05 = pd.read_csv(\"../preds/net_power_df_ddpg_multienv_002.csv\")\n",
    "\n",
    "\n",
    "actions_df_05.index = pd.to_datetime(index)\n",
    "reward_df_05.index = pd.to_datetime(index)\n",
    "obs_df_05.index = pd.to_datetime(index)\n",
    "e_cost_df_05.index = pd.to_datetime(index)\n",
    "#net_energy_df_05.index = pd.to_datetime(index)\n",
    "#net_power_df_05.index = pd.to_datetime(index)\n",
    "\n",
    "e_price_2017 = pd.read_csv(\"../e_tariffs/e_price_2014.csv\", index_col=0, parse_dates=True)\n",
    "e_price_2017.index = pd.to_datetime(e_price_2017.index)\n",
    "\n",
    "final_df_05 = pd.concat([e_price_2017, obs_df_05, reward_df_05, actions_df_05,e_cost_df_05],axis=1) #,net_energy_df_05,net_power_df_05\n",
    "final_df_05[\"Tcomfort\"] = final_df_05[\"reward\"] + final_df_05[\"e_cost\"]\n",
    "final_df_05[\"P1_P2\"] = final_df_05[\"P1\"]/1000.0 + final_df_05[\"P2\"]/1000.0\n",
    "final_df_05.head()"
   ]
  },
  {
   "cell_type": "code",
   "execution_count": 22,
   "metadata": {},
   "outputs": [],
   "source": [
    "plot_df(final_df_05, filename='all_columns_ddpg_multienv_008_2014.html')"
   ]
  },
  {
   "cell_type": "code",
   "execution_count": null,
   "metadata": {},
   "outputs": [],
   "source": []
  },
  {
   "cell_type": "code",
   "execution_count": 23,
   "metadata": {},
   "outputs": [
    {
     "output_type": "execute_result",
     "data": {
      "text/plain": "                     e_price  OutRH  OutSI  OutTemp        P1        P2  \\\n2014-01-01 00:00:00        8    0.0    0.0    0.000  0.000000  0.000000   \n2014-01-01 00:15:00        8   77.0    0.0    9.350  0.000179  0.000179   \n2014-01-01 00:30:00        8   74.0    0.0    9.075  0.000179  0.000179   \n2014-01-01 00:45:00        8   71.0    0.0    8.800  0.000179  0.000179   \n2014-01-01 01:00:00        8   71.5    0.0    8.275  0.000179  0.000179   \n\n                          SOC    TOW  ZoneTempB  ZoneTotalIlluB  net_energy  \\\n2014-01-01 00:00:00  0.000000   0.00   0.000000        0.000000    0.000000   \n2014-01-01 00:15:00  0.150020  48.25  25.643523      269.505862    1.968290   \n2014-01-01 00:30:00  0.182107  48.50  25.015022       49.477694    0.483033   \n2014-01-01 00:45:00  0.196623  48.75  24.976801        0.000112    0.354788   \n2014-01-01 01:00:00  0.206313  49.00  24.963801        0.000000    0.322720   \n\n                     net_power      reward    LigB_input       P_ctrl  \\\n2014-01-01 00:00:00   0.000000    0.000000  0.000000e+00     0.000000   \n2014-01-01 00:15:00   7.873162 -219.485125  5.009403e-01  1519.704102   \n2014-01-01 00:30:00   1.932133  -26.929101  9.196597e-02   974.851074   \n2014-01-01 00:45:00   1.419153  -19.779443  2.086163e-07   441.025635   \n2014-01-01 01:00:00   1.290882  -17.991668  0.000000e+00   294.405762   \n\n                        SaFrB    SaTempB     e_cost    Tcomfort         P1_P2  \n2014-01-01 00:00:00  0.000000   0.000000   0.000000    0.000000  0.000000e+00  \n2014-01-01 00:15:00  1.157568  29.999996  21.946439 -197.538686  3.573101e-07  \n2014-01-01 00:30:00  0.100009  30.000000   5.385820  -21.543281  3.573314e-07  \n2014-01-01 00:45:00  0.100000  30.000000   3.955889  -15.823555  3.573628e-07  \n2014-01-01 01:00:00  0.100000  30.000000   3.598334  -14.393334  3.574020e-07  ",
      "text/html": "<div>\n<style scoped>\n    .dataframe tbody tr th:only-of-type {\n        vertical-align: middle;\n    }\n\n    .dataframe tbody tr th {\n        vertical-align: top;\n    }\n\n    .dataframe thead th {\n        text-align: right;\n    }\n</style>\n<table border=\"1\" class=\"dataframe\">\n  <thead>\n    <tr style=\"text-align: right;\">\n      <th></th>\n      <th>e_price</th>\n      <th>OutRH</th>\n      <th>OutSI</th>\n      <th>OutTemp</th>\n      <th>P1</th>\n      <th>P2</th>\n      <th>SOC</th>\n      <th>TOW</th>\n      <th>ZoneTempB</th>\n      <th>ZoneTotalIlluB</th>\n      <th>net_energy</th>\n      <th>net_power</th>\n      <th>reward</th>\n      <th>LigB_input</th>\n      <th>P_ctrl</th>\n      <th>SaFrB</th>\n      <th>SaTempB</th>\n      <th>e_cost</th>\n      <th>Tcomfort</th>\n      <th>P1_P2</th>\n    </tr>\n  </thead>\n  <tbody>\n    <tr>\n      <th>2014-01-01 00:00:00</th>\n      <td>8</td>\n      <td>0.0</td>\n      <td>0.0</td>\n      <td>0.000</td>\n      <td>0.000000</td>\n      <td>0.000000</td>\n      <td>0.000000</td>\n      <td>0.00</td>\n      <td>0.000000</td>\n      <td>0.000000</td>\n      <td>0.000000</td>\n      <td>0.000000</td>\n      <td>0.000000</td>\n      <td>0.000000e+00</td>\n      <td>0.000000</td>\n      <td>0.000000</td>\n      <td>0.000000</td>\n      <td>0.000000</td>\n      <td>0.000000</td>\n      <td>0.000000e+00</td>\n    </tr>\n    <tr>\n      <th>2014-01-01 00:15:00</th>\n      <td>8</td>\n      <td>77.0</td>\n      <td>0.0</td>\n      <td>9.350</td>\n      <td>0.000179</td>\n      <td>0.000179</td>\n      <td>0.150020</td>\n      <td>48.25</td>\n      <td>25.643523</td>\n      <td>269.505862</td>\n      <td>1.968290</td>\n      <td>7.873162</td>\n      <td>-219.485125</td>\n      <td>5.009403e-01</td>\n      <td>1519.704102</td>\n      <td>1.157568</td>\n      <td>29.999996</td>\n      <td>21.946439</td>\n      <td>-197.538686</td>\n      <td>3.573101e-07</td>\n    </tr>\n    <tr>\n      <th>2014-01-01 00:30:00</th>\n      <td>8</td>\n      <td>74.0</td>\n      <td>0.0</td>\n      <td>9.075</td>\n      <td>0.000179</td>\n      <td>0.000179</td>\n      <td>0.182107</td>\n      <td>48.50</td>\n      <td>25.015022</td>\n      <td>49.477694</td>\n      <td>0.483033</td>\n      <td>1.932133</td>\n      <td>-26.929101</td>\n      <td>9.196597e-02</td>\n      <td>974.851074</td>\n      <td>0.100009</td>\n      <td>30.000000</td>\n      <td>5.385820</td>\n      <td>-21.543281</td>\n      <td>3.573314e-07</td>\n    </tr>\n    <tr>\n      <th>2014-01-01 00:45:00</th>\n      <td>8</td>\n      <td>71.0</td>\n      <td>0.0</td>\n      <td>8.800</td>\n      <td>0.000179</td>\n      <td>0.000179</td>\n      <td>0.196623</td>\n      <td>48.75</td>\n      <td>24.976801</td>\n      <td>0.000112</td>\n      <td>0.354788</td>\n      <td>1.419153</td>\n      <td>-19.779443</td>\n      <td>2.086163e-07</td>\n      <td>441.025635</td>\n      <td>0.100000</td>\n      <td>30.000000</td>\n      <td>3.955889</td>\n      <td>-15.823555</td>\n      <td>3.573628e-07</td>\n    </tr>\n    <tr>\n      <th>2014-01-01 01:00:00</th>\n      <td>8</td>\n      <td>71.5</td>\n      <td>0.0</td>\n      <td>8.275</td>\n      <td>0.000179</td>\n      <td>0.000179</td>\n      <td>0.206313</td>\n      <td>49.00</td>\n      <td>24.963801</td>\n      <td>0.000000</td>\n      <td>0.322720</td>\n      <td>1.290882</td>\n      <td>-17.991668</td>\n      <td>0.000000e+00</td>\n      <td>294.405762</td>\n      <td>0.100000</td>\n      <td>30.000000</td>\n      <td>3.598334</td>\n      <td>-14.393334</td>\n      <td>3.574020e-07</td>\n    </tr>\n  </tbody>\n</table>\n</div>"
     },
     "metadata": {},
     "execution_count": 23
    }
   ],
   "source": [
    "index = pd.date_range(start='1/1/{0}'.format(2014), end='1/1/{0}'.format(2014+1), periods=35040+1)\n",
    "index = index[:-1]\n",
    "\n",
    "actions_df_05 = pd.read_csv(\"../preds/actions_df_ddpg_multienv_009_2014.csv\")\n",
    "reward_df_05 = pd.read_csv(\"../preds/reward_df_ddpg_multienv_009_2014.csv\")\n",
    "obs_df_05 = pd.read_csv(\"../preds/obs_df_ddpg_multienv_009_2014.csv\")\n",
    "e_cost_df_05 = pd.read_csv(\"../preds/e_costs_df_ddpg_multienv_009_2014.csv\")\n",
    "#net_energy_df_05 = pd.read_csv(\"../preds/net_energy_df_ddpg_multienv_002.csv\")\n",
    "#net_power_df_05 = pd.read_csv(\"../preds/net_power_df_ddpg_multienv_002.csv\")\n",
    "\n",
    "\n",
    "actions_df_05.index = pd.to_datetime(index)\n",
    "reward_df_05.index = pd.to_datetime(index)\n",
    "obs_df_05.index = pd.to_datetime(index)\n",
    "e_cost_df_05.index = pd.to_datetime(index)\n",
    "#net_energy_df_05.index = pd.to_datetime(index)\n",
    "#net_power_df_05.index = pd.to_datetime(index)\n",
    "\n",
    "e_price_2017 = pd.read_csv(\"../e_tariffs/e_price_2014.csv\", index_col=0, parse_dates=True)\n",
    "e_price_2017.index = pd.to_datetime(e_price_2017.index)\n",
    "\n",
    "final_df_05 = pd.concat([e_price_2017, obs_df_05, reward_df_05, actions_df_05,e_cost_df_05],axis=1) #,net_energy_df_05,net_power_df_05\n",
    "final_df_05[\"Tcomfort\"] = final_df_05[\"reward\"] + final_df_05[\"e_cost\"]\n",
    "final_df_05[\"P1_P2\"] = final_df_05[\"P1\"]/1000.0 + final_df_05[\"P2\"]/1000.0\n",
    "final_df_05.head()"
   ]
  },
  {
   "cell_type": "code",
   "execution_count": 24,
   "metadata": {},
   "outputs": [],
   "source": [
    "plot_df(final_df_05, filename='all_columns_ddpg_multienv_009_2014.html')\n"
   ]
  },
  {
   "cell_type": "code",
   "execution_count": null,
   "metadata": {},
   "outputs": [],
   "source": []
  },
  {
   "cell_type": "code",
   "execution_count": 25,
   "metadata": {},
   "outputs": [
    {
     "output_type": "execute_result",
     "data": {
      "text/plain": "                     e_price  OutRH  OutSI  OutTemp        P1        P2  \\\n2014-01-01 00:00:00        8    0.0    0.0    0.000  0.000000  0.000000   \n2014-01-01 00:15:00        8   77.0    0.0    9.350  0.000179  0.000179   \n2014-01-01 00:30:00        8   74.0    0.0    9.075  0.000179  0.000179   \n2014-01-01 00:45:00        8   71.0    0.0    8.800  0.000179  0.000179   \n2014-01-01 01:00:00        8   71.5    0.0    8.275  0.000179  0.000179   \n\n                          SOC    TOW  ZoneTempB  net_energy  net_power  \\\n2014-01-01 00:00:00  0.000000   0.00   0.000000    0.000000   0.000000   \n2014-01-01 00:15:00  0.208617  48.25  22.759760    1.120149   4.480596   \n2014-01-01 00:30:00  0.210419  48.50  22.432662    0.168214   0.672857   \n2014-01-01 00:45:00  0.216565  48.75  22.207454    0.157257   0.629027   \n2014-01-01 01:00:00  0.220399  49.00  22.139365    0.164387   0.657547   \n\n                         reward       P_ctrl  SaFrB    SaTempB     e_cost  \\\n2014-01-01 00:00:00    0.000000     0.000000    0.0   0.000000   0.000000   \n2014-01-01 00:15:00 -124.896614  3300.000000    0.1  29.985271  12.489661   \n2014-01-01 00:30:00  -18.755894    54.749023    0.1  24.711065   1.875589   \n2014-01-01 00:45:00  -17.534136   186.717773    0.1  22.891743   1.753414   \n2014-01-01 01:00:00  -18.329114   116.498291    0.1  23.875410   1.832911   \n\n                       Tcomfort         P1_P2  \n2014-01-01 00:00:00    0.000000  0.000000e+00  \n2014-01-01 00:15:00 -112.406953  3.573101e-07  \n2014-01-01 00:30:00  -16.880305  3.573314e-07  \n2014-01-01 00:45:00  -15.780723  3.573628e-07  \n2014-01-01 01:00:00  -16.496203  3.574020e-07  ",
      "text/html": "<div>\n<style scoped>\n    .dataframe tbody tr th:only-of-type {\n        vertical-align: middle;\n    }\n\n    .dataframe tbody tr th {\n        vertical-align: top;\n    }\n\n    .dataframe thead th {\n        text-align: right;\n    }\n</style>\n<table border=\"1\" class=\"dataframe\">\n  <thead>\n    <tr style=\"text-align: right;\">\n      <th></th>\n      <th>e_price</th>\n      <th>OutRH</th>\n      <th>OutSI</th>\n      <th>OutTemp</th>\n      <th>P1</th>\n      <th>P2</th>\n      <th>SOC</th>\n      <th>TOW</th>\n      <th>ZoneTempB</th>\n      <th>net_energy</th>\n      <th>net_power</th>\n      <th>reward</th>\n      <th>P_ctrl</th>\n      <th>SaFrB</th>\n      <th>SaTempB</th>\n      <th>e_cost</th>\n      <th>Tcomfort</th>\n      <th>P1_P2</th>\n    </tr>\n  </thead>\n  <tbody>\n    <tr>\n      <th>2014-01-01 00:00:00</th>\n      <td>8</td>\n      <td>0.0</td>\n      <td>0.0</td>\n      <td>0.000</td>\n      <td>0.000000</td>\n      <td>0.000000</td>\n      <td>0.000000</td>\n      <td>0.00</td>\n      <td>0.000000</td>\n      <td>0.000000</td>\n      <td>0.000000</td>\n      <td>0.000000</td>\n      <td>0.000000</td>\n      <td>0.0</td>\n      <td>0.000000</td>\n      <td>0.000000</td>\n      <td>0.000000</td>\n      <td>0.000000e+00</td>\n    </tr>\n    <tr>\n      <th>2014-01-01 00:15:00</th>\n      <td>8</td>\n      <td>77.0</td>\n      <td>0.0</td>\n      <td>9.350</td>\n      <td>0.000179</td>\n      <td>0.000179</td>\n      <td>0.208617</td>\n      <td>48.25</td>\n      <td>22.759760</td>\n      <td>1.120149</td>\n      <td>4.480596</td>\n      <td>-124.896614</td>\n      <td>3300.000000</td>\n      <td>0.1</td>\n      <td>29.985271</td>\n      <td>12.489661</td>\n      <td>-112.406953</td>\n      <td>3.573101e-07</td>\n    </tr>\n    <tr>\n      <th>2014-01-01 00:30:00</th>\n      <td>8</td>\n      <td>74.0</td>\n      <td>0.0</td>\n      <td>9.075</td>\n      <td>0.000179</td>\n      <td>0.000179</td>\n      <td>0.210419</td>\n      <td>48.50</td>\n      <td>22.432662</td>\n      <td>0.168214</td>\n      <td>0.672857</td>\n      <td>-18.755894</td>\n      <td>54.749023</td>\n      <td>0.1</td>\n      <td>24.711065</td>\n      <td>1.875589</td>\n      <td>-16.880305</td>\n      <td>3.573314e-07</td>\n    </tr>\n    <tr>\n      <th>2014-01-01 00:45:00</th>\n      <td>8</td>\n      <td>71.0</td>\n      <td>0.0</td>\n      <td>8.800</td>\n      <td>0.000179</td>\n      <td>0.000179</td>\n      <td>0.216565</td>\n      <td>48.75</td>\n      <td>22.207454</td>\n      <td>0.157257</td>\n      <td>0.629027</td>\n      <td>-17.534136</td>\n      <td>186.717773</td>\n      <td>0.1</td>\n      <td>22.891743</td>\n      <td>1.753414</td>\n      <td>-15.780723</td>\n      <td>3.573628e-07</td>\n    </tr>\n    <tr>\n      <th>2014-01-01 01:00:00</th>\n      <td>8</td>\n      <td>71.5</td>\n      <td>0.0</td>\n      <td>8.275</td>\n      <td>0.000179</td>\n      <td>0.000179</td>\n      <td>0.220399</td>\n      <td>49.00</td>\n      <td>22.139365</td>\n      <td>0.164387</td>\n      <td>0.657547</td>\n      <td>-18.329114</td>\n      <td>116.498291</td>\n      <td>0.1</td>\n      <td>23.875410</td>\n      <td>1.832911</td>\n      <td>-16.496203</td>\n      <td>3.574020e-07</td>\n    </tr>\n  </tbody>\n</table>\n</div>"
     },
     "metadata": {},
     "execution_count": 25
    }
   ],
   "source": [
    "index = pd.date_range(start='1/1/{0}'.format(2014), end='1/1/{0}'.format(2014+1), periods=35040+1)\n",
    "index = index[:-1]\n",
    "\n",
    "actions_df_05 = pd.read_csv(\"../preds/actions_df_ddpg_multienv_010_2014.csv\")\n",
    "reward_df_05 = pd.read_csv(\"../preds/reward_df_ddpg_multienv_010_2014.csv\")\n",
    "obs_df_05 = pd.read_csv(\"../preds/obs_df_ddpg_multienv_010_2014.csv\")\n",
    "e_cost_df_05 = pd.read_csv(\"../preds/e_costs_df_ddpg_multienv_010_2014.csv\")\n",
    "#net_energy_df_05 = pd.read_csv(\"../preds/net_energy_df_ddpg_multienv_002.csv\")\n",
    "#net_power_df_05 = pd.read_csv(\"../preds/net_power_df_ddpg_multienv_002.csv\")\n",
    "\n",
    "\n",
    "actions_df_05.index = pd.to_datetime(index)\n",
    "reward_df_05.index = pd.to_datetime(index)\n",
    "obs_df_05.index = pd.to_datetime(index)\n",
    "e_cost_df_05.index = pd.to_datetime(index)\n",
    "#net_energy_df_05.index = pd.to_datetime(index)\n",
    "#net_power_df_05.index = pd.to_datetime(index)\n",
    "\n",
    "e_price_2017 = pd.read_csv(\"../e_tariffs/e_price_2014.csv\", index_col=0, parse_dates=True)\n",
    "e_price_2017.index = pd.to_datetime(e_price_2017.index)\n",
    "\n",
    "final_df_05 = pd.concat([e_price_2017, obs_df_05, reward_df_05, actions_df_05,e_cost_df_05],axis=1) #,net_energy_df_05,net_power_df_05\n",
    "final_df_05[\"Tcomfort\"] = final_df_05[\"reward\"] + final_df_05[\"e_cost\"]\n",
    "final_df_05[\"P1_P2\"] = final_df_05[\"P1\"]/1000.0 + final_df_05[\"P2\"]/1000.0\n",
    "final_df_05.head()"
   ]
  },
  {
   "cell_type": "code",
   "execution_count": 26,
   "metadata": {},
   "outputs": [],
   "source": [
    "plot_df(final_df_05, filename='all_columns_ddpg_multienv_010_2014.html')\n"
   ]
  },
  {
   "cell_type": "code",
   "execution_count": null,
   "metadata": {},
   "outputs": [],
   "source": []
  },
  {
   "cell_type": "code",
   "execution_count": null,
   "metadata": {},
   "outputs": [],
   "source": []
  },
  {
   "cell_type": "code",
   "execution_count": 33,
   "metadata": {},
   "outputs": [
    {
     "output_type": "execute_result",
     "data": {
      "text/plain": "                     e_price     reward  OutRH  OutSI  OutTemp        P1  \\\n2014-01-01 00:00:00        8   0.000000    0.0    0.0    0.000  0.000000   \n2014-01-01 00:15:00        8 -41.770553   77.0    0.0    9.350  0.000179   \n2014-01-01 00:30:00        8 -46.911042   74.0    0.0    9.075  0.000179   \n2014-01-01 00:45:00        8 -46.045187   71.0    0.0    8.800  0.000179   \n2014-01-01 01:00:00        8 -46.205989   71.5    0.0    8.275  0.000179   \n\n                           P2       SOC    TOW  ZoneTempB  ZoneTotalIlluB  \\\n2014-01-01 00:00:00  0.000000  0.000000   0.00   0.000000        0.000000   \n2014-01-01 00:15:00  0.000179  0.134738  48.25  23.012124        0.059036   \n2014-01-01 00:30:00  0.000179  0.173581  48.50  22.605028        0.001812   \n2014-01-01 00:45:00  0.000179  0.210482  48.75  22.232725        0.000417   \n2014-01-01 01:00:00  0.000179  0.247075  49.00  21.911412        0.000080   \n\n                     net_energy  net_power    LigB_input       P_ctrl  SaFrB  \\\n2014-01-01 00:00:00    0.000000   0.000000  0.000000e+00     0.000000    0.0   \n2014-01-01 00:15:00    0.374624   1.498495  1.097322e-04  1055.412598    0.1   \n2014-01-01 00:30:00    0.420727   1.682907  3.367662e-06  1180.135742    0.1   \n2014-01-01 00:45:00    0.412961   1.651845  7.748604e-07  1121.101562    0.1   \n2014-01-01 01:00:00    0.414403   1.657614  1.490116e-07  1111.771973    0.1   \n\n                       SaTempB    e_cost   Tcomfort         P1_P2  \n2014-01-01 00:00:00   0.000000  0.000000   0.000000  0.000000e+00  \n2014-01-01 00:15:00  23.361013  4.177055 -37.593498  3.573101e-07  \n2014-01-01 00:30:00  13.528538  4.691104 -42.219938  3.573314e-07  \n2014-01-01 00:45:00  12.662762  4.604519 -41.440668  3.573628e-07  \n2014-01-01 01:00:00  12.190057  4.620599 -41.585390  3.574020e-07  ",
      "text/html": "<div>\n<style scoped>\n    .dataframe tbody tr th:only-of-type {\n        vertical-align: middle;\n    }\n\n    .dataframe tbody tr th {\n        vertical-align: top;\n    }\n\n    .dataframe thead th {\n        text-align: right;\n    }\n</style>\n<table border=\"1\" class=\"dataframe\">\n  <thead>\n    <tr style=\"text-align: right;\">\n      <th></th>\n      <th>e_price</th>\n      <th>reward</th>\n      <th>OutRH</th>\n      <th>OutSI</th>\n      <th>OutTemp</th>\n      <th>P1</th>\n      <th>P2</th>\n      <th>SOC</th>\n      <th>TOW</th>\n      <th>ZoneTempB</th>\n      <th>ZoneTotalIlluB</th>\n      <th>net_energy</th>\n      <th>net_power</th>\n      <th>LigB_input</th>\n      <th>P_ctrl</th>\n      <th>SaFrB</th>\n      <th>SaTempB</th>\n      <th>e_cost</th>\n      <th>Tcomfort</th>\n      <th>P1_P2</th>\n    </tr>\n  </thead>\n  <tbody>\n    <tr>\n      <th>2014-01-01 00:00:00</th>\n      <td>8</td>\n      <td>0.000000</td>\n      <td>0.0</td>\n      <td>0.0</td>\n      <td>0.000</td>\n      <td>0.000000</td>\n      <td>0.000000</td>\n      <td>0.000000</td>\n      <td>0.00</td>\n      <td>0.000000</td>\n      <td>0.000000</td>\n      <td>0.000000</td>\n      <td>0.000000</td>\n      <td>0.000000e+00</td>\n      <td>0.000000</td>\n      <td>0.0</td>\n      <td>0.000000</td>\n      <td>0.000000</td>\n      <td>0.000000</td>\n      <td>0.000000e+00</td>\n    </tr>\n    <tr>\n      <th>2014-01-01 00:15:00</th>\n      <td>8</td>\n      <td>-41.770553</td>\n      <td>77.0</td>\n      <td>0.0</td>\n      <td>9.350</td>\n      <td>0.000179</td>\n      <td>0.000179</td>\n      <td>0.134738</td>\n      <td>48.25</td>\n      <td>23.012124</td>\n      <td>0.059036</td>\n      <td>0.374624</td>\n      <td>1.498495</td>\n      <td>1.097322e-04</td>\n      <td>1055.412598</td>\n      <td>0.1</td>\n      <td>23.361013</td>\n      <td>4.177055</td>\n      <td>-37.593498</td>\n      <td>3.573101e-07</td>\n    </tr>\n    <tr>\n      <th>2014-01-01 00:30:00</th>\n      <td>8</td>\n      <td>-46.911042</td>\n      <td>74.0</td>\n      <td>0.0</td>\n      <td>9.075</td>\n      <td>0.000179</td>\n      <td>0.000179</td>\n      <td>0.173581</td>\n      <td>48.50</td>\n      <td>22.605028</td>\n      <td>0.001812</td>\n      <td>0.420727</td>\n      <td>1.682907</td>\n      <td>3.367662e-06</td>\n      <td>1180.135742</td>\n      <td>0.1</td>\n      <td>13.528538</td>\n      <td>4.691104</td>\n      <td>-42.219938</td>\n      <td>3.573314e-07</td>\n    </tr>\n    <tr>\n      <th>2014-01-01 00:45:00</th>\n      <td>8</td>\n      <td>-46.045187</td>\n      <td>71.0</td>\n      <td>0.0</td>\n      <td>8.800</td>\n      <td>0.000179</td>\n      <td>0.000179</td>\n      <td>0.210482</td>\n      <td>48.75</td>\n      <td>22.232725</td>\n      <td>0.000417</td>\n      <td>0.412961</td>\n      <td>1.651845</td>\n      <td>7.748604e-07</td>\n      <td>1121.101562</td>\n      <td>0.1</td>\n      <td>12.662762</td>\n      <td>4.604519</td>\n      <td>-41.440668</td>\n      <td>3.573628e-07</td>\n    </tr>\n    <tr>\n      <th>2014-01-01 01:00:00</th>\n      <td>8</td>\n      <td>-46.205989</td>\n      <td>71.5</td>\n      <td>0.0</td>\n      <td>8.275</td>\n      <td>0.000179</td>\n      <td>0.000179</td>\n      <td>0.247075</td>\n      <td>49.00</td>\n      <td>21.911412</td>\n      <td>0.000080</td>\n      <td>0.414403</td>\n      <td>1.657614</td>\n      <td>1.490116e-07</td>\n      <td>1111.771973</td>\n      <td>0.1</td>\n      <td>12.190057</td>\n      <td>4.620599</td>\n      <td>-41.585390</td>\n      <td>3.574020e-07</td>\n    </tr>\n  </tbody>\n</table>\n</div>"
     },
     "metadata": {},
     "execution_count": 33
    }
   ],
   "source": [
    "index = pd.date_range(start='1/1/{0}'.format(2014), end='1/1/{0}'.format(2014+1), periods=35040+1)\n",
    "index = index[:-1]\n",
    "\n",
    "actions_df_05 = pd.read_csv(\"../saves_LRC/saves/DRL_Master/Test_12/actions_df_ddpg_test_12_2014.csv\")\n",
    "reward_df_05 = pd.read_csv(\"../saves_LRC/saves/DRL_Master/Test_12/obs_df_ddpg_test_12_2014.csv\")\n",
    "obs_df_05 = pd.read_csv(\"../saves_LRC/saves/DRL_Master/Test_12/reward_df_ddpg_test_12_2014.csv\")\n",
    "e_cost_df_05 = pd.read_csv(\"../saves_LRC/saves/DRL_Master/Test_12/e_costs_df_ddpg_test_12_2014.csv\")\n",
    "#net_energy_df_05 = pd.read_csv(\"../preds/net_energy_df_ddpg_multienv_002.csv\")\n",
    "#net_power_df_05 = pd.read_csv(\"../preds/net_power_df_ddpg_multienv_002.csv\")\n",
    "\n",
    "\n",
    "actions_df_05.index = pd.to_datetime(index)\n",
    "reward_df_05.index = pd.to_datetime(index)\n",
    "obs_df_05.index = pd.to_datetime(index)\n",
    "e_cost_df_05.index = pd.to_datetime(index)\n",
    "#net_energy_df_05.index = pd.to_datetime(index)\n",
    "#net_power_df_05.index = pd.to_datetime(index)\n",
    "\n",
    "e_price_2017 = pd.read_csv(\"../e_tariffs/e_d_price_2014.csv\", index_col=0, parse_dates=True)\n",
    "e_price_2017.index = pd.to_datetime(e_price_2017.index)\n",
    "\n",
    "final_df_05 = pd.concat([e_price_2017, obs_df_05, reward_df_05, actions_df_05,e_cost_df_05],axis=1) #,net_energy_df_05,net_power_df_05\n",
    "final_df_05[\"Tcomfort\"] = final_df_05[\"reward\"] + final_df_05[\"e_cost\"]\n",
    "final_df_05[\"P1_P2\"] = final_df_05[\"P1\"]/1000.0 + final_df_05[\"P2\"]/1000.0\n",
    "final_df_05.head()"
   ]
  },
  {
   "cell_type": "code",
   "execution_count": 34,
   "metadata": {},
   "outputs": [],
   "source": [
    "plot_df(final_df_05, filename='../saves_LRC/saves/DRL_Master/Test_12/all_columns_ddpg_test_12_2014.html')\n"
   ]
  },
  {
   "cell_type": "code",
   "execution_count": null,
   "metadata": {},
   "outputs": [],
   "source": []
  },
  {
   "cell_type": "code",
   "execution_count": null,
   "metadata": {},
   "outputs": [],
   "source": []
  },
  {
   "cell_type": "code",
   "execution_count": null,
   "metadata": {},
   "outputs": [],
   "source": []
  },
  {
   "cell_type": "code",
   "execution_count": 35,
   "metadata": {},
   "outputs": [
    {
     "output_type": "execute_result",
     "data": {
      "text/plain": "                     e_price  d_price      reward  OutRH  OutSI  OutTemp  \\\n2014-01-01 00:00:00   0.1115    21.08    0.000000    0.0    0.0    0.000   \n2014-01-01 00:15:00   0.1115    21.08 -107.016936   77.0    0.0    9.350   \n2014-01-01 00:30:00   0.1115    21.08   -8.258670   74.0    0.0    9.075   \n2014-01-01 00:45:00   0.1115    21.08  -12.503543   71.0    0.0    8.800   \n2014-01-01 01:00:00   0.1115    21.08  -11.659187   71.5    0.0    8.275   \n\n                           P1        P2       SOC    TOW  ZoneTempB  \\\n2014-01-01 00:00:00  0.000000  0.000000  0.000000   0.00   0.000000   \n2014-01-01 00:15:00  0.000179  0.000179  0.206973  48.25  22.823694   \n2014-01-01 00:30:00  0.000179  0.000179  0.194544  48.50  22.824362   \n2014-01-01 00:45:00  0.000179  0.000179  0.189014  48.75  22.678790   \n2014-01-01 01:00:00  0.000179  0.000179  0.183900  49.00  22.426674   \n\n                     net_energy  net_power       P_ctrl  SaFrB    SaTempB  \\\n2014-01-01 00:00:00    0.000000   0.000000     0.000000    0.0   0.000000   \n2014-01-01 00:15:00    0.959793   3.839173  3250.034668    0.1  18.361404   \n2014-01-01 00:30:00    0.074069   0.296275  -321.235840    0.1  22.707525   \n2014-01-01 00:45:00    0.112139   0.448558  -142.930664    0.1  18.270142   \n2014-01-01 01:00:00    0.104567   0.418267  -132.175537    0.1  19.499081   \n\n                        e_cost   Tcomfort         P1_P2  \n2014-01-01 00:00:00   0.000000   0.000000  0.000000e+00  \n2014-01-01 00:15:00  10.701694 -96.315243  3.573101e-07  \n2014-01-01 00:30:00   0.825867  -7.432803  3.573314e-07  \n2014-01-01 00:45:00   1.250354 -11.253188  3.573628e-07  \n2014-01-01 01:00:00   1.165919 -10.493268  3.574020e-07  ",
      "text/html": "<div>\n<style scoped>\n    .dataframe tbody tr th:only-of-type {\n        vertical-align: middle;\n    }\n\n    .dataframe tbody tr th {\n        vertical-align: top;\n    }\n\n    .dataframe thead th {\n        text-align: right;\n    }\n</style>\n<table border=\"1\" class=\"dataframe\">\n  <thead>\n    <tr style=\"text-align: right;\">\n      <th></th>\n      <th>e_price</th>\n      <th>d_price</th>\n      <th>reward</th>\n      <th>OutRH</th>\n      <th>OutSI</th>\n      <th>OutTemp</th>\n      <th>P1</th>\n      <th>P2</th>\n      <th>SOC</th>\n      <th>TOW</th>\n      <th>ZoneTempB</th>\n      <th>net_energy</th>\n      <th>net_power</th>\n      <th>P_ctrl</th>\n      <th>SaFrB</th>\n      <th>SaTempB</th>\n      <th>e_cost</th>\n      <th>Tcomfort</th>\n      <th>P1_P2</th>\n    </tr>\n  </thead>\n  <tbody>\n    <tr>\n      <th>2014-01-01 00:00:00</th>\n      <td>0.1115</td>\n      <td>21.08</td>\n      <td>0.000000</td>\n      <td>0.0</td>\n      <td>0.0</td>\n      <td>0.000</td>\n      <td>0.000000</td>\n      <td>0.000000</td>\n      <td>0.000000</td>\n      <td>0.00</td>\n      <td>0.000000</td>\n      <td>0.000000</td>\n      <td>0.000000</td>\n      <td>0.000000</td>\n      <td>0.0</td>\n      <td>0.000000</td>\n      <td>0.000000</td>\n      <td>0.000000</td>\n      <td>0.000000e+00</td>\n    </tr>\n    <tr>\n      <th>2014-01-01 00:15:00</th>\n      <td>0.1115</td>\n      <td>21.08</td>\n      <td>-107.016936</td>\n      <td>77.0</td>\n      <td>0.0</td>\n      <td>9.350</td>\n      <td>0.000179</td>\n      <td>0.000179</td>\n      <td>0.206973</td>\n      <td>48.25</td>\n      <td>22.823694</td>\n      <td>0.959793</td>\n      <td>3.839173</td>\n      <td>3250.034668</td>\n      <td>0.1</td>\n      <td>18.361404</td>\n      <td>10.701694</td>\n      <td>-96.315243</td>\n      <td>3.573101e-07</td>\n    </tr>\n    <tr>\n      <th>2014-01-01 00:30:00</th>\n      <td>0.1115</td>\n      <td>21.08</td>\n      <td>-8.258670</td>\n      <td>74.0</td>\n      <td>0.0</td>\n      <td>9.075</td>\n      <td>0.000179</td>\n      <td>0.000179</td>\n      <td>0.194544</td>\n      <td>48.50</td>\n      <td>22.824362</td>\n      <td>0.074069</td>\n      <td>0.296275</td>\n      <td>-321.235840</td>\n      <td>0.1</td>\n      <td>22.707525</td>\n      <td>0.825867</td>\n      <td>-7.432803</td>\n      <td>3.573314e-07</td>\n    </tr>\n    <tr>\n      <th>2014-01-01 00:45:00</th>\n      <td>0.1115</td>\n      <td>21.08</td>\n      <td>-12.503543</td>\n      <td>71.0</td>\n      <td>0.0</td>\n      <td>8.800</td>\n      <td>0.000179</td>\n      <td>0.000179</td>\n      <td>0.189014</td>\n      <td>48.75</td>\n      <td>22.678790</td>\n      <td>0.112139</td>\n      <td>0.448558</td>\n      <td>-142.930664</td>\n      <td>0.1</td>\n      <td>18.270142</td>\n      <td>1.250354</td>\n      <td>-11.253188</td>\n      <td>3.573628e-07</td>\n    </tr>\n    <tr>\n      <th>2014-01-01 01:00:00</th>\n      <td>0.1115</td>\n      <td>21.08</td>\n      <td>-11.659187</td>\n      <td>71.5</td>\n      <td>0.0</td>\n      <td>8.275</td>\n      <td>0.000179</td>\n      <td>0.000179</td>\n      <td>0.183900</td>\n      <td>49.00</td>\n      <td>22.426674</td>\n      <td>0.104567</td>\n      <td>0.418267</td>\n      <td>-132.175537</td>\n      <td>0.1</td>\n      <td>19.499081</td>\n      <td>1.165919</td>\n      <td>-10.493268</td>\n      <td>3.574020e-07</td>\n    </tr>\n  </tbody>\n</table>\n</div>"
     },
     "metadata": {},
     "execution_count": 35
    }
   ],
   "source": [
    "index = pd.date_range(start='1/1/{0}'.format(2014), end='1/1/{0}'.format(2014+1), periods=35040+1)\n",
    "index = index[:-1]\n",
    "\n",
    "actions_df_05 = pd.read_csv(\"../saves_LRC/saves/DRL_no_Lig_1/Test_10/actions_df_ddpg_test_10_2014.csv\")\n",
    "reward_df_05 = pd.read_csv(\"../saves_LRC/saves/DRL_no_Lig_1/Test_10/obs_df_ddpg_test_10_2014.csv\")\n",
    "obs_df_05 = pd.read_csv(\"../saves_LRC/saves/DRL_no_Lig_1/Test_10/reward_df_ddpg_test_10_2014.csv\")\n",
    "e_cost_df_05 = pd.read_csv(\"../saves_LRC/saves/DRL_no_Lig_1/Test_10/e_costs_df_ddpg_test_10_2014.csv\")\n",
    "\n",
    "#net_energy_df_05 = pd.read_csv(\"../preds/net_energy_df_ddpg_multienv_002.csv\")\n",
    "#net_power_df_05 = pd.read_csv(\"../preds/net_power_df_ddpg_multienv_002.csv\")\n",
    "\n",
    "\n",
    "actions_df_05.index = pd.to_datetime(index)\n",
    "reward_df_05.index = pd.to_datetime(index)\n",
    "obs_df_05.index = pd.to_datetime(index)\n",
    "e_cost_df_05.index = pd.to_datetime(index)\n",
    "#net_energy_df_05.index = pd.to_datetime(index)\n",
    "#net_power_df_05.index = pd.to_datetime(index)\n",
    "\n",
    "e_price_2017 = pd.read_csv(\"../e_tariffs/e_d_price_2014.csv\", index_col=0, parse_dates=True)\n",
    "e_price_2017.index = pd.to_datetime(e_price_2017.index)\n",
    "\n",
    "final_df_05 = pd.concat([e_price_2017, obs_df_05, reward_df_05, actions_df_05,e_cost_df_05],axis=1) #,net_energy_df_05,net_power_df_05\n",
    "final_df_05[\"Tcomfort\"] = final_df_05[\"reward\"] + final_df_05[\"e_cost\"]\n",
    "final_df_05[\"P1_P2\"] = final_df_05[\"P1\"]/1000.0 + final_df_05[\"P2\"]/1000.0\n",
    "final_df_05.head()"
   ]
  },
  {
   "cell_type": "code",
   "execution_count": 36,
   "metadata": {},
   "outputs": [],
   "source": [
    "plot_df(final_df_05, filename='../saves_LRC/saves/DRL_no_Lig_1/Test_10/all_columns_ddpg_test_10_2014.html')\n",
    "\n"
   ]
  },
  {
   "cell_type": "code",
   "execution_count": null,
   "metadata": {},
   "outputs": [],
   "source": []
  },
  {
   "cell_type": "code",
   "execution_count": null,
   "metadata": {},
   "outputs": [],
   "source": []
  },
  {
   "cell_type": "code",
   "execution_count": null,
   "metadata": {},
   "outputs": [],
   "source": []
  },
  {
   "cell_type": "code",
   "execution_count": null,
   "metadata": {},
   "outputs": [],
   "source": [
    "index = pd.date_range(start='1/1/{0}'.format(2014), end='1/1/{0}'.format(2014+1), periods=35040+1)\n",
    "index = index[:-1]\n",
    "\n",
    "actions_df_05 = pd.read_csv(\"../saves_LRC/saves/DRL_Master/Test_15/actions_df_ddpg_test_15_2014.csv\")\n",
    "reward_df_05 = pd.read_csv(\"../saves_LRC/saves/DRL_Master/Test_15/obs_df_ddpg_test_15_2014.csv\")\n",
    "obs_df_05 = pd.read_csv(\"../saves_LRC/saves/DRL_Master/Test_15/reward_df_ddpg_test_15_2014.csv\")\n",
    "e_cost_df_05 = pd.read_csv(\"../saves_LRC/saves/DRL_Master/Test_15/e_costs_df_ddpg_test_15_2014.csv\")\n",
    "#net_energy_df_05 = pd.read_csv(\"../preds/net_energy_df_ddpg_multienv_002.csv\")\n",
    "#net_power_df_05 = pd.read_csv(\"../preds/net_power_df_ddpg_multienv_002.csv\")\n",
    "\n",
    "\n",
    "actions_df_05.index = pd.to_datetime(index)\n",
    "reward_df_05.index = pd.to_datetime(index)\n",
    "obs_df_05.index = pd.to_datetime(index)\n",
    "e_cost_df_05.index = pd.to_datetime(index)\n",
    "#net_energy_df_05.index = pd.to_datetime(index)\n",
    "#net_power_df_05.index = pd.to_datetime(index)\n",
    "\n",
    "e_price_2017 = pd.read_csv(\"../e_tariffs/e_d_price_2014.csv\", index_col=0, parse_dates=True)\n",
    "e_price_2017.index = pd.to_datetime(e_price_2017.index)\n",
    "\n",
    "final_df_05 = pd.concat([e_price_2017, obs_df_05, reward_df_05, actions_df_05,e_cost_df_05],axis=1) #,net_energy_df_05,net_power_df_05\n",
    "final_df_05[\"Tcomfort\"] = final_df_05[\"reward\"] + final_df_05[\"e_cost\"]\n",
    "final_df_05[\"P1_P2\"] = final_df_05[\"P1\"]/1000.0 + final_df_05[\"P2\"]/1000.0\n",
    "final_df_05.head()"
   ]
  },
  {
   "cell_type": "code",
   "execution_count": null,
   "metadata": {},
   "outputs": [],
   "source": []
  },
  {
   "cell_type": "code",
   "execution_count": null,
   "metadata": {},
   "outputs": [],
   "source": [
    "plot_df(final_df_05, filename='../saves_LRC/saves/DRL_Master/Test_15/all_columns_ddpg_test_15_2014.html')"
   ]
  },
  {
   "cell_type": "code",
   "execution_count": null,
   "metadata": {},
   "outputs": [],
   "source": []
  },
  {
   "cell_type": "code",
   "execution_count": 2,
   "metadata": {},
   "outputs": [
    {
     "output_type": "execute_result",
     "data": {
      "text/plain": "                     e_price  d_price      reward  OutRH  OutSI  OutTemp  \\\n2014-01-01 00:00:00   0.1115    21.08    0.000000    0.0    0.0    0.000   \n2014-01-01 00:15:00   0.1115    21.08 -109.323938   77.0    0.0    9.350   \n2014-01-01 00:30:00   0.1115    21.08  -10.442409   74.0    0.0    9.075   \n2014-01-01 00:45:00   0.1115    21.08  -12.866881   71.0    0.0    8.800   \n2014-01-01 01:00:00   0.1115    21.08  -13.416228   71.5    0.0    8.275   \n\n                           P1        P2       SOC    TOW      ...       \\\n2014-01-01 00:00:00  0.000000  0.000000  0.000000   0.00      ...        \n2014-01-01 00:15:00  0.000179  0.000179  0.208617  48.25      ...        \n2014-01-01 00:30:00  0.000179  0.000179  0.199147  48.50      ...        \n2014-01-01 00:45:00  0.000179  0.000179  0.192995  48.75      ...        \n2014-01-01 01:00:00  0.000179  0.000179  0.187786  49.00      ...        \n\n                     ZoneTotalIlluB  net_energy  net_power  LigB_input  \\\n2014-01-01 00:00:00             0.0    0.000000   0.000000         0.0   \n2014-01-01 00:15:00             0.0    0.980484   3.921935         0.0   \n2014-01-01 00:30:00             0.0    0.093654   0.374616         0.0   \n2014-01-01 00:45:00             0.0    0.115398   0.461592         0.0   \n2014-01-01 01:00:00             0.0    0.120325   0.481300         0.0   \n\n                          P_ctrl  SaFrB  SaTempB     e_cost   Tcomfort  \\\n2014-01-01 00:00:00     0.000000    0.0      0.0   0.000000   0.000000   \n2014-01-01 00:15:00  3300.000000    0.1     10.0  10.932394 -98.391545   \n2014-01-01 00:30:00  -244.763672    0.1     10.0   1.044241  -9.398168   \n2014-01-01 00:45:00  -158.996826    0.1     10.0   1.286688 -11.580193   \n2014-01-01 01:00:00  -134.655762    0.1     10.0   1.341623 -12.074605   \n\n                            P1_P2  \n2014-01-01 00:00:00  0.000000e+00  \n2014-01-01 00:15:00  3.573101e-07  \n2014-01-01 00:30:00  3.573314e-07  \n2014-01-01 00:45:00  3.573628e-07  \n2014-01-01 01:00:00  3.574020e-07  \n\n[5 rows x 21 columns]",
      "text/html": "<div>\n<style scoped>\n    .dataframe tbody tr th:only-of-type {\n        vertical-align: middle;\n    }\n\n    .dataframe tbody tr th {\n        vertical-align: top;\n    }\n\n    .dataframe thead th {\n        text-align: right;\n    }\n</style>\n<table border=\"1\" class=\"dataframe\">\n  <thead>\n    <tr style=\"text-align: right;\">\n      <th></th>\n      <th>e_price</th>\n      <th>d_price</th>\n      <th>reward</th>\n      <th>OutRH</th>\n      <th>OutSI</th>\n      <th>OutTemp</th>\n      <th>P1</th>\n      <th>P2</th>\n      <th>SOC</th>\n      <th>TOW</th>\n      <th>...</th>\n      <th>ZoneTotalIlluB</th>\n      <th>net_energy</th>\n      <th>net_power</th>\n      <th>LigB_input</th>\n      <th>P_ctrl</th>\n      <th>SaFrB</th>\n      <th>SaTempB</th>\n      <th>e_cost</th>\n      <th>Tcomfort</th>\n      <th>P1_P2</th>\n    </tr>\n  </thead>\n  <tbody>\n    <tr>\n      <th>2014-01-01 00:00:00</th>\n      <td>0.1115</td>\n      <td>21.08</td>\n      <td>0.000000</td>\n      <td>0.0</td>\n      <td>0.0</td>\n      <td>0.000</td>\n      <td>0.000000</td>\n      <td>0.000000</td>\n      <td>0.000000</td>\n      <td>0.00</td>\n      <td>...</td>\n      <td>0.0</td>\n      <td>0.000000</td>\n      <td>0.000000</td>\n      <td>0.0</td>\n      <td>0.000000</td>\n      <td>0.0</td>\n      <td>0.0</td>\n      <td>0.000000</td>\n      <td>0.000000</td>\n      <td>0.000000e+00</td>\n    </tr>\n    <tr>\n      <th>2014-01-01 00:15:00</th>\n      <td>0.1115</td>\n      <td>21.08</td>\n      <td>-109.323938</td>\n      <td>77.0</td>\n      <td>0.0</td>\n      <td>9.350</td>\n      <td>0.000179</td>\n      <td>0.000179</td>\n      <td>0.208617</td>\n      <td>48.25</td>\n      <td>...</td>\n      <td>0.0</td>\n      <td>0.980484</td>\n      <td>3.921935</td>\n      <td>0.0</td>\n      <td>3300.000000</td>\n      <td>0.1</td>\n      <td>10.0</td>\n      <td>10.932394</td>\n      <td>-98.391545</td>\n      <td>3.573101e-07</td>\n    </tr>\n    <tr>\n      <th>2014-01-01 00:30:00</th>\n      <td>0.1115</td>\n      <td>21.08</td>\n      <td>-10.442409</td>\n      <td>74.0</td>\n      <td>0.0</td>\n      <td>9.075</td>\n      <td>0.000179</td>\n      <td>0.000179</td>\n      <td>0.199147</td>\n      <td>48.50</td>\n      <td>...</td>\n      <td>0.0</td>\n      <td>0.093654</td>\n      <td>0.374616</td>\n      <td>0.0</td>\n      <td>-244.763672</td>\n      <td>0.1</td>\n      <td>10.0</td>\n      <td>1.044241</td>\n      <td>-9.398168</td>\n      <td>3.573314e-07</td>\n    </tr>\n    <tr>\n      <th>2014-01-01 00:45:00</th>\n      <td>0.1115</td>\n      <td>21.08</td>\n      <td>-12.866881</td>\n      <td>71.0</td>\n      <td>0.0</td>\n      <td>8.800</td>\n      <td>0.000179</td>\n      <td>0.000179</td>\n      <td>0.192995</td>\n      <td>48.75</td>\n      <td>...</td>\n      <td>0.0</td>\n      <td>0.115398</td>\n      <td>0.461592</td>\n      <td>0.0</td>\n      <td>-158.996826</td>\n      <td>0.1</td>\n      <td>10.0</td>\n      <td>1.286688</td>\n      <td>-11.580193</td>\n      <td>3.573628e-07</td>\n    </tr>\n    <tr>\n      <th>2014-01-01 01:00:00</th>\n      <td>0.1115</td>\n      <td>21.08</td>\n      <td>-13.416228</td>\n      <td>71.5</td>\n      <td>0.0</td>\n      <td>8.275</td>\n      <td>0.000179</td>\n      <td>0.000179</td>\n      <td>0.187786</td>\n      <td>49.00</td>\n      <td>...</td>\n      <td>0.0</td>\n      <td>0.120325</td>\n      <td>0.481300</td>\n      <td>0.0</td>\n      <td>-134.655762</td>\n      <td>0.1</td>\n      <td>10.0</td>\n      <td>1.341623</td>\n      <td>-12.074605</td>\n      <td>3.574020e-07</td>\n    </tr>\n  </tbody>\n</table>\n<p>5 rows × 21 columns</p>\n</div>"
     },
     "metadata": {},
     "execution_count": 2
    }
   ],
   "source": [
    "index = pd.date_range(start='1/1/{0}'.format(2014), end='1/1/{0}'.format(2014+1), periods=35040+1)\n",
    "index = index[:-1]\n",
    "\n",
    "actions_df_05 = pd.read_csv(\"../saves_LRC/saves/DRL_Master/Test_20/actions_df_ddpg_test_20_2014.csv\")\n",
    "reward_df_05 = pd.read_csv(\"../saves_LRC/saves/DRL_Master/Test_20/obs_df_ddpg_test_20_2014.csv\")\n",
    "obs_df_05 = pd.read_csv(\"../saves_LRC/saves/DRL_Master/Test_20/reward_df_ddpg_test_20_2014.csv\")\n",
    "e_cost_df_05 = pd.read_csv(\"../saves_LRC/saves/DRL_Master/Test_20/e_costs_df_ddpg_test_20_2014.csv\")\n",
    "#net_energy_df_05 = pd.read_csv(\"../preds/net_energy_df_ddpg_multienv_002.csv\")\n",
    "#net_power_df_05 = pd.read_csv(\"../preds/net_power_df_ddpg_multienv_002.csv\")\n",
    "\n",
    "\n",
    "actions_df_05.index = pd.to_datetime(index)\n",
    "reward_df_05.index = pd.to_datetime(index)\n",
    "obs_df_05.index = pd.to_datetime(index)\n",
    "e_cost_df_05.index = pd.to_datetime(index)\n",
    "#net_energy_df_05.index = pd.to_datetime(index)\n",
    "#net_power_df_05.index = pd.to_datetime(index)\n",
    "\n",
    "e_price_2017 = pd.read_csv(\"../e_tariffs/e_d_price_2014.csv\", index_col=0, parse_dates=True)\n",
    "e_price_2017.index = pd.to_datetime(e_price_2017.index)\n",
    "\n",
    "final_df_05 = pd.concat([e_price_2017, obs_df_05, reward_df_05, actions_df_05,e_cost_df_05],axis=1) #,net_energy_df_05,net_power_df_05\n",
    "final_df_05[\"Tcomfort\"] = final_df_05[\"reward\"] + final_df_05[\"e_cost\"]\n",
    "final_df_05[\"P1_P2\"] = final_df_05[\"P1\"]/1000.0 + final_df_05[\"P2\"]/1000.0\n",
    "final_df_05.head()"
   ]
  },
  {
   "cell_type": "code",
   "execution_count": 3,
   "metadata": {},
   "outputs": [
    {
     "output_type": "execute_result",
     "data": {
      "text/plain": "43045.751756312064"
     },
     "metadata": {},
     "execution_count": 3
    }
   ],
   "source": [
    "final_df_05[\"e_cost\"].sum() "
   ]
  },
  {
   "cell_type": "code",
   "execution_count": 4,
   "metadata": {},
   "outputs": [],
   "source": [
    "plot_df(final_df_05, filename='../saves_LRC/saves/DRL_Master/Test_20/all_columns_ddpg_test_20_2014.html')"
   ]
  },
  {
   "cell_type": "code",
   "execution_count": null,
   "metadata": {},
   "outputs": [],
   "source": []
  },
  {
   "cell_type": "code",
   "execution_count": null,
   "metadata": {},
   "outputs": [],
   "source": []
  },
  {
   "cell_type": "code",
   "execution_count": null,
   "metadata": {},
   "outputs": [],
   "source": [
    "final_df_05[\"net_energy\"].sum()"
   ]
  },
  {
   "cell_type": "code",
   "execution_count": null,
   "metadata": {},
   "outputs": [],
   "source": []
  },
  {
   "cell_type": "code",
   "execution_count": null,
   "metadata": {},
   "outputs": [],
   "source": []
  },
  {
   "cell_type": "code",
   "execution_count": null,
   "metadata": {},
   "outputs": [],
   "source": []
  },
  {
   "cell_type": "code",
   "execution_count": 2,
   "metadata": {},
   "outputs": [
    {
     "output_type": "execute_result",
     "data": {
      "text/plain": "                     e_price  d_price      reward  OutRH  OutSI  OutTemp  \\\n2014-01-01 00:00:00   0.1115    21.08    0.000000    0.0    0.0    0.000   \n2014-01-01 00:15:00   0.1115    21.08 -109.695466   77.0    0.0    9.350   \n2014-01-01 00:30:00   0.1115    21.08  -16.444015   74.0    0.0    9.075   \n2014-01-01 00:45:00   0.1115    21.08   -7.668552   71.0    0.0    8.800   \n2014-01-01 01:00:00   0.1115    21.08  -14.234784   71.5    0.0    8.275   \n\n                           P1        P2       SOC    TOW      ...       \\\n2014-01-01 00:00:00  0.000000  0.000000  0.000000   0.00      ...        \n2014-01-01 00:15:00  0.000179  0.000179  0.208617  48.25      ...        \n2014-01-01 00:30:00  0.000179  0.000179  0.189439  48.50      ...        \n2014-01-01 00:45:00  0.000179  0.000179  0.186753  48.75      ...        \n2014-01-01 01:00:00  0.000179  0.000179  0.187292  49.00      ...        \n\n                     ZoneTotalIlluB  net_energy  net_power  LigB_input  \\\n2014-01-01 00:00:00             0.0    0.000000   0.000000         0.0   \n2014-01-01 00:15:00             0.0    0.961394   3.845577         0.0   \n2014-01-01 00:30:00             0.0    0.125058   0.500234         0.0   \n2014-01-01 00:45:00             0.0    0.046355   0.185419         0.0   \n2014-01-01 01:00:00             0.0    0.105245   0.420979         0.0   \n\n                          P_ctrl  SaFrB    SaTempB     e_cost   Tcomfort  \\\n2014-01-01 00:00:00     0.000000    0.0   0.000000   0.000000   0.000000   \n2014-01-01 00:15:00  3300.000000    0.1  12.282457  10.719547 -98.975919   \n2014-01-01 00:30:00  -495.678955    0.1  28.470566   1.394402 -15.049614   \n2014-01-01 00:45:00   -69.424316    0.1  20.867661   0.516855  -7.151697   \n2014-01-01 01:00:00    16.364990    0.1  16.458382   1.173478 -13.061306   \n\n                            P1_P2  \n2014-01-01 00:00:00  0.000000e+00  \n2014-01-01 00:15:00  3.573101e-07  \n2014-01-01 00:30:00  3.573314e-07  \n2014-01-01 00:45:00  3.573628e-07  \n2014-01-01 01:00:00  3.574020e-07  \n\n[5 rows x 21 columns]",
      "text/html": "<div>\n<style scoped>\n    .dataframe tbody tr th:only-of-type {\n        vertical-align: middle;\n    }\n\n    .dataframe tbody tr th {\n        vertical-align: top;\n    }\n\n    .dataframe thead th {\n        text-align: right;\n    }\n</style>\n<table border=\"1\" class=\"dataframe\">\n  <thead>\n    <tr style=\"text-align: right;\">\n      <th></th>\n      <th>e_price</th>\n      <th>d_price</th>\n      <th>reward</th>\n      <th>OutRH</th>\n      <th>OutSI</th>\n      <th>OutTemp</th>\n      <th>P1</th>\n      <th>P2</th>\n      <th>SOC</th>\n      <th>TOW</th>\n      <th>...</th>\n      <th>ZoneTotalIlluB</th>\n      <th>net_energy</th>\n      <th>net_power</th>\n      <th>LigB_input</th>\n      <th>P_ctrl</th>\n      <th>SaFrB</th>\n      <th>SaTempB</th>\n      <th>e_cost</th>\n      <th>Tcomfort</th>\n      <th>P1_P2</th>\n    </tr>\n  </thead>\n  <tbody>\n    <tr>\n      <th>2014-01-01 00:00:00</th>\n      <td>0.1115</td>\n      <td>21.08</td>\n      <td>0.000000</td>\n      <td>0.0</td>\n      <td>0.0</td>\n      <td>0.000</td>\n      <td>0.000000</td>\n      <td>0.000000</td>\n      <td>0.000000</td>\n      <td>0.00</td>\n      <td>...</td>\n      <td>0.0</td>\n      <td>0.000000</td>\n      <td>0.000000</td>\n      <td>0.0</td>\n      <td>0.000000</td>\n      <td>0.0</td>\n      <td>0.000000</td>\n      <td>0.000000</td>\n      <td>0.000000</td>\n      <td>0.000000e+00</td>\n    </tr>\n    <tr>\n      <th>2014-01-01 00:15:00</th>\n      <td>0.1115</td>\n      <td>21.08</td>\n      <td>-109.695466</td>\n      <td>77.0</td>\n      <td>0.0</td>\n      <td>9.350</td>\n      <td>0.000179</td>\n      <td>0.000179</td>\n      <td>0.208617</td>\n      <td>48.25</td>\n      <td>...</td>\n      <td>0.0</td>\n      <td>0.961394</td>\n      <td>3.845577</td>\n      <td>0.0</td>\n      <td>3300.000000</td>\n      <td>0.1</td>\n      <td>12.282457</td>\n      <td>10.719547</td>\n      <td>-98.975919</td>\n      <td>3.573101e-07</td>\n    </tr>\n    <tr>\n      <th>2014-01-01 00:30:00</th>\n      <td>0.1115</td>\n      <td>21.08</td>\n      <td>-16.444015</td>\n      <td>74.0</td>\n      <td>0.0</td>\n      <td>9.075</td>\n      <td>0.000179</td>\n      <td>0.000179</td>\n      <td>0.189439</td>\n      <td>48.50</td>\n      <td>...</td>\n      <td>0.0</td>\n      <td>0.125058</td>\n      <td>0.500234</td>\n      <td>0.0</td>\n      <td>-495.678955</td>\n      <td>0.1</td>\n      <td>28.470566</td>\n      <td>1.394402</td>\n      <td>-15.049614</td>\n      <td>3.573314e-07</td>\n    </tr>\n    <tr>\n      <th>2014-01-01 00:45:00</th>\n      <td>0.1115</td>\n      <td>21.08</td>\n      <td>-7.668552</td>\n      <td>71.0</td>\n      <td>0.0</td>\n      <td>8.800</td>\n      <td>0.000179</td>\n      <td>0.000179</td>\n      <td>0.186753</td>\n      <td>48.75</td>\n      <td>...</td>\n      <td>0.0</td>\n      <td>0.046355</td>\n      <td>0.185419</td>\n      <td>0.0</td>\n      <td>-69.424316</td>\n      <td>0.1</td>\n      <td>20.867661</td>\n      <td>0.516855</td>\n      <td>-7.151697</td>\n      <td>3.573628e-07</td>\n    </tr>\n    <tr>\n      <th>2014-01-01 01:00:00</th>\n      <td>0.1115</td>\n      <td>21.08</td>\n      <td>-14.234784</td>\n      <td>71.5</td>\n      <td>0.0</td>\n      <td>8.275</td>\n      <td>0.000179</td>\n      <td>0.000179</td>\n      <td>0.187292</td>\n      <td>49.00</td>\n      <td>...</td>\n      <td>0.0</td>\n      <td>0.105245</td>\n      <td>0.420979</td>\n      <td>0.0</td>\n      <td>16.364990</td>\n      <td>0.1</td>\n      <td>16.458382</td>\n      <td>1.173478</td>\n      <td>-13.061306</td>\n      <td>3.574020e-07</td>\n    </tr>\n  </tbody>\n</table>\n<p>5 rows × 21 columns</p>\n</div>"
     },
     "metadata": {},
     "execution_count": 2
    }
   ],
   "source": [
    "index = pd.date_range(start='1/1/{0}'.format(2014), end='1/1/{0}'.format(2014+1), periods=35040+1)\n",
    "index = index[:-1]\n",
    "\n",
    "actions_df_05 = pd.read_csv(\"../saves_LRC/saves/DRL_Master/Test_25/actions_df_ddpg_test_25_2014.csv\")\n",
    "reward_df_05 = pd.read_csv(\"../saves_LRC/saves/DRL_Master/Test_25/obs_df_ddpg_test_25_2014.csv\")\n",
    "obs_df_05 = pd.read_csv(\"../saves_LRC/saves/DRL_Master/Test_25/reward_df_ddpg_test_25_2014.csv\")\n",
    "e_cost_df_05 = pd.read_csv(\"../saves_LRC/saves/DRL_Master/Test_25/e_costs_df_ddpg_test_25_2014.csv\")\n",
    "#net_energy_df_05 = pd.read_csv(\"../preds/net_energy_df_ddpg_multienv_002.csv\")\n",
    "#net_power_df_05 = pd.read_csv(\"../preds/net_power_df_ddpg_multienv_002.csv\")\n",
    "\n",
    "\n",
    "actions_df_05.index = pd.to_datetime(index)\n",
    "reward_df_05.index = pd.to_datetime(index)\n",
    "obs_df_05.index = pd.to_datetime(index)\n",
    "e_cost_df_05.index = pd.to_datetime(index)\n",
    "#net_energy_df_05.index = pd.to_datetime(index)\n",
    "#net_power_df_05.index = pd.to_datetime(index)\n",
    "\n",
    "e_price_2017 = pd.read_csv(\"../e_tariffs/e_d_price_2014.csv\", index_col=0, parse_dates=True)\n",
    "e_price_2017.index = pd.to_datetime(e_price_2017.index)\n",
    "\n",
    "final_df_05 = pd.concat([e_price_2017, obs_df_05, reward_df_05, actions_df_05,e_cost_df_05],axis=1) #,net_energy_df_05,net_power_df_05\n",
    "final_df_05[\"Tcomfort\"] = final_df_05[\"reward\"] + final_df_05[\"e_cost\"]\n",
    "final_df_05[\"P1_P2\"] = final_df_05[\"P1\"]/1000.0 + final_df_05[\"P2\"]/1000.0\n",
    "final_df_05.head()"
   ]
  },
  {
   "cell_type": "code",
   "execution_count": 3,
   "metadata": {},
   "outputs": [
    {
     "output_type": "execute_result",
     "data": {
      "text/plain": "16216.965235549724"
     },
     "metadata": {},
     "execution_count": 3
    }
   ],
   "source": [
    "final_df_05[\"e_cost\"].sum() "
   ]
  },
  {
   "cell_type": "code",
   "execution_count": 4,
   "metadata": {},
   "outputs": [],
   "source": [
    "plot_df(final_df_05, filename='../saves_LRC/saves/DRL_Master/Test_25/all_columns_ddpg_test_25_2014.html')"
   ]
  },
  {
   "cell_type": "code",
   "execution_count": null,
   "metadata": {},
   "outputs": [],
   "source": []
  },
  {
   "cell_type": "code",
   "execution_count": null,
   "metadata": {},
   "outputs": [],
   "source": []
  },
  {
   "cell_type": "code",
   "execution_count": 5,
   "metadata": {},
   "outputs": [
    {
     "output_type": "execute_result",
     "data": {
      "text/plain": "                     e_price  d_price     reward  OutRH  OutSI  OutTemp  \\\n2014-01-01 00:00:00   0.1115    21.08   0.000000    0.0    0.0    0.000   \n2014-01-01 00:15:00   0.1115    21.08 -42.852322   77.0    0.0    9.350   \n2014-01-01 00:30:00   0.1115    21.08 -45.451621   74.0    0.0    9.075   \n2014-01-01 00:45:00   0.1115    21.08 -32.167518   71.0    0.0    8.800   \n2014-01-01 01:00:00   0.1115    21.08 -29.066338   71.5    0.0    8.275   \n\n                           P1        P2       SOC    TOW      ...       \\\n2014-01-01 00:00:00  0.000000  0.000000  0.000000   0.00      ...        \n2014-01-01 00:15:00  0.000179  0.000179  0.127181  48.25      ...        \n2014-01-01 00:30:00  0.000179  0.000179  0.157511  48.50      ...        \n2014-01-01 00:45:00  0.000179  0.000179  0.172129  48.75      ...        \n2014-01-01 01:00:00  0.000179  0.000179  0.183597  49.00      ...        \n\n                     ZoneTotalIlluB  net_energy  net_power  LigB_input  \\\n2014-01-01 00:00:00             0.0    0.000000   0.000000         0.0   \n2014-01-01 00:15:00             0.0    0.361904   1.447617         0.0   \n2014-01-01 00:30:00             0.0    0.385216   1.540865         0.0   \n2014-01-01 00:45:00             0.0    0.266076   1.064306         0.0   \n2014-01-01 01:00:00             0.0    0.238263   0.953052         0.0   \n\n                         P_ctrl  SaFrB    SaTempB    e_cost   Tcomfort  \\\n2014-01-01 00:00:00    0.000000    0.0   0.000000  0.000000   0.000000   \n2014-01-01 00:15:00  825.799805    0.1  10.002419  4.035232 -38.817090   \n2014-01-01 00:30:00  921.488281    0.1  10.000144  4.295162 -41.156459   \n2014-01-01 00:45:00  444.119141    0.1  10.011524  2.966752 -29.200766   \n2014-01-01 01:00:00  348.445312    0.1  10.338872  2.656634 -26.409704   \n\n                            P1_P2  \n2014-01-01 00:00:00  0.000000e+00  \n2014-01-01 00:15:00  3.573101e-07  \n2014-01-01 00:30:00  3.573314e-07  \n2014-01-01 00:45:00  3.573628e-07  \n2014-01-01 01:00:00  3.574020e-07  \n\n[5 rows x 21 columns]",
      "text/html": "<div>\n<style scoped>\n    .dataframe tbody tr th:only-of-type {\n        vertical-align: middle;\n    }\n\n    .dataframe tbody tr th {\n        vertical-align: top;\n    }\n\n    .dataframe thead th {\n        text-align: right;\n    }\n</style>\n<table border=\"1\" class=\"dataframe\">\n  <thead>\n    <tr style=\"text-align: right;\">\n      <th></th>\n      <th>e_price</th>\n      <th>d_price</th>\n      <th>reward</th>\n      <th>OutRH</th>\n      <th>OutSI</th>\n      <th>OutTemp</th>\n      <th>P1</th>\n      <th>P2</th>\n      <th>SOC</th>\n      <th>TOW</th>\n      <th>...</th>\n      <th>ZoneTotalIlluB</th>\n      <th>net_energy</th>\n      <th>net_power</th>\n      <th>LigB_input</th>\n      <th>P_ctrl</th>\n      <th>SaFrB</th>\n      <th>SaTempB</th>\n      <th>e_cost</th>\n      <th>Tcomfort</th>\n      <th>P1_P2</th>\n    </tr>\n  </thead>\n  <tbody>\n    <tr>\n      <th>2014-01-01 00:00:00</th>\n      <td>0.1115</td>\n      <td>21.08</td>\n      <td>0.000000</td>\n      <td>0.0</td>\n      <td>0.0</td>\n      <td>0.000</td>\n      <td>0.000000</td>\n      <td>0.000000</td>\n      <td>0.000000</td>\n      <td>0.00</td>\n      <td>...</td>\n      <td>0.0</td>\n      <td>0.000000</td>\n      <td>0.000000</td>\n      <td>0.0</td>\n      <td>0.000000</td>\n      <td>0.0</td>\n      <td>0.000000</td>\n      <td>0.000000</td>\n      <td>0.000000</td>\n      <td>0.000000e+00</td>\n    </tr>\n    <tr>\n      <th>2014-01-01 00:15:00</th>\n      <td>0.1115</td>\n      <td>21.08</td>\n      <td>-42.852322</td>\n      <td>77.0</td>\n      <td>0.0</td>\n      <td>9.350</td>\n      <td>0.000179</td>\n      <td>0.000179</td>\n      <td>0.127181</td>\n      <td>48.25</td>\n      <td>...</td>\n      <td>0.0</td>\n      <td>0.361904</td>\n      <td>1.447617</td>\n      <td>0.0</td>\n      <td>825.799805</td>\n      <td>0.1</td>\n      <td>10.002419</td>\n      <td>4.035232</td>\n      <td>-38.817090</td>\n      <td>3.573101e-07</td>\n    </tr>\n    <tr>\n      <th>2014-01-01 00:30:00</th>\n      <td>0.1115</td>\n      <td>21.08</td>\n      <td>-45.451621</td>\n      <td>74.0</td>\n      <td>0.0</td>\n      <td>9.075</td>\n      <td>0.000179</td>\n      <td>0.000179</td>\n      <td>0.157511</td>\n      <td>48.50</td>\n      <td>...</td>\n      <td>0.0</td>\n      <td>0.385216</td>\n      <td>1.540865</td>\n      <td>0.0</td>\n      <td>921.488281</td>\n      <td>0.1</td>\n      <td>10.000144</td>\n      <td>4.295162</td>\n      <td>-41.156459</td>\n      <td>3.573314e-07</td>\n    </tr>\n    <tr>\n      <th>2014-01-01 00:45:00</th>\n      <td>0.1115</td>\n      <td>21.08</td>\n      <td>-32.167518</td>\n      <td>71.0</td>\n      <td>0.0</td>\n      <td>8.800</td>\n      <td>0.000179</td>\n      <td>0.000179</td>\n      <td>0.172129</td>\n      <td>48.75</td>\n      <td>...</td>\n      <td>0.0</td>\n      <td>0.266076</td>\n      <td>1.064306</td>\n      <td>0.0</td>\n      <td>444.119141</td>\n      <td>0.1</td>\n      <td>10.011524</td>\n      <td>2.966752</td>\n      <td>-29.200766</td>\n      <td>3.573628e-07</td>\n    </tr>\n    <tr>\n      <th>2014-01-01 01:00:00</th>\n      <td>0.1115</td>\n      <td>21.08</td>\n      <td>-29.066338</td>\n      <td>71.5</td>\n      <td>0.0</td>\n      <td>8.275</td>\n      <td>0.000179</td>\n      <td>0.000179</td>\n      <td>0.183597</td>\n      <td>49.00</td>\n      <td>...</td>\n      <td>0.0</td>\n      <td>0.238263</td>\n      <td>0.953052</td>\n      <td>0.0</td>\n      <td>348.445312</td>\n      <td>0.1</td>\n      <td>10.338872</td>\n      <td>2.656634</td>\n      <td>-26.409704</td>\n      <td>3.574020e-07</td>\n    </tr>\n  </tbody>\n</table>\n<p>5 rows × 21 columns</p>\n</div>"
     },
     "metadata": {},
     "execution_count": 5
    }
   ],
   "source": [
    "index = pd.date_range(start='1/1/{0}'.format(2014), end='1/1/{0}'.format(2014+1), periods=35040+1)\n",
    "index = index[:-1]\n",
    "\n",
    "actions_df_05 = pd.read_csv(\"../saves_LRC/saves/DRL_Master/Test_24/actions_df_ddpg_test_24_2014.csv\")\n",
    "reward_df_05 = pd.read_csv(\"../saves_LRC/saves/DRL_Master/Test_24/obs_df_ddpg_test_24_2014.csv\")\n",
    "obs_df_05 = pd.read_csv(\"../saves_LRC/saves/DRL_Master/Test_24/reward_df_ddpg_test_24_2014.csv\")\n",
    "e_cost_df_05 = pd.read_csv(\"../saves_LRC/saves/DRL_Master/Test_24/e_costs_df_ddpg_test_24_2014.csv\")\n",
    "#net_energy_df_05 = pd.read_csv(\"../preds/net_energy_df_ddpg_multienv_002.csv\")\n",
    "#net_power_df_05 = pd.read_csv(\"../preds/net_power_df_ddpg_multienv_002.csv\")\n",
    "\n",
    "\n",
    "actions_df_05.index = pd.to_datetime(index)\n",
    "reward_df_05.index = pd.to_datetime(index)\n",
    "obs_df_05.index = pd.to_datetime(index)\n",
    "e_cost_df_05.index = pd.to_datetime(index)\n",
    "#net_energy_df_05.index = pd.to_datetime(index)\n",
    "#net_power_df_05.index = pd.to_datetime(index)\n",
    "\n",
    "e_price_2017 = pd.read_csv(\"../e_tariffs/e_d_price_2014.csv\", index_col=0, parse_dates=True)\n",
    "e_price_2017.index = pd.to_datetime(e_price_2017.index)\n",
    "\n",
    "final_df_05 = pd.concat([e_price_2017, obs_df_05, reward_df_05, actions_df_05,e_cost_df_05],axis=1) #,net_energy_df_05,net_power_df_05\n",
    "final_df_05[\"Tcomfort\"] = final_df_05[\"reward\"] + final_df_05[\"e_cost\"]\n",
    "final_df_05[\"P1_P2\"] = final_df_05[\"P1\"]/1000.0 + final_df_05[\"P2\"]/1000.0\n",
    "final_df_05.head()"
   ]
  },
  {
   "cell_type": "code",
   "execution_count": 6,
   "metadata": {},
   "outputs": [
    {
     "output_type": "execute_result",
     "data": {
      "text/plain": "15440.139878544933"
     },
     "metadata": {},
     "execution_count": 6
    }
   ],
   "source": [
    "final_df_05[\"e_cost\"].sum() "
   ]
  },
  {
   "cell_type": "code",
   "execution_count": null,
   "metadata": {},
   "outputs": [],
   "source": []
  },
  {
   "cell_type": "code",
   "execution_count": 7,
   "metadata": {},
   "outputs": [],
   "source": [
    "plot_df(final_df_05, filename='../saves_LRC/saves/DRL_Master/Test_24/all_columns_ddpg_test_24_2014.html')"
   ]
  },
  {
   "cell_type": "code",
   "execution_count": null,
   "metadata": {},
   "outputs": [],
   "source": []
  },
  {
   "cell_type": "code",
   "execution_count": 2,
   "metadata": {},
   "outputs": [
    {
     "output_type": "execute_result",
     "data": {
      "text/plain": "                     e_price  d_price      reward  OutRH  OutSI  OutTemp  \\\n2014-01-01 00:00:00   0.1115    21.08    0.000000    0.0    0.0    0.000   \n2014-01-01 00:15:00   0.1115    21.08 -102.830108   77.0    0.0    9.350   \n2014-01-01 00:30:00   0.1115    21.08  -15.812466   74.0    0.0    9.075   \n2014-01-01 00:45:00   0.1115    21.08  -19.558138   71.0    0.0    8.800   \n2014-01-01 01:00:00   0.1115    21.08  -19.453041   71.5    0.0    8.275   \n\n                           P1        P2       SOC    TOW      ...       \\\n2014-01-01 00:00:00  0.000000  0.000000  0.000000   0.00      ...        \n2014-01-01 00:15:00  0.000179  0.000179  0.208617  48.25      ...        \n2014-01-01 00:30:00  0.000179  0.000179  0.209972  48.50      ...        \n2014-01-01 00:45:00  0.000179  0.000179  0.214851  48.75      ...        \n2014-01-01 01:00:00  0.000179  0.000179  0.219430  49.00      ...        \n\n                     ZoneTotalIlluB  net_energy  net_power  LigB_input  \\\n2014-01-01 00:00:00             0.0    0.000000   0.000000         0.0   \n2014-01-01 00:15:00             0.0    0.894383   3.577530         0.0   \n2014-01-01 00:30:00             0.0    0.102528   0.410111         0.0   \n2014-01-01 00:45:00             0.0    0.133846   0.535385         0.0   \n2014-01-01 01:00:00             0.0    0.132458   0.529833         0.0   \n\n                          P_ctrl  SaFrB    SaTempB    e_cost   Tcomfort  \\\n2014-01-01 00:00:00     0.000000   0.00   0.000000  0.000000   0.000000   \n2014-01-01 00:15:00  3300.000000   0.05  18.792170  9.972366 -92.857742   \n2014-01-01 00:30:00    41.159180   0.05  13.268574  1.143183 -14.669283   \n2014-01-01 00:45:00   148.233887   0.05  12.196163  1.492385 -18.065753   \n2014-01-01 01:00:00   139.120605   0.05  11.938231  1.476911 -17.976130   \n\n                            P1_P2  \n2014-01-01 00:00:00  0.000000e+00  \n2014-01-01 00:15:00  3.573101e-07  \n2014-01-01 00:30:00  3.573314e-07  \n2014-01-01 00:45:00  3.573628e-07  \n2014-01-01 01:00:00  3.574020e-07  \n\n[5 rows x 21 columns]",
      "text/html": "<div>\n<style scoped>\n    .dataframe tbody tr th:only-of-type {\n        vertical-align: middle;\n    }\n\n    .dataframe tbody tr th {\n        vertical-align: top;\n    }\n\n    .dataframe thead th {\n        text-align: right;\n    }\n</style>\n<table border=\"1\" class=\"dataframe\">\n  <thead>\n    <tr style=\"text-align: right;\">\n      <th></th>\n      <th>e_price</th>\n      <th>d_price</th>\n      <th>reward</th>\n      <th>OutRH</th>\n      <th>OutSI</th>\n      <th>OutTemp</th>\n      <th>P1</th>\n      <th>P2</th>\n      <th>SOC</th>\n      <th>TOW</th>\n      <th>...</th>\n      <th>ZoneTotalIlluB</th>\n      <th>net_energy</th>\n      <th>net_power</th>\n      <th>LigB_input</th>\n      <th>P_ctrl</th>\n      <th>SaFrB</th>\n      <th>SaTempB</th>\n      <th>e_cost</th>\n      <th>Tcomfort</th>\n      <th>P1_P2</th>\n    </tr>\n  </thead>\n  <tbody>\n    <tr>\n      <th>2014-01-01 00:00:00</th>\n      <td>0.1115</td>\n      <td>21.08</td>\n      <td>0.000000</td>\n      <td>0.0</td>\n      <td>0.0</td>\n      <td>0.000</td>\n      <td>0.000000</td>\n      <td>0.000000</td>\n      <td>0.000000</td>\n      <td>0.00</td>\n      <td>...</td>\n      <td>0.0</td>\n      <td>0.000000</td>\n      <td>0.000000</td>\n      <td>0.0</td>\n      <td>0.000000</td>\n      <td>0.00</td>\n      <td>0.000000</td>\n      <td>0.000000</td>\n      <td>0.000000</td>\n      <td>0.000000e+00</td>\n    </tr>\n    <tr>\n      <th>2014-01-01 00:15:00</th>\n      <td>0.1115</td>\n      <td>21.08</td>\n      <td>-102.830108</td>\n      <td>77.0</td>\n      <td>0.0</td>\n      <td>9.350</td>\n      <td>0.000179</td>\n      <td>0.000179</td>\n      <td>0.208617</td>\n      <td>48.25</td>\n      <td>...</td>\n      <td>0.0</td>\n      <td>0.894383</td>\n      <td>3.577530</td>\n      <td>0.0</td>\n      <td>3300.000000</td>\n      <td>0.05</td>\n      <td>18.792170</td>\n      <td>9.972366</td>\n      <td>-92.857742</td>\n      <td>3.573101e-07</td>\n    </tr>\n    <tr>\n      <th>2014-01-01 00:30:00</th>\n      <td>0.1115</td>\n      <td>21.08</td>\n      <td>-15.812466</td>\n      <td>74.0</td>\n      <td>0.0</td>\n      <td>9.075</td>\n      <td>0.000179</td>\n      <td>0.000179</td>\n      <td>0.209972</td>\n      <td>48.50</td>\n      <td>...</td>\n      <td>0.0</td>\n      <td>0.102528</td>\n      <td>0.410111</td>\n      <td>0.0</td>\n      <td>41.159180</td>\n      <td>0.05</td>\n      <td>13.268574</td>\n      <td>1.143183</td>\n      <td>-14.669283</td>\n      <td>3.573314e-07</td>\n    </tr>\n    <tr>\n      <th>2014-01-01 00:45:00</th>\n      <td>0.1115</td>\n      <td>21.08</td>\n      <td>-19.558138</td>\n      <td>71.0</td>\n      <td>0.0</td>\n      <td>8.800</td>\n      <td>0.000179</td>\n      <td>0.000179</td>\n      <td>0.214851</td>\n      <td>48.75</td>\n      <td>...</td>\n      <td>0.0</td>\n      <td>0.133846</td>\n      <td>0.535385</td>\n      <td>0.0</td>\n      <td>148.233887</td>\n      <td>0.05</td>\n      <td>12.196163</td>\n      <td>1.492385</td>\n      <td>-18.065753</td>\n      <td>3.573628e-07</td>\n    </tr>\n    <tr>\n      <th>2014-01-01 01:00:00</th>\n      <td>0.1115</td>\n      <td>21.08</td>\n      <td>-19.453041</td>\n      <td>71.5</td>\n      <td>0.0</td>\n      <td>8.275</td>\n      <td>0.000179</td>\n      <td>0.000179</td>\n      <td>0.219430</td>\n      <td>49.00</td>\n      <td>...</td>\n      <td>0.0</td>\n      <td>0.132458</td>\n      <td>0.529833</td>\n      <td>0.0</td>\n      <td>139.120605</td>\n      <td>0.05</td>\n      <td>11.938231</td>\n      <td>1.476911</td>\n      <td>-17.976130</td>\n      <td>3.574020e-07</td>\n    </tr>\n  </tbody>\n</table>\n<p>5 rows × 21 columns</p>\n</div>"
     },
     "metadata": {},
     "execution_count": 2
    }
   ],
   "source": [
    "index = pd.date_range(start='1/1/{0}'.format(2014), end='1/1/{0}'.format(2014+1), periods=35040+1)\n",
    "index = index[:-1]\n",
    "\n",
    "actions_df_05 = pd.read_csv(\"../saves_LRC/saves/DRL_Master/Test_42/actions_df_ddpg_test_42_2014.csv\")\n",
    "reward_df_05 = pd.read_csv(\"../saves_LRC/saves/DRL_Master/Test_42/obs_df_ddpg_test_42_2014.csv\")\n",
    "obs_df_05 = pd.read_csv(\"../saves_LRC/saves/DRL_Master/Test_42/reward_df_ddpg_test_42_2014.csv\")\n",
    "e_cost_df_05 = pd.read_csv(\"../saves_LRC/saves/DRL_Master/Test_42/e_costs_df_ddpg_test_42_2014.csv\")\n",
    "#net_energy_df_05 = pd.read_csv(\"../preds/net_energy_df_ddpg_multienv_002.csv\")\n",
    "#net_power_df_05 = pd.read_csv(\"../preds/net_power_df_ddpg_multienv_002.csv\")\n",
    "\n",
    "\n",
    "actions_df_05.index = pd.to_datetime(index)\n",
    "reward_df_05.index = pd.to_datetime(index)\n",
    "obs_df_05.index = pd.to_datetime(index)\n",
    "e_cost_df_05.index = pd.to_datetime(index)\n",
    "#net_energy_df_05.index = pd.to_datetime(index)\n",
    "#net_power_df_05.index = pd.to_datetime(index)\n",
    "\n",
    "e_price_2017 = pd.read_csv(\"../e_tariffs/e_d_price_2014.csv\", index_col=0, parse_dates=True)\n",
    "e_price_2017.index = pd.to_datetime(e_price_2017.index)\n",
    "\n",
    "final_df_05 = pd.concat([e_price_2017, obs_df_05, reward_df_05, actions_df_05,e_cost_df_05],axis=1) #,net_energy_df_05,net_power_df_05\n",
    "final_df_05[\"Tcomfort\"] = final_df_05[\"reward\"] + final_df_05[\"e_cost\"]\n",
    "final_df_05[\"P1_P2\"] = final_df_05[\"P1\"]/1000.0 + final_df_05[\"P2\"]/1000.0\n",
    "final_df_05.head()"
   ]
  },
  {
   "cell_type": "code",
   "execution_count": 3,
   "metadata": {},
   "outputs": [
    {
     "output_type": "execute_result",
     "data": {
      "text/plain": "16503.30725261742"
     },
     "metadata": {},
     "execution_count": 3
    }
   ],
   "source": [
    "final_df_05[\"e_cost\"].sum() "
   ]
  },
  {
   "cell_type": "code",
   "execution_count": 4,
   "metadata": {},
   "outputs": [],
   "source": [
    "plot_df(final_df_05, filename='../saves_LRC/saves/DRL_Master/Test_42/all_columns_ddpg_test_42_2014.html')"
   ]
  },
  {
   "cell_type": "code",
   "execution_count": null,
   "metadata": {},
   "outputs": [],
   "source": []
  },
  {
   "cell_type": "code",
   "execution_count": null,
   "metadata": {},
   "outputs": [],
   "source": []
  },
  {
   "cell_type": "code",
   "execution_count": 2,
   "metadata": {},
   "outputs": [
    {
     "output_type": "execute_result",
     "data": {
      "text/plain": "                     e_price  d_price    reward  OutRH  OutSI  OutTemp  \\\n2014-01-01 00:00:00   0.1115    21.08  0.000000    0.0    0.0    0.000   \n2014-01-01 00:15:00   0.1115    21.08 -1.273809   77.0    0.0    9.350   \n2014-01-01 00:30:00   0.1115    21.08 -1.272672   74.0    0.0    9.075   \n2014-01-01 00:45:00   0.1115    21.08 -0.969662   71.0    0.0    8.800   \n2014-01-01 01:00:00   0.1115    21.08 -1.000973   71.5    0.0    8.275   \n\n                           P1        P2       SOC    TOW      ...       \\\n2014-01-01 00:00:00  0.000000  0.000000  0.000000   0.00      ...        \n2014-01-01 00:15:00  0.000179  0.000179  0.208617  48.25      ...        \n2014-01-01 00:30:00  0.000179  0.000179  0.317234  48.50      ...        \n2014-01-01 00:45:00  0.000179  0.000179  0.390102  48.75      ...        \n2014-01-01 01:00:00  0.000179  0.000179  0.466727  49.00      ...        \n\n                     ZoneTotalIlluB  net_energy  net_power    LigB_input  \\\n2014-01-01 00:00:00        0.000000    0.000000   0.000000  0.000000e+00   \n2014-01-01 00:15:00        0.000000    0.931557   3.726228  0.000000e+00   \n2014-01-01 00:30:00        0.000016    0.930877   3.723509  2.980232e-08   \n2014-01-01 00:45:00        0.000000    0.659194   2.636776  0.000000e+00   \n2014-01-01 01:00:00        0.000000    0.687429   2.749715  0.000000e+00   \n\n                          P_ctrl  SaFrB  SaTempB     e_cost  Tcomfort  \\\n2014-01-01 00:00:00     0.000000   0.00      0.0   0.000000  0.000000   \n2014-01-01 00:15:00  3300.000000   0.05     10.0  10.386861  9.113052   \n2014-01-01 00:30:00  3300.000000   0.05     10.0  10.379282  9.106610   \n2014-01-01 00:45:00  2213.860840   0.05     10.0   7.350012  6.380350   \n2014-01-01 01:00:00  2328.026855   0.05     10.0   7.664832  6.663859   \n\n                            P1_P2  \n2014-01-01 00:00:00  0.000000e+00  \n2014-01-01 00:15:00  3.573101e-07  \n2014-01-01 00:30:00  3.573314e-07  \n2014-01-01 00:45:00  3.573628e-07  \n2014-01-01 01:00:00  3.574020e-07  \n\n[5 rows x 21 columns]",
      "text/html": "<div>\n<style scoped>\n    .dataframe tbody tr th:only-of-type {\n        vertical-align: middle;\n    }\n\n    .dataframe tbody tr th {\n        vertical-align: top;\n    }\n\n    .dataframe thead th {\n        text-align: right;\n    }\n</style>\n<table border=\"1\" class=\"dataframe\">\n  <thead>\n    <tr style=\"text-align: right;\">\n      <th></th>\n      <th>e_price</th>\n      <th>d_price</th>\n      <th>reward</th>\n      <th>OutRH</th>\n      <th>OutSI</th>\n      <th>OutTemp</th>\n      <th>P1</th>\n      <th>P2</th>\n      <th>SOC</th>\n      <th>TOW</th>\n      <th>...</th>\n      <th>ZoneTotalIlluB</th>\n      <th>net_energy</th>\n      <th>net_power</th>\n      <th>LigB_input</th>\n      <th>P_ctrl</th>\n      <th>SaFrB</th>\n      <th>SaTempB</th>\n      <th>e_cost</th>\n      <th>Tcomfort</th>\n      <th>P1_P2</th>\n    </tr>\n  </thead>\n  <tbody>\n    <tr>\n      <th>2014-01-01 00:00:00</th>\n      <td>0.1115</td>\n      <td>21.08</td>\n      <td>0.000000</td>\n      <td>0.0</td>\n      <td>0.0</td>\n      <td>0.000</td>\n      <td>0.000000</td>\n      <td>0.000000</td>\n      <td>0.000000</td>\n      <td>0.00</td>\n      <td>...</td>\n      <td>0.000000</td>\n      <td>0.000000</td>\n      <td>0.000000</td>\n      <td>0.000000e+00</td>\n      <td>0.000000</td>\n      <td>0.00</td>\n      <td>0.0</td>\n      <td>0.000000</td>\n      <td>0.000000</td>\n      <td>0.000000e+00</td>\n    </tr>\n    <tr>\n      <th>2014-01-01 00:15:00</th>\n      <td>0.1115</td>\n      <td>21.08</td>\n      <td>-1.273809</td>\n      <td>77.0</td>\n      <td>0.0</td>\n      <td>9.350</td>\n      <td>0.000179</td>\n      <td>0.000179</td>\n      <td>0.208617</td>\n      <td>48.25</td>\n      <td>...</td>\n      <td>0.000000</td>\n      <td>0.931557</td>\n      <td>3.726228</td>\n      <td>0.000000e+00</td>\n      <td>3300.000000</td>\n      <td>0.05</td>\n      <td>10.0</td>\n      <td>10.386861</td>\n      <td>9.113052</td>\n      <td>3.573101e-07</td>\n    </tr>\n    <tr>\n      <th>2014-01-01 00:30:00</th>\n      <td>0.1115</td>\n      <td>21.08</td>\n      <td>-1.272672</td>\n      <td>74.0</td>\n      <td>0.0</td>\n      <td>9.075</td>\n      <td>0.000179</td>\n      <td>0.000179</td>\n      <td>0.317234</td>\n      <td>48.50</td>\n      <td>...</td>\n      <td>0.000016</td>\n      <td>0.930877</td>\n      <td>3.723509</td>\n      <td>2.980232e-08</td>\n      <td>3300.000000</td>\n      <td>0.05</td>\n      <td>10.0</td>\n      <td>10.379282</td>\n      <td>9.106610</td>\n      <td>3.573314e-07</td>\n    </tr>\n    <tr>\n      <th>2014-01-01 00:45:00</th>\n      <td>0.1115</td>\n      <td>21.08</td>\n      <td>-0.969662</td>\n      <td>71.0</td>\n      <td>0.0</td>\n      <td>8.800</td>\n      <td>0.000179</td>\n      <td>0.000179</td>\n      <td>0.390102</td>\n      <td>48.75</td>\n      <td>...</td>\n      <td>0.000000</td>\n      <td>0.659194</td>\n      <td>2.636776</td>\n      <td>0.000000e+00</td>\n      <td>2213.860840</td>\n      <td>0.05</td>\n      <td>10.0</td>\n      <td>7.350012</td>\n      <td>6.380350</td>\n      <td>3.573628e-07</td>\n    </tr>\n    <tr>\n      <th>2014-01-01 01:00:00</th>\n      <td>0.1115</td>\n      <td>21.08</td>\n      <td>-1.000973</td>\n      <td>71.5</td>\n      <td>0.0</td>\n      <td>8.275</td>\n      <td>0.000179</td>\n      <td>0.000179</td>\n      <td>0.466727</td>\n      <td>49.00</td>\n      <td>...</td>\n      <td>0.000000</td>\n      <td>0.687429</td>\n      <td>2.749715</td>\n      <td>0.000000e+00</td>\n      <td>2328.026855</td>\n      <td>0.05</td>\n      <td>10.0</td>\n      <td>7.664832</td>\n      <td>6.663859</td>\n      <td>3.574020e-07</td>\n    </tr>\n  </tbody>\n</table>\n<p>5 rows × 21 columns</p>\n</div>"
     },
     "metadata": {},
     "execution_count": 2
    }
   ],
   "source": [
    "index = pd.date_range(start='1/1/{0}'.format(2014), end='1/1/{0}'.format(2014+1), periods=35040+1)\n",
    "index = index[:-1]\n",
    "\n",
    "actions_df_05 = pd.read_csv(\"../saves_LRC/saves/DRL_Master/Test_57/actions_df_ddpg_test_57_2014.csv\")\n",
    "reward_df_05 = pd.read_csv(\"../saves_LRC/saves/DRL_Master/Test_57/obs_df_ddpg_test_57_2014.csv\")\n",
    "obs_df_05 = pd.read_csv(\"../saves_LRC/saves/DRL_Master/Test_57/reward_df_ddpg_test_57_2014.csv\")\n",
    "e_cost_df_05 = pd.read_csv(\"../saves_LRC/saves/DRL_Master/Test_57/e_costs_df_ddpg_test_57_2014.csv\")\n",
    "#net_energy_df_05 = pd.read_csv(\"../preds/net_energy_df_ddpg_multienv_002.csv\")\n",
    "#net_power_df_05 = pd.read_csv(\"../preds/net_power_df_ddpg_multienv_002.csv\")\n",
    "\n",
    "\n",
    "actions_df_05.index = pd.to_datetime(index)\n",
    "reward_df_05.index = pd.to_datetime(index)\n",
    "obs_df_05.index = pd.to_datetime(index)\n",
    "e_cost_df_05.index = pd.to_datetime(index)\n",
    "#net_energy_df_05.index = pd.to_datetime(index)\n",
    "#net_power_df_05.index = pd.to_datetime(index)\n",
    "\n",
    "e_price_2017 = pd.read_csv(\"../e_tariffs/e_d_price_2014.csv\", index_col=0, parse_dates=True)\n",
    "e_price_2017.index = pd.to_datetime(e_price_2017.index)\n",
    "\n",
    "final_df_05 = pd.concat([e_price_2017, obs_df_05, reward_df_05, actions_df_05,e_cost_df_05],axis=1) #,net_energy_df_05,net_power_df_05\n",
    "final_df_05[\"Tcomfort\"] = final_df_05[\"reward\"] + final_df_05[\"e_cost\"]\n",
    "final_df_05[\"P1_P2\"] = final_df_05[\"P1\"]/1000.0 + final_df_05[\"P2\"]/1000.0\n",
    "final_df_05.head()"
   ]
  },
  {
   "cell_type": "code",
   "execution_count": 3,
   "metadata": {},
   "outputs": [
    {
     "output_type": "execute_result",
     "data": {
      "text/plain": "29954.04199337411"
     },
     "metadata": {},
     "execution_count": 3
    }
   ],
   "source": [
    "final_df_05[\"e_cost\"].sum() "
   ]
  },
  {
   "cell_type": "code",
   "execution_count": 4,
   "metadata": {},
   "outputs": [],
   "source": [
    "plot_df(final_df_05, filename='../saves_LRC/saves/DRL_Master/Test_57/all_columns_ddpg_test_57_2014.html')"
   ]
  },
  {
   "cell_type": "code",
   "execution_count": null,
   "metadata": {},
   "outputs": [],
   "source": []
  },
  {
   "cell_type": "code",
   "execution_count": 3,
   "metadata": {},
   "outputs": [
    {
     "output_type": "execute_result",
     "data": {
      "text/plain": "                     e_price  d_price    reward  OutRH  OutSI  OutTemp  \\\n2014-01-01 00:00:00   0.1115    21.08  0.000000    0.0    0.0    0.000   \n2014-01-01 00:15:00   0.1115    21.08 -1.219866   77.0    0.0    9.350   \n2014-01-01 00:30:00   0.1115    21.08 -1.273170   74.0    0.0    9.075   \n2014-01-01 00:45:00   0.1115    21.08 -1.275306   71.0    0.0    8.800   \n2014-01-01 01:00:00   0.1115    21.08 -1.258487   71.5    0.0    8.275   \n\n                           P1        P2       SOC    TOW      ...       \\\n2014-01-01 00:00:00  0.000000  0.000000  0.000000   0.00      ...        \n2014-01-01 00:15:00  0.000179  0.000179  0.208603  48.25      ...        \n2014-01-01 00:30:00  0.000179  0.000179  0.314508  48.50      ...        \n2014-01-01 00:45:00  0.000179  0.000179  0.423084  48.75      ...        \n2014-01-01 01:00:00  0.000179  0.000179  0.531616  49.00      ...        \n\n                     ZoneTotalIlluB  net_energy  net_power  LigB_input  \\\n2014-01-01 00:00:00        0.000000    0.000000   0.000000    0.000000   \n2014-01-01 00:15:00        0.000000    0.899268   3.597074    0.000000   \n2014-01-01 00:30:00        0.000000    0.924308   3.697234    0.000000   \n2014-01-01 00:45:00        0.002405    0.932354   3.729415    0.000004   \n2014-01-01 01:00:00        4.808684    0.934345   3.737380    0.008938   \n\n                          P_ctrl  SaFrB    SaTempB     e_cost  Tcomfort  \\\n2014-01-01 00:00:00     0.000000   0.00   0.000000   0.000000  0.000000   \n2014-01-01 00:15:00  3299.571777   0.05  17.563738  10.026843  8.806978   \n2014-01-01 00:30:00  3217.597168   0.05  25.890888  10.306039  9.032869   \n2014-01-01 00:45:00  3298.741699   0.05  24.914164  10.395743  9.120437   \n2014-01-01 01:00:00  3297.419434   0.05  25.052734  10.417948  9.159461   \n\n                            P1_P2  \n2014-01-01 00:00:00  0.000000e+00  \n2014-01-01 00:15:00  3.573101e-07  \n2014-01-01 00:30:00  3.573314e-07  \n2014-01-01 00:45:00  3.573628e-07  \n2014-01-01 01:00:00  3.574020e-07  \n\n[5 rows x 21 columns]",
      "text/html": "<div>\n<style scoped>\n    .dataframe tbody tr th:only-of-type {\n        vertical-align: middle;\n    }\n\n    .dataframe tbody tr th {\n        vertical-align: top;\n    }\n\n    .dataframe thead th {\n        text-align: right;\n    }\n</style>\n<table border=\"1\" class=\"dataframe\">\n  <thead>\n    <tr style=\"text-align: right;\">\n      <th></th>\n      <th>e_price</th>\n      <th>d_price</th>\n      <th>reward</th>\n      <th>OutRH</th>\n      <th>OutSI</th>\n      <th>OutTemp</th>\n      <th>P1</th>\n      <th>P2</th>\n      <th>SOC</th>\n      <th>TOW</th>\n      <th>...</th>\n      <th>ZoneTotalIlluB</th>\n      <th>net_energy</th>\n      <th>net_power</th>\n      <th>LigB_input</th>\n      <th>P_ctrl</th>\n      <th>SaFrB</th>\n      <th>SaTempB</th>\n      <th>e_cost</th>\n      <th>Tcomfort</th>\n      <th>P1_P2</th>\n    </tr>\n  </thead>\n  <tbody>\n    <tr>\n      <th>2014-01-01 00:00:00</th>\n      <td>0.1115</td>\n      <td>21.08</td>\n      <td>0.000000</td>\n      <td>0.0</td>\n      <td>0.0</td>\n      <td>0.000</td>\n      <td>0.000000</td>\n      <td>0.000000</td>\n      <td>0.000000</td>\n      <td>0.00</td>\n      <td>...</td>\n      <td>0.000000</td>\n      <td>0.000000</td>\n      <td>0.000000</td>\n      <td>0.000000</td>\n      <td>0.000000</td>\n      <td>0.00</td>\n      <td>0.000000</td>\n      <td>0.000000</td>\n      <td>0.000000</td>\n      <td>0.000000e+00</td>\n    </tr>\n    <tr>\n      <th>2014-01-01 00:15:00</th>\n      <td>0.1115</td>\n      <td>21.08</td>\n      <td>-1.219866</td>\n      <td>77.0</td>\n      <td>0.0</td>\n      <td>9.350</td>\n      <td>0.000179</td>\n      <td>0.000179</td>\n      <td>0.208603</td>\n      <td>48.25</td>\n      <td>...</td>\n      <td>0.000000</td>\n      <td>0.899268</td>\n      <td>3.597074</td>\n      <td>0.000000</td>\n      <td>3299.571777</td>\n      <td>0.05</td>\n      <td>17.563738</td>\n      <td>10.026843</td>\n      <td>8.806978</td>\n      <td>3.573101e-07</td>\n    </tr>\n    <tr>\n      <th>2014-01-01 00:30:00</th>\n      <td>0.1115</td>\n      <td>21.08</td>\n      <td>-1.273170</td>\n      <td>74.0</td>\n      <td>0.0</td>\n      <td>9.075</td>\n      <td>0.000179</td>\n      <td>0.000179</td>\n      <td>0.314508</td>\n      <td>48.50</td>\n      <td>...</td>\n      <td>0.000000</td>\n      <td>0.924308</td>\n      <td>3.697234</td>\n      <td>0.000000</td>\n      <td>3217.597168</td>\n      <td>0.05</td>\n      <td>25.890888</td>\n      <td>10.306039</td>\n      <td>9.032869</td>\n      <td>3.573314e-07</td>\n    </tr>\n    <tr>\n      <th>2014-01-01 00:45:00</th>\n      <td>0.1115</td>\n      <td>21.08</td>\n      <td>-1.275306</td>\n      <td>71.0</td>\n      <td>0.0</td>\n      <td>8.800</td>\n      <td>0.000179</td>\n      <td>0.000179</td>\n      <td>0.423084</td>\n      <td>48.75</td>\n      <td>...</td>\n      <td>0.002405</td>\n      <td>0.932354</td>\n      <td>3.729415</td>\n      <td>0.000004</td>\n      <td>3298.741699</td>\n      <td>0.05</td>\n      <td>24.914164</td>\n      <td>10.395743</td>\n      <td>9.120437</td>\n      <td>3.573628e-07</td>\n    </tr>\n    <tr>\n      <th>2014-01-01 01:00:00</th>\n      <td>0.1115</td>\n      <td>21.08</td>\n      <td>-1.258487</td>\n      <td>71.5</td>\n      <td>0.0</td>\n      <td>8.275</td>\n      <td>0.000179</td>\n      <td>0.000179</td>\n      <td>0.531616</td>\n      <td>49.00</td>\n      <td>...</td>\n      <td>4.808684</td>\n      <td>0.934345</td>\n      <td>3.737380</td>\n      <td>0.008938</td>\n      <td>3297.419434</td>\n      <td>0.05</td>\n      <td>25.052734</td>\n      <td>10.417948</td>\n      <td>9.159461</td>\n      <td>3.574020e-07</td>\n    </tr>\n  </tbody>\n</table>\n<p>5 rows × 21 columns</p>\n</div>"
     },
     "metadata": {},
     "execution_count": 3
    }
   ],
   "source": [
    "index = pd.date_range(start='1/1/{0}'.format(2014), end='1/1/{0}'.format(2014+1), periods=35040+1)\n",
    "index = index[:-1]\n",
    "\n",
    "actions_df_05 = pd.read_csv(\"../saves_LRC/saves/DRL_Master/Test_55/actions_df_ddpg_test_55_2014.csv\")\n",
    "reward_df_05 = pd.read_csv(\"../saves_LRC/saves/DRL_Master/Test_55/obs_df_ddpg_test_55_2014.csv\")\n",
    "obs_df_05 = pd.read_csv(\"../saves_LRC/saves/DRL_Master/Test_55/reward_df_ddpg_test_55_2014.csv\")\n",
    "e_cost_df_05 = pd.read_csv(\"../saves_LRC/saves/DRL_Master/Test_55/e_costs_df_ddpg_test_55_2014.csv\")\n",
    "#net_energy_df_05 = pd.read_csv(\"../preds/net_energy_df_ddpg_multienv_002.csv\")\n",
    "#net_power_df_05 = pd.read_csv(\"../preds/net_power_df_ddpg_multienv_002.csv\")\n",
    "\n",
    "\n",
    "actions_df_05.index = pd.to_datetime(index)\n",
    "reward_df_05.index = pd.to_datetime(index)\n",
    "obs_df_05.index = pd.to_datetime(index)\n",
    "e_cost_df_05.index = pd.to_datetime(index)\n",
    "#net_energy_df_05.index = pd.to_datetime(index)\n",
    "#net_power_df_05.index = pd.to_datetime(index)\n",
    "\n",
    "e_price_2017 = pd.read_csv(\"../e_tariffs/e_d_price_2014.csv\", index_col=0, parse_dates=True)\n",
    "e_price_2017.index = pd.to_datetime(e_price_2017.index)\n",
    "\n",
    "final_df_05 = pd.concat([e_price_2017, obs_df_05, reward_df_05, actions_df_05,e_cost_df_05],axis=1) #,net_energy_df_05,net_power_df_05\n",
    "final_df_05[\"Tcomfort\"] = final_df_05[\"reward\"] + final_df_05[\"e_cost\"]\n",
    "final_df_05[\"P1_P2\"] = final_df_05[\"P1\"]/1000.0 + final_df_05[\"P2\"]/1000.0\n",
    "final_df_05.head()"
   ]
  },
  {
   "cell_type": "code",
   "execution_count": 4,
   "metadata": {},
   "outputs": [
    {
     "output_type": "execute_result",
     "data": {
      "text/plain": "32399.061882484064"
     },
     "metadata": {},
     "execution_count": 4
    }
   ],
   "source": [
    "final_df_05[\"e_cost\"].sum() "
   ]
  },
  {
   "cell_type": "code",
   "execution_count": 5,
   "metadata": {},
   "outputs": [],
   "source": [
    "plot_df(final_df_05, filename='../saves_LRC/saves/DRL_Master/Test_55/all_columns_ddpg_test_55_2014.html')"
   ]
  },
  {
   "cell_type": "code",
   "execution_count": null,
   "metadata": {},
   "outputs": [],
   "source": []
  },
  {
   "cell_type": "code",
   "execution_count": null,
   "metadata": {},
   "outputs": [],
   "source": [
    "index = pd.date_range(start='1/1/{0}'.format(2014), end='1/1/{0}'.format(2014+1), periods=35040+1)\n",
    "index = index[:-1]\n",
    "\n",
    "actions_df_05 = pd.read_csv(\"../saves_LRC/saves/DRL_Master/Test_59/actions_df_ddpg_test_59_2014.csv\")\n",
    "reward_df_05 = pd.read_csv(\"../saves_LRC/saves/DRL_Master/Test_59/obs_df_ddpg_test_59_2014.csv\")\n",
    "obs_df_05 = pd.read_csv(\"../saves_LRC/saves/DRL_Master/Test_59/reward_df_ddpg_test_59_2014.csv\")\n",
    "e_cost_df_05 = pd.read_csv(\"../saves_LRC/saves/DRL_Master/Test_59/e_costs_df_ddpg_test_59_2014.csv\")\n",
    "#net_energy_df_05 = pd.read_csv(\"../preds/net_energy_df_ddpg_multienv_002.csv\")\n",
    "#net_power_df_05 = pd.read_csv(\"../preds/net_power_df_ddpg_multienv_002.csv\")\n",
    "\n",
    "\n",
    "actions_df_05.index = pd.to_datetime(index)\n",
    "reward_df_05.index = pd.to_datetime(index)\n",
    "obs_df_05.index = pd.to_datetime(index)\n",
    "e_cost_df_05.index = pd.to_datetime(index)\n",
    "#net_energy_df_05.index = pd.to_datetime(index)\n",
    "#net_power_df_05.index = pd.to_datetime(index)\n",
    "\n",
    "e_price_2017 = pd.read_csv(\"../e_tariffs/e_d_price_2014.csv\", index_col=0, parse_dates=True)\n",
    "e_price_2017.index = pd.to_datetime(e_price_2017.index)\n",
    "\n",
    "final_df_05 = pd.concat([e_price_2017, obs_df_05, reward_df_05, actions_df_05,e_cost_df_05],axis=1) #,net_energy_df_05,net_power_df_05\n",
    "final_df_05[\"Tcomfort\"] = final_df_05[\"reward\"] + final_df_05[\"e_cost\"]\n",
    "final_df_05[\"P1_P2\"] = final_df_05[\"P1\"]/1000.0 + final_df_05[\"P2\"]/1000.0\n",
    "final_df_05.head()"
   ]
  },
  {
   "cell_type": "code",
   "execution_count": null,
   "metadata": {},
   "outputs": [],
   "source": [
    "final_df_05[\"e_cost\"].sum() "
   ]
  },
  {
   "cell_type": "code",
   "execution_count": null,
   "metadata": {},
   "outputs": [],
   "source": [
    "plot_df(final_df_05, filename='../saves_LRC/saves/DRL_Master/Test_59/all_columns_ddpg_test_59_2014.html')"
   ]
  },
  {
   "cell_type": "code",
   "execution_count": null,
   "metadata": {},
   "outputs": [],
   "source": []
  },
  {
   "cell_type": "code",
   "execution_count": 3,
   "metadata": {},
   "outputs": [
    {
     "output_type": "execute_result",
     "data": {
      "text/plain": "                     e_price  d_price    reward  OutRH  OutSI  OutTemp  \\\n2014-01-01 00:00:00   0.1115    21.08  0.000000    0.0    0.0    0.000   \n2014-01-01 00:15:00   0.1115    21.08 -0.207731   77.0    0.0    9.350   \n2014-01-01 00:30:00   0.1115    21.08 -0.198074   74.0    0.0    9.075   \n2014-01-01 00:45:00   0.1115    21.08 -0.197662   71.0    0.0    8.800   \n2014-01-01 01:00:00   0.1115    21.08 -0.199566   71.5    0.0    8.275   \n\n                           P1        P2       SOC    TOW      ...       \\\n2014-01-01 00:00:00  0.000000  0.000000  0.000000   0.00      ...        \n2014-01-01 00:15:00  0.000179  0.000179  0.208617  48.25      ...        \n2014-01-01 00:30:00  0.000179  0.000179  0.317234  48.50      ...        \n2014-01-01 00:45:00  0.000179  0.000179  0.425851  48.75      ...        \n2014-01-01 01:00:00  0.000179  0.000179  0.534469  49.00      ...        \n\n                     ZoneTotalIlluB  net_energy  net_power  LigB_input  \\\n2014-01-01 00:00:00             0.0    0.000000   0.000000         0.0   \n2014-01-01 00:15:00             0.0    0.931530   3.726119         0.0   \n2014-01-01 00:30:00             0.0    0.888222   3.552889         0.0   \n2014-01-01 00:45:00             0.0    0.886377   3.545508         0.0   \n2014-01-01 01:00:00             0.0    0.894917   3.579667         0.0   \n\n                     P_ctrl  SaFrB    SaTempB    e_cost  Tcomfort  \\\n2014-01-01 00:00:00     0.0   0.00   0.000000  0.000000  0.000000   \n2014-01-01 00:15:00  3300.0   0.05  10.031731  0.103866 -0.103866   \n2014-01-01 00:30:00  3300.0   0.05  20.167067  0.099037 -0.099037   \n2014-01-01 00:45:00  3300.0   0.05  20.457401  0.098831 -0.098831   \n2014-01-01 01:00:00  3300.0   0.05  18.506618  0.099783 -0.099783   \n\n                            P1_P2  \n2014-01-01 00:00:00  0.000000e+00  \n2014-01-01 00:15:00  3.573101e-07  \n2014-01-01 00:30:00  3.573314e-07  \n2014-01-01 00:45:00  3.573628e-07  \n2014-01-01 01:00:00  3.574020e-07  \n\n[5 rows x 21 columns]",
      "text/html": "<div>\n<style scoped>\n    .dataframe tbody tr th:only-of-type {\n        vertical-align: middle;\n    }\n\n    .dataframe tbody tr th {\n        vertical-align: top;\n    }\n\n    .dataframe thead th {\n        text-align: right;\n    }\n</style>\n<table border=\"1\" class=\"dataframe\">\n  <thead>\n    <tr style=\"text-align: right;\">\n      <th></th>\n      <th>e_price</th>\n      <th>d_price</th>\n      <th>reward</th>\n      <th>OutRH</th>\n      <th>OutSI</th>\n      <th>OutTemp</th>\n      <th>P1</th>\n      <th>P2</th>\n      <th>SOC</th>\n      <th>TOW</th>\n      <th>...</th>\n      <th>ZoneTotalIlluB</th>\n      <th>net_energy</th>\n      <th>net_power</th>\n      <th>LigB_input</th>\n      <th>P_ctrl</th>\n      <th>SaFrB</th>\n      <th>SaTempB</th>\n      <th>e_cost</th>\n      <th>Tcomfort</th>\n      <th>P1_P2</th>\n    </tr>\n  </thead>\n  <tbody>\n    <tr>\n      <th>2014-01-01 00:00:00</th>\n      <td>0.1115</td>\n      <td>21.08</td>\n      <td>0.000000</td>\n      <td>0.0</td>\n      <td>0.0</td>\n      <td>0.000</td>\n      <td>0.000000</td>\n      <td>0.000000</td>\n      <td>0.000000</td>\n      <td>0.00</td>\n      <td>...</td>\n      <td>0.0</td>\n      <td>0.000000</td>\n      <td>0.000000</td>\n      <td>0.0</td>\n      <td>0.0</td>\n      <td>0.00</td>\n      <td>0.000000</td>\n      <td>0.000000</td>\n      <td>0.000000</td>\n      <td>0.000000e+00</td>\n    </tr>\n    <tr>\n      <th>2014-01-01 00:15:00</th>\n      <td>0.1115</td>\n      <td>21.08</td>\n      <td>-0.207731</td>\n      <td>77.0</td>\n      <td>0.0</td>\n      <td>9.350</td>\n      <td>0.000179</td>\n      <td>0.000179</td>\n      <td>0.208617</td>\n      <td>48.25</td>\n      <td>...</td>\n      <td>0.0</td>\n      <td>0.931530</td>\n      <td>3.726119</td>\n      <td>0.0</td>\n      <td>3300.0</td>\n      <td>0.05</td>\n      <td>10.031731</td>\n      <td>0.103866</td>\n      <td>-0.103866</td>\n      <td>3.573101e-07</td>\n    </tr>\n    <tr>\n      <th>2014-01-01 00:30:00</th>\n      <td>0.1115</td>\n      <td>21.08</td>\n      <td>-0.198074</td>\n      <td>74.0</td>\n      <td>0.0</td>\n      <td>9.075</td>\n      <td>0.000179</td>\n      <td>0.000179</td>\n      <td>0.317234</td>\n      <td>48.50</td>\n      <td>...</td>\n      <td>0.0</td>\n      <td>0.888222</td>\n      <td>3.552889</td>\n      <td>0.0</td>\n      <td>3300.0</td>\n      <td>0.05</td>\n      <td>20.167067</td>\n      <td>0.099037</td>\n      <td>-0.099037</td>\n      <td>3.573314e-07</td>\n    </tr>\n    <tr>\n      <th>2014-01-01 00:45:00</th>\n      <td>0.1115</td>\n      <td>21.08</td>\n      <td>-0.197662</td>\n      <td>71.0</td>\n      <td>0.0</td>\n      <td>8.800</td>\n      <td>0.000179</td>\n      <td>0.000179</td>\n      <td>0.425851</td>\n      <td>48.75</td>\n      <td>...</td>\n      <td>0.0</td>\n      <td>0.886377</td>\n      <td>3.545508</td>\n      <td>0.0</td>\n      <td>3300.0</td>\n      <td>0.05</td>\n      <td>20.457401</td>\n      <td>0.098831</td>\n      <td>-0.098831</td>\n      <td>3.573628e-07</td>\n    </tr>\n    <tr>\n      <th>2014-01-01 01:00:00</th>\n      <td>0.1115</td>\n      <td>21.08</td>\n      <td>-0.199566</td>\n      <td>71.5</td>\n      <td>0.0</td>\n      <td>8.275</td>\n      <td>0.000179</td>\n      <td>0.000179</td>\n      <td>0.534469</td>\n      <td>49.00</td>\n      <td>...</td>\n      <td>0.0</td>\n      <td>0.894917</td>\n      <td>3.579667</td>\n      <td>0.0</td>\n      <td>3300.0</td>\n      <td>0.05</td>\n      <td>18.506618</td>\n      <td>0.099783</td>\n      <td>-0.099783</td>\n      <td>3.574020e-07</td>\n    </tr>\n  </tbody>\n</table>\n<p>5 rows × 21 columns</p>\n</div>"
     },
     "metadata": {},
     "execution_count": 3
    }
   ],
   "source": [
    "index = pd.date_range(start='1/1/{0}'.format(2014), end='1/1/{0}'.format(2014+1), periods=35040+1)\n",
    "index = index[:-1]\n",
    "\n",
    "actions_df_05 = pd.read_csv(\"../saves_LRC/saves/DRL_Master/Test_56/actions_df_ddpg_test_56_2014.csv\")\n",
    "reward_df_05 = pd.read_csv(\"../saves_LRC/saves/DRL_Master/Test_56/obs_df_ddpg_test_56_2014.csv\")\n",
    "obs_df_05 = pd.read_csv(\"../saves_LRC/saves/DRL_Master/Test_56/reward_df_ddpg_test_56_2014.csv\")\n",
    "e_cost_df_05 = pd.read_csv(\"../saves_LRC/saves/DRL_Master/Test_56/e_costs_df_ddpg_test_56_2014.csv\")\n",
    "#net_energy_df_05 = pd.read_csv(\"../preds/net_energy_df_ddpg_multienv_002.csv\")\n",
    "#net_power_df_05 = pd.read_csv(\"../preds/net_power_df_ddpg_multienv_002.csv\")\n",
    "\n",
    "\n",
    "actions_df_05.index = pd.to_datetime(index)\n",
    "reward_df_05.index = pd.to_datetime(index)\n",
    "obs_df_05.index = pd.to_datetime(index)\n",
    "e_cost_df_05.index = pd.to_datetime(index)\n",
    "#net_energy_df_05.index = pd.to_datetime(index)\n",
    "#net_power_df_05.index = pd.to_datetime(index)\n",
    "\n",
    "e_price_2017 = pd.read_csv(\"../e_tariffs/e_d_price_2014.csv\", index_col=0, parse_dates=True)\n",
    "e_price_2017.index = pd.to_datetime(e_price_2017.index)\n",
    "\n",
    "final_df_05 = pd.concat([e_price_2017, obs_df_05, reward_df_05, actions_df_05,e_cost_df_05],axis=1) #,net_energy_df_05,net_power_df_05\n",
    "final_df_05[\"Tcomfort\"] = final_df_05[\"reward\"] + final_df_05[\"e_cost\"]\n",
    "final_df_05[\"P1_P2\"] = final_df_05[\"P1\"]/1000.0 + final_df_05[\"P2\"]/1000.0\n",
    "final_df_05.head()"
   ]
  },
  {
   "cell_type": "code",
   "execution_count": 4,
   "metadata": {},
   "outputs": [
    {
     "output_type": "execute_result",
     "data": {
      "text/plain": "1678.2530988023393"
     },
     "metadata": {},
     "execution_count": 4
    }
   ],
   "source": [
    "final_df_05[\"e_cost\"].sum() "
   ]
  },
  {
   "cell_type": "code",
   "execution_count": 5,
   "metadata": {},
   "outputs": [],
   "source": [
    "plot_df(final_df_05, filename='../saves_LRC/saves/DRL_Master/Test_56/all_columns_ddpg_test_56_2014.html')"
   ]
  },
  {
   "cell_type": "code",
   "execution_count": null,
   "metadata": {},
   "outputs": [],
   "source": []
  },
  {
   "cell_type": "code",
   "execution_count": 2,
   "metadata": {},
   "outputs": [
    {
     "output_type": "execute_result",
     "data": {
      "text/plain": "                     e_price  d_price    reward  OutRH  OutSI  OutTemp  \\\n2014-01-01 00:00:00   0.1115    21.08  0.000000    0.0    0.0    0.000   \n2014-01-01 00:15:00   0.1115    21.08 -0.069408   77.0    0.0    9.350   \n2014-01-01 00:30:00   0.1115    21.08 -0.076882   74.0    0.0    9.075   \n2014-01-01 00:45:00   0.1115    21.08 -0.064844   71.0    0.0    8.800   \n2014-01-01 01:00:00   0.1115    21.08 -0.038048   71.5    0.0    8.275   \n\n                           P1        P2       SOC   TOD      ...       \\\n2014-01-01 00:00:00  0.000000  0.000000  0.000000  0.00      ...        \n2014-01-01 00:15:00  0.000179  0.000179  0.107400  0.25      ...        \n2014-01-01 00:30:00  0.000179  0.000179  0.116572  0.50      ...        \n2014-01-01 00:45:00  0.000179  0.000179  0.122190  0.75      ...        \n2014-01-01 01:00:00  0.000179  0.000179  0.119364  1.00      ...        \n\n                     ZoneTotalIlluB  net_energy  net_power  LigB_input  \\\n2014-01-01 00:00:00             0.0    0.000000   0.000000         0.0   \n2014-01-01 00:15:00             0.0    0.155623   0.622492         0.0   \n2014-01-01 00:30:00             0.0    0.172382   0.689529         0.0   \n2014-01-01 00:45:00             0.0    0.145389   0.581556         0.0   \n2014-01-01 01:00:00             0.0    0.085309   0.341236         0.0   \n\n                         P_ctrl  SaFrB    SaTempB    e_cost  Tcomfort  \\\n2014-01-01 00:00:00    0.000000   0.00   0.000000  0.000000  0.000000   \n2014-01-01 00:15:00  224.824707   0.05  11.756421  0.017352 -0.052056   \n2014-01-01 00:30:00  278.670898   0.05  10.740775  0.019221 -0.057662   \n2014-01-01 00:45:00  170.689453   0.05  10.592453  0.016211 -0.048633   \n2014-01-01 01:00:00  -73.059814   0.05  10.484820  0.009512 -0.028536   \n\n                            P1_P2  \n2014-01-01 00:00:00  0.000000e+00  \n2014-01-01 00:15:00  3.573101e-07  \n2014-01-01 00:30:00  3.573314e-07  \n2014-01-01 00:45:00  3.573628e-07  \n2014-01-01 01:00:00  3.574020e-07  \n\n[5 rows x 21 columns]",
      "text/html": "<div>\n<style scoped>\n    .dataframe tbody tr th:only-of-type {\n        vertical-align: middle;\n    }\n\n    .dataframe tbody tr th {\n        vertical-align: top;\n    }\n\n    .dataframe thead th {\n        text-align: right;\n    }\n</style>\n<table border=\"1\" class=\"dataframe\">\n  <thead>\n    <tr style=\"text-align: right;\">\n      <th></th>\n      <th>e_price</th>\n      <th>d_price</th>\n      <th>reward</th>\n      <th>OutRH</th>\n      <th>OutSI</th>\n      <th>OutTemp</th>\n      <th>P1</th>\n      <th>P2</th>\n      <th>SOC</th>\n      <th>TOD</th>\n      <th>...</th>\n      <th>ZoneTotalIlluB</th>\n      <th>net_energy</th>\n      <th>net_power</th>\n      <th>LigB_input</th>\n      <th>P_ctrl</th>\n      <th>SaFrB</th>\n      <th>SaTempB</th>\n      <th>e_cost</th>\n      <th>Tcomfort</th>\n      <th>P1_P2</th>\n    </tr>\n  </thead>\n  <tbody>\n    <tr>\n      <th>2014-01-01 00:00:00</th>\n      <td>0.1115</td>\n      <td>21.08</td>\n      <td>0.000000</td>\n      <td>0.0</td>\n      <td>0.0</td>\n      <td>0.000</td>\n      <td>0.000000</td>\n      <td>0.000000</td>\n      <td>0.000000</td>\n      <td>0.00</td>\n      <td>...</td>\n      <td>0.0</td>\n      <td>0.000000</td>\n      <td>0.000000</td>\n      <td>0.0</td>\n      <td>0.000000</td>\n      <td>0.00</td>\n      <td>0.000000</td>\n      <td>0.000000</td>\n      <td>0.000000</td>\n      <td>0.000000e+00</td>\n    </tr>\n    <tr>\n      <th>2014-01-01 00:15:00</th>\n      <td>0.1115</td>\n      <td>21.08</td>\n      <td>-0.069408</td>\n      <td>77.0</td>\n      <td>0.0</td>\n      <td>9.350</td>\n      <td>0.000179</td>\n      <td>0.000179</td>\n      <td>0.107400</td>\n      <td>0.25</td>\n      <td>...</td>\n      <td>0.0</td>\n      <td>0.155623</td>\n      <td>0.622492</td>\n      <td>0.0</td>\n      <td>224.824707</td>\n      <td>0.05</td>\n      <td>11.756421</td>\n      <td>0.017352</td>\n      <td>-0.052056</td>\n      <td>3.573101e-07</td>\n    </tr>\n    <tr>\n      <th>2014-01-01 00:30:00</th>\n      <td>0.1115</td>\n      <td>21.08</td>\n      <td>-0.076882</td>\n      <td>74.0</td>\n      <td>0.0</td>\n      <td>9.075</td>\n      <td>0.000179</td>\n      <td>0.000179</td>\n      <td>0.116572</td>\n      <td>0.50</td>\n      <td>...</td>\n      <td>0.0</td>\n      <td>0.172382</td>\n      <td>0.689529</td>\n      <td>0.0</td>\n      <td>278.670898</td>\n      <td>0.05</td>\n      <td>10.740775</td>\n      <td>0.019221</td>\n      <td>-0.057662</td>\n      <td>3.573314e-07</td>\n    </tr>\n    <tr>\n      <th>2014-01-01 00:45:00</th>\n      <td>0.1115</td>\n      <td>21.08</td>\n      <td>-0.064844</td>\n      <td>71.0</td>\n      <td>0.0</td>\n      <td>8.800</td>\n      <td>0.000179</td>\n      <td>0.000179</td>\n      <td>0.122190</td>\n      <td>0.75</td>\n      <td>...</td>\n      <td>0.0</td>\n      <td>0.145389</td>\n      <td>0.581556</td>\n      <td>0.0</td>\n      <td>170.689453</td>\n      <td>0.05</td>\n      <td>10.592453</td>\n      <td>0.016211</td>\n      <td>-0.048633</td>\n      <td>3.573628e-07</td>\n    </tr>\n    <tr>\n      <th>2014-01-01 01:00:00</th>\n      <td>0.1115</td>\n      <td>21.08</td>\n      <td>-0.038048</td>\n      <td>71.5</td>\n      <td>0.0</td>\n      <td>8.275</td>\n      <td>0.000179</td>\n      <td>0.000179</td>\n      <td>0.119364</td>\n      <td>1.00</td>\n      <td>...</td>\n      <td>0.0</td>\n      <td>0.085309</td>\n      <td>0.341236</td>\n      <td>0.0</td>\n      <td>-73.059814</td>\n      <td>0.05</td>\n      <td>10.484820</td>\n      <td>0.009512</td>\n      <td>-0.028536</td>\n      <td>3.574020e-07</td>\n    </tr>\n  </tbody>\n</table>\n<p>5 rows × 21 columns</p>\n</div>"
     },
     "metadata": {},
     "execution_count": 2
    }
   ],
   "source": [
    "index = pd.date_range(start='1/1/{0}'.format(2014), end='1/1/{0}'.format(2014+1), periods=35040+1)\n",
    "index = index[:-1]\n",
    "\n",
    "actions_df_05 = pd.read_csv(\"../saves_LRC/saves/DRL_Master/Test_71/actions_df_ddpg_test_71_2014.csv\")\n",
    "reward_df_05 = pd.read_csv(\"../saves_LRC/saves/DRL_Master/Test_71/obs_df_ddpg_test_71_2014.csv\")\n",
    "obs_df_05 = pd.read_csv(\"../saves_LRC/saves/DRL_Master/Test_71/reward_df_ddpg_test_71_2014.csv\")\n",
    "e_cost_df_05 = pd.read_csv(\"../saves_LRC/saves/DRL_Master/Test_71/e_costs_df_ddpg_test_71_2014.csv\")\n",
    "#net_energy_df_05 = pd.read_csv(\"../preds/net_energy_df_ddpg_multienv_002.csv\")\n",
    "#net_power_df_05 = pd.read_csv(\"../preds/net_power_df_ddpg_multienv_002.csv\")\n",
    "\n",
    "\n",
    "actions_df_05.index = pd.to_datetime(index)\n",
    "reward_df_05.index = pd.to_datetime(index)\n",
    "obs_df_05.index = pd.to_datetime(index)\n",
    "e_cost_df_05.index = pd.to_datetime(index)\n",
    "#net_energy_df_05.index = pd.to_datetime(index)\n",
    "#net_power_df_05.index = pd.to_datetime(index)\n",
    "\n",
    "e_price_2017 = pd.read_csv(\"../e_tariffs/e_d_price_2014.csv\", index_col=0, parse_dates=True)\n",
    "e_price_2017.index = pd.to_datetime(e_price_2017.index)\n",
    "\n",
    "final_df_05 = pd.concat([e_price_2017, obs_df_05, reward_df_05, actions_df_05,e_cost_df_05],axis=1) #,net_energy_df_05,net_power_df_05\n",
    "final_df_05[\"Tcomfort\"] = final_df_05[\"reward\"] + final_df_05[\"e_cost\"]\n",
    "final_df_05[\"P1_P2\"] = final_df_05[\"P1\"]/1000.0 + final_df_05[\"P2\"]/1000.0\n",
    "final_df_05.head()"
   ]
  },
  {
   "cell_type": "code",
   "execution_count": 3,
   "metadata": {},
   "outputs": [
    {
     "output_type": "execute_result",
     "data": {
      "text/plain": "391.4922234163405"
     },
     "metadata": {},
     "execution_count": 3
    }
   ],
   "source": [
    "final_df_05[\"e_cost\"].sum() "
   ]
  },
  {
   "cell_type": "code",
   "execution_count": 5,
   "metadata": {},
   "outputs": [],
   "source": [
    "plot_df(final_df_05, filename='../saves_LRC/saves/DRL_Master/Test_71/all_columns_ddpg_test_71_2014.html')"
   ]
  },
  {
   "cell_type": "code",
   "execution_count": null,
   "metadata": {},
   "outputs": [],
   "source": []
  },
  {
   "cell_type": "code",
   "execution_count": 6,
   "metadata": {},
   "outputs": [
    {
     "output_type": "execute_result",
     "data": {
      "text/plain": "                     e_price  d_price    reward  OutRH  OutSI  OutTemp  \\\n2014-01-01 00:00:00   0.1115    21.08  0.000000    0.0    0.0    0.000   \n2014-01-01 00:15:00   0.1115    21.08 -0.052822   77.0    0.0    9.350   \n2014-01-01 00:30:00   0.1115    21.08 -0.072293   74.0    0.0    9.075   \n2014-01-01 00:45:00   0.1115    21.08 -0.063394   71.0    0.0    8.800   \n2014-01-01 01:00:00   0.1115    21.08 -0.090705   71.5    0.0    8.275   \n\n                           P1        P2       SOC   TOD      ...       \\\n2014-01-01 00:00:00  0.000000  0.000000  0.000000  0.00      ...        \n2014-01-01 00:15:00  0.000179  0.000179  0.106714  0.25      ...        \n2014-01-01 00:30:00  0.000179  0.000179  0.119238  0.50      ...        \n2014-01-01 00:45:00  0.000179  0.000179  0.129337  0.75      ...        \n2014-01-01 01:00:00  0.000179  0.000179  0.147660  1.00      ...        \n\n                     ZoneTotalIlluB  net_energy  net_power  LigB_input  \\\n2014-01-01 00:00:00             0.0    0.000000   0.000000         0.0   \n2014-01-01 00:15:00             0.0    0.118435   0.473740         0.0   \n2014-01-01 00:30:00             0.0    0.162092   0.648368         0.0   \n2014-01-01 00:45:00             0.0    0.142140   0.568560         0.0   \n2014-01-01 01:00:00             0.0    0.203374   0.813497         0.0   \n\n                         P_ctrl  SaFrB    SaTempB    e_cost  Tcomfort  \\\n2014-01-01 00:00:00    0.000000   0.00   0.000000  0.000000  0.000000   \n2014-01-01 00:15:00  203.985596   0.05  19.256186  0.013205 -0.039616   \n2014-01-01 00:30:00  380.490967   0.05  19.281414  0.018073 -0.054220   \n2014-01-01 00:45:00  306.851318   0.05  19.666872  0.015849 -0.047546   \n2014-01-01 01:00:00  556.664307   0.05  19.909374  0.022676 -0.068029   \n\n                            P1_P2  \n2014-01-01 00:00:00  0.000000e+00  \n2014-01-01 00:15:00  3.573101e-07  \n2014-01-01 00:30:00  3.573314e-07  \n2014-01-01 00:45:00  3.573628e-07  \n2014-01-01 01:00:00  3.574020e-07  \n\n[5 rows x 21 columns]",
      "text/html": "<div>\n<style scoped>\n    .dataframe tbody tr th:only-of-type {\n        vertical-align: middle;\n    }\n\n    .dataframe tbody tr th {\n        vertical-align: top;\n    }\n\n    .dataframe thead th {\n        text-align: right;\n    }\n</style>\n<table border=\"1\" class=\"dataframe\">\n  <thead>\n    <tr style=\"text-align: right;\">\n      <th></th>\n      <th>e_price</th>\n      <th>d_price</th>\n      <th>reward</th>\n      <th>OutRH</th>\n      <th>OutSI</th>\n      <th>OutTemp</th>\n      <th>P1</th>\n      <th>P2</th>\n      <th>SOC</th>\n      <th>TOD</th>\n      <th>...</th>\n      <th>ZoneTotalIlluB</th>\n      <th>net_energy</th>\n      <th>net_power</th>\n      <th>LigB_input</th>\n      <th>P_ctrl</th>\n      <th>SaFrB</th>\n      <th>SaTempB</th>\n      <th>e_cost</th>\n      <th>Tcomfort</th>\n      <th>P1_P2</th>\n    </tr>\n  </thead>\n  <tbody>\n    <tr>\n      <th>2014-01-01 00:00:00</th>\n      <td>0.1115</td>\n      <td>21.08</td>\n      <td>0.000000</td>\n      <td>0.0</td>\n      <td>0.0</td>\n      <td>0.000</td>\n      <td>0.000000</td>\n      <td>0.000000</td>\n      <td>0.000000</td>\n      <td>0.00</td>\n      <td>...</td>\n      <td>0.0</td>\n      <td>0.000000</td>\n      <td>0.000000</td>\n      <td>0.0</td>\n      <td>0.000000</td>\n      <td>0.00</td>\n      <td>0.000000</td>\n      <td>0.000000</td>\n      <td>0.000000</td>\n      <td>0.000000e+00</td>\n    </tr>\n    <tr>\n      <th>2014-01-01 00:15:00</th>\n      <td>0.1115</td>\n      <td>21.08</td>\n      <td>-0.052822</td>\n      <td>77.0</td>\n      <td>0.0</td>\n      <td>9.350</td>\n      <td>0.000179</td>\n      <td>0.000179</td>\n      <td>0.106714</td>\n      <td>0.25</td>\n      <td>...</td>\n      <td>0.0</td>\n      <td>0.118435</td>\n      <td>0.473740</td>\n      <td>0.0</td>\n      <td>203.985596</td>\n      <td>0.05</td>\n      <td>19.256186</td>\n      <td>0.013205</td>\n      <td>-0.039616</td>\n      <td>3.573101e-07</td>\n    </tr>\n    <tr>\n      <th>2014-01-01 00:30:00</th>\n      <td>0.1115</td>\n      <td>21.08</td>\n      <td>-0.072293</td>\n      <td>74.0</td>\n      <td>0.0</td>\n      <td>9.075</td>\n      <td>0.000179</td>\n      <td>0.000179</td>\n      <td>0.119238</td>\n      <td>0.50</td>\n      <td>...</td>\n      <td>0.0</td>\n      <td>0.162092</td>\n      <td>0.648368</td>\n      <td>0.0</td>\n      <td>380.490967</td>\n      <td>0.05</td>\n      <td>19.281414</td>\n      <td>0.018073</td>\n      <td>-0.054220</td>\n      <td>3.573314e-07</td>\n    </tr>\n    <tr>\n      <th>2014-01-01 00:45:00</th>\n      <td>0.1115</td>\n      <td>21.08</td>\n      <td>-0.063394</td>\n      <td>71.0</td>\n      <td>0.0</td>\n      <td>8.800</td>\n      <td>0.000179</td>\n      <td>0.000179</td>\n      <td>0.129337</td>\n      <td>0.75</td>\n      <td>...</td>\n      <td>0.0</td>\n      <td>0.142140</td>\n      <td>0.568560</td>\n      <td>0.0</td>\n      <td>306.851318</td>\n      <td>0.05</td>\n      <td>19.666872</td>\n      <td>0.015849</td>\n      <td>-0.047546</td>\n      <td>3.573628e-07</td>\n    </tr>\n    <tr>\n      <th>2014-01-01 01:00:00</th>\n      <td>0.1115</td>\n      <td>21.08</td>\n      <td>-0.090705</td>\n      <td>71.5</td>\n      <td>0.0</td>\n      <td>8.275</td>\n      <td>0.000179</td>\n      <td>0.000179</td>\n      <td>0.147660</td>\n      <td>1.00</td>\n      <td>...</td>\n      <td>0.0</td>\n      <td>0.203374</td>\n      <td>0.813497</td>\n      <td>0.0</td>\n      <td>556.664307</td>\n      <td>0.05</td>\n      <td>19.909374</td>\n      <td>0.022676</td>\n      <td>-0.068029</td>\n      <td>3.574020e-07</td>\n    </tr>\n  </tbody>\n</table>\n<p>5 rows × 21 columns</p>\n</div>"
     },
     "metadata": {},
     "execution_count": 6
    }
   ],
   "source": [
    "index = pd.date_range(start='1/1/{0}'.format(2014), end='1/1/{0}'.format(2014+1), periods=35040+1)\n",
    "index = index[:-1]\n",
    "\n",
    "actions_df_05 = pd.read_csv(\"../saves_LRC/saves/DRL_Master/Test_72/actions_df_ddpg_test_72_2014.csv\")\n",
    "reward_df_05 = pd.read_csv(\"../saves_LRC/saves/DRL_Master/Test_72/obs_df_ddpg_test_72_2014.csv\")\n",
    "obs_df_05 = pd.read_csv(\"../saves_LRC/saves/DRL_Master/Test_72/reward_df_ddpg_test_72_2014.csv\")\n",
    "e_cost_df_05 = pd.read_csv(\"../saves_LRC/saves/DRL_Master/Test_72/e_costs_df_ddpg_test_72_2014.csv\")\n",
    "#net_energy_df_05 = pd.read_csv(\"../preds/net_energy_df_ddpg_multienv_002.csv\")\n",
    "#net_power_df_05 = pd.read_csv(\"../preds/net_power_df_ddpg_multienv_002.csv\")\n",
    "\n",
    "\n",
    "actions_df_05.index = pd.to_datetime(index)\n",
    "reward_df_05.index = pd.to_datetime(index)\n",
    "obs_df_05.index = pd.to_datetime(index)\n",
    "e_cost_df_05.index = pd.to_datetime(index)\n",
    "#net_energy_df_05.index = pd.to_datetime(index)\n",
    "#net_power_df_05.index = pd.to_datetime(index)\n",
    "\n",
    "e_price_2017 = pd.read_csv(\"../e_tariffs/e_d_price_2014.csv\", index_col=0, parse_dates=True)\n",
    "e_price_2017.index = pd.to_datetime(e_price_2017.index)\n",
    "\n",
    "final_df_05 = pd.concat([e_price_2017, obs_df_05, reward_df_05, actions_df_05,e_cost_df_05],axis=1) #,net_energy_df_05,net_power_df_05\n",
    "final_df_05[\"Tcomfort\"] = final_df_05[\"reward\"] + final_df_05[\"e_cost\"]\n",
    "final_df_05[\"P1_P2\"] = final_df_05[\"P1\"]/1000.0 + final_df_05[\"P2\"]/1000.0\n",
    "final_df_05.head()"
   ]
  },
  {
   "cell_type": "code",
   "execution_count": 7,
   "metadata": {},
   "outputs": [
    {
     "output_type": "execute_result",
     "data": {
      "text/plain": "466.46468095278937"
     },
     "metadata": {},
     "execution_count": 7
    }
   ],
   "source": [
    "final_df_05[\"e_cost\"].sum() "
   ]
  },
  {
   "cell_type": "code",
   "execution_count": 8,
   "metadata": {},
   "outputs": [],
   "source": [
    "plot_df(final_df_05, filename='../saves_LRC/saves/DRL_Master/Test_72/all_columns_ddpg_test_72_2014.html')"
   ]
  },
  {
   "cell_type": "code",
   "execution_count": null,
   "metadata": {},
   "outputs": [],
   "source": []
  },
  {
   "cell_type": "code",
   "execution_count": null,
   "metadata": {},
   "outputs": [],
   "source": []
  },
  {
   "cell_type": "code",
   "execution_count": 3,
   "metadata": {},
   "outputs": [
    {
     "output_type": "execute_result",
     "data": {
      "text/plain": "                     e_price  d_price    reward  OutRH  OutSI  OutTemp  \\\n2014-01-01 00:00:00   0.1115    21.08  0.000000    0.0    0.0    0.000   \n2014-01-01 00:15:00   0.1115    21.08 -0.368480   77.0    0.0    9.350   \n2014-01-01 00:30:00   0.1115    21.08 -0.360615   74.0    0.0    9.075   \n2014-01-01 00:45:00   0.1115    21.08 -0.406625   71.0    0.0    8.800   \n2014-01-01 01:00:00   0.1115    21.08 -0.296342   71.5    0.0    8.275   \n\n                           P1        P2       SOC   TOD      ...       \\\n2014-01-01 00:00:00  0.000000  0.000000  0.000000  0.00      ...        \n2014-01-01 00:15:00  0.000179  0.000179  0.105123  0.25      ...        \n2014-01-01 00:30:00  0.000179  0.000179  0.110879  0.50      ...        \n2014-01-01 00:45:00  0.000179  0.000179  0.119150  0.75      ...        \n2014-01-01 01:00:00  0.000179  0.000179  0.125363  1.00      ...        \n\n                     ZoneTotalIlluB  net_energy  net_power  LigB_input  \\\n2014-01-01 00:00:00             0.0    0.000000   0.000000         0.0   \n2014-01-01 00:15:00             0.0    0.137698   0.550793         0.0   \n2014-01-01 00:30:00             0.0    0.134759   0.539036         0.0   \n2014-01-01 00:45:00             0.0    0.151953   0.607810         0.0   \n2014-01-01 01:00:00             0.0    0.110741   0.442962         0.0   \n\n                         P_ctrl  SaFrB    SaTempB    e_cost  Tcomfort  \\\n2014-01-01 00:00:00    0.000000   0.00   0.000000  0.000000  0.000000   \n2014-01-01 00:15:00  155.652832   0.05  11.873261  0.015353 -0.353127   \n2014-01-01 00:30:00  174.863037   0.05  13.548729  0.015026 -0.345589   \n2014-01-01 00:45:00  251.295654   0.05  13.974788  0.016943 -0.389682   \n2014-01-01 01:00:00  188.769287   0.05  20.024467  0.012348 -0.283994   \n\n                            P1_P2  \n2014-01-01 00:00:00  0.000000e+00  \n2014-01-01 00:15:00  3.573101e-07  \n2014-01-01 00:30:00  3.573314e-07  \n2014-01-01 00:45:00  3.573628e-07  \n2014-01-01 01:00:00  3.574020e-07  \n\n[5 rows x 21 columns]",
      "text/html": "<div>\n<style scoped>\n    .dataframe tbody tr th:only-of-type {\n        vertical-align: middle;\n    }\n\n    .dataframe tbody tr th {\n        vertical-align: top;\n    }\n\n    .dataframe thead th {\n        text-align: right;\n    }\n</style>\n<table border=\"1\" class=\"dataframe\">\n  <thead>\n    <tr style=\"text-align: right;\">\n      <th></th>\n      <th>e_price</th>\n      <th>d_price</th>\n      <th>reward</th>\n      <th>OutRH</th>\n      <th>OutSI</th>\n      <th>OutTemp</th>\n      <th>P1</th>\n      <th>P2</th>\n      <th>SOC</th>\n      <th>TOD</th>\n      <th>...</th>\n      <th>ZoneTotalIlluB</th>\n      <th>net_energy</th>\n      <th>net_power</th>\n      <th>LigB_input</th>\n      <th>P_ctrl</th>\n      <th>SaFrB</th>\n      <th>SaTempB</th>\n      <th>e_cost</th>\n      <th>Tcomfort</th>\n      <th>P1_P2</th>\n    </tr>\n  </thead>\n  <tbody>\n    <tr>\n      <th>2014-01-01 00:00:00</th>\n      <td>0.1115</td>\n      <td>21.08</td>\n      <td>0.000000</td>\n      <td>0.0</td>\n      <td>0.0</td>\n      <td>0.000</td>\n      <td>0.000000</td>\n      <td>0.000000</td>\n      <td>0.000000</td>\n      <td>0.00</td>\n      <td>...</td>\n      <td>0.0</td>\n      <td>0.000000</td>\n      <td>0.000000</td>\n      <td>0.0</td>\n      <td>0.000000</td>\n      <td>0.00</td>\n      <td>0.000000</td>\n      <td>0.000000</td>\n      <td>0.000000</td>\n      <td>0.000000e+00</td>\n    </tr>\n    <tr>\n      <th>2014-01-01 00:15:00</th>\n      <td>0.1115</td>\n      <td>21.08</td>\n      <td>-0.368480</td>\n      <td>77.0</td>\n      <td>0.0</td>\n      <td>9.350</td>\n      <td>0.000179</td>\n      <td>0.000179</td>\n      <td>0.105123</td>\n      <td>0.25</td>\n      <td>...</td>\n      <td>0.0</td>\n      <td>0.137698</td>\n      <td>0.550793</td>\n      <td>0.0</td>\n      <td>155.652832</td>\n      <td>0.05</td>\n      <td>11.873261</td>\n      <td>0.015353</td>\n      <td>-0.353127</td>\n      <td>3.573101e-07</td>\n    </tr>\n    <tr>\n      <th>2014-01-01 00:30:00</th>\n      <td>0.1115</td>\n      <td>21.08</td>\n      <td>-0.360615</td>\n      <td>74.0</td>\n      <td>0.0</td>\n      <td>9.075</td>\n      <td>0.000179</td>\n      <td>0.000179</td>\n      <td>0.110879</td>\n      <td>0.50</td>\n      <td>...</td>\n      <td>0.0</td>\n      <td>0.134759</td>\n      <td>0.539036</td>\n      <td>0.0</td>\n      <td>174.863037</td>\n      <td>0.05</td>\n      <td>13.548729</td>\n      <td>0.015026</td>\n      <td>-0.345589</td>\n      <td>3.573314e-07</td>\n    </tr>\n    <tr>\n      <th>2014-01-01 00:45:00</th>\n      <td>0.1115</td>\n      <td>21.08</td>\n      <td>-0.406625</td>\n      <td>71.0</td>\n      <td>0.0</td>\n      <td>8.800</td>\n      <td>0.000179</td>\n      <td>0.000179</td>\n      <td>0.119150</td>\n      <td>0.75</td>\n      <td>...</td>\n      <td>0.0</td>\n      <td>0.151953</td>\n      <td>0.607810</td>\n      <td>0.0</td>\n      <td>251.295654</td>\n      <td>0.05</td>\n      <td>13.974788</td>\n      <td>0.016943</td>\n      <td>-0.389682</td>\n      <td>3.573628e-07</td>\n    </tr>\n    <tr>\n      <th>2014-01-01 01:00:00</th>\n      <td>0.1115</td>\n      <td>21.08</td>\n      <td>-0.296342</td>\n      <td>71.5</td>\n      <td>0.0</td>\n      <td>8.275</td>\n      <td>0.000179</td>\n      <td>0.000179</td>\n      <td>0.125363</td>\n      <td>1.00</td>\n      <td>...</td>\n      <td>0.0</td>\n      <td>0.110741</td>\n      <td>0.442962</td>\n      <td>0.0</td>\n      <td>188.769287</td>\n      <td>0.05</td>\n      <td>20.024467</td>\n      <td>0.012348</td>\n      <td>-0.283994</td>\n      <td>3.574020e-07</td>\n    </tr>\n  </tbody>\n</table>\n<p>5 rows × 21 columns</p>\n</div>"
     },
     "metadata": {},
     "execution_count": 3
    }
   ],
   "source": [
    "index = pd.date_range(start='1/1/{0}'.format(2014), end='1/1/{0}'.format(2014+1), periods=35040+1)\n",
    "index = index[:-1]\n",
    "\n",
    "actions_df_05 = pd.read_csv(\"../saves_LRC/saves/DRL_Master/Test_77/actions_df_ddpg_test_77_2014.csv\")\n",
    "reward_df_05 = pd.read_csv(\"../saves_LRC/saves/DRL_Master/Test_77/obs_df_ddpg_test_77_2014.csv\")\n",
    "obs_df_05 = pd.read_csv(\"../saves_LRC/saves/DRL_Master/Test_77/reward_df_ddpg_test_77_2014.csv\")\n",
    "e_cost_df_05 = pd.read_csv(\"../saves_LRC/saves/DRL_Master/Test_77/e_costs_df_ddpg_test_77_2014.csv\")\n",
    "#net_energy_df_05 = pd.read_csv(\"../preds/net_energy_df_ddpg_multienv_002.csv\")\n",
    "#net_power_df_05 = pd.read_csv(\"../preds/net_power_df_ddpg_multienv_002.csv\")\n",
    "\n",
    "\n",
    "actions_df_05.index = pd.to_datetime(index)\n",
    "reward_df_05.index = pd.to_datetime(index)\n",
    "obs_df_05.index = pd.to_datetime(index)\n",
    "e_cost_df_05.index = pd.to_datetime(index)\n",
    "#net_energy_df_05.index = pd.to_datetime(index)\n",
    "#net_power_df_05.index = pd.to_datetime(index)\n",
    "\n",
    "e_price_2017 = pd.read_csv(\"../e_tariffs/e_d_price_2014.csv\", index_col=0, parse_dates=True)\n",
    "e_price_2017.index = pd.to_datetime(e_price_2017.index)\n",
    "\n",
    "final_df_05 = pd.concat([e_price_2017, obs_df_05, reward_df_05, actions_df_05,e_cost_df_05],axis=1) #,net_energy_df_05,net_power_df_05\n",
    "final_df_05[\"Tcomfort\"] = final_df_05[\"reward\"] + final_df_05[\"e_cost\"]\n",
    "final_df_05[\"P1_P2\"] = final_df_05[\"P1\"]/1000.0 + final_df_05[\"P2\"]/1000.0\n",
    "final_df_05.head()"
   ]
  },
  {
   "cell_type": "code",
   "execution_count": 4,
   "metadata": {},
   "outputs": [
    {
     "output_type": "execute_result",
     "data": {
      "text/plain": "243.02297000739205"
     },
     "metadata": {},
     "execution_count": 4
    }
   ],
   "source": [
    "final_df_05[\"e_cost\"].sum() "
   ]
  },
  {
   "cell_type": "code",
   "execution_count": 5,
   "metadata": {},
   "outputs": [
    {
     "output_type": "execute_result",
     "data": {
      "text/plain": "-1216.2519374169653"
     },
     "metadata": {},
     "execution_count": 5
    }
   ],
   "source": [
    "final_df_05[\"net_energy\"].sum()"
   ]
  },
  {
   "cell_type": "code",
   "execution_count": 11,
   "metadata": {},
   "outputs": [],
   "source": [
    "plot_df(final_df_05, filename='../saves_LRC/saves/DRL_Master/Test_77/all_columns_ddpg_test_77_2014.html')"
   ]
  },
  {
   "cell_type": "code",
   "execution_count": null,
   "metadata": {},
   "outputs": [],
   "source": []
  },
  {
   "cell_type": "code",
   "execution_count": 5,
   "metadata": {},
   "outputs": [
    {
     "output_type": "execute_result",
     "data": {
      "text/plain": "                     e_price  d_price    reward  OutRH  OutSI  OutTemp  \\\n2014-01-01 00:00:00   0.1115    21.08  0.000000    0.0    0.0    0.000   \n2014-01-01 00:15:00   0.1115    21.08 -2.456127   77.0    0.0    9.350   \n2014-01-01 00:30:00   0.1115    21.08 -2.443525   74.0    0.0    9.075   \n2014-01-01 00:45:00   0.1115    21.08 -0.225456   71.0    0.0    8.800   \n2014-01-01 01:00:00   0.1115    21.08 -0.219041   71.5    0.0    8.275   \n\n                           P1        P2       SOC   TOD      ...       \\\n2014-01-01 00:00:00  0.000000  0.000000  0.000000  0.00      ...        \n2014-01-01 00:15:00  0.000179  0.000179  0.208617  0.25      ...        \n2014-01-01 00:30:00  0.000179  0.000179  0.317234  0.50      ...        \n2014-01-01 00:45:00  0.000179  0.000179  0.316231  0.75      ...        \n2014-01-01 01:00:00  0.000179  0.000179  0.314471  1.00      ...        \n\n                     ZoneTotalIlluB  net_energy  net_power  LigB_input  \\\n2014-01-01 00:00:00             0.0    0.000000   0.000000         0.0   \n2014-01-01 00:15:00             0.0    0.917835   3.671340         0.0   \n2014-01-01 00:30:00             0.0    0.913126   3.652504         0.0   \n2014-01-01 00:45:00             0.0    0.084251   0.337004         0.0   \n2014-01-01 01:00:00             0.0    0.081854   0.327416         0.0   \n\n                          P_ctrl  SaFrB    SaTempB    e_cost  Tcomfort  \\\n2014-01-01 00:00:00     0.000000   0.00   0.000000  0.000000  0.000000   \n2014-01-01 00:15:00  3300.000000   0.05  13.179337  0.102339 -2.353788   \n2014-01-01 00:30:00  3300.000000   0.05  14.266482  0.101814 -2.341712   \n2014-01-01 00:45:00   -25.943115   0.05  13.550077  0.009394 -0.216062   \n2014-01-01 01:00:00   -45.487549   0.05  12.934186  0.009127 -0.209914   \n\n                            P1_P2  \n2014-01-01 00:00:00  0.000000e+00  \n2014-01-01 00:15:00  3.573101e-07  \n2014-01-01 00:30:00  3.573314e-07  \n2014-01-01 00:45:00  3.573628e-07  \n2014-01-01 01:00:00  3.574020e-07  \n\n[5 rows x 21 columns]",
      "text/html": "<div>\n<style scoped>\n    .dataframe tbody tr th:only-of-type {\n        vertical-align: middle;\n    }\n\n    .dataframe tbody tr th {\n        vertical-align: top;\n    }\n\n    .dataframe thead th {\n        text-align: right;\n    }\n</style>\n<table border=\"1\" class=\"dataframe\">\n  <thead>\n    <tr style=\"text-align: right;\">\n      <th></th>\n      <th>e_price</th>\n      <th>d_price</th>\n      <th>reward</th>\n      <th>OutRH</th>\n      <th>OutSI</th>\n      <th>OutTemp</th>\n      <th>P1</th>\n      <th>P2</th>\n      <th>SOC</th>\n      <th>TOD</th>\n      <th>...</th>\n      <th>ZoneTotalIlluB</th>\n      <th>net_energy</th>\n      <th>net_power</th>\n      <th>LigB_input</th>\n      <th>P_ctrl</th>\n      <th>SaFrB</th>\n      <th>SaTempB</th>\n      <th>e_cost</th>\n      <th>Tcomfort</th>\n      <th>P1_P2</th>\n    </tr>\n  </thead>\n  <tbody>\n    <tr>\n      <th>2014-01-01 00:00:00</th>\n      <td>0.1115</td>\n      <td>21.08</td>\n      <td>0.000000</td>\n      <td>0.0</td>\n      <td>0.0</td>\n      <td>0.000</td>\n      <td>0.000000</td>\n      <td>0.000000</td>\n      <td>0.000000</td>\n      <td>0.00</td>\n      <td>...</td>\n      <td>0.0</td>\n      <td>0.000000</td>\n      <td>0.000000</td>\n      <td>0.0</td>\n      <td>0.000000</td>\n      <td>0.00</td>\n      <td>0.000000</td>\n      <td>0.000000</td>\n      <td>0.000000</td>\n      <td>0.000000e+00</td>\n    </tr>\n    <tr>\n      <th>2014-01-01 00:15:00</th>\n      <td>0.1115</td>\n      <td>21.08</td>\n      <td>-2.456127</td>\n      <td>77.0</td>\n      <td>0.0</td>\n      <td>9.350</td>\n      <td>0.000179</td>\n      <td>0.000179</td>\n      <td>0.208617</td>\n      <td>0.25</td>\n      <td>...</td>\n      <td>0.0</td>\n      <td>0.917835</td>\n      <td>3.671340</td>\n      <td>0.0</td>\n      <td>3300.000000</td>\n      <td>0.05</td>\n      <td>13.179337</td>\n      <td>0.102339</td>\n      <td>-2.353788</td>\n      <td>3.573101e-07</td>\n    </tr>\n    <tr>\n      <th>2014-01-01 00:30:00</th>\n      <td>0.1115</td>\n      <td>21.08</td>\n      <td>-2.443525</td>\n      <td>74.0</td>\n      <td>0.0</td>\n      <td>9.075</td>\n      <td>0.000179</td>\n      <td>0.000179</td>\n      <td>0.317234</td>\n      <td>0.50</td>\n      <td>...</td>\n      <td>0.0</td>\n      <td>0.913126</td>\n      <td>3.652504</td>\n      <td>0.0</td>\n      <td>3300.000000</td>\n      <td>0.05</td>\n      <td>14.266482</td>\n      <td>0.101814</td>\n      <td>-2.341712</td>\n      <td>3.573314e-07</td>\n    </tr>\n    <tr>\n      <th>2014-01-01 00:45:00</th>\n      <td>0.1115</td>\n      <td>21.08</td>\n      <td>-0.225456</td>\n      <td>71.0</td>\n      <td>0.0</td>\n      <td>8.800</td>\n      <td>0.000179</td>\n      <td>0.000179</td>\n      <td>0.316231</td>\n      <td>0.75</td>\n      <td>...</td>\n      <td>0.0</td>\n      <td>0.084251</td>\n      <td>0.337004</td>\n      <td>0.0</td>\n      <td>-25.943115</td>\n      <td>0.05</td>\n      <td>13.550077</td>\n      <td>0.009394</td>\n      <td>-0.216062</td>\n      <td>3.573628e-07</td>\n    </tr>\n    <tr>\n      <th>2014-01-01 01:00:00</th>\n      <td>0.1115</td>\n      <td>21.08</td>\n      <td>-0.219041</td>\n      <td>71.5</td>\n      <td>0.0</td>\n      <td>8.275</td>\n      <td>0.000179</td>\n      <td>0.000179</td>\n      <td>0.314471</td>\n      <td>1.00</td>\n      <td>...</td>\n      <td>0.0</td>\n      <td>0.081854</td>\n      <td>0.327416</td>\n      <td>0.0</td>\n      <td>-45.487549</td>\n      <td>0.05</td>\n      <td>12.934186</td>\n      <td>0.009127</td>\n      <td>-0.209914</td>\n      <td>3.574020e-07</td>\n    </tr>\n  </tbody>\n</table>\n<p>5 rows × 21 columns</p>\n</div>"
     },
     "metadata": {},
     "execution_count": 5
    }
   ],
   "source": [
    "index = pd.date_range(start='1/1/{0}'.format(2014), end='1/1/{0}'.format(2014+1), periods=35040+1)\n",
    "index = index[:-1]\n",
    "\n",
    "actions_df_05 = pd.read_csv(\"../saves_LRC/saves/DRL_Master/Test_78/actions_df_ddpg_test_78_2014.csv\")\n",
    "reward_df_05 = pd.read_csv(\"../saves_LRC/saves/DRL_Master/Test_78/obs_df_ddpg_test_78_2014.csv\")\n",
    "obs_df_05 = pd.read_csv(\"../saves_LRC/saves/DRL_Master/Test_78/reward_df_ddpg_test_78_2014.csv\")\n",
    "e_cost_df_05 = pd.read_csv(\"../saves_LRC/saves/DRL_Master/Test_78/e_costs_df_ddpg_test_78_2014.csv\")\n",
    "#net_energy_df_05 = pd.read_csv(\"../preds/net_energy_df_ddpg_multienv_002.csv\")\n",
    "#net_power_df_05 = pd.read_csv(\"../preds/net_power_df_ddpg_multienv_002.csv\")\n",
    "\n",
    "\n",
    "actions_df_05.index = pd.to_datetime(index)\n",
    "reward_df_05.index = pd.to_datetime(index)\n",
    "obs_df_05.index = pd.to_datetime(index)\n",
    "e_cost_df_05.index = pd.to_datetime(index)\n",
    "#net_energy_df_05.index = pd.to_datetime(index)\n",
    "#net_power_df_05.index = pd.to_datetime(index)\n",
    "\n",
    "e_price_2017 = pd.read_csv(\"../e_tariffs/e_d_price_2014.csv\", index_col=0, parse_dates=True)\n",
    "e_price_2017.index = pd.to_datetime(e_price_2017.index)\n",
    "\n",
    "final_df_05 = pd.concat([e_price_2017, obs_df_05, reward_df_05, actions_df_05,e_cost_df_05],axis=1) #,net_energy_df_05,net_power_df_05\n",
    "final_df_05[\"Tcomfort\"] = final_df_05[\"reward\"] + final_df_05[\"e_cost\"]\n",
    "final_df_05[\"P1_P2\"] = final_df_05[\"P1\"]/1000.0 + final_df_05[\"P2\"]/1000.0\n",
    "final_df_05.head()"
   ]
  },
  {
   "cell_type": "code",
   "execution_count": 6,
   "metadata": {},
   "outputs": [
    {
     "output_type": "execute_result",
     "data": {
      "text/plain": "338.15181560755514"
     },
     "metadata": {},
     "execution_count": 6
    }
   ],
   "source": [
    "final_df_05[\"e_cost\"].sum() "
   ]
  },
  {
   "cell_type": "code",
   "execution_count": 8,
   "metadata": {},
   "outputs": [],
   "source": [
    "plot_df(final_df_05, filename='../saves_LRC/saves/DRL_Master/Test_78/all_columns_ddpg_test_78_2014.html')\n"
   ]
  },
  {
   "cell_type": "code",
   "execution_count": null,
   "metadata": {},
   "outputs": [],
   "source": []
  },
  {
   "cell_type": "code",
   "execution_count": 6,
   "metadata": {},
   "outputs": [
    {
     "output_type": "execute_result",
     "data": {
      "text/plain": "                     e_price  d_price     reward  OutRH  OutSI  OutTemp  \\\n2014-01-01 00:00:00   0.1115    21.08   0.000000    0.0    0.0    0.000   \n2014-01-01 00:15:00   0.1115    21.08 -52.696882   77.0    0.0    9.350   \n2014-01-01 00:30:00   0.1115    21.08 -35.482722   74.0    0.0    9.075   \n2014-01-01 00:45:00   0.1115    21.08 -19.716586   71.0    0.0    8.800   \n2014-01-01 01:00:00   0.1115    21.08 -18.449559   71.5    0.0    8.275   \n\n                           P1        P2       SOC    TOW  ZoneTempB  \\\n2014-01-01 00:00:00  0.000000  0.000000  0.000000   0.00   0.000000   \n2014-01-01 00:15:00  0.000179  0.000179  0.138099  48.25  22.760919   \n2014-01-01 00:30:00  0.000179  0.000179  0.152643  48.50  22.130267   \n2014-01-01 00:45:00  0.000179  0.000179  0.156012  48.75  22.153523   \n2014-01-01 01:00:00  0.000179  0.000179  0.157315  49.00  22.117774   \n\n                     net_energy  net_power       P_ctrl     SaFrB    SaTempB  \\\n2014-01-01 00:00:00    0.000000   0.000000     0.000000  0.000000   0.000000   \n2014-01-01 00:15:00    0.451940   1.807760  1157.532715  0.100000  16.611765   \n2014-01-01 00:30:00    0.289376   1.157504   441.860352  0.100010  14.492652   \n2014-01-01 00:45:00    0.166817   0.667268   102.355225  0.100002  19.028721   \n2014-01-01 01:00:00    0.154012   0.616049    39.603516  0.100004  18.526392   \n\n                       e_cost   Tcomfort         P1_P2  \n2014-01-01 00:00:00  0.000000   0.000000  0.000000e+00  \n2014-01-01 00:15:00  5.039132 -47.657750  3.573101e-07  \n2014-01-01 00:30:00  3.226544 -32.256179  3.573314e-07  \n2014-01-01 00:45:00  1.860010 -17.856576  3.573628e-07  \n2014-01-01 01:00:00  1.717235 -16.732324  3.574020e-07  ",
      "text/html": "<div>\n<style scoped>\n    .dataframe tbody tr th:only-of-type {\n        vertical-align: middle;\n    }\n\n    .dataframe tbody tr th {\n        vertical-align: top;\n    }\n\n    .dataframe thead th {\n        text-align: right;\n    }\n</style>\n<table border=\"1\" class=\"dataframe\">\n  <thead>\n    <tr style=\"text-align: right;\">\n      <th></th>\n      <th>e_price</th>\n      <th>d_price</th>\n      <th>reward</th>\n      <th>OutRH</th>\n      <th>OutSI</th>\n      <th>OutTemp</th>\n      <th>P1</th>\n      <th>P2</th>\n      <th>SOC</th>\n      <th>TOW</th>\n      <th>ZoneTempB</th>\n      <th>net_energy</th>\n      <th>net_power</th>\n      <th>P_ctrl</th>\n      <th>SaFrB</th>\n      <th>SaTempB</th>\n      <th>e_cost</th>\n      <th>Tcomfort</th>\n      <th>P1_P2</th>\n    </tr>\n  </thead>\n  <tbody>\n    <tr>\n      <th>2014-01-01 00:00:00</th>\n      <td>0.1115</td>\n      <td>21.08</td>\n      <td>0.000000</td>\n      <td>0.0</td>\n      <td>0.0</td>\n      <td>0.000</td>\n      <td>0.000000</td>\n      <td>0.000000</td>\n      <td>0.000000</td>\n      <td>0.00</td>\n      <td>0.000000</td>\n      <td>0.000000</td>\n      <td>0.000000</td>\n      <td>0.000000</td>\n      <td>0.000000</td>\n      <td>0.000000</td>\n      <td>0.000000</td>\n      <td>0.000000</td>\n      <td>0.000000e+00</td>\n    </tr>\n    <tr>\n      <th>2014-01-01 00:15:00</th>\n      <td>0.1115</td>\n      <td>21.08</td>\n      <td>-52.696882</td>\n      <td>77.0</td>\n      <td>0.0</td>\n      <td>9.350</td>\n      <td>0.000179</td>\n      <td>0.000179</td>\n      <td>0.138099</td>\n      <td>48.25</td>\n      <td>22.760919</td>\n      <td>0.451940</td>\n      <td>1.807760</td>\n      <td>1157.532715</td>\n      <td>0.100000</td>\n      <td>16.611765</td>\n      <td>5.039132</td>\n      <td>-47.657750</td>\n      <td>3.573101e-07</td>\n    </tr>\n    <tr>\n      <th>2014-01-01 00:30:00</th>\n      <td>0.1115</td>\n      <td>21.08</td>\n      <td>-35.482722</td>\n      <td>74.0</td>\n      <td>0.0</td>\n      <td>9.075</td>\n      <td>0.000179</td>\n      <td>0.000179</td>\n      <td>0.152643</td>\n      <td>48.50</td>\n      <td>22.130267</td>\n      <td>0.289376</td>\n      <td>1.157504</td>\n      <td>441.860352</td>\n      <td>0.100010</td>\n      <td>14.492652</td>\n      <td>3.226544</td>\n      <td>-32.256179</td>\n      <td>3.573314e-07</td>\n    </tr>\n    <tr>\n      <th>2014-01-01 00:45:00</th>\n      <td>0.1115</td>\n      <td>21.08</td>\n      <td>-19.716586</td>\n      <td>71.0</td>\n      <td>0.0</td>\n      <td>8.800</td>\n      <td>0.000179</td>\n      <td>0.000179</td>\n      <td>0.156012</td>\n      <td>48.75</td>\n      <td>22.153523</td>\n      <td>0.166817</td>\n      <td>0.667268</td>\n      <td>102.355225</td>\n      <td>0.100002</td>\n      <td>19.028721</td>\n      <td>1.860010</td>\n      <td>-17.856576</td>\n      <td>3.573628e-07</td>\n    </tr>\n    <tr>\n      <th>2014-01-01 01:00:00</th>\n      <td>0.1115</td>\n      <td>21.08</td>\n      <td>-18.449559</td>\n      <td>71.5</td>\n      <td>0.0</td>\n      <td>8.275</td>\n      <td>0.000179</td>\n      <td>0.000179</td>\n      <td>0.157315</td>\n      <td>49.00</td>\n      <td>22.117774</td>\n      <td>0.154012</td>\n      <td>0.616049</td>\n      <td>39.603516</td>\n      <td>0.100004</td>\n      <td>18.526392</td>\n      <td>1.717235</td>\n      <td>-16.732324</td>\n      <td>3.574020e-07</td>\n    </tr>\n  </tbody>\n</table>\n</div>"
     },
     "metadata": {},
     "execution_count": 6
    }
   ],
   "source": [
    "index = pd.date_range(start='1/1/{0}'.format(2014), end='1/1/{0}'.format(2014+1), periods=35040+1)\n",
    "index = index[:-1]\n",
    "\n",
    "actions_df_05 = pd.read_csv(\"../saves_LRC/saves/DRL_no_Lig_4/Test_22/actions_df_ddpg_test_22_2014.csv\")\n",
    "reward_df_05 = pd.read_csv(\"../saves_LRC/saves/DRL_no_Lig_4/Test_22/obs_df_ddpg_test_22_2014.csv\")\n",
    "obs_df_05 = pd.read_csv(\"../saves_LRC/saves/DRL_no_Lig_4/Test_22/reward_df_ddpg_test_22_2014.csv\")\n",
    "e_cost_df_05 = pd.read_csv(\"../saves_LRC/saves/DRL_no_Lig_4/Test_22/e_costs_df_ddpg_test_22_2014.csv\")\n",
    "#net_energy_df_05 = pd.read_csv(\"../preds/net_energy_df_ddpg_multienv_002.csv\")\n",
    "#net_power_df_05 = pd.read_csv(\"../preds/net_power_df_ddpg_multienv_002.csv\")\n",
    "\n",
    "\n",
    "actions_df_05.index = pd.to_datetime(index)\n",
    "reward_df_05.index = pd.to_datetime(index)\n",
    "obs_df_05.index = pd.to_datetime(index)\n",
    "e_cost_df_05.index = pd.to_datetime(index)\n",
    "#net_energy_df_05.index = pd.to_datetime(index)\n",
    "#net_power_df_05.index = pd.to_datetime(index)\n",
    "\n",
    "e_price_2017 = pd.read_csv(\"../e_tariffs/e_d_price_2014.csv\", index_col=0, parse_dates=True)\n",
    "e_price_2017.index = pd.to_datetime(e_price_2017.index)\n",
    "\n",
    "final_df_05 = pd.concat([e_price_2017, obs_df_05, reward_df_05, actions_df_05,e_cost_df_05],axis=1) #,net_energy_df_05,net_power_df_05\n",
    "final_df_05[\"Tcomfort\"] = final_df_05[\"reward\"] + final_df_05[\"e_cost\"]\n",
    "final_df_05[\"P1_P2\"] = final_df_05[\"P1\"]/1000.0 + final_df_05[\"P2\"]/1000.0\n",
    "final_df_05.head()"
   ]
  },
  {
   "cell_type": "code",
   "execution_count": 7,
   "metadata": {},
   "outputs": [
    {
     "output_type": "execute_result",
     "data": {
      "text/plain": "18188.565006955057"
     },
     "metadata": {},
     "execution_count": 7
    }
   ],
   "source": [
    "final_df_05[\"e_cost\"].sum() "
   ]
  },
  {
   "cell_type": "code",
   "execution_count": 8,
   "metadata": {},
   "outputs": [
    {
     "output_type": "execute_result",
     "data": {
      "text/plain": "-1581.9500904150232"
     },
     "metadata": {},
     "execution_count": 8
    }
   ],
   "source": [
    "final_df_05[\"net_energy\"].sum()"
   ]
  },
  {
   "cell_type": "code",
   "execution_count": 11,
   "metadata": {},
   "outputs": [
    {
     "output_type": "execute_result",
     "data": {
      "text/plain": "-3158.789406507384"
     },
     "metadata": {},
     "execution_count": 11
    }
   ],
   "source": [
    "final_df_05[final_df_05.net_energy < 0][\"net_energy\"].sum()"
   ]
  },
  {
   "cell_type": "code",
   "execution_count": 12,
   "metadata": {},
   "outputs": [
    {
     "output_type": "execute_result",
     "data": {
      "text/plain": "1576.8393160923606"
     },
     "metadata": {},
     "execution_count": 12
    }
   ],
   "source": [
    "final_df_05[final_df_05.net_energy > 0][\"net_energy\"].sum()"
   ]
  },
  {
   "cell_type": "code",
   "execution_count": 3,
   "metadata": {},
   "outputs": [
    {
     "output_type": "stream",
     "name": "stdout",
     "text": "total PV generation: 0.0\ntotal ecost: 521.3532094909253\ntotal net_energy: 4342.4628499418195\ntotal energy positif: 4342.466221155752\n"
    }
   ],
   "source": [
    "index = pd.date_range(start='1/1/{0}'.format(2014), end='1/1/{0}'.format(2014+1), periods=35040+1)\n",
    "index = index[:-1]\n",
    "\n",
    "actions_df_05 = pd.read_csv(\"../saves_LRC/saves/DRL_Master/Test_86/actions_df_ddpg_test_86_2014.csv\")\n",
    "reward_df_05 = pd.read_csv(\"../saves_LRC/saves/DRL_Master/Test_86/obs_df_ddpg_test_86_2014.csv\")\n",
    "obs_df_05 = pd.read_csv(\"../saves_LRC/saves/DRL_Master/Test_86/reward_df_ddpg_test_86_2014.csv\")\n",
    "e_cost_df_05 = pd.read_csv(\"../saves_LRC/saves/DRL_Master/Test_86/e_costs_df_ddpg_test_86_2014.csv\")\n",
    "#net_energy_df_05 = pd.read_csv(\"../preds/net_energy_df_ddpg_multienv_002.csv\")\n",
    "#net_power_df_05 = pd.read_csv(\"../preds/net_power_df_ddpg_multienv_002.csv\")\n",
    "\n",
    "\n",
    "actions_df_05.index = pd.to_datetime(index)\n",
    "reward_df_05.index = pd.to_datetime(index)\n",
    "obs_df_05.index = pd.to_datetime(index)\n",
    "e_cost_df_05.index = pd.to_datetime(index)\n",
    "#net_energy_df_05.index = pd.to_datetime(index)\n",
    "#net_power_df_05.index = pd.to_datetime(index)\n",
    "\n",
    "e_price_2017 = pd.read_csv(\"../e_tariffs/e_d_price_2014.csv\", index_col=0, parse_dates=True)\n",
    "e_price_2017.index = pd.to_datetime(e_price_2017.index)\n",
    "\n",
    "final_df_05 = pd.concat([e_price_2017, obs_df_05, reward_df_05, actions_df_05,e_cost_df_05],axis=1) #,net_energy_df_05,net_power_df_05\n",
    "final_df_05[\"Tcomfort\"] = final_df_05[\"reward\"] + final_df_05[\"e_cost\"]\n",
    "#final_df_05[\"P1_P2\"] = final_df_05[\"P1\"]/1000.0 + final_df_05[\"P2\"]/1000.0\n",
    "# final_df_05.head()\n",
    "print(f'total PV generation: {final_df_05[\"PV\"].sum()*.25}') \n",
    "\n",
    "print(f'total ecost: {final_df_05[\"e_cost\"].sum()}') \n",
    "print(f'total net_energy: {final_df_05[\"net_energy\"].sum()}') \n",
    "print(f'total energy positif: {final_df_05[final_df_05.net_energy > 0][\"net_energy\"].sum()}') "
   ]
  },
  {
   "cell_type": "code",
   "execution_count": null,
   "metadata": {},
   "outputs": [],
   "source": []
  },
  {
   "cell_type": "code",
   "execution_count": 4,
   "metadata": {},
   "outputs": [],
   "source": [
    "plot_df(final_df_05, filename='../saves_LRC/saves/DRL_Master/Test_86/all_columns_ddpg_test_86_2014.html')\n"
   ]
  },
  {
   "cell_type": "code",
   "execution_count": null,
   "metadata": {},
   "outputs": [],
   "source": []
  },
  {
   "cell_type": "code",
   "execution_count": 4,
   "metadata": {},
   "outputs": [
    {
     "output_type": "stream",
     "name": "stdout",
     "text": "total PV generation: 3789.5498796338297\ntotal ecost: 441.3255203390391\ntotal net_energy: 3731.891531593201\ntotal energy positif: 3762.5056938942466\n"
    }
   ],
   "source": [
    "index = pd.date_range(start='1/1/{0}'.format(2014), end='1/1/{0}'.format(2014+1), periods=35040+1)\n",
    "index = index[:-1]\n",
    "\n",
    "actions_df_05 = pd.read_csv(\"../saves_LRC/saves/DRL_Master/Test_95/actions_df_ddpg_test_95_2014.csv\")\n",
    "reward_df_05 = pd.read_csv(\"../saves_LRC/saves/DRL_Master/Test_95/obs_df_ddpg_test_95_2014.csv\")\n",
    "obs_df_05 = pd.read_csv(\"../saves_LRC/saves/DRL_Master/Test_95/reward_df_ddpg_test_95_2014.csv\")\n",
    "e_cost_df_05 = pd.read_csv(\"../saves_LRC/saves/DRL_Master/Test_95/e_costs_df_ddpg_test_95_2014.csv\")\n",
    "#net_energy_df_05 = pd.read_csv(\"../preds/net_energy_df_ddpg_multienv_002.csv\")\n",
    "#net_power_df_05 = pd.read_csv(\"../preds/net_power_df_ddpg_multienv_002.csv\")\n",
    "\n",
    "\n",
    "actions_df_05.index = pd.to_datetime(index)\n",
    "reward_df_05.index = pd.to_datetime(index)\n",
    "obs_df_05.index = pd.to_datetime(index)\n",
    "e_cost_df_05.index = pd.to_datetime(index)\n",
    "#net_energy_df_05.index = pd.to_datetime(index)\n",
    "#net_power_df_05.index = pd.to_datetime(index)\n",
    "\n",
    "e_price_2017 = pd.read_csv(\"../e_tariffs/e_d_price_2014.csv\", index_col=0, parse_dates=True)\n",
    "e_price_2017.index = pd.to_datetime(e_price_2017.index)\n",
    "\n",
    "final_df_05 = pd.concat([e_price_2017, obs_df_05, reward_df_05, actions_df_05,e_cost_df_05],axis=1) #,net_energy_df_05,net_power_df_05\n",
    "final_df_05[\"Tcomfort\"] = final_df_05[\"reward\"] + final_df_05[\"e_cost\"]\n",
    "#final_df_05[\"P1_P2\"] = final_df_05[\"P1\"]/1000.0 + final_df_05[\"P2\"]/1000.0\n",
    "# final_df_05.head()\n",
    "print(f'total PV generation: {final_df_05[\"PV\"].sum()*.25/1000.0}') \n",
    "\n",
    "print(f'total ecost: {final_df_05[\"e_cost\"].sum()}') \n",
    "print(f'total net_energy: {final_df_05[\"net_energy\"].sum()}') \n",
    "print(f'total energy positif: {final_df_05[final_df_05.net_energy > 0][\"net_energy\"].sum()}') "
   ]
  },
  {
   "cell_type": "code",
   "execution_count": 3,
   "metadata": {},
   "outputs": [],
   "source": [
    "plot_df(final_df_05, filename='../saves_LRC/saves/DRL_Master/Test_95/all_columns_ddpg_test_95_2014.html')"
   ]
  },
  {
   "cell_type": "code",
   "execution_count": null,
   "metadata": {},
   "outputs": [],
   "source": []
  },
  {
   "cell_type": "code",
   "execution_count": 2,
   "metadata": {},
   "outputs": [
    {
     "output_type": "stream",
     "name": "stdout",
     "text": "total PV generation: 7579.0997592676595\ntotal ecost: 46.61427451701637\ntotal net_energy: -2283.138215441601\ntotal energy positif: 415.9005140146543\n"
    }
   ],
   "source": [
    "index = pd.date_range(start='1/1/{0}'.format(2014), end='1/1/{0}'.format(2014+1), periods=35040+1)\n",
    "index = index[:-1]\n",
    "\n",
    "actions_df_05 = pd.read_csv(\"../saves_LRC/saves/DRL_Master/Test_98/actions_df_ddpg_test_98_2014.csv\")\n",
    "reward_df_05 = pd.read_csv(\"../saves_LRC/saves/DRL_Master/Test_98/obs_df_ddpg_test_98_2014.csv\")\n",
    "obs_df_05 = pd.read_csv(\"../saves_LRC/saves/DRL_Master/Test_98/reward_df_ddpg_test_98_2014.csv\")\n",
    "e_cost_df_05 = pd.read_csv(\"../saves_LRC/saves/DRL_Master/Test_98/e_costs_df_ddpg_test_98_2014.csv\")\n",
    "#net_energy_df_05 = pd.read_csv(\"../preds/net_energy_df_ddpg_multienv_002.csv\")\n",
    "#net_power_df_05 = pd.read_csv(\"../preds/net_power_df_ddpg_multienv_002.csv\")\n",
    "\n",
    "\n",
    "actions_df_05.index = pd.to_datetime(index)\n",
    "reward_df_05.index = pd.to_datetime(index)\n",
    "obs_df_05.index = pd.to_datetime(index)\n",
    "e_cost_df_05.index = pd.to_datetime(index)\n",
    "#net_energy_df_05.index = pd.to_datetime(index)\n",
    "#net_power_df_05.index = pd.to_datetime(index)\n",
    "\n",
    "e_price_2017 = pd.read_csv(\"../e_tariffs/e_d_price_2014.csv\", index_col=0, parse_dates=True)\n",
    "e_price_2017.index = pd.to_datetime(e_price_2017.index)\n",
    "\n",
    "final_df_05 = pd.concat([e_price_2017, obs_df_05, reward_df_05, actions_df_05,e_cost_df_05],axis=1) #,net_energy_df_05,net_power_df_05\n",
    "final_df_05[\"Tcomfort\"] = final_df_05[\"reward\"] + final_df_05[\"e_cost\"]\n",
    "#final_df_05[\"P1_P2\"] = final_df_05[\"P1\"]/1000.0 + final_df_05[\"P2\"]/1000.0\n",
    "# final_df_05.head()\n",
    "print(f'total PV generation: {final_df_05[\"PV\"].sum()*.25/1000.0}') \n",
    "\n",
    "print(f'total ecost: {final_df_05[\"e_cost\"].sum()}') \n",
    "print(f'total net_energy: {final_df_05[\"net_energy\"].sum()}') \n",
    "print(f'total energy positif: {final_df_05[final_df_05.net_energy > 0][\"net_energy\"].sum()}') "
   ]
  },
  {
   "cell_type": "code",
   "execution_count": 3,
   "metadata": {},
   "outputs": [],
   "source": [
    "plot_df(final_df_05, filename='../saves_LRC/saves/DRL_Master/Test_98/all_columns_ddpg_test_98_2014.html')"
   ]
  },
  {
   "cell_type": "code",
   "execution_count": null,
   "metadata": {},
   "outputs": [],
   "source": []
  },
  {
   "cell_type": "code",
   "execution_count": 4,
   "metadata": {},
   "outputs": [
    {
     "output_type": "stream",
     "name": "stdout",
     "text": "total PV generation: 5413.642685191186\ntotal ecost: 88.2145877483527\ntotal net_energy: -905.1753331053745\ntotal energy positif: 745.8498919060252\n"
    }
   ],
   "source": [
    "index = pd.date_range(start='1/1/{0}'.format(2014), end='1/1/{0}'.format(2014+1), periods=35040+1)\n",
    "index = index[:-1]\n",
    "\n",
    "actions_df_05 = pd.read_csv(\"../saves_LRC/saves/DRL_Master/Test_104/actions_df_ddpg_test_104_2014.csv\")\n",
    "reward_df_05 = pd.read_csv(\"../saves_LRC/saves/DRL_Master/Test_104/obs_df_ddpg_test_104_2014.csv\")\n",
    "obs_df_05 = pd.read_csv(\"../saves_LRC/saves/DRL_Master/Test_104/reward_df_ddpg_test_104_2014.csv\")\n",
    "e_cost_df_05 = pd.read_csv(\"../saves_LRC/saves/DRL_Master/Test_104/e_costs_df_ddpg_test_104_2014.csv\")\n",
    "#net_energy_df_05 = pd.read_csv(\"../preds/net_energy_df_ddpg_multienv_002.csv\")\n",
    "#net_power_df_05 = pd.read_csv(\"../preds/net_power_df_ddpg_multienv_002.csv\")\n",
    "\n",
    "\n",
    "actions_df_05.index = pd.to_datetime(index)\n",
    "reward_df_05.index = pd.to_datetime(index)\n",
    "obs_df_05.index = pd.to_datetime(index)\n",
    "e_cost_df_05.index = pd.to_datetime(index)\n",
    "#net_energy_df_05.index = pd.to_datetime(index)\n",
    "#net_power_df_05.index = pd.to_datetime(index)\n",
    "\n",
    "e_price_2017 = pd.read_csv(\"../e_tariffs/e_d_price_2014.csv\", index_col=0, parse_dates=True)\n",
    "e_price_2017.index = pd.to_datetime(e_price_2017.index)\n",
    "\n",
    "final_df_05 = pd.concat([e_price_2017, obs_df_05, reward_df_05, actions_df_05,e_cost_df_05],axis=1) #,net_energy_df_05,net_power_df_05\n",
    "final_df_05[\"Tcomfort\"] = final_df_05[\"reward\"] + final_df_05[\"e_cost\"]\n",
    "#final_df_05[\"P1_P2\"] = final_df_05[\"P1\"]/1000.0 + final_df_05[\"P2\"]/1000.0\n",
    "# final_df_05.head()\n",
    "print(f'total PV generation: {final_df_05[\"PV\"].sum()*.25/1000.0}') \n",
    "\n",
    "print(f'total ecost: {final_df_05[\"e_cost\"].sum()}') \n",
    "print(f'total net_energy: {final_df_05[\"net_energy\"].sum()}') \n",
    "print(f'total energy positif: {final_df_05[final_df_05.net_energy > 0][\"net_energy\"].sum()}') "
   ]
  },
  {
   "cell_type": "code",
   "execution_count": 5,
   "metadata": {},
   "outputs": [],
   "source": [
    "plot_df(final_df_05, filename='../saves_LRC/saves/DRL_Master/Test_104/all_columns_ddpg_test_104_2014.html')"
   ]
  },
  {
   "cell_type": "code",
   "execution_count": null,
   "metadata": {},
   "outputs": [],
   "source": []
  },
  {
   "cell_type": "code",
   "execution_count": 6,
   "metadata": {},
   "outputs": [
    {
     "output_type": "stream",
     "name": "stdout",
     "text": "total PV generation: 3789.5498796338297\ntotal ecost: 115.58828287924554\ntotal net_energy: 378.9707231533681\ntotal energy positif: 949.3257769302766\n"
    }
   ],
   "source": [
    "index = pd.date_range(start='1/1/{0}'.format(2014), end='1/1/{0}'.format(2014+1), periods=35040+1)\n",
    "index = index[:-1]\n",
    "\n",
    "actions_df_05 = pd.read_csv(\"../saves_LRC/saves/DRL_Master/Test_112/actions_df_ddpg_test_112_2014.csv\")\n",
    "reward_df_05 = pd.read_csv(\"../saves_LRC/saves/DRL_Master/Test_112/obs_df_ddpg_test_112_2014.csv\")\n",
    "obs_df_05 = pd.read_csv(\"../saves_LRC/saves/DRL_Master/Test_112/reward_df_ddpg_test_112_2014.csv\")\n",
    "e_cost_df_05 = pd.read_csv(\"../saves_LRC/saves/DRL_Master/Test_112/e_costs_df_ddpg_test_112_2014.csv\")\n",
    "#net_energy_df_05 = pd.read_csv(\"../preds/net_energy_df_ddpg_multienv_002.csv\")\n",
    "#net_power_df_05 = pd.read_csv(\"../preds/net_power_df_ddpg_multienv_002.csv\")\n",
    "\n",
    "\n",
    "actions_df_05.index = pd.to_datetime(index)\n",
    "reward_df_05.index = pd.to_datetime(index)\n",
    "obs_df_05.index = pd.to_datetime(index)\n",
    "e_cost_df_05.index = pd.to_datetime(index)\n",
    "#net_energy_df_05.index = pd.to_datetime(index)\n",
    "#net_power_df_05.index = pd.to_datetime(index)\n",
    "\n",
    "e_price_2017 = pd.read_csv(\"../e_tariffs/e_d_price_2014.csv\", index_col=0, parse_dates=True)\n",
    "e_price_2017.index = pd.to_datetime(e_price_2017.index)\n",
    "\n",
    "final_df_05 = pd.concat([e_price_2017, obs_df_05, reward_df_05, actions_df_05,e_cost_df_05],axis=1) #,net_energy_df_05,net_power_df_05\n",
    "final_df_05[\"Tcomfort\"] = final_df_05[\"reward\"] + final_df_05[\"e_cost\"]\n",
    "#final_df_05[\"P1_P2\"] = final_df_05[\"P1\"]/1000.0 + final_df_05[\"P2\"]/1000.0\n",
    "# final_df_05.head()\n",
    "print(f'total PV generation: {final_df_05[\"PV\"].sum()*.25/1000.0}') \n",
    "\n",
    "print(f'total ecost: {final_df_05[\"e_cost\"].sum()}') \n",
    "print(f'total net_energy: {final_df_05[\"net_energy\"].sum()}') \n",
    "print(f'total energy positif: {final_df_05[final_df_05.net_energy > 0][\"net_energy\"].sum()}') "
   ]
  },
  {
   "cell_type": "code",
   "execution_count": 7,
   "metadata": {},
   "outputs": [],
   "source": [
    "plot_df(final_df_05, filename='../saves_LRC/saves/DRL_Master/Test_112/all_columns_ddpg_test_112_2014.html')"
   ]
  },
  {
   "cell_type": "code",
   "execution_count": null,
   "metadata": {},
   "outputs": [],
   "source": []
  },
  {
   "cell_type": "code",
   "execution_count": 2,
   "metadata": {},
   "outputs": [
    {
     "output_type": "stream",
     "name": "stdout",
     "text": "total PV generation: 5413.642685191186\ntotal ecost: 127.3175829511149\ntotal net_energy: -729.4763130895916\ntotal energy positif: 1063.564867170872\n"
    }
   ],
   "source": [
    "index = pd.date_range(start='1/1/{0}'.format(2014), end='1/1/{0}'.format(2014+1), periods=35040+1)\n",
    "index = index[:-1]\n",
    "\n",
    "actions_df_05 = pd.read_csv(\"../saves_LRC/saves/DRL_Master/Test_113/actions_df_ddpg_test_113_2014.csv\")\n",
    "reward_df_05 = pd.read_csv(\"../saves_LRC/saves/DRL_Master/Test_113/obs_df_ddpg_test_113_2014.csv\")\n",
    "obs_df_05 = pd.read_csv(\"../saves_LRC/saves/DRL_Master/Test_113/reward_df_ddpg_test_113_2014.csv\")\n",
    "e_cost_df_05 = pd.read_csv(\"../saves_LRC/saves/DRL_Master/Test_113/e_costs_df_ddpg_test_113_2014.csv\")\n",
    "#net_energy_df_05 = pd.read_csv(\"../preds/net_energy_df_ddpg_multienv_002.csv\")\n",
    "#net_power_df_05 = pd.read_csv(\"../preds/net_power_df_ddpg_multienv_002.csv\")\n",
    "\n",
    "\n",
    "actions_df_05.index = pd.to_datetime(index)\n",
    "reward_df_05.index = pd.to_datetime(index)\n",
    "obs_df_05.index = pd.to_datetime(index)\n",
    "e_cost_df_05.index = pd.to_datetime(index)\n",
    "#net_energy_df_05.index = pd.to_datetime(index)\n",
    "#net_power_df_05.index = pd.to_datetime(index)\n",
    "\n",
    "e_price_2017 = pd.read_csv(\"../e_tariffs/e_d_price_2014.csv\", index_col=0, parse_dates=True)\n",
    "e_price_2017.index = pd.to_datetime(e_price_2017.index)\n",
    "\n",
    "final_df_05 = pd.concat([e_price_2017, obs_df_05, reward_df_05, actions_df_05,e_cost_df_05],axis=1) #,net_energy_df_05,net_power_df_05\n",
    "final_df_05[\"Tcomfort\"] = final_df_05[\"reward\"] + final_df_05[\"e_cost\"]\n",
    "#final_df_05[\"P1_P2\"] = final_df_05[\"P1\"]/1000.0 + final_df_05[\"P2\"]/1000.0\n",
    "# final_df_05.head()\n",
    "print(f'total PV generation: {final_df_05[\"PV\"].sum()*.25/1000.0}') \n",
    "\n",
    "print(f'total ecost: {final_df_05[\"e_cost\"].sum()}') \n",
    "print(f'total net_energy: {final_df_05[\"net_energy\"].sum()}') \n",
    "print(f'total energy positif: {final_df_05[final_df_05.net_energy > 0][\"net_energy\"].sum()}') "
   ]
  },
  {
   "cell_type": "code",
   "execution_count": 3,
   "metadata": {},
   "outputs": [],
   "source": [
    "plot_df(final_df_05, filename='../saves_LRC/saves/DRL_Master/Test_113/all_columns_ddpg_test_113_2014.html')"
   ]
  },
  {
   "cell_type": "code",
   "execution_count": null,
   "metadata": {},
   "outputs": [],
   "source": []
  },
  {
   "cell_type": "code",
   "execution_count": 5,
   "metadata": {},
   "outputs": [
    {
     "output_type": "stream",
     "name": "stdout",
     "text": "total PV generation: 3789.5498796338297\ntotal ecost: 172.41080836453233\ntotal net_energy: 655.7613156290217\ntotal energy positif: 1432.9211985031823\n"
    }
   ],
   "source": [
    "index = pd.date_range(start='1/1/{0}'.format(2014), end='1/1/{0}'.format(2014+1), periods=35040+1)\n",
    "index = index[:-1]\n",
    "\n",
    "actions_df_05 = pd.read_csv(\"../saves_LRC/saves/DRL_Master/Test_115/actions_df_ddpg_test_115_2014.csv\")\n",
    "reward_df_05 = pd.read_csv(\"../saves_LRC/saves/DRL_Master/Test_115/obs_df_ddpg_test_115_2014.csv\")\n",
    "obs_df_05 = pd.read_csv(\"../saves_LRC/saves/DRL_Master/Test_115/reward_df_ddpg_test_115_2014.csv\")\n",
    "e_cost_df_05 = pd.read_csv(\"../saves_LRC/saves/DRL_Master/Test_115/e_costs_df_ddpg_test_115_2014.csv\")\n",
    "#net_energy_df_05 = pd.read_csv(\"../preds/net_energy_df_ddpg_multienv_002.csv\")\n",
    "#net_power_df_05 = pd.read_csv(\"../preds/net_power_df_ddpg_multienv_002.csv\")\n",
    "\n",
    "\n",
    "actions_df_05.index = pd.to_datetime(index)\n",
    "reward_df_05.index = pd.to_datetime(index)\n",
    "obs_df_05.index = pd.to_datetime(index)\n",
    "e_cost_df_05.index = pd.to_datetime(index)\n",
    "#net_energy_df_05.index = pd.to_datetime(index)\n",
    "#net_power_df_05.index = pd.to_datetime(index)\n",
    "\n",
    "e_price_2017 = pd.read_csv(\"../e_tariffs/e_d_price_2014.csv\", index_col=0, parse_dates=True) \n",
    "e_price_2017.index = pd.to_datetime(e_price_2017.index)\n",
    "\n",
    "final_df_05 = pd.concat([e_price_2017, obs_df_05, reward_df_05, actions_df_05,e_cost_df_05],axis=1) #,net_energy_df_05,net_power_df_05\n",
    "final_df_05[\"Tcomfort\"] = final_df_05[\"reward\"] + final_df_05[\"e_cost\"]\n",
    "#final_df_05[\"P1_P2\"] = final_df_05[\"P1\"]/1000.0 + final_df_05[\"P2\"]/1000.0\n",
    "# final_df_05.head()\n",
    "print(f'total PV generation: {final_df_05[\"PV\"].sum()*.25/1000.0}') \n",
    "\n",
    "print(f'total ecost: {final_df_05[\"e_cost\"].sum()}') \n",
    "print(f'total net_energy: {final_df_05[\"net_energy\"].sum()}') \n",
    "print(f'total energy positif: {final_df_05[final_df_05.net_energy > 0][\"net_energy\"].sum()}') "
   ]
  },
  {
   "cell_type": "code",
   "execution_count": 6,
   "metadata": {},
   "outputs": [],
   "source": [
    "plot_df(final_df_05, filename='../saves_LRC/saves/DRL_Master/Test_115/all_columns_ddpg_test_115_2014.html')"
   ]
  },
  {
   "cell_type": "code",
   "execution_count": null,
   "metadata": {},
   "outputs": [],
   "source": []
  },
  {
   "cell_type": "code",
   "execution_count": 2,
   "metadata": {},
   "outputs": [
    {
     "output_type": "stream",
     "name": "stdout",
     "text": "total PV generation: 5413.642685191186\ntotal ecost: 125.14118830747796\ntotal net_energy: -414.5122045504713\ntotal energy positif: 1086.8584307804185\n"
    }
   ],
   "source": [
    "index = pd.date_range(start='1/1/{0}'.format(2014), end='1/1/{0}'.format(2014+1), periods=35040+1)\n",
    "index = index[:-1]\n",
    "\n",
    "actions_df_05 = pd.read_csv(\"../saves_LRC/saves/DRL_Master/Test_120/actions_df_ddpg_test_120_2014.csv\")\n",
    "reward_df_05 = pd.read_csv(\"../saves_LRC/saves/DRL_Master/Test_120/obs_df_ddpg_test_120_2014.csv\")\n",
    "obs_df_05 = pd.read_csv(\"../saves_LRC/saves/DRL_Master/Test_120/reward_df_ddpg_test_120_2014.csv\")\n",
    "e_cost_df_05 = pd.read_csv(\"../saves_LRC/saves/DRL_Master/Test_120/e_costs_df_ddpg_test_120_2014.csv\")\n",
    "#net_energy_df_05 = pd.read_csv(\"../preds/net_energy_df_ddpg_multienv_002.csv\")\n",
    "#net_power_df_05 = pd.read_csv(\"../preds/net_power_df_ddpg_multienv_002.csv\")\n",
    "\n",
    "\n",
    "actions_df_05.index = pd.to_datetime(index)\n",
    "reward_df_05.index = pd.to_datetime(index)\n",
    "obs_df_05.index = pd.to_datetime(index)\n",
    "e_cost_df_05.index = pd.to_datetime(index)\n",
    "#net_energy_df_05.index = pd.to_datetime(index)\n",
    "#net_power_df_05.index = pd.to_datetime(index)\n",
    "\n",
    "e_price_2017 = pd.read_csv(\"../e_tariffs/e_d_price_2014.csv\", index_col=0, parse_dates=True)\n",
    "e_price_2017.index = pd.to_datetime(e_price_2017.index)\n",
    "\n",
    "final_df_05 = pd.concat([e_price_2017, obs_df_05, reward_df_05, actions_df_05,e_cost_df_05],axis=1) #,net_energy_df_05,net_power_df_05\n",
    "final_df_05[\"Tcomfort\"] = final_df_05[\"reward\"] + final_df_05[\"e_cost\"]\n",
    "#final_df_05[\"P1_P2\"] = final_df_05[\"P1\"]/1000.0 + final_df_05[\"P2\"]/1000.0\n",
    "# final_df_05.head()\n",
    "print(f'total PV generation: {final_df_05[\"PV\"].sum()*.25/1000.0}') \n",
    "\n",
    "print(f'total ecost: {final_df_05[\"e_cost\"].sum()}') \n",
    "print(f'total net_energy: {final_df_05[\"net_energy\"].sum()}') \n",
    "print(f'total energy positif: {final_df_05[final_df_05.net_energy > 0][\"net_energy\"].sum()}') "
   ]
  },
  {
   "cell_type": "code",
   "execution_count": 3,
   "metadata": {},
   "outputs": [],
   "source": [
    "plot_df(final_df_05, filename='../saves_LRC/saves/DRL_Master/Test_120/all_columns_ddpg_test_120_2014.html')"
   ]
  },
  {
   "cell_type": "code",
   "execution_count": null,
   "metadata": {},
   "outputs": [],
   "source": []
  },
  {
   "cell_type": "code",
   "execution_count": 5,
   "metadata": {},
   "outputs": [
    {
     "output_type": "stream",
     "name": "stdout",
     "text": "total PV generation: 5413.642685191186\ntotal ecost: 128.5657555308311\ntotal net_energy: -951.6744450023997\ntotal energy positif: 1058.6900015493225\n"
    }
   ],
   "source": [
    "index = pd.date_range(start='1/1/{0}'.format(2014), end='1/1/{0}'.format(2014+1), periods=35040+1)\n",
    "index = index[:-1]\n",
    "\n",
    "actions_df_05 = pd.read_csv(\"../saves_LRC/saves/DRL_Master/Test_121/actions_df_ddpg_test_121_2014.csv\")\n",
    "reward_df_05 = pd.read_csv(\"../saves_LRC/saves/DRL_Master/Test_121/obs_df_ddpg_test_121_2014.csv\")\n",
    "obs_df_05 = pd.read_csv(\"../saves_LRC/saves/DRL_Master/Test_121/reward_df_ddpg_test_121_2014.csv\")\n",
    "e_cost_df_05 = pd.read_csv(\"../saves_LRC/saves/DRL_Master/Test_121/e_costs_df_ddpg_test_121_2014.csv\")\n",
    "#net_energy_df_05 = pd.read_csv(\"../preds/net_energy_df_ddpg_multienv_002.csv\")\n",
    "#net_power_df_05 = pd.read_csv(\"../preds/net_power_df_ddpg_multienv_002.csv\")\n",
    "\n",
    "\n",
    "actions_df_05.index = pd.to_datetime(index)\n",
    "reward_df_05.index = pd.to_datetime(index)\n",
    "obs_df_05.index = pd.to_datetime(index)\n",
    "e_cost_df_05.index = pd.to_datetime(index)\n",
    "#net_energy_df_05.index = pd.to_datetime(index)\n",
    "#net_power_df_05.index = pd.to_datetime(index)\n",
    "\n",
    "e_price_2017 = pd.read_csv(\"../e_tariffs/e_d_price_2014.csv\", index_col=0, parse_dates=True)\n",
    "e_price_2017.index = pd.to_datetime(e_price_2017.index)\n",
    "\n",
    "final_df_05 = pd.concat([e_price_2017, obs_df_05, reward_df_05, actions_df_05,e_cost_df_05],axis=1) #,net_energy_df_05,net_power_df_05\n",
    "final_df_05[\"Tcomfort\"] = final_df_05[\"reward\"] + final_df_05[\"e_cost\"]\n",
    "#final_df_05[\"P1_P2\"] = final_df_05[\"P1\"]/1000.0 + final_df_05[\"P2\"]/1000.0\n",
    "# final_df_05.head()\n",
    "print(f'total PV generation: {final_df_05[\"PV\"].sum()*.25/1000.0}') \n",
    "\n",
    "print(f'total ecost: {final_df_05[\"e_cost\"].sum()}') \n",
    "print(f'total net_energy: {final_df_05[\"net_energy\"].sum()}') \n",
    "print(f'total energy positif: {final_df_05[final_df_05.net_energy > 0][\"net_energy\"].sum()}') "
   ]
  },
  {
   "cell_type": "code",
   "execution_count": 6,
   "metadata": {},
   "outputs": [],
   "source": [
    "plot_df(final_df_05, filename='../saves_LRC/saves/DRL_Master/Test_121/all_columns_ddpg_test_121_2014.html')"
   ]
  },
  {
   "cell_type": "code",
   "execution_count": null,
   "metadata": {},
   "outputs": [],
   "source": []
  }
 ],
 "metadata": {
  "kernelspec": {
   "display_name": "Python 3",
   "language": "python",
   "name": "python3"
  },
  "language_info": {
   "codemirror_mode": {
    "name": "ipython",
    "version": 3
   },
   "file_extension": ".py",
   "mimetype": "text/x-python",
   "name": "python",
   "nbconvert_exporter": "python",
   "pygments_lexer": "ipython3",
   "version": "3.6.8-final"
  }
 },
 "nbformat": 4,
 "nbformat_minor": 2
}