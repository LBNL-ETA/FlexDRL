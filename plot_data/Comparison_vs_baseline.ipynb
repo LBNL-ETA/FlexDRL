{
 "cells": [
  {
   "cell_type": "code",
   "execution_count": 1,
   "metadata": {},
   "outputs": [],
   "source": [
    "import pandas as pd\n",
    "\n",
    "from make_charts import plot_df"
   ]
  },
  {
   "cell_type": "code",
   "execution_count": null,
   "metadata": {},
   "outputs": [],
   "source": []
  },
  {
   "cell_type": "code",
   "execution_count": 22,
   "metadata": {},
   "outputs": [
    {
     "output_type": "stream",
     "name": "stdout",
     "text": "total PV generation: 7579.0997592676595\ntotal ecost: 46.61427451701637\ntotal net_energy: -2283.138215441601\ntotal energy positif: 415.9005140146543\n"
    }
   ],
   "source": [
    "index = pd.date_range(start='1/1/{0}'.format(2014), end='1/1/{0}'.format(2014+1), periods=35040+1)\n",
    "index = index[:-1]\n",
    "\n",
    "actions_df = pd.read_csv(\"../saves_LRC/saves/DRL_Master/Test_98/actions_df_ddpg_test_98_2014.csv\")\n",
    "reward_df = pd.read_csv(\"../saves_LRC/saves/DRL_Master/Test_98/obs_df_ddpg_test_98_2014.csv\")\n",
    "obs_df = pd.read_csv(\"../saves_LRC/saves/DRL_Master/Test_98/reward_df_ddpg_test_98_2014.csv\")\n",
    "e_cost_df = pd.read_csv(\"../saves_LRC/saves/DRL_Master/Test_98/e_costs_df_ddpg_test_98_2014.csv\")\n",
    "fan_power_df = pd.read_csv(\"../saves_LRC/saves/DRL_Master/Test_98/fan_power_df_ddpg_test_98_2014.csv\")\n",
    "cool_power_df = pd.read_csv(\"../saves_LRC/saves/DRL_Master/Test_98/cool_power_df_ddpg_test_98_2014.csv\")\n",
    "heat_power_df = pd.read_csv(\"../saves_LRC/saves/DRL_Master/Test_98/heat_power_df_ddpg_test_98_2014.csv\")\n",
    "plugs_load_df = pd.read_csv(\"../saves_LRC/saves/DRL_Master/Test_98/plugs_load_df_ddpg_test_98_2014.csv\")\n",
    "\n",
    "\n",
    "\n",
    "actions_df.index = pd.to_datetime(index)\n",
    "reward_df.index = pd.to_datetime(index)\n",
    "obs_df.index = pd.to_datetime(index)\n",
    "e_cost_df.index = pd.to_datetime(index)\n",
    "fan_power_df.index = pd.to_datetime(index)\n",
    "cool_power_df.index = pd.to_datetime(index)\n",
    "heat_power_df.index = pd.to_datetime(index)\n",
    "plugs_load_df.index = pd.to_datetime(index)\n",
    "#net_energy_df.index = pd.to_datetime(index)\n",
    "#net_power_df.index = pd.to_datetime(index)\n",
    "\n",
    "e_price_2017 = pd.read_csv(\"../e_tariffs/e_d_price_2014.csv\", index_col=0, parse_dates=True)\n",
    "e_price_2017.index = pd.to_datetime(e_price_2017.index)\n",
    "\n",
    "final_df = pd.concat([e_price_2017, obs_df, reward_df, actions_df,e_cost_df,fan_power_df,cool_power_df,heat_power_df,plugs_load_df],axis=1) #,net_energy_df,net_power_df\n",
    "final_df[\"Tcomfort\"] = final_df[\"reward\"] + final_df[\"e_cost\"]\n",
    "#final_df[\"P1_P2\"] = final_df[\"P1\"]/1000.0 + final_df[\"P2\"]/1000.0\n",
    "# final_df.head()\n",
    "print(f'total PV generation: {final_df[\"PV\"].sum()*.25/1000.0}') \n",
    "\n",
    "print(f'total ecost: {final_df[\"e_cost\"].sum()}') \n",
    "print(f'total net_energy: {final_df[\"net_energy\"].sum()}') \n",
    "print(f'total energy positif: {final_df[final_df.net_energy > 0][\"net_energy\"].sum()}') "
   ]
  },
  {
   "cell_type": "code",
   "execution_count": 4,
   "metadata": {},
   "outputs": [],
   "source": [
    "# plot_df(final_df, filename='../saves_LRC/saves/DRL_Master/Test_121/all_columns_ddpg_test_121_2014.html')"
   ]
  },
  {
   "cell_type": "code",
   "execution_count": 23,
   "metadata": {},
   "outputs": [
    {
     "output_type": "execute_result",
     "data": {
      "text/plain": "                       lig_base   mels_base     hea_base  coo_base  \\\n2014-01-01 00:00:00  187.943997  115.701601  1001.122982       0.0   \n2014-01-01 00:15:00  187.943997  115.701601   666.968271       0.0   \n2014-01-01 00:30:00  187.943997  115.701601   543.779389       0.0   \n2014-01-01 00:45:00  187.943997  115.701601   508.041957       0.0   \n2014-01-01 01:00:00  187.943997  115.701601   454.688967       0.0   \n\n                       fan_base  cooPump_base  heaPump_base  \n2014-01-01 00:00:00  106.441012           0.0      1.634334  \n2014-01-01 00:15:00  106.441012           0.0      1.086679  \n2014-01-01 00:30:00  106.441012           0.0      0.885285  \n2014-01-01 00:45:00  106.441012           0.0      0.827619  \n2014-01-01 01:00:00  106.441012           0.0      0.738610  ",
      "text/html": "<div>\n<style scoped>\n    .dataframe tbody tr th:only-of-type {\n        vertical-align: middle;\n    }\n\n    .dataframe tbody tr th {\n        vertical-align: top;\n    }\n\n    .dataframe thead th {\n        text-align: right;\n    }\n</style>\n<table border=\"1\" class=\"dataframe\">\n  <thead>\n    <tr style=\"text-align: right;\">\n      <th></th>\n      <th>lig_base</th>\n      <th>mels_base</th>\n      <th>hea_base</th>\n      <th>coo_base</th>\n      <th>fan_base</th>\n      <th>cooPump_base</th>\n      <th>heaPump_base</th>\n    </tr>\n  </thead>\n  <tbody>\n    <tr>\n      <th>2014-01-01 00:00:00</th>\n      <td>187.943997</td>\n      <td>115.701601</td>\n      <td>1001.122982</td>\n      <td>0.0</td>\n      <td>106.441012</td>\n      <td>0.0</td>\n      <td>1.634334</td>\n    </tr>\n    <tr>\n      <th>2014-01-01 00:15:00</th>\n      <td>187.943997</td>\n      <td>115.701601</td>\n      <td>666.968271</td>\n      <td>0.0</td>\n      <td>106.441012</td>\n      <td>0.0</td>\n      <td>1.086679</td>\n    </tr>\n    <tr>\n      <th>2014-01-01 00:30:00</th>\n      <td>187.943997</td>\n      <td>115.701601</td>\n      <td>543.779389</td>\n      <td>0.0</td>\n      <td>106.441012</td>\n      <td>0.0</td>\n      <td>0.885285</td>\n    </tr>\n    <tr>\n      <th>2014-01-01 00:45:00</th>\n      <td>187.943997</td>\n      <td>115.701601</td>\n      <td>508.041957</td>\n      <td>0.0</td>\n      <td>106.441012</td>\n      <td>0.0</td>\n      <td>0.827619</td>\n    </tr>\n    <tr>\n      <th>2014-01-01 01:00:00</th>\n      <td>187.943997</td>\n      <td>115.701601</td>\n      <td>454.688967</td>\n      <td>0.0</td>\n      <td>106.441012</td>\n      <td>0.0</td>\n      <td>0.738610</td>\n    </tr>\n  </tbody>\n</table>\n</div>"
     },
     "metadata": {},
     "execution_count": 23
    }
   ],
   "source": [
    "# Baseline\n",
    "year =2014\n",
    "columns = ['FLEXLAB-XR-ZONEB LIGHTS:Lights Electric Power [W](TimeStep)',\n",
    "               'FLEXLAB-XR-ZONEB ELECEQ:Electric Equipment Electric Power [W](TimeStep)',\n",
    "               'SYS-B HEATING COIL:Heating Coil Heating Rate [W](TimeStep)',\n",
    "               'SYS-B COOLING COIL:Cooling Coil Total Cooling Rate [W](TimeStep)',\n",
    "               'SYS-B SUPPLY FAN:Fan Electric Power [W](TimeStep)',\n",
    "               'SYS-B CW SEC CIRC PUMP2:Pump Electric Power [W](TimeStep)',\n",
    "               'SYS-B HW SEC CIRC PUMP2:Pump Electric Power [W](TimeStep)']\n",
    "baseline_df = pd.read_csv(f'../utilities/comparison baseline/data/{year}.csv',usecols=columns)\n",
    "baseline_df.columns = ['lig_base','mels_base','hea_base','coo_base','fan_base','cooPump_base','heaPump_base']\n",
    "baseline_df['hea_base'] = baseline_df['hea_base'] / 0.95\n",
    "baseline_df['coo_base'] = baseline_df['coo_base'] / 3.0\n",
    "baseline_df.index = pd.to_datetime(index)\n",
    "baseline_df.head()"
   ]
  },
  {
   "cell_type": "code",
   "execution_count": 24,
   "metadata": {},
   "outputs": [],
   "source": [
    "final_df = pd.concat([final_df,baseline_df],axis=1)"
   ]
  },
  {
   "cell_type": "code",
   "execution_count": 26,
   "metadata": {},
   "outputs": [],
   "source": [
    "plot_df(final_df, filename='../saves_LRC/saves/DRL_Master/Test_98/all_columns_ddpg_test_98_2014_vs_base.html')"
   ]
  },
  {
   "cell_type": "code",
   "execution_count": 25,
   "metadata": {},
   "outputs": [
    {
     "output_type": "stream",
     "name": "stdout",
     "text": "total cooling DRL: 3967.958483997684\ntotal cooling baseline: 4598.798886573477\ntotal heating DRL: 862.6360715463328\ntotal heating baseline: 470.02635470328016\n"
    }
   ],
   "source": [
    "print(f'total cooling DRL: {final_df[\"cool_power\"].sum()/1000.0}') \n",
    "print(f'total cooling baseline: {final_df[\"coo_base\"].sum()/1000.0}') \n",
    "print(f'total heating DRL: {final_df[\"heat_power\"].sum()/1000.0}') \n",
    "print(f'total heating baseline: {final_df[\"hea_base\"].sum()/1000.0}') "
   ]
  },
  {
   "cell_type": "code",
   "execution_count": null,
   "metadata": {},
   "outputs": [],
   "source": []
  },
  {
   "cell_type": "code",
   "execution_count": 2,
   "metadata": {
    "tags": []
   },
   "outputs": [
    {
     "output_type": "stream",
     "name": "stdout",
     "text": "total PV generation: 5414.0\ntotal ecost: 98.0\ntotal net_energy: -455.0\ntotal energy positif: 841.0\ntotal cooling DRL: 3931.0\ntotal cooling baseline: 4599.0\ntotal heating DRL: 270.0\ntotal heating baseline: 470.0\n"
    }
   ],
   "source": [
    "index = pd.date_range(start='1/1/{0}'.format(2014), end='1/1/{0}'.format(2014+1), periods=35040+1)\n",
    "index = index[:-1]\n",
    "\n",
    "actions_df = pd.read_csv(\"../saves_LRC/saves/DRL_Master/Test_120/actions_df_ddpg_test_120_2014.csv\")\n",
    "reward_df = pd.read_csv(\"../saves_LRC/saves/DRL_Master/Test_120/obs_df_ddpg_test_120_2014.csv\")\n",
    "obs_df = pd.read_csv(\"../saves_LRC/saves/DRL_Master/Test_120/reward_df_ddpg_test_120_2014.csv\")\n",
    "e_cost_df = pd.read_csv(\"../saves_LRC/saves/DRL_Master/Test_120/e_costs_df_ddpg_test_120_2014.csv\")\n",
    "fan_power_df = pd.read_csv(\"../saves_LRC/saves/DRL_Master/Test_120/fan_power_df_ddpg_test_120_2014.csv\")\n",
    "cool_power_df = pd.read_csv(\"../saves_LRC/saves/DRL_Master/Test_120/cool_power_df_ddpg_test_120_2014.csv\")\n",
    "heat_power_df = pd.read_csv(\"../saves_LRC/saves/DRL_Master/Test_120/heat_power_df_ddpg_test_120_2014.csv\")\n",
    "plugs_load_df = pd.read_csv(\"../saves_LRC/saves/DRL_Master/Test_120/plugs_load_df_ddpg_test_120_2014.csv\")\n",
    "\n",
    "\n",
    "\n",
    "actions_df.index = pd.to_datetime(index)\n",
    "reward_df.index = pd.to_datetime(index)\n",
    "obs_df.index = pd.to_datetime(index)\n",
    "e_cost_df.index = pd.to_datetime(index)\n",
    "fan_power_df.index = pd.to_datetime(index)\n",
    "cool_power_df.index = pd.to_datetime(index)\n",
    "heat_power_df.index = pd.to_datetime(index)\n",
    "plugs_load_df.index = pd.to_datetime(index)\n",
    "#net_energy_df.index = pd.to_datetime(index)\n",
    "#net_power_df.index = pd.to_datetime(index)\n",
    "\n",
    "e_price_2017 = pd.read_csv(\"../e_tariffs/e_d_price_2014.csv\", index_col=0, parse_dates=True)\n",
    "e_price_2017.index = pd.to_datetime(e_price_2017.index)\n",
    "\n",
    "final_df = pd.concat([e_price_2017, obs_df, reward_df, actions_df,e_cost_df,fan_power_df,cool_power_df,heat_power_df,plugs_load_df],axis=1) #,net_energy_df,net_power_df\n",
    "final_df[\"Tcomfort\"] = final_df[\"reward\"] + final_df[\"e_cost\"]\n",
    "#final_df[\"P1_P2\"] = final_df[\"P1\"]/1000.0 + final_df[\"P2\"]/1000.0\n",
    "# final_df.head()\n",
    "print(f'total PV generation: {round(final_df[\"PV\"].sum()*.25/1000.0)}') \n",
    "print(f'total ecost: {round(final_df[\"e_cost\"].sum())}') \n",
    "print(f'total net_energy: {round(final_df[\"net_energy\"].sum())}') \n",
    "print(f'total energy positif: {round(final_df[final_df.net_energy > 0][\"net_energy\"].sum())}') \n",
    "\n",
    "# Baseline\n",
    "year =2014\n",
    "columns = ['FLEXLAB-XR-ZONEB LIGHTS:Lights Electric Power [W](TimeStep)',\n",
    "               'FLEXLAB-XR-ZONEB ELECEQ:Electric Equipment Electric Power [W](TimeStep)',\n",
    "               'SYS-B HEATING COIL:Heating Coil Heating Rate [W](TimeStep)',\n",
    "               'SYS-B COOLING COIL:Cooling Coil Total Cooling Rate [W](TimeStep)',\n",
    "               'SYS-B SUPPLY FAN:Fan Electric Power [W](TimeStep)',\n",
    "               'SYS-B CW SEC CIRC PUMP2:Pump Electric Power [W](TimeStep)',\n",
    "               'SYS-B HW SEC CIRC PUMP2:Pump Electric Power [W](TimeStep)']\n",
    "baseline_df = pd.read_csv(f'../utilities/comparison baseline/data/{year}.csv',usecols=columns)\n",
    "baseline_df.columns = ['lig_base','mels_base','hea_base','coo_base','fan_base','cooPump_base','heaPump_base']\n",
    "baseline_df['hea_base'] = baseline_df['hea_base'] / 0.95\n",
    "baseline_df['coo_base'] = baseline_df['coo_base'] / 3.0\n",
    "baseline_df.index = pd.to_datetime(index)\n",
    "# baseline_df.head()\n",
    "final_df = pd.concat([final_df,baseline_df],axis=1)\n",
    "print(f'total cooling DRL: {round(final_df[\"cool_power\"].sum()/1000.0)}') \n",
    "print(f'total cooling baseline: {round(final_df[\"coo_base\"].sum()/1000.0)}') \n",
    "print(f'total heating DRL: {round(final_df[\"heat_power\"].sum()/1000.0)}') \n",
    "print(f'total heating baseline: {round(final_df[\"hea_base\"].sum()/1000.0)}') "
   ]
  },
  {
   "cell_type": "code",
   "execution_count": 3,
   "metadata": {},
   "outputs": [],
   "source": [
    "plot_df(final_df, filename='../saves_LRC/saves/DRL_Master/Test_120/all_columns_ddpg_test_120_2014_vs_base.html')"
   ]
  },
  {
   "cell_type": "markdown",
   "metadata": {},
   "source": [
    "### Check missing light level constraint"
   ]
  },
  {
   "cell_type": "code",
   "execution_count": 28,
   "metadata": {},
   "outputs": [
    {
     "output_type": "execute_result",
     "data": {
      "text/plain": "LigB_input        0.948467\nZoneTotalIlluB    0.948467\ndtype: float64"
     },
     "metadata": {},
     "execution_count": 28
    }
   ],
   "source": [
    "df_light = final_df[['LigB_input','ZoneTotalIlluB']]\n",
    "df_light_day = df_light.between_time('7:45','18:00')\n",
    "df_light_day[df_light_day['ZoneTotalIlluB']>480].count()/df_light_day.shape[0]"
   ]
  },
  {
   "cell_type": "code",
   "execution_count": null,
   "metadata": {},
   "outputs": [],
   "source": []
  },
  {
   "cell_type": "code",
   "execution_count": 5,
   "metadata": {},
   "outputs": [
    {
     "output_type": "stream",
     "name": "stdout",
     "text": "total PV generation: 5413.642685191186\ntotal ecost: 203.45923953916005\ntotal net_energy: -205.35622103485355\ntotal energy positif: 1693.7941319485335\ntotal cooling DRL: 4492.146694039857\ntotal cooling baseline: 4598.798886573477\ntotal heating DRL: 1265.7691216109843\ntotal heating baseline: 470.02635470328016\n"
    }
   ],
   "source": [
    "index = pd.date_range(start='1/1/{0}'.format(2014), end='1/1/{0}'.format(2014+1), periods=35040+1)\n",
    "index = index[:-1]\n",
    "\n",
    "actions_df = pd.read_csv(\"../saves_LRC/saves/DRL_Master/Test_121/actions_df_ddpg_test_121_2014.csv\")\n",
    "reward_df = pd.read_csv(\"../saves_LRC/saves/DRL_Master/Test_121/obs_df_ddpg_test_121_2014.csv\")\n",
    "obs_df = pd.read_csv(\"../saves_LRC/saves/DRL_Master/Test_121/reward_df_ddpg_test_121_2014.csv\")\n",
    "e_cost_df = pd.read_csv(\"../saves_LRC/saves/DRL_Master/Test_121/e_costs_df_ddpg_test_121_2014.csv\")\n",
    "fan_power_df = pd.read_csv(\"../saves_LRC/saves/DRL_Master/Test_121/fan_power_df_ddpg_test_121_2014.csv\")\n",
    "cool_power_df = pd.read_csv(\"../saves_LRC/saves/DRL_Master/Test_121/cool_power_df_ddpg_test_121_2014.csv\")\n",
    "heat_power_df = pd.read_csv(\"../saves_LRC/saves/DRL_Master/Test_121/heat_power_df_ddpg_test_121_2014.csv\")\n",
    "plugs_load_df = pd.read_csv(\"../saves_LRC/saves/DRL_Master/Test_121/plugs_load_df_ddpg_test_121_2014.csv\")\n",
    "\n",
    "\n",
    "\n",
    "actions_df.index = pd.to_datetime(index)\n",
    "reward_df.index = pd.to_datetime(index)\n",
    "obs_df.index = pd.to_datetime(index)\n",
    "e_cost_df.index = pd.to_datetime(index)\n",
    "fan_power_df.index = pd.to_datetime(index)\n",
    "cool_power_df.index = pd.to_datetime(index)\n",
    "heat_power_df.index = pd.to_datetime(index)\n",
    "plugs_load_df.index = pd.to_datetime(index)\n",
    "#net_energy_df.index = pd.to_datetime(index)\n",
    "#net_power_df.index = pd.to_datetime(index)\n",
    "\n",
    "e_price_2017 = pd.read_csv(\"../e_tariffs/e_d_price_2014.csv\", index_col=0, parse_dates=True)\n",
    "e_price_2017.index = pd.to_datetime(e_price_2017.index)\n",
    "\n",
    "final_df = pd.concat([e_price_2017, obs_df, reward_df, actions_df,e_cost_df,fan_power_df,cool_power_df,heat_power_df,plugs_load_df],axis=1) #,net_energy_df,net_power_df\n",
    "final_df[\"Tcomfort\"] = final_df[\"reward\"] + final_df[\"e_cost\"]\n",
    "#final_df[\"P1_P2\"] = final_df[\"P1\"]/1000.0 + final_df[\"P2\"]/1000.0\n",
    "# final_df.head()\n",
    "print(f'total PV generation: {final_df[\"PV\"].sum()*.25/1000.0}') \n",
    "\n",
    "print(f'total ecost: {final_df[\"e_cost\"].sum()}') \n",
    "print(f'total net_energy: {final_df[\"net_energy\"].sum()}') \n",
    "print(f'total energy positif: {final_df[final_df.net_energy > 0][\"net_energy\"].sum()}') \n",
    "\n",
    "# Baseline\n",
    "year =2014\n",
    "columns = ['FLEXLAB-XR-ZONEB LIGHTS:Lights Electric Power [W](TimeStep)',\n",
    "               'FLEXLAB-XR-ZONEB ELECEQ:Electric Equipment Electric Power [W](TimeStep)',\n",
    "               'SYS-B HEATING COIL:Heating Coil Heating Rate [W](TimeStep)',\n",
    "               'SYS-B COOLING COIL:Cooling Coil Total Cooling Rate [W](TimeStep)',\n",
    "               'SYS-B SUPPLY FAN:Fan Electric Power [W](TimeStep)',\n",
    "               'SYS-B CW SEC CIRC PUMP2:Pump Electric Power [W](TimeStep)',\n",
    "               'SYS-B HW SEC CIRC PUMP2:Pump Electric Power [W](TimeStep)']\n",
    "baseline_df = pd.read_csv(f'../utilities/comparison baseline/data/{year}.csv',usecols=columns)\n",
    "baseline_df.columns = ['lig_base','mels_base','hea_base','coo_base','fan_base','cooPump_base','heaPump_base']\n",
    "baseline_df['hea_base'] = baseline_df['hea_base'] / 0.95\n",
    "baseline_df['coo_base'] = baseline_df['coo_base'] / 3.0\n",
    "baseline_df.index = pd.to_datetime(index)\n",
    "# baseline_df.head()\n",
    "final_df = pd.concat([final_df,baseline_df],axis=1)\n",
    "print(f'total cooling DRL: {final_df[\"cool_power\"].sum()/1000.0}') \n",
    "print(f'total cooling baseline: {final_df[\"coo_base\"].sum()/1000.0}') \n",
    "print(f'total heating DRL: {final_df[\"heat_power\"].sum()/1000.0}') \n",
    "print(f'total heating baseline: {final_df[\"hea_base\"].sum()/1000.0}') "
   ]
  },
  {
   "cell_type": "code",
   "execution_count": 6,
   "metadata": {},
   "outputs": [],
   "source": [
    "plot_df(final_df, filename='../saves_LRC/saves/DRL_Master/Test_121/all_columns_ddpg_test_121_2014_vs_base.html')"
   ]
  },
  {
   "cell_type": "code",
   "execution_count": null,
   "metadata": {},
   "outputs": [],
   "source": []
  },
  {
   "cell_type": "code",
   "execution_count": 7,
   "metadata": {},
   "outputs": [
    {
     "output_type": "stream",
     "name": "stdout",
     "text": "total PV generation: 5413.642685191186\ntotal ecost: 128.85122629456066\ntotal net_energy: -203.6729946119038\ntotal energy positif: 1099.940462943347\ntotal cooling DRL: 4385.24954854004\ntotal cooling baseline: 4598.798886573477\ntotal heating DRL: 793.7732819921653\ntotal heating baseline: 470.02635470328016\n"
    }
   ],
   "source": [
    "index = pd.date_range(start='1/1/{0}'.format(2014), end='1/1/{0}'.format(2014+1), periods=35040+1)\n",
    "index = index[:-1]\n",
    "\n",
    "actions_df = pd.read_csv(\"../saves_LRC/saves/DRL_Master/Test_125/actions_df_ddpg_test_125_2014.csv\")\n",
    "reward_df = pd.read_csv(\"../saves_LRC/saves/DRL_Master/Test_125/obs_df_ddpg_test_125_2014.csv\")\n",
    "obs_df = pd.read_csv(\"../saves_LRC/saves/DRL_Master/Test_125/reward_df_ddpg_test_125_2014.csv\")\n",
    "e_cost_df = pd.read_csv(\"../saves_LRC/saves/DRL_Master/Test_125/e_costs_df_ddpg_test_125_2014.csv\")\n",
    "fan_power_df = pd.read_csv(\"../saves_LRC/saves/DRL_Master/Test_125/fan_power_df_ddpg_test_125_2014.csv\")\n",
    "cool_power_df = pd.read_csv(\"../saves_LRC/saves/DRL_Master/Test_125/cool_power_df_ddpg_test_125_2014.csv\")\n",
    "heat_power_df = pd.read_csv(\"../saves_LRC/saves/DRL_Master/Test_125/heat_power_df_ddpg_test_125_2014.csv\")\n",
    "plugs_load_df = pd.read_csv(\"../saves_LRC/saves/DRL_Master/Test_125/plugs_load_df_ddpg_test_125_2014.csv\")\n",
    "\n",
    "\n",
    "\n",
    "actions_df.index = pd.to_datetime(index)\n",
    "reward_df.index = pd.to_datetime(index)\n",
    "obs_df.index = pd.to_datetime(index)\n",
    "e_cost_df.index = pd.to_datetime(index)\n",
    "fan_power_df.index = pd.to_datetime(index)\n",
    "cool_power_df.index = pd.to_datetime(index)\n",
    "heat_power_df.index = pd.to_datetime(index)\n",
    "plugs_load_df.index = pd.to_datetime(index)\n",
    "#net_energy_df.index = pd.to_datetime(index)\n",
    "#net_power_df.index = pd.to_datetime(index)\n",
    "\n",
    "e_price_2017 = pd.read_csv(\"../e_tariffs/e_d_price_2014.csv\", index_col=0, parse_dates=True)\n",
    "e_price_2017.index = pd.to_datetime(e_price_2017.index)\n",
    "\n",
    "final_df = pd.concat([e_price_2017, obs_df, reward_df, actions_df,e_cost_df,fan_power_df,cool_power_df,heat_power_df,plugs_load_df],axis=1) #,net_energy_df,net_power_df\n",
    "final_df[\"Tcomfort\"] = final_df[\"reward\"] + final_df[\"e_cost\"]\n",
    "#final_df[\"P1_P2\"] = final_df[\"P1\"]/1000.0 + final_df[\"P2\"]/1000.0\n",
    "# final_df.head()\n",
    "print(f'total PV generation: {final_df[\"PV\"].sum()*.25/1000.0}') \n",
    "\n",
    "print(f'total ecost: {final_df[\"e_cost\"].sum()}') \n",
    "print(f'total net_energy: {final_df[\"net_energy\"].sum()}') \n",
    "print(f'total energy positif: {final_df[final_df.net_energy > 0][\"net_energy\"].sum()}') \n",
    "\n",
    "# Baseline\n",
    "year =2014\n",
    "columns = ['FLEXLAB-XR-ZONEB LIGHTS:Lights Electric Power [W](TimeStep)',\n",
    "               'FLEXLAB-XR-ZONEB ELECEQ:Electric Equipment Electric Power [W](TimeStep)',\n",
    "               'SYS-B HEATING COIL:Heating Coil Heating Rate [W](TimeStep)',\n",
    "               'SYS-B COOLING COIL:Cooling Coil Total Cooling Rate [W](TimeStep)',\n",
    "               'SYS-B SUPPLY FAN:Fan Electric Power [W](TimeStep)',\n",
    "               'SYS-B CW SEC CIRC PUMP2:Pump Electric Power [W](TimeStep)',\n",
    "               'SYS-B HW SEC CIRC PUMP2:Pump Electric Power [W](TimeStep)']\n",
    "baseline_df = pd.read_csv(f'../utilities/comparison baseline/data/{year}.csv',usecols=columns)\n",
    "baseline_df.columns = ['lig_base','mels_base','hea_base','coo_base','fan_base','cooPump_base','heaPump_base']\n",
    "baseline_df['hea_base'] = baseline_df['hea_base'] / 0.95\n",
    "baseline_df['coo_base'] = baseline_df['coo_base'] / 3.0\n",
    "baseline_df.index = pd.to_datetime(index)\n",
    "# baseline_df.head()\n",
    "final_df = pd.concat([final_df,baseline_df],axis=1)\n",
    "print(f'total cooling DRL: {final_df[\"cool_power\"].sum()/1000.0}') \n",
    "print(f'total cooling baseline: {final_df[\"coo_base\"].sum()/1000.0}') \n",
    "print(f'total heating DRL: {final_df[\"heat_power\"].sum()/1000.0}') \n",
    "print(f'total heating baseline: {final_df[\"hea_base\"].sum()/1000.0}') "
   ]
  },
  {
   "cell_type": "code",
   "execution_count": 8,
   "metadata": {},
   "outputs": [],
   "source": [
    "plot_df(final_df, filename='../saves_LRC/saves/DRL_Master/Test_125/all_columns_ddpg_test_125_2014_vs_base.html')"
   ]
  },
  {
   "cell_type": "code",
   "execution_count": null,
   "metadata": {},
   "outputs": [],
   "source": []
  },
  {
   "cell_type": "code",
   "execution_count": 3,
   "metadata": {},
   "outputs": [
    {
     "output_type": "stream",
     "name": "stdout",
     "text": "total PV generation: 5414.0\ntotal ecost: 142.0\ntotal net_energy: -516.0\ntotal energy positif: 1176.0\ntotal cooling DRL: 3850.0\ntotal cooling baseline: 4599.0\ntotal heating DRL: 615.0\ntotal heating baseline: 470.0\n"
    }
   ],
   "source": [
    "index = pd.date_range(start='1/1/{0}'.format(2014), end='1/1/{0}'.format(2014+1), periods=35040+1)\n",
    "index = index[:-1]\n",
    "\n",
    "actions_df = pd.read_csv(\"../saves_LRC/saves/DRL_Master/Test_123/actions_df_ddpg_test_123_2014.csv\")\n",
    "reward_df = pd.read_csv(\"../saves_LRC/saves/DRL_Master/Test_123/obs_df_ddpg_test_123_2014.csv\")\n",
    "obs_df = pd.read_csv(\"../saves_LRC/saves/DRL_Master/Test_123/reward_df_ddpg_test_123_2014.csv\")\n",
    "e_cost_df = pd.read_csv(\"../saves_LRC/saves/DRL_Master/Test_123/e_costs_df_ddpg_test_123_2014.csv\")\n",
    "fan_power_df = pd.read_csv(\"../saves_LRC/saves/DRL_Master/Test_123/fan_power_df_ddpg_test_123_2014.csv\")\n",
    "cool_power_df = pd.read_csv(\"../saves_LRC/saves/DRL_Master/Test_123/cool_power_df_ddpg_test_123_2014.csv\")\n",
    "heat_power_df = pd.read_csv(\"../saves_LRC/saves/DRL_Master/Test_123/heat_power_df_ddpg_test_123_2014.csv\")\n",
    "plugs_load_df = pd.read_csv(\"../saves_LRC/saves/DRL_Master/Test_123/plugs_load_df_ddpg_test_123_2014.csv\")\n",
    "\n",
    "\n",
    "\n",
    "actions_df.index = pd.to_datetime(index)\n",
    "reward_df.index = pd.to_datetime(index)\n",
    "obs_df.index = pd.to_datetime(index)\n",
    "e_cost_df.index = pd.to_datetime(index)\n",
    "fan_power_df.index = pd.to_datetime(index)\n",
    "cool_power_df.index = pd.to_datetime(index)\n",
    "heat_power_df.index = pd.to_datetime(index)\n",
    "plugs_load_df.index = pd.to_datetime(index)\n",
    "#net_energy_df.index = pd.to_datetime(index)\n",
    "#net_power_df.index = pd.to_datetime(index)\n",
    "\n",
    "e_price_2017 = pd.read_csv(\"../e_tariffs/e_d_price_2014.csv\", index_col=0, parse_dates=True)\n",
    "e_price_2017.index = pd.to_datetime(e_price_2017.index)\n",
    "\n",
    "final_df = pd.concat([e_price_2017, obs_df, reward_df, actions_df,e_cost_df,fan_power_df,cool_power_df,heat_power_df,plugs_load_df],axis=1) #,net_energy_df,net_power_df\n",
    "final_df[\"Tcomfort\"] = final_df[\"reward\"] + final_df[\"e_cost\"]\n",
    "#final_df[\"P1_P2\"] = final_df[\"P1\"]/1000.0 + final_df[\"P2\"]/1000.0\n",
    "# final_df.head()\n",
    "print(f'total PV generation: {round(final_df[\"PV\"].sum()*.25/1000.0)}') \n",
    "print(f'total ecost: {round(final_df[\"e_cost\"].sum())}') \n",
    "print(f'total net_energy: {round(final_df[\"net_energy\"].sum())}') \n",
    "print(f'total energy positif: {round(final_df[final_df.net_energy > 0][\"net_energy\"].sum())}') \n",
    "\n",
    "# Baseline\n",
    "year =2014\n",
    "columns = ['FLEXLAB-XR-ZONEB LIGHTS:Lights Electric Power [W](TimeStep)',\n",
    "               'FLEXLAB-XR-ZONEB ELECEQ:Electric Equipment Electric Power [W](TimeStep)',\n",
    "               'SYS-B HEATING COIL:Heating Coil Heating Rate [W](TimeStep)',\n",
    "               'SYS-B COOLING COIL:Cooling Coil Total Cooling Rate [W](TimeStep)',\n",
    "               'SYS-B SUPPLY FAN:Fan Electric Power [W](TimeStep)',\n",
    "               'SYS-B CW SEC CIRC PUMP2:Pump Electric Power [W](TimeStep)',\n",
    "               'SYS-B HW SEC CIRC PUMP2:Pump Electric Power [W](TimeStep)']\n",
    "baseline_df = pd.read_csv(f'../utilities/comparison baseline/data/{year}.csv',usecols=columns)\n",
    "baseline_df.columns = ['lig_base','mels_base','hea_base','coo_base','fan_base','cooPump_base','heaPump_base']\n",
    "baseline_df['hea_base'] = baseline_df['hea_base'] / 0.95\n",
    "baseline_df['coo_base'] = baseline_df['coo_base'] / 3.0\n",
    "baseline_df.index = pd.to_datetime(index)\n",
    "# baseline_df.head()\n",
    "final_df = pd.concat([final_df,baseline_df],axis=1)\n",
    "print(f'total cooling DRL: {round(final_df[\"cool_power\"].sum()/1000.0)}') \n",
    "print(f'total cooling baseline: {round(final_df[\"coo_base\"].sum()/1000.0)}') \n",
    "print(f'total heating DRL: {round(final_df[\"heat_power\"].sum()/1000.0)}') \n",
    "print(f'total heating baseline: {round(final_df[\"hea_base\"].sum()/1000.0)}') "
   ]
  },
  {
   "cell_type": "code",
   "execution_count": 4,
   "metadata": {},
   "outputs": [],
   "source": [
    "plot_df(final_df, filename='../saves_LRC/saves/DRL_Master/Test_123/all_columns_ddpg_test_123_2014_vs_base.html')"
   ]
  },
  {
   "cell_type": "code",
   "execution_count": null,
   "metadata": {},
   "outputs": [],
   "source": []
  },
  {
   "cell_type": "code",
   "execution_count": 30,
   "metadata": {
    "tags": []
   },
   "outputs": [
    {
     "output_type": "stream",
     "name": "stdout",
     "text": "total PV generation: 5414.0\ntotal ecost: 72.0\ntotal net_energy: -971.0\ntotal energy positif: 607.0\ntotal cooling DRL: 1749.0\ntotal cooling baseline: 4599.0\ntotal heating DRL: 307.0\ntotal heating baseline: 470.0\n"
    }
   ],
   "source": [
    "index = pd.date_range(start='1/1/{0}'.format(2014), end='1/1/{0}'.format(2014+1), periods=35040+1)\n",
    "index = index[:-1]\n",
    "\n",
    "actions_df = pd.read_csv(\"../saves_LRC/saves/DRL_Master/Test_131/actions_df_ddpg_test_131_2014.csv\")\n",
    "reward_df = pd.read_csv(\"../saves_LRC/saves/DRL_Master/Test_131/obs_df_ddpg_test_131_2014.csv\")\n",
    "obs_df = pd.read_csv(\"../saves_LRC/saves/DRL_Master/Test_131/reward_df_ddpg_test_131_2014.csv\")\n",
    "e_cost_df = pd.read_csv(\"../saves_LRC/saves/DRL_Master/Test_131/e_costs_df_ddpg_test_131_2014.csv\")\n",
    "fan_power_df = pd.read_csv(\"../saves_LRC/saves/DRL_Master/Test_131/fan_power_df_ddpg_test_131_2014.csv\")\n",
    "cool_power_df = pd.read_csv(\"../saves_LRC/saves/DRL_Master/Test_131/cool_power_df_ddpg_test_131_2014.csv\")\n",
    "heat_power_df = pd.read_csv(\"../saves_LRC/saves/DRL_Master/Test_131/heat_power_df_ddpg_test_131_2014.csv\")\n",
    "plugs_load_df = pd.read_csv(\"../saves_LRC/saves/DRL_Master/Test_131/plugs_load_df_ddpg_test_131_2014.csv\")\n",
    "\n",
    "\n",
    "\n",
    "actions_df.index = pd.to_datetime(index)\n",
    "reward_df.index = pd.to_datetime(index)\n",
    "obs_df.index = pd.to_datetime(index)\n",
    "e_cost_df.index = pd.to_datetime(index)\n",
    "fan_power_df.index = pd.to_datetime(index)\n",
    "cool_power_df.index = pd.to_datetime(index)\n",
    "heat_power_df.index = pd.to_datetime(index)\n",
    "plugs_load_df.index = pd.to_datetime(index)\n",
    "#net_energy_df.index = pd.to_datetime(index)\n",
    "#net_power_df.index = pd.to_datetime(index)\n",
    "\n",
    "e_price_2017 = pd.read_csv(\"../e_tariffs/e_d_price_2014.csv\", index_col=0, parse_dates=True)\n",
    "e_price_2017.index = pd.to_datetime(e_price_2017.index)\n",
    "\n",
    "final_df = pd.concat([e_price_2017, obs_df, reward_df, actions_df,e_cost_df,fan_power_df,cool_power_df,heat_power_df,plugs_load_df],axis=1) #,net_energy_df,net_power_df\n",
    "final_df[\"Tcomfort\"] = final_df[\"reward\"] + final_df[\"e_cost\"]\n",
    "#final_df[\"P1_P2\"] = final_df[\"P1\"]/1000.0 + final_df[\"P2\"]/1000.0\n",
    "# final_df.head()\n",
    "print(f'total PV generation: {round(final_df[\"PV\"].sum()*.25/1000.0)}') \n",
    "print(f'total ecost: {round(final_df[\"e_cost\"].sum())}') \n",
    "print(f'total net_energy: {round(final_df[\"net_energy\"].sum())}') \n",
    "print(f'total energy positif: {round(final_df[final_df.net_energy > 0][\"net_energy\"].sum())}') \n",
    "\n",
    "# Baseline\n",
    "year =2014\n",
    "columns = ['FLEXLAB-XR-ZONEB LIGHTS:Lights Electric Power [W](TimeStep)',\n",
    "               'FLEXLAB-XR-ZONEB ELECEQ:Electric Equipment Electric Power [W](TimeStep)',\n",
    "               'SYS-B HEATING COIL:Heating Coil Heating Rate [W](TimeStep)',\n",
    "               'SYS-B COOLING COIL:Cooling Coil Total Cooling Rate [W](TimeStep)',\n",
    "               'SYS-B SUPPLY FAN:Fan Electric Power [W](TimeStep)',\n",
    "               'SYS-B CW SEC CIRC PUMP2:Pump Electric Power [W](TimeStep)',\n",
    "               'SYS-B HW SEC CIRC PUMP2:Pump Electric Power [W](TimeStep)']\n",
    "baseline_df = pd.read_csv(f'../utilities/comparison baseline/data/{year}.csv',usecols=columns)\n",
    "baseline_df.columns = ['lig_base','mels_base','hea_base','coo_base','fan_base','cooPump_base','heaPump_base']\n",
    "baseline_df['hea_base'] = baseline_df['hea_base'] / 0.95\n",
    "baseline_df['coo_base'] = baseline_df['coo_base'] / 3.0\n",
    "baseline_df.index = pd.to_datetime(index)\n",
    "# baseline_df.head()\n",
    "final_df = pd.concat([final_df,baseline_df],axis=1)\n",
    "print(f'total cooling DRL: {round(final_df[\"cool_power\"].sum()/1000.0)}') \n",
    "print(f'total cooling baseline: {round(final_df[\"coo_base\"].sum()/1000.0)}') \n",
    "print(f'total heating DRL: {round(final_df[\"heat_power\"].sum()/1000.0)}') \n",
    "print(f'total heating baseline: {round(final_df[\"hea_base\"].sum()/1000.0)}') "
   ]
  },
  {
   "cell_type": "code",
   "execution_count": 31,
   "metadata": {},
   "outputs": [
    {
     "output_type": "execute_result",
     "data": {
      "text/plain": "LigB_input        0.945075\nZoneTotalIlluB    0.945075\ndtype: float64"
     },
     "metadata": {},
     "execution_count": 31
    }
   ],
   "source": [
    "df_light = final_df[['LigB_input','ZoneTotalIlluB']]\n",
    "df_light_day = df_light.between_time('7:45','18:00')\n",
    "df_light_day[df_light_day['ZoneTotalIlluB']>480].count()/df_light_day.shape[0]"
   ]
  },
  {
   "cell_type": "code",
   "execution_count": 32,
   "metadata": {},
   "outputs": [],
   "source": [
    "plot_df(final_df, filename='../saves_LRC/saves/DRL_Master/Test_131/all_columns_ddpg_test_131_2014_vs_base.html')"
   ]
  },
  {
   "cell_type": "code",
   "execution_count": null,
   "metadata": {},
   "outputs": [],
   "source": []
  },
  {
   "cell_type": "code",
   "execution_count": 33,
   "metadata": {
    "tags": []
   },
   "outputs": [
    {
     "output_type": "stream",
     "name": "stdout",
     "text": "total PV generation: 5414.0\ntotal ecost: 120.0\ntotal net_energy: -729.0\ntotal energy positif: 1005.0\ntotal cooling DRL: 1911.0\ntotal cooling baseline: 4599.0\ntotal heating DRL: 212.0\ntotal heating baseline: 470.0\n"
    }
   ],
   "source": [
    "index = pd.date_range(start='1/1/{0}'.format(2014), end='1/1/{0}'.format(2014+1), periods=35040+1)\n",
    "index = index[:-1]\n",
    "\n",
    "actions_df = pd.read_csv(\"../saves_LRC/saves/DRL_Master/Test_129/actions_df_ddpg_test_129_2014.csv\")\n",
    "reward_df = pd.read_csv(\"../saves_LRC/saves/DRL_Master/Test_129/obs_df_ddpg_test_129_2014.csv\")\n",
    "obs_df = pd.read_csv(\"../saves_LRC/saves/DRL_Master/Test_129/reward_df_ddpg_test_129_2014.csv\")\n",
    "e_cost_df = pd.read_csv(\"../saves_LRC/saves/DRL_Master/Test_129/e_costs_df_ddpg_test_129_2014.csv\")\n",
    "fan_power_df = pd.read_csv(\"../saves_LRC/saves/DRL_Master/Test_129/fan_power_df_ddpg_test_129_2014.csv\")\n",
    "cool_power_df = pd.read_csv(\"../saves_LRC/saves/DRL_Master/Test_129/cool_power_df_ddpg_test_129_2014.csv\")\n",
    "heat_power_df = pd.read_csv(\"../saves_LRC/saves/DRL_Master/Test_129/heat_power_df_ddpg_test_129_2014.csv\")\n",
    "plugs_load_df = pd.read_csv(\"../saves_LRC/saves/DRL_Master/Test_129/plugs_load_df_ddpg_test_129_2014.csv\")\n",
    "\n",
    "\n",
    "\n",
    "actions_df.index = pd.to_datetime(index)\n",
    "reward_df.index = pd.to_datetime(index)\n",
    "obs_df.index = pd.to_datetime(index)\n",
    "e_cost_df.index = pd.to_datetime(index)\n",
    "fan_power_df.index = pd.to_datetime(index)\n",
    "cool_power_df.index = pd.to_datetime(index)\n",
    "heat_power_df.index = pd.to_datetime(index)\n",
    "plugs_load_df.index = pd.to_datetime(index)\n",
    "#net_energy_df.index = pd.to_datetime(index)\n",
    "#net_power_df.index = pd.to_datetime(index)\n",
    "\n",
    "e_price_2017 = pd.read_csv(\"../e_tariffs/e_d_price_2014.csv\", index_col=0, parse_dates=True)\n",
    "e_price_2017.index = pd.to_datetime(e_price_2017.index)\n",
    "\n",
    "final_df = pd.concat([e_price_2017, obs_df, reward_df, actions_df,e_cost_df,fan_power_df,cool_power_df,heat_power_df,plugs_load_df],axis=1) #,net_energy_df,net_power_df\n",
    "final_df[\"Tcomfort\"] = final_df[\"reward\"] + final_df[\"e_cost\"]\n",
    "#final_df[\"P1_P2\"] = final_df[\"P1\"]/1000.0 + final_df[\"P2\"]/1000.0\n",
    "# final_df.head()\n",
    "print(f'total PV generation: {round(final_df[\"PV\"].sum()*.25/1000.0)}') \n",
    "print(f'total ecost: {round(final_df[\"e_cost\"].sum())}') \n",
    "print(f'total net_energy: {round(final_df[\"net_energy\"].sum())}') \n",
    "print(f'total energy positif: {round(final_df[final_df.net_energy > 0][\"net_energy\"].sum())}') \n",
    "\n",
    "# Baseline\n",
    "year =2014\n",
    "columns = ['FLEXLAB-XR-ZONEB LIGHTS:Lights Electric Power [W](TimeStep)',\n",
    "               'FLEXLAB-XR-ZONEB ELECEQ:Electric Equipment Electric Power [W](TimeStep)',\n",
    "               'SYS-B HEATING COIL:Heating Coil Heating Rate [W](TimeStep)',\n",
    "               'SYS-B COOLING COIL:Cooling Coil Total Cooling Rate [W](TimeStep)',\n",
    "               'SYS-B SUPPLY FAN:Fan Electric Power [W](TimeStep)',\n",
    "               'SYS-B CW SEC CIRC PUMP2:Pump Electric Power [W](TimeStep)',\n",
    "               'SYS-B HW SEC CIRC PUMP2:Pump Electric Power [W](TimeStep)']\n",
    "baseline_df = pd.read_csv(f'../utilities/comparison baseline/data/{year}.csv',usecols=columns)\n",
    "baseline_df.columns = ['lig_base','mels_base','hea_base','coo_base','fan_base','cooPump_base','heaPump_base']\n",
    "baseline_df['hea_base'] = baseline_df['hea_base'] / 0.95\n",
    "baseline_df['coo_base'] = baseline_df['coo_base'] / 3.0\n",
    "baseline_df.index = pd.to_datetime(index)\n",
    "# baseline_df.head()\n",
    "final_df = pd.concat([final_df,baseline_df],axis=1)\n",
    "print(f'total cooling DRL: {round(final_df[\"cool_power\"].sum()/1000.0)}') \n",
    "print(f'total cooling baseline: {round(final_df[\"coo_base\"].sum()/1000.0)}') \n",
    "print(f'total heating DRL: {round(final_df[\"heat_power\"].sum()/1000.0)}') \n",
    "print(f'total heating baseline: {round(final_df[\"hea_base\"].sum()/1000.0)}') "
   ]
  },
  {
   "cell_type": "code",
   "execution_count": 34,
   "metadata": {},
   "outputs": [
    {
     "output_type": "execute_result",
     "data": {
      "text/plain": "LigB_input        0.924331\nZoneTotalIlluB    0.924331\ndtype: float64"
     },
     "metadata": {},
     "execution_count": 34
    }
   ],
   "source": [
    "df_light = final_df[['LigB_input','ZoneTotalIlluB']]\n",
    "df_light_day = df_light.between_time('7:45','18:00')\n",
    "df_light_day[df_light_day['ZoneTotalIlluB']>480].count()/df_light_day.shape[0]"
   ]
  },
  {
   "cell_type": "code",
   "execution_count": 35,
   "metadata": {},
   "outputs": [],
   "source": [
    "plot_df(final_df, filename='../saves_LRC/saves/DRL_Master/Test_129/all_columns_ddpg_test_129_2014_vs_base.html')"
   ]
  },
  {
   "cell_type": "code",
   "execution_count": null,
   "metadata": {},
   "outputs": [],
   "source": []
  },
  {
   "cell_type": "code",
   "execution_count": 36,
   "metadata": {
    "tags": []
   },
   "outputs": [
    {
     "output_type": "stream",
     "name": "stdout",
     "text": "total PV generation: 5414.0\ntotal ecost: 95.0\ntotal net_energy: -874.0\ntotal energy positif: 814.0\ntotal cooling DRL: 3179.0\ntotal cooling baseline: 4599.0\ntotal heating DRL: 645.0\ntotal heating baseline: 470.0\n"
    }
   ],
   "source": [
    "index = pd.date_range(start='1/1/{0}'.format(2014), end='1/1/{0}'.format(2014+1), periods=35040+1)\n",
    "index = index[:-1]\n",
    "\n",
    "actions_df = pd.read_csv(\"../saves_LRC/saves/DRL_Master/Test_133/actions_df_ddpg_test_133_2014.csv\")\n",
    "reward_df = pd.read_csv(\"../saves_LRC/saves/DRL_Master/Test_133/obs_df_ddpg_test_133_2014.csv\")\n",
    "obs_df = pd.read_csv(\"../saves_LRC/saves/DRL_Master/Test_133/reward_df_ddpg_test_133_2014.csv\")\n",
    "e_cost_df = pd.read_csv(\"../saves_LRC/saves/DRL_Master/Test_133/e_costs_df_ddpg_test_133_2014.csv\")\n",
    "fan_power_df = pd.read_csv(\"../saves_LRC/saves/DRL_Master/Test_133/fan_power_df_ddpg_test_133_2014.csv\")\n",
    "cool_power_df = pd.read_csv(\"../saves_LRC/saves/DRL_Master/Test_133/cool_power_df_ddpg_test_133_2014.csv\")\n",
    "heat_power_df = pd.read_csv(\"../saves_LRC/saves/DRL_Master/Test_133/heat_power_df_ddpg_test_133_2014.csv\")\n",
    "plugs_load_df = pd.read_csv(\"../saves_LRC/saves/DRL_Master/Test_133/plugs_load_df_ddpg_test_133_2014.csv\")\n",
    "\n",
    "\n",
    "\n",
    "actions_df.index = pd.to_datetime(index)\n",
    "reward_df.index = pd.to_datetime(index)\n",
    "obs_df.index = pd.to_datetime(index)\n",
    "e_cost_df.index = pd.to_datetime(index)\n",
    "fan_power_df.index = pd.to_datetime(index)\n",
    "cool_power_df.index = pd.to_datetime(index)\n",
    "heat_power_df.index = pd.to_datetime(index)\n",
    "plugs_load_df.index = pd.to_datetime(index)\n",
    "#net_energy_df.index = pd.to_datetime(index)\n",
    "#net_power_df.index = pd.to_datetime(index)\n",
    "\n",
    "e_price_2017 = pd.read_csv(\"../e_tariffs/e_d_price_2014.csv\", index_col=0, parse_dates=True)\n",
    "e_price_2017.index = pd.to_datetime(e_price_2017.index)\n",
    "\n",
    "final_df = pd.concat([e_price_2017, obs_df, reward_df, actions_df,e_cost_df,fan_power_df,cool_power_df,heat_power_df,plugs_load_df],axis=1) #,net_energy_df,net_power_df\n",
    "final_df[\"Tcomfort\"] = final_df[\"reward\"] + final_df[\"e_cost\"]\n",
    "#final_df[\"P1_P2\"] = final_df[\"P1\"]/1000.0 + final_df[\"P2\"]/1000.0\n",
    "# final_df.head()\n",
    "print(f'total PV generation: {round(final_df[\"PV\"].sum()*.25/1000.0)}') \n",
    "print(f'total ecost: {round(final_df[\"e_cost\"].sum())}') \n",
    "print(f'total net_energy: {round(final_df[\"net_energy\"].sum())}') \n",
    "print(f'total energy positif: {round(final_df[final_df.net_energy > 0][\"net_energy\"].sum())}') \n",
    "\n",
    "# Baseline\n",
    "year =2014\n",
    "columns = ['FLEXLAB-XR-ZONEB LIGHTS:Lights Electric Power [W](TimeStep)',\n",
    "               'FLEXLAB-XR-ZONEB ELECEQ:Electric Equipment Electric Power [W](TimeStep)',\n",
    "               'SYS-B HEATING COIL:Heating Coil Heating Rate [W](TimeStep)',\n",
    "               'SYS-B COOLING COIL:Cooling Coil Total Cooling Rate [W](TimeStep)',\n",
    "               'SYS-B SUPPLY FAN:Fan Electric Power [W](TimeStep)',\n",
    "               'SYS-B CW SEC CIRC PUMP2:Pump Electric Power [W](TimeStep)',\n",
    "               'SYS-B HW SEC CIRC PUMP2:Pump Electric Power [W](TimeStep)']\n",
    "baseline_df = pd.read_csv(f'../utilities/comparison baseline/data/{year}.csv',usecols=columns)\n",
    "baseline_df.columns = ['lig_base','mels_base','hea_base','coo_base','fan_base','cooPump_base','heaPump_base']\n",
    "baseline_df['hea_base'] = baseline_df['hea_base'] / 0.95\n",
    "baseline_df['coo_base'] = baseline_df['coo_base'] / 3.0\n",
    "baseline_df.index = pd.to_datetime(index)\n",
    "# baseline_df.head()\n",
    "final_df = pd.concat([final_df,baseline_df],axis=1)\n",
    "print(f'total cooling DRL: {round(final_df[\"cool_power\"].sum()/1000.0)}') \n",
    "print(f'total cooling baseline: {round(final_df[\"coo_base\"].sum()/1000.0)}') \n",
    "print(f'total heating DRL: {round(final_df[\"heat_power\"].sum()/1000.0)}') \n",
    "print(f'total heating baseline: {round(final_df[\"hea_base\"].sum()/1000.0)}') "
   ]
  },
  {
   "cell_type": "code",
   "execution_count": 37,
   "metadata": {},
   "outputs": [
    {
     "output_type": "execute_result",
     "data": {
      "text/plain": "LigB_input        0.924331\nZoneTotalIlluB    0.924331\ndtype: float64"
     },
     "metadata": {},
     "execution_count": 37
    }
   ],
   "source": [
    "day = df_light.between_time('7:45','18:00')\n",
    "df_light_day[df_light_day['ZoneTotalIlluB']>480].count()/df_light_day.shape[0]"
   ]
  },
  {
   "cell_type": "code",
   "execution_count": 38,
   "metadata": {},
   "outputs": [],
   "source": [
    "plot_df(final_df, filename='../saves_LRC/saves/DRL_Master/Test_129/all_columns_ddpg_test_129_2014_vs_base.html')"
   ]
  },
  {
   "cell_type": "code",
   "execution_count": null,
   "metadata": {},
   "outputs": [],
   "source": []
  },
  {
   "cell_type": "code",
   "execution_count": null,
   "metadata": {},
   "outputs": [],
   "source": [
    "index = pd.date_range(start='1/1/{0}'.format(2014), end='1/1/{0}'.format(2014+1), periods=35040+1)\n",
    "index = index[:-1]\n",
    "\n",
    "actions_df = pd.read_csv(\"../saves_LRC/saves/DRL_Master/Test_131/actions_df_ddpg_test_131_2014.csv\")\n",
    "reward_df = pd.read_csv(\"../saves_LRC/saves/DRL_Master/Test_131/obs_df_ddpg_test_131_2014.csv\")\n",
    "obs_df = pd.read_csv(\"../saves_LRC/saves/DRL_Master/Test_131/reward_df_ddpg_test_131_2014.csv\")\n",
    "e_cost_df = pd.read_csv(\"../saves_LRC/saves/DRL_Master/Test_131/e_costs_df_ddpg_test_131_2014.csv\")\n",
    "fan_power_df = pd.read_csv(\"../saves_LRC/saves/DRL_Master/Test_131/fan_power_df_ddpg_test_131_2014.csv\")\n",
    "cool_power_df = pd.read_csv(\"../saves_LRC/saves/DRL_Master/Test_131/cool_power_df_ddpg_test_131_2014.csv\")\n",
    "heat_power_df = pd.read_csv(\"../saves_LRC/saves/DRL_Master/Test_131/heat_power_df_ddpg_test_131_2014.csv\")\n",
    "plugs_load_df = pd.read_csv(\"../saves_LRC/saves/DRL_Master/Test_131/plugs_load_df_ddpg_test_131_2014.csv\")\n",
    "\n",
    "\n",
    "\n",
    "actions_df.index = pd.to_datetime(index)\n",
    "reward_df.index = pd.to_datetime(index)\n",
    "obs_df.index = pd.to_datetime(index)\n",
    "e_cost_df.index = pd.to_datetime(index)\n",
    "fan_power_df.index = pd.to_datetime(index)\n",
    "cool_power_df.index = pd.to_datetime(index)\n",
    "heat_power_df.index = pd.to_datetime(index)\n",
    "plugs_load_df.index = pd.to_datetime(index)\n",
    "#net_energy_df.index = pd.to_datetime(index)\n",
    "#net_power_df.index = pd.to_datetime(index)\n",
    "\n",
    "e_price_2017 = pd.read_csv(\"../e_tariffs/e_d_price_2014.csv\", index_col=0, parse_dates=True)\n",
    "e_price_2017.index = pd.to_datetime(e_price_2017.index)\n",
    "\n",
    "final_df = pd.concat([e_price_2017, obs_df, reward_df, actions_df,e_cost_df,fan_power_df,cool_power_df,heat_power_df,plugs_load_df],axis=1) #,net_energy_df,net_power_df\n",
    "final_df[\"Tcomfort\"] = final_df[\"reward\"] + final_df[\"e_cost\"]\n",
    "#final_df[\"P1_P2\"] = final_df[\"P1\"]/1000.0 + final_df[\"P2\"]/1000.0\n",
    "# final_df.head()\n",
    "print(f'total PV generation: {round(final_df[\"PV\"].sum()*.25/1000.0)}') \n",
    "print(f'total ecost: {round(final_df[\"e_cost\"].sum())}') \n",
    "print(f'total net_energy: {round(final_df[\"net_energy\"].sum())}') \n",
    "print(f'total energy positif: {round(final_df[final_df.net_energy > 0][\"net_energy\"].sum())}') \n",
    "\n",
    "# Baseline\n",
    "year =2014\n",
    "columns = ['FLEXLAB-XR-ZONEB LIGHTS:Lights Electric Power [W](TimeStep)',\n",
    "               'FLEXLAB-XR-ZONEB ELECEQ:Electric Equipment Electric Power [W](TimeStep)',\n",
    "               'SYS-B HEATING COIL:Heating Coil Heating Rate [W](TimeStep)',\n",
    "               'SYS-B COOLING COIL:Cooling Coil Total Cooling Rate [W](TimeStep)',\n",
    "               'SYS-B SUPPLY FAN:Fan Electric Power [W](TimeStep)',\n",
    "               'SYS-B CW SEC CIRC PUMP2:Pump Electric Power [W](TimeStep)',\n",
    "               'SYS-B HW SEC CIRC PUMP2:Pump Electric Power [W](TimeStep)']\n",
    "baseline_df = pd.read_csv(f'../utilities/comparison baseline/data/{year}.csv',usecols=columns)\n",
    "baseline_df.columns = ['lig_base','mels_base','hea_base','coo_base','fan_base','cooPump_base','heaPump_base']\n",
    "baseline_df['hea_base'] = baseline_df['hea_base'] / 0.95\n",
    "baseline_df['coo_base'] = baseline_df['coo_base'] / 3.0\n",
    "baseline_df.index = pd.to_datetime(index)\n",
    "# baseline_df.head()\n",
    "final_df = pd.concat([final_df,baseline_df],axis=1)\n",
    "print(f'total cooling DRL: {round(final_df[\"cool_power\"].sum()/1000.0)}') \n",
    "print(f'total cooling baseline: {round(final_df[\"coo_base\"].sum()/1000.0)}') \n",
    "print(f'total heating DRL: {round(final_df[\"heat_power\"].sum()/1000.0)}') \n",
    "print(f'total heating baseline: {round(final_df[\"hea_base\"].sum()/1000.0)}') "
   ]
  },
  {
   "cell_type": "code",
   "execution_count": null,
   "metadata": {},
   "outputs": [],
   "source": [
    "df_light = final_df[['LigB_input','ZoneTotalIlluB']]\n",
    "df_light_day = df_light.between_time('7:45','18:00')\n",
    "df_light_day[df_light_day['ZoneTotalIlluB']>480].count()/df_light_day.shape[0]"
   ]
  },
  {
   "cell_type": "code",
   "execution_count": null,
   "metadata": {},
   "outputs": [],
   "source": []
  },
  {
   "cell_type": "code",
   "execution_count": 2,
   "metadata": {
    "tags": []
   },
   "outputs": [
    {
     "output_type": "stream",
     "name": "stdout",
     "text": "total PV generation: 5414.0\ntotal ecost: 121.0\ntotal net_energy: -846.0\ntotal energy positif: 1017.0\ntotal cooling DRL: 3006.0\ntotal cooling baseline: 4599.0\ntotal heating DRL: 342.0\ntotal heating baseline: 470.0\n"
    }
   ],
   "source": [
    "index = pd.date_range(start='1/1/{0}'.format(2014), end='1/1/{0}'.format(2014+1), periods=35040+1)\n",
    "index = index[:-1]\n",
    "\n",
    "actions_df = pd.read_csv(\"../saves_LRC/saves/DRL_Master/Test_135/actions_df_ddpg_test_135_2014.csv\")\n",
    "reward_df = pd.read_csv(\"../saves_LRC/saves/DRL_Master/Test_135/obs_df_ddpg_test_135_2014.csv\")\n",
    "obs_df = pd.read_csv(\"../saves_LRC/saves/DRL_Master/Test_135/reward_df_ddpg_test_135_2014.csv\")\n",
    "e_cost_df = pd.read_csv(\"../saves_LRC/saves/DRL_Master/Test_135/e_costs_df_ddpg_test_135_2014.csv\")\n",
    "fan_power_df = pd.read_csv(\"../saves_LRC/saves/DRL_Master/Test_135/fan_power_df_ddpg_test_135_2014.csv\")\n",
    "cool_power_df = pd.read_csv(\"../saves_LRC/saves/DRL_Master/Test_135/cool_power_df_ddpg_test_135_2014.csv\")\n",
    "heat_power_df = pd.read_csv(\"../saves_LRC/saves/DRL_Master/Test_135/heat_power_df_ddpg_test_135_2014.csv\")\n",
    "plugs_load_df = pd.read_csv(\"../saves_LRC/saves/DRL_Master/Test_135/plugs_load_df_ddpg_test_135_2014.csv\")\n",
    "\n",
    "\n",
    "\n",
    "actions_df.index = pd.to_datetime(index)\n",
    "reward_df.index = pd.to_datetime(index)\n",
    "obs_df.index = pd.to_datetime(index)\n",
    "e_cost_df.index = pd.to_datetime(index)\n",
    "fan_power_df.index = pd.to_datetime(index)\n",
    "cool_power_df.index = pd.to_datetime(index)\n",
    "heat_power_df.index = pd.to_datetime(index)\n",
    "plugs_load_df.index = pd.to_datetime(index)\n",
    "#net_energy_df.index = pd.to_datetime(index)\n",
    "#net_power_df.index = pd.to_datetime(index)\n",
    "\n",
    "e_price_2017 = pd.read_csv(\"../e_tariffs/e_d_price_2014.csv\", index_col=0, parse_dates=True)\n",
    "e_price_2017.index = pd.to_datetime(e_price_2017.index)\n",
    "\n",
    "final_df = pd.concat([e_price_2017, obs_df, reward_df, actions_df,e_cost_df,fan_power_df,cool_power_df,heat_power_df,plugs_load_df],axis=1) #,net_energy_df,net_power_df\n",
    "final_df[\"Tcomfort\"] = final_df[\"reward\"] + final_df[\"e_cost\"]\n",
    "#final_df[\"P1_P2\"] = final_df[\"P1\"]/1000.0 + final_df[\"P2\"]/1000.0\n",
    "# final_df.head()\n",
    "print(f'total PV generation: {round(final_df[\"PV\"].sum()*.25/1000.0)}') \n",
    "print(f'total ecost: {round(final_df[\"e_cost\"].sum())}') \n",
    "print(f'total net_energy: {round(final_df[\"net_energy\"].sum())}') \n",
    "print(f'total energy positif: {round(final_df[final_df.net_energy > 0][\"net_energy\"].sum())}') \n",
    "\n",
    "# Baseline\n",
    "year =2014\n",
    "columns = ['FLEXLAB-XR-ZONEB LIGHTS:Lights Electric Power [W](TimeStep)',\n",
    "               'FLEXLAB-XR-ZONEB ELECEQ:Electric Equipment Electric Power [W](TimeStep)',\n",
    "               'SYS-B HEATING COIL:Heating Coil Heating Rate [W](TimeStep)',\n",
    "               'SYS-B COOLING COIL:Cooling Coil Total Cooling Rate [W](TimeStep)',\n",
    "               'SYS-B SUPPLY FAN:Fan Electric Power [W](TimeStep)',\n",
    "               'SYS-B CW SEC CIRC PUMP2:Pump Electric Power [W](TimeStep)',\n",
    "               'SYS-B HW SEC CIRC PUMP2:Pump Electric Power [W](TimeStep)']\n",
    "baseline_df = pd.read_csv(f'../utilities/comparison baseline/data/{year}.csv',usecols=columns)\n",
    "baseline_df.columns = ['lig_base','mels_base','hea_base','coo_base','fan_base','cooPump_base','heaPump_base']\n",
    "baseline_df['hea_base'] = baseline_df['hea_base'] / 0.95\n",
    "baseline_df['coo_base'] = baseline_df['coo_base'] / 3.0\n",
    "baseline_df.index = pd.to_datetime(index)\n",
    "# baseline_df.head()\n",
    "final_df = pd.concat([final_df,baseline_df],axis=1)\n",
    "print(f'total cooling DRL: {round(final_df[\"cool_power\"].sum()/1000.0)}') \n",
    "print(f'total cooling baseline: {round(final_df[\"coo_base\"].sum()/1000.0)}') \n",
    "print(f'total heating DRL: {round(final_df[\"heat_power\"].sum()/1000.0)}') \n",
    "print(f'total heating baseline: {round(final_df[\"hea_base\"].sum()/1000.0)}') "
   ]
  },
  {
   "cell_type": "code",
   "execution_count": 3,
   "metadata": {},
   "outputs": [
    {
     "output_type": "execute_result",
     "data": {
      "text/plain": "LigB_input        0.802414\nZoneTotalIlluB    0.802414\ndtype: float64"
     },
     "metadata": {},
     "execution_count": 3
    }
   ],
   "source": [
    "df_light = final_df[['LigB_input','ZoneTotalIlluB']]\n",
    "df_light_day = df_light.between_time('7:45','18:00')\n",
    "df_light_day[df_light_day['ZoneTotalIlluB']>480].count()/df_light_day.shape[0]"
   ]
  },
  {
   "cell_type": "code",
   "execution_count": 4,
   "metadata": {},
   "outputs": [],
   "source": [
    "plot_df(final_df, filename='../saves_LRC/saves/DRL_Master/Test_135/all_columns_ddpg_test_135_2014_vs_base.html')"
   ]
  },
  {
   "cell_type": "code",
   "execution_count": null,
   "metadata": {},
   "outputs": [],
   "source": []
  },
  {
   "cell_type": "code",
   "execution_count": null,
   "metadata": {},
   "outputs": [],
   "source": []
  },
  {
   "cell_type": "code",
   "execution_count": 2,
   "metadata": {
    "tags": []
   },
   "outputs": [
    {
     "output_type": "stream",
     "name": "stdout",
     "text": "total PV generation: 5414.0\ntotal ecost: 95.0\ntotal net_energy: -383.0\ntotal energy positif: 821.0\ntotal cooling DRL: 3494.0\ntotal cooling baseline: 4599.0\ntotal heating DRL: 952.0\ntotal heating baseline: 470.0\n"
    }
   ],
   "source": [
    "index = pd.date_range(start='1/1/{0}'.format(2014), end='1/1/{0}'.format(2014+1), periods=35040+1)\n",
    "index = index[:-1]\n",
    "\n",
    "actions_df = pd.read_csv(\"../saves_LRC/saves/DRL_Master/Test_137/actions_df_ddpg_test_137_2014.csv\")\n",
    "reward_df = pd.read_csv(\"../saves_LRC/saves/DRL_Master/Test_137/obs_df_ddpg_test_137_2014.csv\")\n",
    "obs_df = pd.read_csv(\"../saves_LRC/saves/DRL_Master/Test_137/reward_df_ddpg_test_137_2014.csv\")\n",
    "e_cost_df = pd.read_csv(\"../saves_LRC/saves/DRL_Master/Test_137/e_costs_df_ddpg_test_137_2014.csv\")\n",
    "fan_power_df = pd.read_csv(\"../saves_LRC/saves/DRL_Master/Test_137/fan_power_df_ddpg_test_137_2014.csv\")\n",
    "cool_power_df = pd.read_csv(\"../saves_LRC/saves/DRL_Master/Test_137/cool_power_df_ddpg_test_137_2014.csv\")\n",
    "heat_power_df = pd.read_csv(\"../saves_LRC/saves/DRL_Master/Test_137/heat_power_df_ddpg_test_137_2014.csv\")\n",
    "plugs_load_df = pd.read_csv(\"../saves_LRC/saves/DRL_Master/Test_137/plugs_load_df_ddpg_test_137_2014.csv\")\n",
    "\n",
    "\n",
    "\n",
    "actions_df.index = pd.to_datetime(index)\n",
    "reward_df.index = pd.to_datetime(index)\n",
    "obs_df.index = pd.to_datetime(index)\n",
    "e_cost_df.index = pd.to_datetime(index)\n",
    "fan_power_df.index = pd.to_datetime(index)\n",
    "cool_power_df.index = pd.to_datetime(index)\n",
    "heat_power_df.index = pd.to_datetime(index)\n",
    "plugs_load_df.index = pd.to_datetime(index)\n",
    "#net_energy_df.index = pd.to_datetime(index)\n",
    "#net_power_df.index = pd.to_datetime(index)\n",
    "\n",
    "e_price_2017 = pd.read_csv(\"../e_tariffs/e_d_price_2014.csv\", index_col=0, parse_dates=True)\n",
    "e_price_2017.index = pd.to_datetime(e_price_2017.index)\n",
    "\n",
    "final_df = pd.concat([e_price_2017, obs_df, reward_df, actions_df,e_cost_df,fan_power_df,cool_power_df,heat_power_df,plugs_load_df],axis=1) #,net_energy_df,net_power_df\n",
    "final_df[\"Tcomfort\"] = final_df[\"reward\"] + final_df[\"e_cost\"]\n",
    "#final_df[\"P1_P2\"] = final_df[\"P1\"]/1000.0 + final_df[\"P2\"]/1000.0\n",
    "# final_df.head()\n",
    "print(f'total PV generation: {round(final_df[\"PV\"].sum()*.25/1000.0)}') \n",
    "print(f'total ecost: {round(final_df[\"e_cost\"].sum())}') \n",
    "print(f'total net_energy: {round(final_df[\"net_energy\"].sum())}') \n",
    "print(f'total energy positif: {round(final_df[final_df.net_energy > 0][\"net_energy\"].sum())}') \n",
    "\n",
    "# Baseline\n",
    "year =2014\n",
    "columns = ['FLEXLAB-XR-ZONEB LIGHTS:Lights Electric Power [W](TimeStep)',\n",
    "               'FLEXLAB-XR-ZONEB ELECEQ:Electric Equipment Electric Power [W](TimeStep)',\n",
    "               'SYS-B HEATING COIL:Heating Coil Heating Rate [W](TimeStep)',\n",
    "               'SYS-B COOLING COIL:Cooling Coil Total Cooling Rate [W](TimeStep)',\n",
    "               'SYS-B SUPPLY FAN:Fan Electric Power [W](TimeStep)',\n",
    "               'SYS-B CW SEC CIRC PUMP2:Pump Electric Power [W](TimeStep)',\n",
    "               'SYS-B HW SEC CIRC PUMP2:Pump Electric Power [W](TimeStep)']\n",
    "baseline_df = pd.read_csv(f'../utilities/comparison baseline/data/{year}.csv',usecols=columns)\n",
    "baseline_df.columns = ['lig_base','mels_base','hea_base','coo_base','fan_base','cooPump_base','heaPump_base']\n",
    "baseline_df['hea_base'] = baseline_df['hea_base'] / 0.95\n",
    "baseline_df['coo_base'] = baseline_df['coo_base'] / 3.0\n",
    "baseline_df.index = pd.to_datetime(index)\n",
    "# baseline_df.head()\n",
    "final_df = pd.concat([final_df,baseline_df],axis=1)\n",
    "print(f'total cooling DRL: {round(final_df[\"cool_power\"].sum()/1000.0)}') \n",
    "print(f'total cooling baseline: {round(final_df[\"coo_base\"].sum()/1000.0)}') \n",
    "print(f'total heating DRL: {round(final_df[\"heat_power\"].sum()/1000.0)}') \n",
    "print(f'total heating baseline: {round(final_df[\"hea_base\"].sum()/1000.0)}') "
   ]
  },
  {
   "cell_type": "code",
   "execution_count": 3,
   "metadata": {},
   "outputs": [
    {
     "output_type": "execute_result",
     "data": {
      "text/plain": "LigB_input        0.93392\nZoneTotalIlluB    0.93392\ndtype: float64"
     },
     "metadata": {},
     "execution_count": 3
    }
   ],
   "source": [
    "df_light = final_df[['LigB_input','ZoneTotalIlluB']]\n",
    "df_light_day = df_light.between_time('7:45','18:00')\n",
    "df_light_day[df_light_day['ZoneTotalIlluB']>400].count()/df_light_day.shape[0]"
   ]
  },
  {
   "cell_type": "code",
   "execution_count": 4,
   "metadata": {},
   "outputs": [],
   "source": [
    "plot_df(final_df, filename='../saves_LRC/saves/DRL_Master/Test_137/all_columns_ddpg_test_137_2014_vs_base.html')"
   ]
  },
  {
   "cell_type": "code",
   "execution_count": null,
   "metadata": {},
   "outputs": [],
   "source": []
  },
  {
   "cell_type": "code",
   "execution_count": 5,
   "metadata": {
    "tags": []
   },
   "outputs": [
    {
     "output_type": "stream",
     "name": "stdout",
     "text": "total PV generation: 5414.0\ntotal ecost: 208.0\ntotal net_energy: 889.0\ntotal energy positif: 1660.0\ntotal cooling DRL: 1862.0\ntotal cooling baseline: 4599.0\ntotal heating DRL: 0.0\ntotal heating baseline: 470.0\n"
    }
   ],
   "source": [
    "index = pd.date_range(start='1/1/{0}'.format(2014), end='1/1/{0}'.format(2014+1), periods=35040+1)\n",
    "index = index[:-1]\n",
    "\n",
    "actions_df = pd.read_csv(\"../saves_LRC/saves/DRL_Master/Test_148/actions_df_ddpg_test_148_2014.csv\")\n",
    "reward_df = pd.read_csv(\"../saves_LRC/saves/DRL_Master/Test_148/obs_df_ddpg_test_148_2014.csv\")\n",
    "obs_df = pd.read_csv(\"../saves_LRC/saves/DRL_Master/Test_148/reward_df_ddpg_test_148_2014.csv\")\n",
    "e_cost_df = pd.read_csv(\"../saves_LRC/saves/DRL_Master/Test_148/e_costs_df_ddpg_test_148_2014.csv\")\n",
    "fan_power_df = pd.read_csv(\"../saves_LRC/saves/DRL_Master/Test_148/fan_power_df_ddpg_test_148_2014.csv\")\n",
    "cool_power_df = pd.read_csv(\"../saves_LRC/saves/DRL_Master/Test_148/cool_power_df_ddpg_test_148_2014.csv\")\n",
    "heat_power_df = pd.read_csv(\"../saves_LRC/saves/DRL_Master/Test_148/heat_power_df_ddpg_test_148_2014.csv\")\n",
    "plugs_load_df = pd.read_csv(\"../saves_LRC/saves/DRL_Master/Test_148/plugs_load_df_ddpg_test_148_2014.csv\")\n",
    "\n",
    "\n",
    "\n",
    "actions_df.index = pd.to_datetime(index)\n",
    "reward_df.index = pd.to_datetime(index)\n",
    "obs_df.index = pd.to_datetime(index)\n",
    "e_cost_df.index = pd.to_datetime(index)\n",
    "fan_power_df.index = pd.to_datetime(index)\n",
    "cool_power_df.index = pd.to_datetime(index)\n",
    "heat_power_df.index = pd.to_datetime(index)\n",
    "plugs_load_df.index = pd.to_datetime(index)\n",
    "#net_energy_df.index = pd.to_datetime(index)\n",
    "#net_power_df.index = pd.to_datetime(index)\n",
    "\n",
    "e_price_2017 = pd.read_csv(\"../e_tariffs/e_d_price_2014.csv\", index_col=0, parse_dates=True)\n",
    "e_price_2017.index = pd.to_datetime(e_price_2017.index)\n",
    "\n",
    "final_df = pd.concat([e_price_2017, obs_df, reward_df, actions_df,e_cost_df,fan_power_df,cool_power_df,heat_power_df,plugs_load_df],axis=1) #,net_energy_df,net_power_df\n",
    "final_df[\"Tcomfort\"] = final_df[\"reward\"] + final_df[\"e_cost\"]\n",
    "#final_df[\"P1_P2\"] = final_df[\"P1\"]/1000.0 + final_df[\"P2\"]/1000.0\n",
    "# final_df.head()\n",
    "print(f'total PV generation: {round(final_df[\"PV\"].sum()*.25/1000.0)}') \n",
    "print(f'total ecost: {round(final_df[\"e_cost\"].sum())}') \n",
    "print(f'total net_energy: {round(final_df[\"net_energy\"].sum())}') \n",
    "print(f'total energy positif: {round(final_df[final_df.net_energy > 0][\"net_energy\"].sum())}') \n",
    "\n",
    "# Baseline\n",
    "year =2014\n",
    "columns = ['FLEXLAB-XR-ZONEB LIGHTS:Lights Electric Power [W](TimeStep)',\n",
    "               'FLEXLAB-XR-ZONEB ELECEQ:Electric Equipment Electric Power [W](TimeStep)',\n",
    "               'SYS-B HEATING COIL:Heating Coil Heating Rate [W](TimeStep)',\n",
    "               'SYS-B COOLING COIL:Cooling Coil Total Cooling Rate [W](TimeStep)',\n",
    "               'SYS-B SUPPLY FAN:Fan Electric Power [W](TimeStep)',\n",
    "               'SYS-B CW SEC CIRC PUMP2:Pump Electric Power [W](TimeStep)',\n",
    "               'SYS-B HW SEC CIRC PUMP2:Pump Electric Power [W](TimeStep)']\n",
    "baseline_df = pd.read_csv(f'../utilities/comparison baseline/data/{year}.csv',usecols=columns)\n",
    "baseline_df.columns = ['lig_base','mels_base','hea_base','coo_base','fan_base','cooPump_base','heaPump_base']\n",
    "baseline_df['hea_base'] = baseline_df['hea_base'] / 0.95\n",
    "baseline_df['coo_base'] = baseline_df['coo_base'] / 3.0\n",
    "baseline_df.index = pd.to_datetime(index)\n",
    "# baseline_df.head()\n",
    "final_df = pd.concat([final_df,baseline_df],axis=1)\n",
    "print(f'total cooling DRL: {round(final_df[\"cool_power\"].sum()/1000.0)}') \n",
    "print(f'total cooling baseline: {round(final_df[\"coo_base\"].sum()/1000.0)}') \n",
    "print(f'total heating DRL: {round(final_df[\"heat_power\"].sum()/1000.0)}') \n",
    "print(f'total heating baseline: {round(final_df[\"hea_base\"].sum()/1000.0)}') "
   ]
  },
  {
   "cell_type": "code",
   "execution_count": 6,
   "metadata": {},
   "outputs": [
    {
     "output_type": "execute_result",
     "data": {
      "text/plain": "LigB_input        0.498369\nZoneTotalIlluB    0.498369\ndtype: float64"
     },
     "metadata": {},
     "execution_count": 6
    }
   ],
   "source": [
    "df_light = final_df[['LigB_input','ZoneTotalIlluB']]\n",
    "df_light_day = df_light.between_time('7:45','18:00')\n",
    "df_light_day[df_light_day['ZoneTotalIlluB']>400].count()/df_light_day.shape[0]"
   ]
  },
  {
   "cell_type": "code",
   "execution_count": 7,
   "metadata": {},
   "outputs": [],
   "source": [
    "plot_df(final_df, filename='../saves_LRC/saves/DRL_Master/Test_148/all_columns_ddpg_test_148_2014_vs_base.html')"
   ]
  },
  {
   "cell_type": "code",
   "execution_count": null,
   "metadata": {},
   "outputs": [],
   "source": []
  },
  {
   "cell_type": "code",
   "execution_count": 2,
   "metadata": {
    "tags": []
   },
   "outputs": [
    {
     "output_type": "stream",
     "name": "stdout",
     "text": "total PV generation: 5414.0\ntotal ecost: 263.0\ntotal net_energy: 1362.0\ntotal energy positif: 2072.0\ntotal cooling DRL: 2671.0\ntotal cooling baseline: 4599.0\ntotal heating DRL: 563.0\ntotal heating baseline: 470.0\n"
    }
   ],
   "source": [
    "index = pd.date_range(start='1/1/{0}'.format(2014), end='1/1/{0}'.format(2014+1), periods=35040+1)\n",
    "index = index[:-1]\n",
    "\n",
    "actions_df = pd.read_csv(\"../saves_LRC/saves/DRL_Master/Test_145/actions_df_ddpg_test_145_2014.csv\")\n",
    "reward_df = pd.read_csv(\"../saves_LRC/saves/DRL_Master/Test_145/obs_df_ddpg_test_145_2014.csv\")\n",
    "obs_df = pd.read_csv(\"../saves_LRC/saves/DRL_Master/Test_145/reward_df_ddpg_test_145_2014.csv\")\n",
    "e_cost_df = pd.read_csv(\"../saves_LRC/saves/DRL_Master/Test_145/e_costs_df_ddpg_test_145_2014.csv\")\n",
    "fan_power_df = pd.read_csv(\"../saves_LRC/saves/DRL_Master/Test_145/fan_power_df_ddpg_test_145_2014.csv\")\n",
    "cool_power_df = pd.read_csv(\"../saves_LRC/saves/DRL_Master/Test_145/cool_power_df_ddpg_test_145_2014.csv\")\n",
    "heat_power_df = pd.read_csv(\"../saves_LRC/saves/DRL_Master/Test_145/heat_power_df_ddpg_test_145_2014.csv\")\n",
    "plugs_load_df = pd.read_csv(\"../saves_LRC/saves/DRL_Master/Test_145/plugs_load_df_ddpg_test_145_2014.csv\")\n",
    "\n",
    "\n",
    "\n",
    "actions_df.index = pd.to_datetime(index)\n",
    "reward_df.index = pd.to_datetime(index)\n",
    "obs_df.index = pd.to_datetime(index)\n",
    "e_cost_df.index = pd.to_datetime(index)\n",
    "fan_power_df.index = pd.to_datetime(index)\n",
    "cool_power_df.index = pd.to_datetime(index)\n",
    "heat_power_df.index = pd.to_datetime(index)\n",
    "plugs_load_df.index = pd.to_datetime(index)\n",
    "#net_energy_df.index = pd.to_datetime(index)\n",
    "#net_power_df.index = pd.to_datetime(index)\n",
    "\n",
    "e_price_2017 = pd.read_csv(\"../e_tariffs/e_d_price_2014.csv\", index_col=0, parse_dates=True)\n",
    "e_price_2017.index = pd.to_datetime(e_price_2017.index)\n",
    "\n",
    "final_df = pd.concat([e_price_2017, obs_df, reward_df, actions_df,e_cost_df,fan_power_df,cool_power_df,heat_power_df,plugs_load_df],axis=1) #,net_energy_df,net_power_df\n",
    "final_df[\"Tcomfort\"] = final_df[\"reward\"] + final_df[\"e_cost\"]\n",
    "#final_df[\"P1_P2\"] = final_df[\"P1\"]/1000.0 + final_df[\"P2\"]/1000.0\n",
    "# final_df.head()\n",
    "print(f'total PV generation: {round(final_df[\"PV\"].sum()*.25/1000.0)}') \n",
    "print(f'total ecost: {round(final_df[\"e_cost\"].sum())}') \n",
    "print(f'total net_energy: {round(final_df[\"net_energy\"].sum())}') \n",
    "print(f'total energy positif: {round(final_df[final_df.net_energy > 0][\"net_energy\"].sum())}') \n",
    "\n",
    "# Baseline\n",
    "year =2014\n",
    "columns = ['FLEXLAB-XR-ZONEB LIGHTS:Lights Electric Power [W](TimeStep)',\n",
    "               'FLEXLAB-XR-ZONEB ELECEQ:Electric Equipment Electric Power [W](TimeStep)',\n",
    "               'SYS-B HEATING COIL:Heating Coil Heating Rate [W](TimeStep)',\n",
    "               'SYS-B COOLING COIL:Cooling Coil Total Cooling Rate [W](TimeStep)',\n",
    "               'SYS-B SUPPLY FAN:Fan Electric Power [W](TimeStep)',\n",
    "               'SYS-B CW SEC CIRC PUMP2:Pump Electric Power [W](TimeStep)',\n",
    "               'SYS-B HW SEC CIRC PUMP2:Pump Electric Power [W](TimeStep)']\n",
    "baseline_df = pd.read_csv(f'../utilities/comparison baseline/data/{year}.csv',usecols=columns)\n",
    "baseline_df.columns = ['lig_base','mels_base','hea_base','coo_base','fan_base','cooPump_base','heaPump_base']\n",
    "baseline_df['hea_base'] = baseline_df['hea_base'] / 0.95\n",
    "baseline_df['coo_base'] = baseline_df['coo_base'] / 3.0\n",
    "baseline_df.index = pd.to_datetime(index)\n",
    "# baseline_df.head()\n",
    "final_df = pd.concat([final_df,baseline_df],axis=1)\n",
    "print(f'total cooling DRL: {round(final_df[\"cool_power\"].sum()/1000.0)}') \n",
    "print(f'total cooling baseline: {round(final_df[\"coo_base\"].sum()/1000.0)}') \n",
    "print(f'total heating DRL: {round(final_df[\"heat_power\"].sum()/1000.0)}') \n",
    "print(f'total heating baseline: {round(final_df[\"hea_base\"].sum()/1000.0)}') "
   ]
  },
  {
   "cell_type": "code",
   "execution_count": 11,
   "metadata": {},
   "outputs": [
    {
     "output_type": "execute_result",
     "data": {
      "text/plain": "LigB_input        0.530849\nZoneTotalIlluB    0.530849\ndtype: float64"
     },
     "metadata": {},
     "execution_count": 11
    }
   ],
   "source": [
    "df_light = final_df[['LigB_input','ZoneTotalIlluB']]\n",
    "df_light_day = df_light.between_time('7:45','20:00')\n",
    "df_light_day[df_light_day['ZoneTotalIlluB']>400].count()/df_light_day.shape[0]"
   ]
  },
  {
   "cell_type": "code",
   "execution_count": 10,
   "metadata": {},
   "outputs": [],
   "source": [
    "plot_df(final_df, filename='../saves_LRC/saves/DRL_Master/Test_145/all_columns_ddpg_test_145_2014_vs_base.html')"
   ]
  },
  {
   "cell_type": "code",
   "execution_count": 4,
   "metadata": {},
   "outputs": [
    {
     "output_type": "execute_result",
     "data": {
      "text/plain": "Index(['e_price', 'd_price', 'reward', 'OutRH', 'OutSI', 'OutTemp', 'PV',\n       'SOC', 'TOD', 'ZoneTempB', 'ZoneTotalIlluB', 'net_energy', 'net_power',\n       'LigB_input', 'P_ctrl', 'SaFrB', 'SaTempB', 'e_cost', 'fan_power',\n       'cool_power', 'heat_power', 'plugs_load', 'Tcomfort', 'lig_base',\n       'mels_base', 'hea_base', 'coo_base', 'fan_base', 'cooPump_base',\n       'heaPump_base'],\n      dtype='object')"
     },
     "metadata": {},
     "execution_count": 4
    }
   ],
   "source": [
    "final_df.columns"
   ]
  },
  {
   "cell_type": "code",
   "execution_count": null,
   "metadata": {},
   "outputs": [],
   "source": []
  },
  {
   "cell_type": "code",
   "execution_count": 12,
   "metadata": {
    "tags": []
   },
   "outputs": [
    {
     "output_type": "stream",
     "name": "stdout",
     "text": "total PV generation: 5414.0\ntotal ecost: 299.0\ntotal net_energy: 1800.0\ntotal energy positif: 2381.0\ntotal cooling DRL: 3122.0\ntotal cooling baseline: 4599.0\ntotal heating DRL: 1619.0\ntotal heating baseline: 470.0\n"
    }
   ],
   "source": [
    "index = pd.date_range(start='1/1/{0}'.format(2014), end='1/1/{0}'.format(2014+1), periods=35040+1)\n",
    "index = index[:-1]\n",
    "\n",
    "actions_df = pd.read_csv(\"../saves_LRC/saves/DRL_Master/Test_146/actions_df_ddpg_test_146_2014.csv\")\n",
    "reward_df = pd.read_csv(\"../saves_LRC/saves/DRL_Master/Test_146/obs_df_ddpg_test_146_2014.csv\")\n",
    "obs_df = pd.read_csv(\"../saves_LRC/saves/DRL_Master/Test_146/reward_df_ddpg_test_146_2014.csv\")\n",
    "e_cost_df = pd.read_csv(\"../saves_LRC/saves/DRL_Master/Test_146/e_costs_df_ddpg_test_146_2014.csv\")\n",
    "fan_power_df = pd.read_csv(\"../saves_LRC/saves/DRL_Master/Test_146/fan_power_df_ddpg_test_146_2014.csv\")\n",
    "cool_power_df = pd.read_csv(\"../saves_LRC/saves/DRL_Master/Test_146/cool_power_df_ddpg_test_146_2014.csv\")\n",
    "heat_power_df = pd.read_csv(\"../saves_LRC/saves/DRL_Master/Test_146/heat_power_df_ddpg_test_146_2014.csv\")\n",
    "plugs_load_df = pd.read_csv(\"../saves_LRC/saves/DRL_Master/Test_146/plugs_load_df_ddpg_test_146_2014.csv\")\n",
    "\n",
    "\n",
    "\n",
    "actions_df.index = pd.to_datetime(index)\n",
    "reward_df.index = pd.to_datetime(index)\n",
    "obs_df.index = pd.to_datetime(index)\n",
    "e_cost_df.index = pd.to_datetime(index)\n",
    "fan_power_df.index = pd.to_datetime(index)\n",
    "cool_power_df.index = pd.to_datetime(index)\n",
    "heat_power_df.index = pd.to_datetime(index)\n",
    "plugs_load_df.index = pd.to_datetime(index)\n",
    "#net_energy_df.index = pd.to_datetime(index)\n",
    "#net_power_df.index = pd.to_datetime(index)\n",
    "\n",
    "e_price_2017 = pd.read_csv(\"../e_tariffs/e_d_price_2014.csv\", index_col=0, parse_dates=True)\n",
    "e_price_2017.index = pd.to_datetime(e_price_2017.index)\n",
    "\n",
    "final_df = pd.concat([e_price_2017, obs_df, reward_df, actions_df,e_cost_df,fan_power_df,cool_power_df,heat_power_df,plugs_load_df],axis=1) #,net_energy_df,net_power_df\n",
    "final_df[\"Tcomfort\"] = final_df[\"reward\"] + final_df[\"e_cost\"]\n",
    "#final_df[\"P1_P2\"] = final_df[\"P1\"]/1000.0 + final_df[\"P2\"]/1000.0\n",
    "# final_df.head()\n",
    "print(f'total PV generation: {round(final_df[\"PV\"].sum()*.25/1000.0)}') \n",
    "print(f'total ecost: {round(final_df[\"e_cost\"].sum())}') \n",
    "print(f'total net_energy: {round(final_df[\"net_energy\"].sum())}') \n",
    "print(f'total energy positif: {round(final_df[final_df.net_energy > 0][\"net_energy\"].sum())}') \n",
    "\n",
    "# Baseline\n",
    "year =2014\n",
    "columns = ['FLEXLAB-XR-ZONEB LIGHTS:Lights Electric Power [W](TimeStep)',\n",
    "               'FLEXLAB-XR-ZONEB ELECEQ:Electric Equipment Electric Power [W](TimeStep)',\n",
    "               'SYS-B HEATING COIL:Heating Coil Heating Rate [W](TimeStep)',\n",
    "               'SYS-B COOLING COIL:Cooling Coil Total Cooling Rate [W](TimeStep)',\n",
    "               'SYS-B SUPPLY FAN:Fan Electric Power [W](TimeStep)',\n",
    "               'SYS-B CW SEC CIRC PUMP2:Pump Electric Power [W](TimeStep)',\n",
    "               'SYS-B HW SEC CIRC PUMP2:Pump Electric Power [W](TimeStep)']\n",
    "baseline_df = pd.read_csv(f'../utilities/comparison baseline/data/{year}.csv',usecols=columns)\n",
    "baseline_df.columns = ['lig_base','mels_base','hea_base','coo_base','fan_base','cooPump_base','heaPump_base']\n",
    "baseline_df['hea_base'] = baseline_df['hea_base'] / 0.95\n",
    "baseline_df['coo_base'] = baseline_df['coo_base'] / 3.0\n",
    "baseline_df.index = pd.to_datetime(index)\n",
    "# baseline_df.head()\n",
    "final_df = pd.concat([final_df,baseline_df],axis=1)\n",
    "print(f'total cooling DRL: {round(final_df[\"cool_power\"].sum()/1000.0)}') \n",
    "print(f'total cooling baseline: {round(final_df[\"coo_base\"].sum()/1000.0)}') \n",
    "print(f'total heating DRL: {round(final_df[\"heat_power\"].sum()/1000.0)}') \n",
    "print(f'total heating baseline: {round(final_df[\"hea_base\"].sum()/1000.0)}') "
   ]
  },
  {
   "cell_type": "code",
   "execution_count": 13,
   "metadata": {},
   "outputs": [
    {
     "output_type": "execute_result",
     "data": {
      "text/plain": "LigB_input        0.709589\nZoneTotalIlluB    0.709589\ndtype: float64"
     },
     "metadata": {},
     "execution_count": 13
    }
   ],
   "source": [
    "df_light = final_df[['LigB_input','ZoneTotalIlluB']]\n",
    "df_light_day = df_light.between_time('7:45','20:00')\n",
    "df_light_day[df_light_day['ZoneTotalIlluB']>400].count()/df_light_day.shape[0]"
   ]
  },
  {
   "cell_type": "code",
   "execution_count": 14,
   "metadata": {},
   "outputs": [],
   "source": [
    "plot_df(final_df, filename='../saves_LRC/saves/DRL_Master/Test_146/all_columns_ddpg_test_146_2014_vs_base.html')"
   ]
  },
  {
   "cell_type": "code",
   "execution_count": null,
   "metadata": {},
   "outputs": [],
   "source": []
  },
  {
   "cell_type": "code",
   "execution_count": 2,
   "metadata": {
    "tags": []
   },
   "outputs": [
    {
     "output_type": "stream",
     "name": "stdout",
     "text": "total PV generation: 5414.0\ntotal ecost: 341.0\ntotal net_energy: 2312.0\ntotal energy positif: 2719.0\ntotal cooling DRL: 3172.0\ntotal cooling baseline: 4599.0\ntotal heating DRL: 1310.0\ntotal heating baseline: 470.0\n"
    }
   ],
   "source": [
    "index = pd.date_range(start='1/1/{0}'.format(2014), end='1/1/{0}'.format(2014+1), periods=35040+1)\n",
    "index = index[:-1]\n",
    "\n",
    "actions_df = pd.read_csv(\"../saves_LRC/saves/DRL_Master/Test_154/actions_df_ddpg_test_154_2014.csv\")\n",
    "reward_df = pd.read_csv(\"../saves_LRC/saves/DRL_Master/Test_154/obs_df_ddpg_test_154_2014.csv\")\n",
    "obs_df = pd.read_csv(\"../saves_LRC/saves/DRL_Master/Test_154/reward_df_ddpg_test_154_2014.csv\")\n",
    "e_cost_df = pd.read_csv(\"../saves_LRC/saves/DRL_Master/Test_154/e_costs_df_ddpg_test_154_2014.csv\")\n",
    "fan_power_df = pd.read_csv(\"../saves_LRC/saves/DRL_Master/Test_154/fan_power_df_ddpg_test_154_2014.csv\")\n",
    "cool_power_df = pd.read_csv(\"../saves_LRC/saves/DRL_Master/Test_154/cool_power_df_ddpg_test_154_2014.csv\")\n",
    "heat_power_df = pd.read_csv(\"../saves_LRC/saves/DRL_Master/Test_154/heat_power_df_ddpg_test_154_2014.csv\")\n",
    "plugs_load_df = pd.read_csv(\"../saves_LRC/saves/DRL_Master/Test_154/plugs_load_df_ddpg_test_154_2014.csv\")\n",
    "\n",
    "\n",
    "\n",
    "actions_df.index = pd.to_datetime(index)\n",
    "reward_df.index = pd.to_datetime(index)\n",
    "obs_df.index = pd.to_datetime(index)\n",
    "e_cost_df.index = pd.to_datetime(index)\n",
    "fan_power_df.index = pd.to_datetime(index)\n",
    "cool_power_df.index = pd.to_datetime(index)\n",
    "heat_power_df.index = pd.to_datetime(index)\n",
    "plugs_load_df.index = pd.to_datetime(index)\n",
    "#net_energy_df.index = pd.to_datetime(index)\n",
    "#net_power_df.index = pd.to_datetime(index)\n",
    "\n",
    "e_price_2017 = pd.read_csv(\"../e_tariffs/e_d_price_2014.csv\", index_col=0, parse_dates=True)\n",
    "e_price_2017.index = pd.to_datetime(e_price_2017.index)\n",
    "\n",
    "final_df = pd.concat([e_price_2017, obs_df, reward_df, actions_df,e_cost_df,fan_power_df,cool_power_df,heat_power_df,plugs_load_df],axis=1) #,net_energy_df,net_power_df\n",
    "final_df[\"Tcomfort\"] = final_df[\"reward\"] + final_df[\"e_cost\"]\n",
    "#final_df[\"P1_P2\"] = final_df[\"P1\"]/1000.0 + final_df[\"P2\"]/1000.0\n",
    "# final_df.head()\n",
    "print(f'total PV generation: {round(final_df[\"PV\"].sum()*.25/1000.0)}') \n",
    "print(f'total ecost: {round(final_df[\"e_cost\"].sum())}') \n",
    "print(f'total net_energy: {round(final_df[\"net_energy\"].sum())}') \n",
    "print(f'total energy positif: {round(final_df[final_df.net_energy > 0][\"net_energy\"].sum())}') \n",
    "\n",
    "# Baseline\n",
    "year =2014\n",
    "columns = ['FLEXLAB-XR-ZONEB LIGHTS:Lights Electric Power [W](TimeStep)',\n",
    "               'FLEXLAB-XR-ZONEB ELECEQ:Electric Equipment Electric Power [W](TimeStep)',\n",
    "               'SYS-B HEATING COIL:Heating Coil Heating Rate [W](TimeStep)',\n",
    "               'SYS-B COOLING COIL:Cooling Coil Total Cooling Rate [W](TimeStep)',\n",
    "               'SYS-B SUPPLY FAN:Fan Electric Power [W](TimeStep)',\n",
    "               'SYS-B CW SEC CIRC PUMP2:Pump Electric Power [W](TimeStep)',\n",
    "               'SYS-B HW SEC CIRC PUMP2:Pump Electric Power [W](TimeStep)']\n",
    "baseline_df = pd.read_csv(f'../utilities/comparison baseline/data/{year}.csv',usecols=columns)\n",
    "baseline_df.columns = ['lig_base','mels_base','hea_base','coo_base','fan_base','cooPump_base','heaPump_base']\n",
    "baseline_df['hea_base'] = baseline_df['hea_base'] / 0.95\n",
    "baseline_df['coo_base'] = baseline_df['coo_base'] / 3.0\n",
    "baseline_df.index = pd.to_datetime(index)\n",
    "# baseline_df.head()\n",
    "final_df = pd.concat([final_df,baseline_df],axis=1)\n",
    "print(f'total cooling DRL: {round(final_df[\"cool_power\"].sum()/1000.0)}') \n",
    "print(f'total cooling baseline: {round(final_df[\"coo_base\"].sum()/1000.0)}') \n",
    "print(f'total heating DRL: {round(final_df[\"heat_power\"].sum()/1000.0)}') \n",
    "print(f'total heating baseline: {round(final_df[\"hea_base\"].sum()/1000.0)}') "
   ]
  },
  {
   "cell_type": "code",
   "execution_count": 3,
   "metadata": {},
   "outputs": [
    {
     "output_type": "execute_result",
     "data": {
      "text/plain": "LigB_input        0.893151\nZoneTotalIlluB    0.893151\ndtype: float64"
     },
     "metadata": {},
     "execution_count": 3
    }
   ],
   "source": [
    "df_light = final_df[['LigB_input','ZoneTotalIlluB']]\n",
    "df_light_day = df_light.between_time('7:45','20:00')\n",
    "df_light_day[df_light_day['ZoneTotalIlluB']>400].count()/df_light_day.shape[0]"
   ]
  },
  {
   "cell_type": "code",
   "execution_count": 4,
   "metadata": {},
   "outputs": [],
   "source": [
    "plot_df(final_df, filename='../saves_LRC/saves/DRL_Master/Test_154/all_columns_ddpg_test_154_2014_vs_base.html')"
   ]
  },
  {
   "cell_type": "code",
   "execution_count": null,
   "metadata": {},
   "outputs": [],
   "source": []
  },
  {
   "cell_type": "code",
   "execution_count": 5,
   "metadata": {
    "tags": []
   },
   "outputs": [
    {
     "output_type": "stream",
     "name": "stdout",
     "text": "total PV generation: 5414.0\ntotal ecost: 381.0\ntotal net_energy: 2728.0\ntotal energy positif: 3055.0\ntotal cooling DRL: 3737.0\ntotal cooling baseline: 4599.0\ntotal fan DRL: 2136.0\ntotal fan baseline: 3730.0\ntotal heating DRL: 319.0\ntotal heating baseline: 470.0\n"
    }
   ],
   "source": [
    "index = pd.date_range(start='1/1/{0}'.format(2014), end='1/1/{0}'.format(2014+1), periods=35040+1)\n",
    "index = index[:-1]\n",
    "\n",
    "actions_df = pd.read_csv(\"../saves_LRC/saves/DRL_Master/Test_167/actions_df_ddpg_test_167_2014.csv\")\n",
    "reward_df = pd.read_csv(\"../saves_LRC/saves/DRL_Master/Test_167/obs_df_ddpg_test_167_2014.csv\")\n",
    "obs_df = pd.read_csv(\"../saves_LRC/saves/DRL_Master/Test_167/reward_df_ddpg_test_167_2014.csv\")\n",
    "e_cost_df = pd.read_csv(\"../saves_LRC/saves/DRL_Master/Test_167/e_costs_df_ddpg_test_167_2014.csv\")\n",
    "fan_power_df = pd.read_csv(\"../saves_LRC/saves/DRL_Master/Test_167/fan_power_df_ddpg_test_167_2014.csv\")\n",
    "cool_power_df = pd.read_csv(\"../saves_LRC/saves/DRL_Master/Test_167/cool_power_df_ddpg_test_167_2014.csv\")\n",
    "heat_power_df = pd.read_csv(\"../saves_LRC/saves/DRL_Master/Test_167/heat_power_df_ddpg_test_167_2014.csv\")\n",
    "plugs_load_df = pd.read_csv(\"../saves_LRC/saves/DRL_Master/Test_167/plugs_load_df_ddpg_test_167_2014.csv\")\n",
    "\n",
    "\n",
    "\n",
    "actions_df.index = pd.to_datetime(index)\n",
    "reward_df.index = pd.to_datetime(index)\n",
    "obs_df.index = pd.to_datetime(index)\n",
    "e_cost_df.index = pd.to_datetime(index)\n",
    "fan_power_df.index = pd.to_datetime(index)\n",
    "cool_power_df.index = pd.to_datetime(index)\n",
    "heat_power_df.index = pd.to_datetime(index)\n",
    "plugs_load_df.index = pd.to_datetime(index)\n",
    "#net_energy_df.index = pd.to_datetime(index)\n",
    "#net_power_df.index = pd.to_datetime(index)\n",
    "\n",
    "e_price_2017 = pd.read_csv(\"../e_tariffs/e_d_price_2014.csv\", index_col=0, parse_dates=True)\n",
    "e_price_2017.index = pd.to_datetime(e_price_2017.index)\n",
    "\n",
    "final_df = pd.concat([e_price_2017, obs_df, reward_df, actions_df,e_cost_df,fan_power_df,cool_power_df,heat_power_df,plugs_load_df],axis=1) #,net_energy_df,net_power_df\n",
    "final_df[\"Tcomfort\"] = final_df[\"reward\"] + final_df[\"e_cost\"]\n",
    "#final_df[\"P1_P2\"] = final_df[\"P1\"]/1000.0 + final_df[\"P2\"]/1000.0\n",
    "# final_df.head()\n",
    "print(f'total PV generation: {round(final_df[\"PV\"].sum()*.25/1000.0)}') \n",
    "print(f'total ecost: {round(final_df[\"e_cost\"].sum())}') \n",
    "print(f'total net_energy: {round(final_df[\"net_energy\"].sum())}') \n",
    "print(f'total energy positif: {round(final_df[final_df.net_energy > 0][\"net_energy\"].sum())}') \n",
    "\n",
    "# Baseline\n",
    "year =2014\n",
    "columns = ['FLEXLAB-XR-ZONEB LIGHTS:Lights Electric Power [W](TimeStep)',\n",
    "               'FLEXLAB-XR-ZONEB ELECEQ:Electric Equipment Electric Power [W](TimeStep)',\n",
    "               'SYS-B HEATING COIL:Heating Coil Heating Rate [W](TimeStep)',\n",
    "               'SYS-B COOLING COIL:Cooling Coil Total Cooling Rate [W](TimeStep)',\n",
    "               'SYS-B SUPPLY FAN:Fan Electric Power [W](TimeStep)',\n",
    "               'SYS-B CW SEC CIRC PUMP2:Pump Electric Power [W](TimeStep)',\n",
    "               'SYS-B HW SEC CIRC PUMP2:Pump Electric Power [W](TimeStep)']\n",
    "baseline_df = pd.read_csv(f'../utilities/comparison baseline/data/{year}.csv',usecols=columns)\n",
    "baseline_df.columns = ['lig_base','mels_base','hea_base','coo_base','fan_base','cooPump_base','heaPump_base']\n",
    "baseline_df['hea_base'] = baseline_df['hea_base'] / 0.95\n",
    "baseline_df['coo_base'] = baseline_df['coo_base'] / 3.0\n",
    "baseline_df.index = pd.to_datetime(index)\n",
    "# baseline_df.head()\n",
    "final_df = pd.concat([final_df,baseline_df],axis=1)\n",
    "print(f'total cooling DRL: {round(final_df[\"cool_power\"].sum()/1000.0)}') \n",
    "print(f'total cooling baseline: {round(final_df[\"coo_base\"].sum()/1000.0)}') \n",
    "print(f'total fan DRL: {round(final_df[\"fan_power\"].sum()/1000.0)}') \n",
    "print(f'total fan baseline: {round(final_df[\"fan_base\"].sum()/1000.0)}') \n",
    "print(f'total heating DRL: {round(final_df[\"heat_power\"].sum()/1000.0)}') \n",
    "print(f'total heating baseline: {round(final_df[\"hea_base\"].sum()/1000.0)}') "
   ]
  },
  {
   "cell_type": "code",
   "execution_count": 3,
   "metadata": {},
   "outputs": [],
   "source": [
    "plot_df(final_df, filename='../saves_LRC/saves/DRL_Master/Test_167/all_columns_ddpg_test_167_2014_vs_base.html')"
   ]
  },
  {
   "cell_type": "code",
   "execution_count": null,
   "metadata": {},
   "outputs": [],
   "source": []
  },
  {
   "cell_type": "code",
   "execution_count": 6,
   "metadata": {
    "tags": []
   },
   "outputs": [
    {
     "output_type": "stream",
     "name": "stdout",
     "text": "total PV generation: 5414.0\ntotal ecost: 381.0\ntotal net_energy: 2631.0\ntotal energy positif: 3021.0\ntotal cooling DRL: 3315.0\ntotal cooling baseline: 4599.0\ntotal fan DRL: 2291.0\ntotal fan baseline: 3730.0\ntotal heating DRL: 206.0\ntotal heating baseline: 470.0\n"
    }
   ],
   "source": [
    "index = pd.date_range(start='1/1/{0}'.format(2014), end='1/1/{0}'.format(2014+1), periods=35040+1)\n",
    "index = index[:-1]\n",
    "\n",
    "actions_df = pd.read_csv(\"../saves_LRC/saves/DRL_Master/Test_160/actions_df_ddpg_test_160_2014.csv\")\n",
    "reward_df = pd.read_csv(\"../saves_LRC/saves/DRL_Master/Test_160/obs_df_ddpg_test_160_2014.csv\")\n",
    "obs_df = pd.read_csv(\"../saves_LRC/saves/DRL_Master/Test_160/reward_df_ddpg_test_160_2014.csv\")\n",
    "e_cost_df = pd.read_csv(\"../saves_LRC/saves/DRL_Master/Test_160/e_costs_df_ddpg_test_160_2014.csv\")\n",
    "fan_power_df = pd.read_csv(\"../saves_LRC/saves/DRL_Master/Test_160/fan_power_df_ddpg_test_160_2014.csv\")\n",
    "cool_power_df = pd.read_csv(\"../saves_LRC/saves/DRL_Master/Test_160/cool_power_df_ddpg_test_160_2014.csv\")\n",
    "heat_power_df = pd.read_csv(\"../saves_LRC/saves/DRL_Master/Test_160/heat_power_df_ddpg_test_160_2014.csv\")\n",
    "plugs_load_df = pd.read_csv(\"../saves_LRC/saves/DRL_Master/Test_160/plugs_load_df_ddpg_test_160_2014.csv\")\n",
    "\n",
    "\n",
    "\n",
    "actions_df.index = pd.to_datetime(index)\n",
    "reward_df.index = pd.to_datetime(index)\n",
    "obs_df.index = pd.to_datetime(index)\n",
    "e_cost_df.index = pd.to_datetime(index)\n",
    "fan_power_df.index = pd.to_datetime(index)\n",
    "cool_power_df.index = pd.to_datetime(index)\n",
    "heat_power_df.index = pd.to_datetime(index)\n",
    "plugs_load_df.index = pd.to_datetime(index)\n",
    "#net_energy_df.index = pd.to_datetime(index)\n",
    "#net_power_df.index = pd.to_datetime(index)\n",
    "\n",
    "e_price_2017 = pd.read_csv(\"../e_tariffs/e_d_price_2014.csv\", index_col=0, parse_dates=True)\n",
    "e_price_2017.index = pd.to_datetime(e_price_2017.index)\n",
    "\n",
    "final_df = pd.concat([e_price_2017, obs_df, reward_df, actions_df,e_cost_df,fan_power_df,cool_power_df,heat_power_df,plugs_load_df],axis=1) #,net_energy_df,net_power_df\n",
    "final_df[\"Tcomfort\"] = final_df[\"reward\"] + final_df[\"e_cost\"]\n",
    "#final_df[\"P1_P2\"] = final_df[\"P1\"]/1000.0 + final_df[\"P2\"]/1000.0\n",
    "# final_df.head()\n",
    "print(f'total PV generation: {round(final_df[\"PV\"].sum()*.25/1000.0)}') \n",
    "print(f'total ecost: {round(final_df[\"e_cost\"].sum())}') \n",
    "print(f'total net_energy: {round(final_df[\"net_energy\"].sum())}') \n",
    "print(f'total energy positif: {round(final_df[final_df.net_energy > 0][\"net_energy\"].sum())}') \n",
    "\n",
    "# Baseline\n",
    "year =2014\n",
    "columns = ['FLEXLAB-XR-ZONEB LIGHTS:Lights Electric Power [W](TimeStep)',\n",
    "               'FLEXLAB-XR-ZONEB ELECEQ:Electric Equipment Electric Power [W](TimeStep)',\n",
    "               'SYS-B HEATING COIL:Heating Coil Heating Rate [W](TimeStep)',\n",
    "               'SYS-B COOLING COIL:Cooling Coil Total Cooling Rate [W](TimeStep)',\n",
    "               'SYS-B SUPPLY FAN:Fan Electric Power [W](TimeStep)',\n",
    "               'SYS-B CW SEC CIRC PUMP2:Pump Electric Power [W](TimeStep)',\n",
    "               'SYS-B HW SEC CIRC PUMP2:Pump Electric Power [W](TimeStep)']\n",
    "baseline_df = pd.read_csv(f'../utilities/comparison baseline/data/{year}.csv',usecols=columns)\n",
    "baseline_df.columns = ['lig_base','mels_base','hea_base','coo_base','fan_base','cooPump_base','heaPump_base']\n",
    "baseline_df['hea_base'] = baseline_df['hea_base'] / 0.95\n",
    "baseline_df['coo_base'] = baseline_df['coo_base'] / 3.0\n",
    "baseline_df.index = pd.to_datetime(index)\n",
    "# baseline_df.head()\n",
    "final_df = pd.concat([final_df,baseline_df],axis=1)\n",
    "print(f'total cooling DRL: {round(final_df[\"cool_power\"].sum()/1000.0)}') \n",
    "print(f'total cooling baseline: {round(final_df[\"coo_base\"].sum()/1000.0)}') \n",
    "print(f'total fan DRL: {round(final_df[\"fan_power\"].sum()/1000.0)}') \n",
    "print(f'total fan baseline: {round(final_df[\"fan_base\"].sum()/1000.0)}') \n",
    "print(f'total heating DRL: {round(final_df[\"heat_power\"].sum()/1000.0)}') \n",
    "print(f'total heating baseline: {round(final_df[\"hea_base\"].sum()/1000.0)}') "
   ]
  },
  {
   "cell_type": "code",
   "execution_count": 7,
   "metadata": {},
   "outputs": [],
   "source": [
    "plot_df(final_df, filename='../saves_LRC/saves/DRL_Master/Test_160/all_columns_ddpg_test_160_2014_vs_base.html')"
   ]
  },
  {
   "cell_type": "code",
   "execution_count": null,
   "metadata": {},
   "outputs": [],
   "source": []
  },
  {
   "cell_type": "code",
   "execution_count": 8,
   "metadata": {
    "tags": []
   },
   "outputs": [
    {
     "output_type": "stream",
     "name": "stdout",
     "text": "total PV generation: 5414.0\ntotal ecost: 392.0\ntotal net_energy: 2773.0\ntotal energy positif: 3133.0\ntotal cooling DRL: 3529.0\ntotal cooling baseline: 4599.0\ntotal fan DRL: 2219.0\ntotal fan baseline: 3730.0\ntotal heating DRL: 650.0\ntotal heating baseline: 470.0\n"
    }
   ],
   "source": [
    "index = pd.date_range(start='1/1/{0}'.format(2014), end='1/1/{0}'.format(2014+1), periods=35040+1)\n",
    "index = index[:-1]\n",
    "\n",
    "actions_df = pd.read_csv(\"../saves_LRC/saves/DRL_Master/Test_165/actions_df_ddpg_test_165_2014.csv\")\n",
    "reward_df = pd.read_csv(\"../saves_LRC/saves/DRL_Master/Test_165/obs_df_ddpg_test_165_2014.csv\")\n",
    "obs_df = pd.read_csv(\"../saves_LRC/saves/DRL_Master/Test_165/reward_df_ddpg_test_165_2014.csv\")\n",
    "e_cost_df = pd.read_csv(\"../saves_LRC/saves/DRL_Master/Test_165/e_costs_df_ddpg_test_165_2014.csv\")\n",
    "fan_power_df = pd.read_csv(\"../saves_LRC/saves/DRL_Master/Test_165/fan_power_df_ddpg_test_165_2014.csv\")\n",
    "cool_power_df = pd.read_csv(\"../saves_LRC/saves/DRL_Master/Test_165/cool_power_df_ddpg_test_165_2014.csv\")\n",
    "heat_power_df = pd.read_csv(\"../saves_LRC/saves/DRL_Master/Test_165/heat_power_df_ddpg_test_165_2014.csv\")\n",
    "plugs_load_df = pd.read_csv(\"../saves_LRC/saves/DRL_Master/Test_165/plugs_load_df_ddpg_test_165_2014.csv\")\n",
    "\n",
    "\n",
    "\n",
    "actions_df.index = pd.to_datetime(index)\n",
    "reward_df.index = pd.to_datetime(index)\n",
    "obs_df.index = pd.to_datetime(index)\n",
    "e_cost_df.index = pd.to_datetime(index)\n",
    "fan_power_df.index = pd.to_datetime(index)\n",
    "cool_power_df.index = pd.to_datetime(index)\n",
    "heat_power_df.index = pd.to_datetime(index)\n",
    "plugs_load_df.index = pd.to_datetime(index)\n",
    "#net_energy_df.index = pd.to_datetime(index)\n",
    "#net_power_df.index = pd.to_datetime(index)\n",
    "\n",
    "e_price_2017 = pd.read_csv(\"../e_tariffs/e_d_price_2014.csv\", index_col=0, parse_dates=True)\n",
    "e_price_2017.index = pd.to_datetime(e_price_2017.index)\n",
    "\n",
    "final_df = pd.concat([e_price_2017, obs_df, reward_df, actions_df,e_cost_df,fan_power_df,cool_power_df,heat_power_df,plugs_load_df],axis=1) #,net_energy_df,net_power_df\n",
    "final_df[\"Tcomfort\"] = final_df[\"reward\"] + final_df[\"e_cost\"]\n",
    "#final_df[\"P1_P2\"] = final_df[\"P1\"]/1000.0 + final_df[\"P2\"]/1000.0\n",
    "# final_df.head()\n",
    "print(f'total PV generation: {round(final_df[\"PV\"].sum()*.25/1000.0)}') \n",
    "print(f'total ecost: {round(final_df[\"e_cost\"].sum())}') \n",
    "print(f'total net_energy: {round(final_df[\"net_energy\"].sum())}') \n",
    "print(f'total energy positif: {round(final_df[final_df.net_energy > 0][\"net_energy\"].sum())}') \n",
    "\n",
    "# Baseline\n",
    "year =2014\n",
    "columns = ['FLEXLAB-XR-ZONEB LIGHTS:Lights Electric Power [W](TimeStep)',\n",
    "               'FLEXLAB-XR-ZONEB ELECEQ:Electric Equipment Electric Power [W](TimeStep)',\n",
    "               'SYS-B HEATING COIL:Heating Coil Heating Rate [W](TimeStep)',\n",
    "               'SYS-B COOLING COIL:Cooling Coil Total Cooling Rate [W](TimeStep)',\n",
    "               'SYS-B SUPPLY FAN:Fan Electric Power [W](TimeStep)',\n",
    "               'SYS-B CW SEC CIRC PUMP2:Pump Electric Power [W](TimeStep)',\n",
    "               'SYS-B HW SEC CIRC PUMP2:Pump Electric Power [W](TimeStep)']\n",
    "baseline_df = pd.read_csv(f'../utilities/comparison baseline/data/{year}.csv',usecols=columns)\n",
    "baseline_df.columns = ['lig_base','mels_base','hea_base','coo_base','fan_base','cooPump_base','heaPump_base']\n",
    "baseline_df['hea_base'] = baseline_df['hea_base'] / 0.95\n",
    "baseline_df['coo_base'] = baseline_df['coo_base'] / 3.0\n",
    "baseline_df.index = pd.to_datetime(index)\n",
    "# baseline_df.head()\n",
    "final_df = pd.concat([final_df,baseline_df],axis=1)\n",
    "print(f'total cooling DRL: {round(final_df[\"cool_power\"].sum()/1000.0)}') \n",
    "print(f'total cooling baseline: {round(final_df[\"coo_base\"].sum()/1000.0)}') \n",
    "print(f'total fan DRL: {round(final_df[\"fan_power\"].sum()/1000.0)}') \n",
    "print(f'total fan baseline: {round(final_df[\"fan_base\"].sum()/1000.0)}') \n",
    "print(f'total heating DRL: {round(final_df[\"heat_power\"].sum()/1000.0)}') \n",
    "print(f'total heating baseline: {round(final_df[\"hea_base\"].sum()/1000.0)}') "
   ]
  },
  {
   "cell_type": "code",
   "execution_count": 9,
   "metadata": {},
   "outputs": [],
   "source": [
    "plot_df(final_df, filename='../saves_LRC/saves/DRL_Master/Test_165/all_columns_ddpg_test_165_2014_vs_base.html')"
   ]
  },
  {
   "cell_type": "code",
   "execution_count": null,
   "metadata": {},
   "outputs": [],
   "source": []
  },
  {
   "cell_type": "code",
   "execution_count": 10,
   "metadata": {
    "tags": []
   },
   "outputs": [
    {
     "output_type": "stream",
     "name": "stdout",
     "text": "total PV generation: 5414.0\ntotal ecost: 423.0\ntotal net_energy: 2874.0\ntotal energy positif: 3336.0\ntotal cooling DRL: 3823.0\ntotal cooling baseline: 4599.0\ntotal fan DRL: 2210.0\ntotal fan baseline: 3730.0\ntotal heating DRL: 852.0\ntotal heating baseline: 470.0\n"
    }
   ],
   "source": [
    "index = pd.date_range(start='1/1/{0}'.format(2014), end='1/1/{0}'.format(2014+1), periods=35040+1)\n",
    "index = index[:-1]\n",
    "\n",
    "actions_df = pd.read_csv(\"../saves_LRC/saves/DRL_Master/Test_156/actions_df_ddpg_test_156_2014.csv\")\n",
    "reward_df = pd.read_csv(\"../saves_LRC/saves/DRL_Master/Test_156/obs_df_ddpg_test_156_2014.csv\")\n",
    "obs_df = pd.read_csv(\"../saves_LRC/saves/DRL_Master/Test_156/reward_df_ddpg_test_156_2014.csv\")\n",
    "e_cost_df = pd.read_csv(\"../saves_LRC/saves/DRL_Master/Test_156/e_costs_df_ddpg_test_156_2014.csv\")\n",
    "fan_power_df = pd.read_csv(\"../saves_LRC/saves/DRL_Master/Test_156/fan_power_df_ddpg_test_156_2014.csv\")\n",
    "cool_power_df = pd.read_csv(\"../saves_LRC/saves/DRL_Master/Test_156/cool_power_df_ddpg_test_156_2014.csv\")\n",
    "heat_power_df = pd.read_csv(\"../saves_LRC/saves/DRL_Master/Test_156/heat_power_df_ddpg_test_156_2014.csv\")\n",
    "plugs_load_df = pd.read_csv(\"../saves_LRC/saves/DRL_Master/Test_156/plugs_load_df_ddpg_test_156_2014.csv\")\n",
    "\n",
    "\n",
    "\n",
    "actions_df.index = pd.to_datetime(index)\n",
    "reward_df.index = pd.to_datetime(index)\n",
    "obs_df.index = pd.to_datetime(index)\n",
    "e_cost_df.index = pd.to_datetime(index)\n",
    "fan_power_df.index = pd.to_datetime(index)\n",
    "cool_power_df.index = pd.to_datetime(index)\n",
    "heat_power_df.index = pd.to_datetime(index)\n",
    "plugs_load_df.index = pd.to_datetime(index)\n",
    "#net_energy_df.index = pd.to_datetime(index)\n",
    "#net_power_df.index = pd.to_datetime(index)\n",
    "\n",
    "e_price_2017 = pd.read_csv(\"../e_tariffs/e_d_price_2014.csv\", index_col=0, parse_dates=True)\n",
    "e_price_2017.index = pd.to_datetime(e_price_2017.index)\n",
    "\n",
    "final_df = pd.concat([e_price_2017, obs_df, reward_df, actions_df,e_cost_df,fan_power_df,cool_power_df,heat_power_df,plugs_load_df],axis=1) #,net_energy_df,net_power_df\n",
    "final_df[\"Tcomfort\"] = final_df[\"reward\"] + final_df[\"e_cost\"]\n",
    "#final_df[\"P1_P2\"] = final_df[\"P1\"]/1000.0 + final_df[\"P2\"]/1000.0\n",
    "# final_df.head()\n",
    "print(f'total PV generation: {round(final_df[\"PV\"].sum()*.25/1000.0)}') \n",
    "print(f'total ecost: {round(final_df[\"e_cost\"].sum())}') \n",
    "print(f'total net_energy: {round(final_df[\"net_energy\"].sum())}') \n",
    "print(f'total energy positif: {round(final_df[final_df.net_energy > 0][\"net_energy\"].sum())}') \n",
    "\n",
    "# Baseline\n",
    "year =2014\n",
    "columns = ['FLEXLAB-XR-ZONEB LIGHTS:Lights Electric Power [W](TimeStep)',\n",
    "               'FLEXLAB-XR-ZONEB ELECEQ:Electric Equipment Electric Power [W](TimeStep)',\n",
    "               'SYS-B HEATING COIL:Heating Coil Heating Rate [W](TimeStep)',\n",
    "               'SYS-B COOLING COIL:Cooling Coil Total Cooling Rate [W](TimeStep)',\n",
    "               'SYS-B SUPPLY FAN:Fan Electric Power [W](TimeStep)',\n",
    "               'SYS-B CW SEC CIRC PUMP2:Pump Electric Power [W](TimeStep)',\n",
    "               'SYS-B HW SEC CIRC PUMP2:Pump Electric Power [W](TimeStep)']\n",
    "baseline_df = pd.read_csv(f'../utilities/comparison baseline/data/{year}.csv',usecols=columns)\n",
    "baseline_df.columns = ['lig_base','mels_base','hea_base','coo_base','fan_base','cooPump_base','heaPump_base']\n",
    "baseline_df['hea_base'] = baseline_df['hea_base'] / 0.95\n",
    "baseline_df['coo_base'] = baseline_df['coo_base'] / 3.0\n",
    "baseline_df.index = pd.to_datetime(index)\n",
    "# baseline_df.head()\n",
    "final_df = pd.concat([final_df,baseline_df],axis=1)\n",
    "print(f'total cooling DRL: {round(final_df[\"cool_power\"].sum()/1000.0)}') \n",
    "print(f'total cooling baseline: {round(final_df[\"coo_base\"].sum()/1000.0)}') \n",
    "print(f'total fan DRL: {round(final_df[\"fan_power\"].sum()/1000.0)}') \n",
    "print(f'total fan baseline: {round(final_df[\"fan_base\"].sum()/1000.0)}') \n",
    "print(f'total heating DRL: {round(final_df[\"heat_power\"].sum()/1000.0)}') \n",
    "print(f'total heating baseline: {round(final_df[\"hea_base\"].sum()/1000.0)}') "
   ]
  },
  {
   "cell_type": "code",
   "execution_count": 11,
   "metadata": {},
   "outputs": [],
   "source": [
    "plot_df(final_df, filename='../saves_LRC/saves/DRL_Master/Test_156/all_columns_ddpg_test_156_2014_vs_base.html')"
   ]
  },
  {
   "cell_type": "code",
   "execution_count": null,
   "metadata": {},
   "outputs": [],
   "source": []
  },
  {
   "cell_type": "code",
   "execution_count": null,
   "metadata": {},
   "outputs": [],
   "source": []
  },
  {
   "cell_type": "code",
   "execution_count": 2,
   "metadata": {
    "tags": []
   },
   "outputs": [
    {
     "output_type": "stream",
     "name": "stdout",
     "text": "total PV generation: 5414.0\ntotal ecost: 402.0\ntotal net_energy: 2828.0\ntotal energy positif: 3251.0\ntotal cooling DRL: 3498.0\ntotal cooling baseline: 4599.0\ntotal fan DRL: 2318.0\ntotal fan baseline: 3730.0\ntotal heating DRL: 819.0\ntotal heating baseline: 470.0\n"
    }
   ],
   "source": [
    "index = pd.date_range(start='1/1/{0}'.format(2014), end='1/1/{0}'.format(2014+1), periods=35040+1)\n",
    "index = index[:-1]\n",
    "\n",
    "actions_df = pd.read_csv(\"../saves_LRC/saves/DRL_Master/Test_173/actions_df_ddpg_test_173_2014.csv\")\n",
    "reward_df = pd.read_csv(\"../saves_LRC/saves/DRL_Master/Test_173/obs_df_ddpg_test_173_2014.csv\")\n",
    "obs_df = pd.read_csv(\"../saves_LRC/saves/DRL_Master/Test_173/reward_df_ddpg_test_173_2014.csv\")\n",
    "e_cost_df = pd.read_csv(\"../saves_LRC/saves/DRL_Master/Test_173/e_costs_df_ddpg_test_173_2014.csv\")\n",
    "fan_power_df = pd.read_csv(\"../saves_LRC/saves/DRL_Master/Test_173/fan_power_df_ddpg_test_173_2014.csv\")\n",
    "cool_power_df = pd.read_csv(\"../saves_LRC/saves/DRL_Master/Test_173/cool_power_df_ddpg_test_173_2014.csv\")\n",
    "heat_power_df = pd.read_csv(\"../saves_LRC/saves/DRL_Master/Test_173/heat_power_df_ddpg_test_173_2014.csv\")\n",
    "plugs_load_df = pd.read_csv(\"../saves_LRC/saves/DRL_Master/Test_173/plugs_load_df_ddpg_test_173_2014.csv\")\n",
    "\n",
    "\n",
    "\n",
    "actions_df.index = pd.to_datetime(index)\n",
    "reward_df.index = pd.to_datetime(index)\n",
    "obs_df.index = pd.to_datetime(index)\n",
    "e_cost_df.index = pd.to_datetime(index)\n",
    "fan_power_df.index = pd.to_datetime(index)\n",
    "cool_power_df.index = pd.to_datetime(index)\n",
    "heat_power_df.index = pd.to_datetime(index)\n",
    "plugs_load_df.index = pd.to_datetime(index)\n",
    "#net_energy_df.index = pd.to_datetime(index)\n",
    "#net_power_df.index = pd.to_datetime(index)\n",
    "\n",
    "e_price_2017 = pd.read_csv(\"../e_tariffs/e_d_price_2014.csv\", index_col=0, parse_dates=True)\n",
    "e_price_2017.index = pd.to_datetime(e_price_2017.index)\n",
    "\n",
    "final_df = pd.concat([e_price_2017, obs_df, reward_df, actions_df,e_cost_df,fan_power_df,cool_power_df,heat_power_df,plugs_load_df],axis=1) #,net_energy_df,net_power_df\n",
    "final_df[\"Tcomfort\"] = final_df[\"reward\"] + final_df[\"e_cost\"]\n",
    "#final_df[\"P1_P2\"] = final_df[\"P1\"]/1000.0 + final_df[\"P2\"]/1000.0\n",
    "# final_df.head()\n",
    "print(f'total PV generation: {round(final_df[\"PV\"].sum()*.25/1000.0)}') \n",
    "print(f'total ecost: {round(final_df[\"e_cost\"].sum())}') \n",
    "print(f'total net_energy: {round(final_df[\"net_energy\"].sum())}') \n",
    "print(f'total energy positif: {round(final_df[final_df.net_energy > 0][\"net_energy\"].sum())}') \n",
    "\n",
    "# Baseline\n",
    "year =2014\n",
    "columns = ['FLEXLAB-XR-ZONEB LIGHTS:Lights Electric Power [W](TimeStep)',\n",
    "               'FLEXLAB-XR-ZONEB ELECEQ:Electric Equipment Electric Power [W](TimeStep)',\n",
    "               'SYS-B HEATING COIL:Heating Coil Heating Rate [W](TimeStep)',\n",
    "               'SYS-B COOLING COIL:Cooling Coil Total Cooling Rate [W](TimeStep)',\n",
    "               'SYS-B SUPPLY FAN:Fan Electric Power [W](TimeStep)',\n",
    "               'SYS-B CW SEC CIRC PUMP2:Pump Electric Power [W](TimeStep)',\n",
    "               'SYS-B HW SEC CIRC PUMP2:Pump Electric Power [W](TimeStep)']\n",
    "baseline_df = pd.read_csv(f'../utilities/comparison baseline/data/{year}.csv',usecols=columns)\n",
    "baseline_df.columns = ['lig_base','mels_base','hea_base','coo_base','fan_base','cooPump_base','heaPump_base']\n",
    "baseline_df['hea_base'] = baseline_df['hea_base'] / 0.95\n",
    "baseline_df['coo_base'] = baseline_df['coo_base'] / 3.0\n",
    "baseline_df.index = pd.to_datetime(index)\n",
    "# baseline_df.head()\n",
    "final_df = pd.concat([final_df,baseline_df],axis=1)\n",
    "print(f'total cooling DRL: {round(final_df[\"cool_power\"].sum()/1000.0)}') \n",
    "print(f'total cooling baseline: {round(final_df[\"coo_base\"].sum()/1000.0)}') \n",
    "print(f'total fan DRL: {round(final_df[\"fan_power\"].sum()/1000.0)}') \n",
    "print(f'total fan baseline: {round(final_df[\"fan_base\"].sum()/1000.0)}') \n",
    "print(f'total heating DRL: {round(final_df[\"heat_power\"].sum()/1000.0)}') \n",
    "print(f'total heating baseline: {round(final_df[\"hea_base\"].sum()/1000.0)}') "
   ]
  },
  {
   "cell_type": "code",
   "execution_count": 3,
   "metadata": {},
   "outputs": [],
   "source": [
    "plot_df(final_df, filename='../saves_LRC/saves/DRL_Master/Test_173/all_columns_ddpg_test_173_2014_vs_base.html')"
   ]
  },
  {
   "cell_type": "code",
   "execution_count": null,
   "metadata": {},
   "outputs": [],
   "source": []
  },
  {
   "cell_type": "code",
   "execution_count": 4,
   "metadata": {
    "tags": []
   },
   "outputs": [
    {
     "output_type": "stream",
     "name": "stdout",
     "text": "total PV generation: 5414.0\ntotal ecost: 417.0\ntotal net_energy: 2795.0\ntotal energy positif: 3300.0\ntotal cooling DRL: 3512.0\ntotal cooling baseline: 4599.0\ntotal fan DRL: 2447.0\ntotal fan baseline: 3730.0\ntotal heating DRL: 705.0\ntotal heating baseline: 470.0\n"
    }
   ],
   "source": [
    "index = pd.date_range(start='1/1/{0}'.format(2014), end='1/1/{0}'.format(2014+1), periods=35040+1)\n",
    "index = index[:-1]\n",
    "\n",
    "actions_df = pd.read_csv(\"../saves_LRC/saves/DRL_Master/Test_187/actions_df_ddpg_test_187_2014.csv\")\n",
    "reward_df = pd.read_csv(\"../saves_LRC/saves/DRL_Master/Test_187/obs_df_ddpg_test_187_2014.csv\")\n",
    "obs_df = pd.read_csv(\"../saves_LRC/saves/DRL_Master/Test_187/reward_df_ddpg_test_187_2014.csv\")\n",
    "e_cost_df = pd.read_csv(\"../saves_LRC/saves/DRL_Master/Test_187/e_costs_df_ddpg_test_187_2014.csv\")\n",
    "fan_power_df = pd.read_csv(\"../saves_LRC/saves/DRL_Master/Test_187/fan_power_df_ddpg_test_187_2014.csv\")\n",
    "cool_power_df = pd.read_csv(\"../saves_LRC/saves/DRL_Master/Test_187/cool_power_df_ddpg_test_187_2014.csv\")\n",
    "heat_power_df = pd.read_csv(\"../saves_LRC/saves/DRL_Master/Test_187/heat_power_df_ddpg_test_187_2014.csv\")\n",
    "plugs_load_df = pd.read_csv(\"../saves_LRC/saves/DRL_Master/Test_187/plugs_load_df_ddpg_test_187_2014.csv\")\n",
    "\n",
    "\n",
    "\n",
    "actions_df.index = pd.to_datetime(index)\n",
    "reward_df.index = pd.to_datetime(index)\n",
    "obs_df.index = pd.to_datetime(index)\n",
    "e_cost_df.index = pd.to_datetime(index)\n",
    "fan_power_df.index = pd.to_datetime(index)\n",
    "cool_power_df.index = pd.to_datetime(index)\n",
    "heat_power_df.index = pd.to_datetime(index)\n",
    "plugs_load_df.index = pd.to_datetime(index)\n",
    "#net_energy_df.index = pd.to_datetime(index)\n",
    "#net_power_df.index = pd.to_datetime(index)\n",
    "\n",
    "e_price_2017 = pd.read_csv(\"../e_tariffs/e_d_price_2014.csv\", index_col=0, parse_dates=True)\n",
    "e_price_2017.index = pd.to_datetime(e_price_2017.index)\n",
    "\n",
    "final_df = pd.concat([e_price_2017, obs_df, reward_df, actions_df,e_cost_df,fan_power_df,cool_power_df,heat_power_df,plugs_load_df],axis=1) #,net_energy_df,net_power_df\n",
    "final_df[\"Tcomfort\"] = final_df[\"reward\"] + final_df[\"e_cost\"]\n",
    "#final_df[\"P1_P2\"] = final_df[\"P1\"]/1000.0 + final_df[\"P2\"]/1000.0\n",
    "# final_df.head()\n",
    "print(f'total PV generation: {round(final_df[\"PV\"].sum()*.25/1000.0)}') \n",
    "print(f'total ecost: {round(final_df[\"e_cost\"].sum())}') \n",
    "print(f'total net_energy: {round(final_df[\"net_energy\"].sum())}') \n",
    "print(f'total energy positif: {round(final_df[final_df.net_energy > 0][\"net_energy\"].sum())}') \n",
    "\n",
    "# Baseline\n",
    "year =2014\n",
    "columns = ['FLEXLAB-XR-ZONEB LIGHTS:Lights Electric Power [W](TimeStep)',\n",
    "               'FLEXLAB-XR-ZONEB ELECEQ:Electric Equipment Electric Power [W](TimeStep)',\n",
    "               'SYS-B HEATING COIL:Heating Coil Heating Rate [W](TimeStep)',\n",
    "               'SYS-B COOLING COIL:Cooling Coil Total Cooling Rate [W](TimeStep)',\n",
    "               'SYS-B SUPPLY FAN:Fan Electric Power [W](TimeStep)',\n",
    "               'SYS-B CW SEC CIRC PUMP2:Pump Electric Power [W](TimeStep)',\n",
    "               'SYS-B HW SEC CIRC PUMP2:Pump Electric Power [W](TimeStep)']\n",
    "baseline_df = pd.read_csv(f'../utilities/comparison baseline/data/{year}.csv',usecols=columns)\n",
    "baseline_df.columns = ['lig_base','mels_base','hea_base','coo_base','fan_base','cooPump_base','heaPump_base']\n",
    "baseline_df['hea_base'] = baseline_df['hea_base'] / 0.95\n",
    "baseline_df['coo_base'] = baseline_df['coo_base'] / 3.0\n",
    "baseline_df.index = pd.to_datetime(index)\n",
    "# baseline_df.head()\n",
    "final_df = pd.concat([final_df,baseline_df],axis=1)\n",
    "print(f'total cooling DRL: {round(final_df[\"cool_power\"].sum()/1000.0)}') \n",
    "print(f'total cooling baseline: {round(final_df[\"coo_base\"].sum()/1000.0)}') \n",
    "print(f'total fan DRL: {round(final_df[\"fan_power\"].sum()/1000.0)}') \n",
    "print(f'total fan baseline: {round(final_df[\"fan_base\"].sum()/1000.0)}') \n",
    "print(f'total heating DRL: {round(final_df[\"heat_power\"].sum()/1000.0)}') \n",
    "print(f'total heating baseline: {round(final_df[\"hea_base\"].sum()/1000.0)}') "
   ]
  },
  {
   "cell_type": "code",
   "execution_count": 5,
   "metadata": {},
   "outputs": [],
   "source": [
    "plot_df(final_df, filename='../saves_LRC/saves/DRL_Master/Test_187/all_columns_ddpg_test_187_2014_vs_base.html')"
   ]
  },
  {
   "cell_type": "code",
   "execution_count": null,
   "metadata": {},
   "outputs": [],
   "source": []
  },
  {
   "cell_type": "code",
   "execution_count": 6,
   "metadata": {
    "tags": []
   },
   "outputs": [
    {
     "output_type": "stream",
     "name": "stdout",
     "text": "total PV generation: 5414.0\ntotal ecost: 383.0\ntotal net_energy: 2845.0\ntotal energy positif: 3115.0\ntotal cooling DRL: 3387.0\ntotal cooling baseline: 4599.0\ntotal fan DRL: 2399.0\ntotal fan baseline: 3730.0\ntotal heating DRL: 657.0\ntotal heating baseline: 470.0\n"
    }
   ],
   "source": [
    "index = pd.date_range(start='1/1/{0}'.format(2014), end='1/1/{0}'.format(2014+1), periods=35040+1)\n",
    "index = index[:-1]\n",
    "\n",
    "actions_df = pd.read_csv(\"../saves_LRC/saves/DRL_Master/Test_190/actions_df_ddpg_test_190_2014.csv\")\n",
    "reward_df = pd.read_csv(\"../saves_LRC/saves/DRL_Master/Test_190/obs_df_ddpg_test_190_2014.csv\")\n",
    "obs_df = pd.read_csv(\"../saves_LRC/saves/DRL_Master/Test_190/reward_df_ddpg_test_190_2014.csv\")\n",
    "e_cost_df = pd.read_csv(\"../saves_LRC/saves/DRL_Master/Test_190/e_costs_df_ddpg_test_190_2014.csv\")\n",
    "fan_power_df = pd.read_csv(\"../saves_LRC/saves/DRL_Master/Test_190/fan_power_df_ddpg_test_190_2014.csv\")\n",
    "cool_power_df = pd.read_csv(\"../saves_LRC/saves/DRL_Master/Test_190/cool_power_df_ddpg_test_190_2014.csv\")\n",
    "heat_power_df = pd.read_csv(\"../saves_LRC/saves/DRL_Master/Test_190/heat_power_df_ddpg_test_190_2014.csv\")\n",
    "plugs_load_df = pd.read_csv(\"../saves_LRC/saves/DRL_Master/Test_190/plugs_load_df_ddpg_test_190_2014.csv\")\n",
    "\n",
    "\n",
    "\n",
    "actions_df.index = pd.to_datetime(index)\n",
    "reward_df.index = pd.to_datetime(index)\n",
    "obs_df.index = pd.to_datetime(index)\n",
    "e_cost_df.index = pd.to_datetime(index)\n",
    "fan_power_df.index = pd.to_datetime(index)\n",
    "cool_power_df.index = pd.to_datetime(index)\n",
    "heat_power_df.index = pd.to_datetime(index)\n",
    "plugs_load_df.index = pd.to_datetime(index)\n",
    "#net_energy_df.index = pd.to_datetime(index)\n",
    "#net_power_df.index = pd.to_datetime(index)\n",
    "\n",
    "e_price_2017 = pd.read_csv(\"../e_tariffs/e_d_price_2014.csv\", index_col=0, parse_dates=True)\n",
    "e_price_2017.index = pd.to_datetime(e_price_2017.index)\n",
    "\n",
    "final_df = pd.concat([e_price_2017, obs_df, reward_df, actions_df,e_cost_df,fan_power_df,cool_power_df,heat_power_df,plugs_load_df],axis=1) #,net_energy_df,net_power_df\n",
    "final_df[\"Tcomfort\"] = final_df[\"reward\"] + final_df[\"e_cost\"]\n",
    "#final_df[\"P1_P2\"] = final_df[\"P1\"]/1000.0 + final_df[\"P2\"]/1000.0\n",
    "# final_df.head()\n",
    "print(f'total PV generation: {round(final_df[\"PV\"].sum()*.25/1000.0)}') \n",
    "print(f'total ecost: {round(final_df[\"e_cost\"].sum())}') \n",
    "print(f'total net_energy: {round(final_df[\"net_energy\"].sum())}') \n",
    "print(f'total energy positif: {round(final_df[final_df.net_energy > 0][\"net_energy\"].sum())}') \n",
    "\n",
    "# Baseline\n",
    "year =2014\n",
    "columns = ['FLEXLAB-XR-ZONEB LIGHTS:Lights Electric Power [W](TimeStep)',\n",
    "               'FLEXLAB-XR-ZONEB ELECEQ:Electric Equipment Electric Power [W](TimeStep)',\n",
    "               'SYS-B HEATING COIL:Heating Coil Heating Rate [W](TimeStep)',\n",
    "               'SYS-B COOLING COIL:Cooling Coil Total Cooling Rate [W](TimeStep)',\n",
    "               'SYS-B SUPPLY FAN:Fan Electric Power [W](TimeStep)',\n",
    "               'SYS-B CW SEC CIRC PUMP2:Pump Electric Power [W](TimeStep)',\n",
    "               'SYS-B HW SEC CIRC PUMP2:Pump Electric Power [W](TimeStep)']\n",
    "baseline_df = pd.read_csv(f'../utilities/comparison baseline/data/{year}.csv',usecols=columns)\n",
    "baseline_df.columns = ['lig_base','mels_base','hea_base','coo_base','fan_base','cooPump_base','heaPump_base']\n",
    "baseline_df['hea_base'] = baseline_df['hea_base'] / 0.95\n",
    "baseline_df['coo_base'] = baseline_df['coo_base'] / 3.0\n",
    "baseline_df.index = pd.to_datetime(index)\n",
    "# baseline_df.head()\n",
    "final_df = pd.concat([final_df,baseline_df],axis=1)\n",
    "print(f'total cooling DRL: {round(final_df[\"cool_power\"].sum()/1000.0)}') \n",
    "print(f'total cooling baseline: {round(final_df[\"coo_base\"].sum()/1000.0)}') \n",
    "print(f'total fan DRL: {round(final_df[\"fan_power\"].sum()/1000.0)}') \n",
    "print(f'total fan baseline: {round(final_df[\"fan_base\"].sum()/1000.0)}') \n",
    "print(f'total heating DRL: {round(final_df[\"heat_power\"].sum()/1000.0)}') \n",
    "print(f'total heating baseline: {round(final_df[\"hea_base\"].sum()/1000.0)}') "
   ]
  },
  {
   "cell_type": "code",
   "execution_count": 7,
   "metadata": {},
   "outputs": [],
   "source": [
    "plot_df(final_df, filename='../saves_LRC/saves/DRL_Master/Test_190/all_columns_ddpg_test_190_2014_vs_base.html')"
   ]
  },
  {
   "cell_type": "code",
   "execution_count": null,
   "metadata": {},
   "outputs": [],
   "source": []
  },
  {
   "cell_type": "code",
   "execution_count": 8,
   "metadata": {
    "tags": []
   },
   "outputs": [
    {
     "output_type": "stream",
     "name": "stdout",
     "text": "total PV generation: 5414.0\ntotal ecost: 403.0\ntotal net_energy: 2852.0\ntotal energy positif: 3261.0\ntotal cooling DRL: 3480.0\ntotal cooling baseline: 4599.0\ntotal fan DRL: 2546.0\ntotal fan baseline: 3730.0\ntotal heating DRL: 658.0\ntotal heating baseline: 470.0\n"
    }
   ],
   "source": [
    "index = pd.date_range(start='1/1/{0}'.format(2014), end='1/1/{0}'.format(2014+1), periods=35040+1)\n",
    "index = index[:-1]\n",
    "\n",
    "actions_df = pd.read_csv(\"../saves_LRC/saves/DRL_Master/Test_177/actions_df_ddpg_test_177_2014.csv\")\n",
    "reward_df = pd.read_csv(\"../saves_LRC/saves/DRL_Master/Test_177/obs_df_ddpg_test_177_2014.csv\")\n",
    "obs_df = pd.read_csv(\"../saves_LRC/saves/DRL_Master/Test_177/reward_df_ddpg_test_177_2014.csv\")\n",
    "e_cost_df = pd.read_csv(\"../saves_LRC/saves/DRL_Master/Test_177/e_costs_df_ddpg_test_177_2014.csv\")\n",
    "fan_power_df = pd.read_csv(\"../saves_LRC/saves/DRL_Master/Test_177/fan_power_df_ddpg_test_177_2014.csv\")\n",
    "cool_power_df = pd.read_csv(\"../saves_LRC/saves/DRL_Master/Test_177/cool_power_df_ddpg_test_177_2014.csv\")\n",
    "heat_power_df = pd.read_csv(\"../saves_LRC/saves/DRL_Master/Test_177/heat_power_df_ddpg_test_177_2014.csv\")\n",
    "plugs_load_df = pd.read_csv(\"../saves_LRC/saves/DRL_Master/Test_177/plugs_load_df_ddpg_test_177_2014.csv\")\n",
    "\n",
    "\n",
    "\n",
    "actions_df.index = pd.to_datetime(index)\n",
    "reward_df.index = pd.to_datetime(index)\n",
    "obs_df.index = pd.to_datetime(index)\n",
    "e_cost_df.index = pd.to_datetime(index)\n",
    "fan_power_df.index = pd.to_datetime(index)\n",
    "cool_power_df.index = pd.to_datetime(index)\n",
    "heat_power_df.index = pd.to_datetime(index)\n",
    "plugs_load_df.index = pd.to_datetime(index)\n",
    "#net_energy_df.index = pd.to_datetime(index)\n",
    "#net_power_df.index = pd.to_datetime(index)\n",
    "\n",
    "e_price_2017 = pd.read_csv(\"../e_tariffs/e_d_price_2014.csv\", index_col=0, parse_dates=True)\n",
    "e_price_2017.index = pd.to_datetime(e_price_2017.index)\n",
    "\n",
    "final_df = pd.concat([e_price_2017, obs_df, reward_df, actions_df,e_cost_df,fan_power_df,cool_power_df,heat_power_df,plugs_load_df],axis=1) #,net_energy_df,net_power_df\n",
    "final_df[\"Tcomfort\"] = final_df[\"reward\"] + final_df[\"e_cost\"]\n",
    "#final_df[\"P1_P2\"] = final_df[\"P1\"]/1000.0 + final_df[\"P2\"]/1000.0\n",
    "# final_df.head()\n",
    "print(f'total PV generation: {round(final_df[\"PV\"].sum()*.25/1000.0)}') \n",
    "print(f'total ecost: {round(final_df[\"e_cost\"].sum())}') \n",
    "print(f'total net_energy: {round(final_df[\"net_energy\"].sum())}') \n",
    "print(f'total energy positif: {round(final_df[final_df.net_energy > 0][\"net_energy\"].sum())}') \n",
    "\n",
    "# Baseline\n",
    "year =2014\n",
    "columns = ['FLEXLAB-XR-ZONEB LIGHTS:Lights Electric Power [W](TimeStep)',\n",
    "               'FLEXLAB-XR-ZONEB ELECEQ:Electric Equipment Electric Power [W](TimeStep)',\n",
    "               'SYS-B HEATING COIL:Heating Coil Heating Rate [W](TimeStep)',\n",
    "               'SYS-B COOLING COIL:Cooling Coil Total Cooling Rate [W](TimeStep)',\n",
    "               'SYS-B SUPPLY FAN:Fan Electric Power [W](TimeStep)',\n",
    "               'SYS-B CW SEC CIRC PUMP2:Pump Electric Power [W](TimeStep)',\n",
    "               'SYS-B HW SEC CIRC PUMP2:Pump Electric Power [W](TimeStep)']\n",
    "baseline_df = pd.read_csv(f'../utilities/comparison baseline/data/{year}.csv',usecols=columns)\n",
    "baseline_df.columns = ['lig_base','mels_base','hea_base','coo_base','fan_base','cooPump_base','heaPump_base']\n",
    "baseline_df['hea_base'] = baseline_df['hea_base'] / 0.95\n",
    "baseline_df['coo_base'] = baseline_df['coo_base'] / 3.0\n",
    "baseline_df.index = pd.to_datetime(index)\n",
    "# baseline_df.head()\n",
    "final_df = pd.concat([final_df,baseline_df],axis=1)\n",
    "print(f'total cooling DRL: {round(final_df[\"cool_power\"].sum()/1000.0)}') \n",
    "print(f'total cooling baseline: {round(final_df[\"coo_base\"].sum()/1000.0)}') \n",
    "print(f'total fan DRL: {round(final_df[\"fan_power\"].sum()/1000.0)}') \n",
    "print(f'total fan baseline: {round(final_df[\"fan_base\"].sum()/1000.0)}') \n",
    "print(f'total heating DRL: {round(final_df[\"heat_power\"].sum()/1000.0)}') \n",
    "print(f'total heating baseline: {round(final_df[\"hea_base\"].sum()/1000.0)}') "
   ]
  },
  {
   "cell_type": "code",
   "execution_count": 9,
   "metadata": {},
   "outputs": [],
   "source": [
    "plot_df(final_df, filename='../saves_LRC/saves/DRL_Master/Test_177/all_columns_ddpg_test_177_2014_vs_base.html')"
   ]
  },
  {
   "cell_type": "code",
   "execution_count": null,
   "metadata": {},
   "outputs": [],
   "source": []
  },
  {
   "cell_type": "code",
   "execution_count": 10,
   "metadata": {
    "tags": []
   },
   "outputs": [
    {
     "output_type": "stream",
     "name": "stdout",
     "text": "total PV generation: 5414.0\ntotal ecost: 423.0\ntotal net_energy: 2830.0\ntotal energy positif: 3351.0\ntotal cooling DRL: 3475.0\ntotal cooling baseline: 4599.0\ntotal fan DRL: 2390.0\ntotal fan baseline: 3730.0\ntotal heating DRL: 899.0\ntotal heating baseline: 470.0\n"
    }
   ],
   "source": [
    "index = pd.date_range(start='1/1/{0}'.format(2014), end='1/1/{0}'.format(2014+1), periods=35040+1)\n",
    "index = index[:-1]\n",
    "\n",
    "actions_df = pd.read_csv(\"../saves_LRC/saves/DRL_Master/Test_185/actions_df_ddpg_test_185_2014.csv\")\n",
    "reward_df = pd.read_csv(\"../saves_LRC/saves/DRL_Master/Test_185/obs_df_ddpg_test_185_2014.csv\")\n",
    "obs_df = pd.read_csv(\"../saves_LRC/saves/DRL_Master/Test_185/reward_df_ddpg_test_185_2014.csv\")\n",
    "e_cost_df = pd.read_csv(\"../saves_LRC/saves/DRL_Master/Test_185/e_costs_df_ddpg_test_185_2014.csv\")\n",
    "fan_power_df = pd.read_csv(\"../saves_LRC/saves/DRL_Master/Test_185/fan_power_df_ddpg_test_185_2014.csv\")\n",
    "cool_power_df = pd.read_csv(\"../saves_LRC/saves/DRL_Master/Test_185/cool_power_df_ddpg_test_185_2014.csv\")\n",
    "heat_power_df = pd.read_csv(\"../saves_LRC/saves/DRL_Master/Test_185/heat_power_df_ddpg_test_185_2014.csv\")\n",
    "plugs_load_df = pd.read_csv(\"../saves_LRC/saves/DRL_Master/Test_185/plugs_load_df_ddpg_test_185_2014.csv\")\n",
    "\n",
    "\n",
    "\n",
    "actions_df.index = pd.to_datetime(index)\n",
    "reward_df.index = pd.to_datetime(index)\n",
    "obs_df.index = pd.to_datetime(index)\n",
    "e_cost_df.index = pd.to_datetime(index)\n",
    "fan_power_df.index = pd.to_datetime(index)\n",
    "cool_power_df.index = pd.to_datetime(index)\n",
    "heat_power_df.index = pd.to_datetime(index)\n",
    "plugs_load_df.index = pd.to_datetime(index)\n",
    "#net_energy_df.index = pd.to_datetime(index)\n",
    "#net_power_df.index = pd.to_datetime(index)\n",
    "\n",
    "e_price_2017 = pd.read_csv(\"../e_tariffs/e_d_price_2014.csv\", index_col=0, parse_dates=True)\n",
    "e_price_2017.index = pd.to_datetime(e_price_2017.index)\n",
    "\n",
    "final_df = pd.concat([e_price_2017, obs_df, reward_df, actions_df,e_cost_df,fan_power_df,cool_power_df,heat_power_df,plugs_load_df],axis=1) #,net_energy_df,net_power_df\n",
    "final_df[\"Tcomfort\"] = final_df[\"reward\"] + final_df[\"e_cost\"]\n",
    "#final_df[\"P1_P2\"] = final_df[\"P1\"]/1000.0 + final_df[\"P2\"]/1000.0\n",
    "# final_df.head()\n",
    "print(f'total PV generation: {round(final_df[\"PV\"].sum()*.25/1000.0)}') \n",
    "print(f'total ecost: {round(final_df[\"e_cost\"].sum())}') \n",
    "print(f'total net_energy: {round(final_df[\"net_energy\"].sum())}') \n",
    "print(f'total energy positif: {round(final_df[final_df.net_energy > 0][\"net_energy\"].sum())}') \n",
    "\n",
    "# Baseline\n",
    "year =2014\n",
    "columns = ['FLEXLAB-XR-ZONEB LIGHTS:Lights Electric Power [W](TimeStep)',\n",
    "               'FLEXLAB-XR-ZONEB ELECEQ:Electric Equipment Electric Power [W](TimeStep)',\n",
    "               'SYS-B HEATING COIL:Heating Coil Heating Rate [W](TimeStep)',\n",
    "               'SYS-B COOLING COIL:Cooling Coil Total Cooling Rate [W](TimeStep)',\n",
    "               'SYS-B SUPPLY FAN:Fan Electric Power [W](TimeStep)',\n",
    "               'SYS-B CW SEC CIRC PUMP2:Pump Electric Power [W](TimeStep)',\n",
    "               'SYS-B HW SEC CIRC PUMP2:Pump Electric Power [W](TimeStep)']\n",
    "baseline_df = pd.read_csv(f'../utilities/comparison baseline/data/{year}.csv',usecols=columns)\n",
    "baseline_df.columns = ['lig_base','mels_base','hea_base','coo_base','fan_base','cooPump_base','heaPump_base']\n",
    "baseline_df['hea_base'] = baseline_df['hea_base'] / 0.95\n",
    "baseline_df['coo_base'] = baseline_df['coo_base'] / 3.0\n",
    "baseline_df.index = pd.to_datetime(index)\n",
    "# baseline_df.head()\n",
    "final_df = pd.concat([final_df,baseline_df],axis=1)\n",
    "print(f'total cooling DRL: {round(final_df[\"cool_power\"].sum()/1000.0)}') \n",
    "print(f'total cooling baseline: {round(final_df[\"coo_base\"].sum()/1000.0)}') \n",
    "print(f'total fan DRL: {round(final_df[\"fan_power\"].sum()/1000.0)}') \n",
    "print(f'total fan baseline: {round(final_df[\"fan_base\"].sum()/1000.0)}') \n",
    "print(f'total heating DRL: {round(final_df[\"heat_power\"].sum()/1000.0)}') \n",
    "print(f'total heating baseline: {round(final_df[\"hea_base\"].sum()/1000.0)}') "
   ]
  },
  {
   "cell_type": "code",
   "execution_count": 11,
   "metadata": {},
   "outputs": [],
   "source": [
    "plot_df(final_df, filename='../saves_LRC/saves/DRL_Master/Test_185/all_columns_ddpg_test_185_2014_vs_base.html')"
   ]
  },
  {
   "cell_type": "code",
   "execution_count": null,
   "metadata": {},
   "outputs": [],
   "source": []
  },
  {
   "cell_type": "code",
   "execution_count": 12,
   "metadata": {
    "tags": []
   },
   "outputs": [
    {
     "output_type": "stream",
     "name": "stdout",
     "text": "total PV generation: 5414.0\ntotal ecost: 403.0\ntotal net_energy: 2980.0\ntotal energy positif: 3348.0\ntotal cooling DRL: 3541.0\ntotal cooling baseline: 4599.0\ntotal fan DRL: 2339.0\ntotal fan baseline: 3730.0\ntotal heating DRL: 1140.0\ntotal heating baseline: 470.0\n"
    }
   ],
   "source": [
    "index = pd.date_range(start='1/1/{0}'.format(2014), end='1/1/{0}'.format(2014+1), periods=35040+1)\n",
    "index = index[:-1]\n",
    "\n",
    "actions_df = pd.read_csv(\"../saves_LRC/saves/DRL_Master/Test_191/actions_df_ddpg_test_191_2014.csv\")\n",
    "reward_df = pd.read_csv(\"../saves_LRC/saves/DRL_Master/Test_191/obs_df_ddpg_test_191_2014.csv\")\n",
    "obs_df = pd.read_csv(\"../saves_LRC/saves/DRL_Master/Test_191/reward_df_ddpg_test_191_2014.csv\")\n",
    "e_cost_df = pd.read_csv(\"../saves_LRC/saves/DRL_Master/Test_191/e_costs_df_ddpg_test_191_2014.csv\")\n",
    "fan_power_df = pd.read_csv(\"../saves_LRC/saves/DRL_Master/Test_191/fan_power_df_ddpg_test_191_2014.csv\")\n",
    "cool_power_df = pd.read_csv(\"../saves_LRC/saves/DRL_Master/Test_191/cool_power_df_ddpg_test_191_2014.csv\")\n",
    "heat_power_df = pd.read_csv(\"../saves_LRC/saves/DRL_Master/Test_191/heat_power_df_ddpg_test_191_2014.csv\")\n",
    "plugs_load_df = pd.read_csv(\"../saves_LRC/saves/DRL_Master/Test_191/plugs_load_df_ddpg_test_191_2014.csv\")\n",
    "\n",
    "\n",
    "\n",
    "actions_df.index = pd.to_datetime(index)\n",
    "reward_df.index = pd.to_datetime(index)\n",
    "obs_df.index = pd.to_datetime(index)\n",
    "e_cost_df.index = pd.to_datetime(index)\n",
    "fan_power_df.index = pd.to_datetime(index)\n",
    "cool_power_df.index = pd.to_datetime(index)\n",
    "heat_power_df.index = pd.to_datetime(index)\n",
    "plugs_load_df.index = pd.to_datetime(index)\n",
    "#net_energy_df.index = pd.to_datetime(index)\n",
    "#net_power_df.index = pd.to_datetime(index)\n",
    "\n",
    "e_price_2017 = pd.read_csv(\"../e_tariffs/e_d_price_2014.csv\", index_col=0, parse_dates=True)\n",
    "e_price_2017.index = pd.to_datetime(e_price_2017.index)\n",
    "\n",
    "final_df = pd.concat([e_price_2017, obs_df, reward_df, actions_df,e_cost_df,fan_power_df,cool_power_df,heat_power_df,plugs_load_df],axis=1) #,net_energy_df,net_power_df\n",
    "final_df[\"Tcomfort\"] = final_df[\"reward\"] + final_df[\"e_cost\"]\n",
    "#final_df[\"P1_P2\"] = final_df[\"P1\"]/1000.0 + final_df[\"P2\"]/1000.0\n",
    "# final_df.head()\n",
    "print(f'total PV generation: {round(final_df[\"PV\"].sum()*.25/1000.0)}') \n",
    "print(f'total ecost: {round(final_df[\"e_cost\"].sum())}') \n",
    "print(f'total net_energy: {round(final_df[\"net_energy\"].sum())}') \n",
    "print(f'total energy positif: {round(final_df[final_df.net_energy > 0][\"net_energy\"].sum())}') \n",
    "\n",
    "# Baseline\n",
    "year =2014\n",
    "columns = ['FLEXLAB-XR-ZONEB LIGHTS:Lights Electric Power [W](TimeStep)',\n",
    "               'FLEXLAB-XR-ZONEB ELECEQ:Electric Equipment Electric Power [W](TimeStep)',\n",
    "               'SYS-B HEATING COIL:Heating Coil Heating Rate [W](TimeStep)',\n",
    "               'SYS-B COOLING COIL:Cooling Coil Total Cooling Rate [W](TimeStep)',\n",
    "               'SYS-B SUPPLY FAN:Fan Electric Power [W](TimeStep)',\n",
    "               'SYS-B CW SEC CIRC PUMP2:Pump Electric Power [W](TimeStep)',\n",
    "               'SYS-B HW SEC CIRC PUMP2:Pump Electric Power [W](TimeStep)']\n",
    "baseline_df = pd.read_csv(f'../utilities/comparison baseline/data/{year}.csv',usecols=columns)\n",
    "baseline_df.columns = ['lig_base','mels_base','hea_base','coo_base','fan_base','cooPump_base','heaPump_base']\n",
    "baseline_df['hea_base'] = baseline_df['hea_base'] / 0.95\n",
    "baseline_df['coo_base'] = baseline_df['coo_base'] / 3.0\n",
    "baseline_df.index = pd.to_datetime(index)\n",
    "# baseline_df.head()\n",
    "final_df = pd.concat([final_df,baseline_df],axis=1)\n",
    "print(f'total cooling DRL: {round(final_df[\"cool_power\"].sum()/1000.0)}') \n",
    "print(f'total cooling baseline: {round(final_df[\"coo_base\"].sum()/1000.0)}') \n",
    "print(f'total fan DRL: {round(final_df[\"fan_power\"].sum()/1000.0)}') \n",
    "print(f'total fan baseline: {round(final_df[\"fan_base\"].sum()/1000.0)}') \n",
    "print(f'total heating DRL: {round(final_df[\"heat_power\"].sum()/1000.0)}') \n",
    "print(f'total heating baseline: {round(final_df[\"hea_base\"].sum()/1000.0)}') "
   ]
  },
  {
   "cell_type": "code",
   "execution_count": 13,
   "metadata": {},
   "outputs": [],
   "source": [
    "plot_df(final_df, filename='../saves_LRC/saves/DRL_Master/Test_191/all_columns_ddpg_test_191_2014_vs_base.html')"
   ]
  },
  {
   "cell_type": "code",
   "execution_count": null,
   "metadata": {},
   "outputs": [],
   "source": []
  },
  {
   "cell_type": "code",
   "execution_count": 14,
   "metadata": {
    "tags": []
   },
   "outputs": [
    {
     "output_type": "stream",
     "name": "stdout",
     "text": "total PV generation: 5414.0\ntotal ecost: 411.0\ntotal net_energy: 2766.0\ntotal energy positif: 3264.0\ntotal cooling DRL: 3435.0\ntotal cooling baseline: 4599.0\ntotal fan DRL: 2363.0\ntotal fan baseline: 3730.0\ntotal heating DRL: 624.0\ntotal heating baseline: 470.0\n"
    }
   ],
   "source": [
    "index = pd.date_range(start='1/1/{0}'.format(2014), end='1/1/{0}'.format(2014+1), periods=35040+1)\n",
    "index = index[:-1]\n",
    "\n",
    "actions_df = pd.read_csv(\"../saves_LRC/saves/DRL_Master/Test_188/actions_df_ddpg_test_188_2014.csv\")\n",
    "reward_df = pd.read_csv(\"../saves_LRC/saves/DRL_Master/Test_188/obs_df_ddpg_test_188_2014.csv\")\n",
    "obs_df = pd.read_csv(\"../saves_LRC/saves/DRL_Master/Test_188/reward_df_ddpg_test_188_2014.csv\")\n",
    "e_cost_df = pd.read_csv(\"../saves_LRC/saves/DRL_Master/Test_188/e_costs_df_ddpg_test_188_2014.csv\")\n",
    "fan_power_df = pd.read_csv(\"../saves_LRC/saves/DRL_Master/Test_188/fan_power_df_ddpg_test_188_2014.csv\")\n",
    "cool_power_df = pd.read_csv(\"../saves_LRC/saves/DRL_Master/Test_188/cool_power_df_ddpg_test_188_2014.csv\")\n",
    "heat_power_df = pd.read_csv(\"../saves_LRC/saves/DRL_Master/Test_188/heat_power_df_ddpg_test_188_2014.csv\")\n",
    "plugs_load_df = pd.read_csv(\"../saves_LRC/saves/DRL_Master/Test_188/plugs_load_df_ddpg_test_188_2014.csv\")\n",
    "\n",
    "\n",
    "\n",
    "actions_df.index = pd.to_datetime(index)\n",
    "reward_df.index = pd.to_datetime(index)\n",
    "obs_df.index = pd.to_datetime(index)\n",
    "e_cost_df.index = pd.to_datetime(index)\n",
    "fan_power_df.index = pd.to_datetime(index)\n",
    "cool_power_df.index = pd.to_datetime(index)\n",
    "heat_power_df.index = pd.to_datetime(index)\n",
    "plugs_load_df.index = pd.to_datetime(index)\n",
    "#net_energy_df.index = pd.to_datetime(index)\n",
    "#net_power_df.index = pd.to_datetime(index)\n",
    "\n",
    "e_price_2017 = pd.read_csv(\"../e_tariffs/e_d_price_2014.csv\", index_col=0, parse_dates=True)\n",
    "e_price_2017.index = pd.to_datetime(e_price_2017.index)\n",
    "\n",
    "final_df = pd.concat([e_price_2017, obs_df, reward_df, actions_df,e_cost_df,fan_power_df,cool_power_df,heat_power_df,plugs_load_df],axis=1) #,net_energy_df,net_power_df\n",
    "final_df[\"Tcomfort\"] = final_df[\"reward\"] + final_df[\"e_cost\"]\n",
    "#final_df[\"P1_P2\"] = final_df[\"P1\"]/1000.0 + final_df[\"P2\"]/1000.0\n",
    "# final_df.head()\n",
    "print(f'total PV generation: {round(final_df[\"PV\"].sum()*.25/1000.0)}') \n",
    "print(f'total ecost: {round(final_df[\"e_cost\"].sum())}') \n",
    "print(f'total net_energy: {round(final_df[\"net_energy\"].sum())}') \n",
    "print(f'total energy positif: {round(final_df[final_df.net_energy > 0][\"net_energy\"].sum())}') \n",
    "\n",
    "# Baseline\n",
    "year =2014\n",
    "columns = ['FLEXLAB-XR-ZONEB LIGHTS:Lights Electric Power [W](TimeStep)',\n",
    "               'FLEXLAB-XR-ZONEB ELECEQ:Electric Equipment Electric Power [W](TimeStep)',\n",
    "               'SYS-B HEATING COIL:Heating Coil Heating Rate [W](TimeStep)',\n",
    "               'SYS-B COOLING COIL:Cooling Coil Total Cooling Rate [W](TimeStep)',\n",
    "               'SYS-B SUPPLY FAN:Fan Electric Power [W](TimeStep)',\n",
    "               'SYS-B CW SEC CIRC PUMP2:Pump Electric Power [W](TimeStep)',\n",
    "               'SYS-B HW SEC CIRC PUMP2:Pump Electric Power [W](TimeStep)']\n",
    "baseline_df = pd.read_csv(f'../utilities/comparison baseline/data/{year}.csv',usecols=columns)\n",
    "baseline_df.columns = ['lig_base','mels_base','hea_base','coo_base','fan_base','cooPump_base','heaPump_base']\n",
    "baseline_df['hea_base'] = baseline_df['hea_base'] / 0.95\n",
    "baseline_df['coo_base'] = baseline_df['coo_base'] / 3.0\n",
    "baseline_df.index = pd.to_datetime(index)\n",
    "# baseline_df.head()\n",
    "final_df = pd.concat([final_df,baseline_df],axis=1)\n",
    "print(f'total cooling DRL: {round(final_df[\"cool_power\"].sum()/1000.0)}') \n",
    "print(f'total cooling baseline: {round(final_df[\"coo_base\"].sum()/1000.0)}') \n",
    "print(f'total fan DRL: {round(final_df[\"fan_power\"].sum()/1000.0)}') \n",
    "print(f'total fan baseline: {round(final_df[\"fan_base\"].sum()/1000.0)}') \n",
    "print(f'total heating DRL: {round(final_df[\"heat_power\"].sum()/1000.0)}') \n",
    "print(f'total heating baseline: {round(final_df[\"hea_base\"].sum()/1000.0)}') "
   ]
  },
  {
   "cell_type": "code",
   "execution_count": 15,
   "metadata": {},
   "outputs": [],
   "source": [
    "plot_df(final_df, filename='../saves_LRC/saves/DRL_Master/Test_188/all_columns_ddpg_test_188_2014_vs_base.html')"
   ]
  },
  {
   "cell_type": "code",
   "execution_count": null,
   "metadata": {},
   "outputs": [],
   "source": []
  },
  {
   "cell_type": "code",
   "execution_count": 3,
   "metadata": {
    "tags": []
   },
   "outputs": [
    {
     "output_type": "stream",
     "name": "stdout",
     "text": "total PV generation: 5414.0\ntotal ecost: 447.0\ntotal net_energy: 2681.0\ntotal energy positif: 3356.0\ntotal cooling DRL: 3768.0\ntotal cooling baseline: 4599.0\ntotal fan DRL: 1960.0\ntotal fan baseline: 3730.0\ntotal heating DRL: 35.0\ntotal heating baseline: 470.0\n"
    }
   ],
   "source": [
    "index = pd.date_range(start='1/1/{0}'.format(2014), end='1/1/{0}'.format(2014+1), periods=35040+1)\n",
    "index = index[:-1]\n",
    "\n",
    "actions_df = pd.read_csv(\"../saves_LRC/saves/DRL_Master/Test_213/actions_df_ddpg_test_213_2014.csv\")\n",
    "reward_df = pd.read_csv(\"../saves_LRC/saves/DRL_Master/Test_213/obs_df_ddpg_test_213_2014.csv\")\n",
    "obs_df = pd.read_csv(\"../saves_LRC/saves/DRL_Master/Test_213/reward_df_ddpg_test_213_2014.csv\")\n",
    "e_cost_df = pd.read_csv(\"../saves_LRC/saves/DRL_Master/Test_213/e_costs_df_ddpg_test_213_2014.csv\")\n",
    "fan_power_df = pd.read_csv(\"../saves_LRC/saves/DRL_Master/Test_213/fan_power_df_ddpg_test_213_2014.csv\")\n",
    "cool_power_df = pd.read_csv(\"../saves_LRC/saves/DRL_Master/Test_213/cool_power_df_ddpg_test_213_2014.csv\")\n",
    "heat_power_df = pd.read_csv(\"../saves_LRC/saves/DRL_Master/Test_213/heat_power_df_ddpg_test_213_2014.csv\")\n",
    "plugs_load_df = pd.read_csv(\"../saves_LRC/saves/DRL_Master/Test_213/plugs_load_df_ddpg_test_213_2014.csv\")\n",
    "\n",
    "\n",
    "\n",
    "actions_df.index = pd.to_datetime(index)\n",
    "reward_df.index = pd.to_datetime(index)\n",
    "obs_df.index = pd.to_datetime(index)\n",
    "e_cost_df.index = pd.to_datetime(index)\n",
    "fan_power_df.index = pd.to_datetime(index)\n",
    "cool_power_df.index = pd.to_datetime(index)\n",
    "heat_power_df.index = pd.to_datetime(index)\n",
    "plugs_load_df.index = pd.to_datetime(index)\n",
    "#net_energy_df.index = pd.to_datetime(index)\n",
    "#net_power_df.index = pd.to_datetime(index)\n",
    "\n",
    "e_price_2017 = pd.read_csv(\"../e_tariffs/e_d_price_2014_shed.csv\", index_col=0, parse_dates=True)\n",
    "e_price_2017.index = pd.to_datetime(e_price_2017.index)\n",
    "\n",
    "final_df = pd.concat([e_price_2017, obs_df, reward_df, actions_df,e_cost_df,fan_power_df,cool_power_df,heat_power_df,plugs_load_df],axis=1) #,net_energy_df,net_power_df\n",
    "final_df[\"Tcomfort\"] = final_df[\"reward\"] + final_df[\"e_cost\"]\n",
    "#final_df[\"P1_P2\"] = final_df[\"P1\"]/1000.0 + final_df[\"P2\"]/1000.0\n",
    "# final_df.head()\n",
    "print(f'total PV generation: {round(final_df[\"PV\"].sum()*.25/1000.0)}') \n",
    "print(f'total ecost: {round(final_df[\"e_cost\"].sum())}') \n",
    "print(f'total net_energy: {round(final_df[\"net_energy\"].sum())}') \n",
    "print(f'total energy positif: {round(final_df[final_df.net_energy > 0][\"net_energy\"].sum())}') \n",
    "\n",
    "# Baseline\n",
    "year =2014\n",
    "columns = ['FLEXLAB-XR-ZONEB LIGHTS:Lights Electric Power [W](TimeStep)',\n",
    "               'FLEXLAB-XR-ZONEB ELECEQ:Electric Equipment Electric Power [W](TimeStep)',\n",
    "               'SYS-B HEATING COIL:Heating Coil Heating Rate [W](TimeStep)',\n",
    "               'SYS-B COOLING COIL:Cooling Coil Total Cooling Rate [W](TimeStep)',\n",
    "               'SYS-B SUPPLY FAN:Fan Electric Power [W](TimeStep)',\n",
    "               'SYS-B CW SEC CIRC PUMP2:Pump Electric Power [W](TimeStep)',\n",
    "               'SYS-B HW SEC CIRC PUMP2:Pump Electric Power [W](TimeStep)']\n",
    "baseline_df = pd.read_csv(f'../utilities/comparison baseline/data/{year}.csv',usecols=columns)\n",
    "baseline_df.columns = ['lig_base','mels_base','hea_base','coo_base','fan_base','cooPump_base','heaPump_base']\n",
    "baseline_df['hea_base'] = baseline_df['hea_base'] / 0.95\n",
    "baseline_df['coo_base'] = baseline_df['coo_base'] / 3.0\n",
    "baseline_df.index = pd.to_datetime(index)\n",
    "# baseline_df.head()\n",
    "final_df = pd.concat([final_df,baseline_df],axis=1)\n",
    "print(f'total cooling DRL: {round(final_df[\"cool_power\"].sum()/1000.0)}') \n",
    "print(f'total cooling baseline: {round(final_df[\"coo_base\"].sum()/1000.0)}') \n",
    "print(f'total fan DRL: {round(final_df[\"fan_power\"].sum()/1000.0)}') \n",
    "print(f'total fan baseline: {round(final_df[\"fan_base\"].sum()/1000.0)}') \n",
    "print(f'total heating DRL: {round(final_df[\"heat_power\"].sum()/1000.0)}') \n",
    "print(f'total heating baseline: {round(final_df[\"hea_base\"].sum()/1000.0)}') "
   ]
  },
  {
   "cell_type": "code",
   "execution_count": 4,
   "metadata": {},
   "outputs": [],
   "source": [
    "plot_df(final_df, filename='../saves_LRC/saves/DRL_Master/Test_213/all_columns_ddpg_test_213_2014_vs_base.html')"
   ]
  },
  {
   "cell_type": "code",
   "execution_count": null,
   "metadata": {},
   "outputs": [],
   "source": []
  },
  {
   "cell_type": "code",
   "execution_count": 5,
   "metadata": {
    "tags": []
   },
   "outputs": [
    {
     "output_type": "stream",
     "name": "stdout",
     "text": "total PV generation: 5414.0\ntotal ecost: 452.0\ntotal net_energy: 2846.0\ntotal energy positif: 3401.0\ntotal cooling DRL: 3375.0\ntotal cooling baseline: 4599.0\ntotal fan DRL: 2296.0\ntotal fan baseline: 3730.0\ntotal heating DRL: 881.0\ntotal heating baseline: 470.0\n"
    }
   ],
   "source": [
    "index = pd.date_range(start='1/1/{0}'.format(2014), end='1/1/{0}'.format(2014+1), periods=35040+1)\n",
    "index = index[:-1]\n",
    "\n",
    "actions_df = pd.read_csv(\"../saves_LRC/saves/DRL_Master/Test_203/actions_df_ddpg_test_203_2014.csv\")\n",
    "reward_df = pd.read_csv(\"../saves_LRC/saves/DRL_Master/Test_203/obs_df_ddpg_test_203_2014.csv\")\n",
    "obs_df = pd.read_csv(\"../saves_LRC/saves/DRL_Master/Test_203/reward_df_ddpg_test_203_2014.csv\")\n",
    "e_cost_df = pd.read_csv(\"../saves_LRC/saves/DRL_Master/Test_203/e_costs_df_ddpg_test_203_2014.csv\")\n",
    "fan_power_df = pd.read_csv(\"../saves_LRC/saves/DRL_Master/Test_203/fan_power_df_ddpg_test_203_2014.csv\")\n",
    "cool_power_df = pd.read_csv(\"../saves_LRC/saves/DRL_Master/Test_203/cool_power_df_ddpg_test_203_2014.csv\")\n",
    "heat_power_df = pd.read_csv(\"../saves_LRC/saves/DRL_Master/Test_203/heat_power_df_ddpg_test_203_2014.csv\")\n",
    "plugs_load_df = pd.read_csv(\"../saves_LRC/saves/DRL_Master/Test_203/plugs_load_df_ddpg_test_203_2014.csv\")\n",
    "\n",
    "\n",
    "\n",
    "actions_df.index = pd.to_datetime(index)\n",
    "reward_df.index = pd.to_datetime(index)\n",
    "obs_df.index = pd.to_datetime(index)\n",
    "e_cost_df.index = pd.to_datetime(index)\n",
    "fan_power_df.index = pd.to_datetime(index)\n",
    "cool_power_df.index = pd.to_datetime(index)\n",
    "heat_power_df.index = pd.to_datetime(index)\n",
    "plugs_load_df.index = pd.to_datetime(index)\n",
    "#net_energy_df.index = pd.to_datetime(index)\n",
    "#net_power_df.index = pd.to_datetime(index)\n",
    "\n",
    "e_price_2017 = pd.read_csv(\"../e_tariffs/e_d_price_2014_shed.csv\", index_col=0, parse_dates=True)\n",
    "e_price_2017.index = pd.to_datetime(e_price_2017.index)\n",
    "\n",
    "final_df = pd.concat([e_price_2017, obs_df, reward_df, actions_df,e_cost_df,fan_power_df,cool_power_df,heat_power_df,plugs_load_df],axis=1) #,net_energy_df,net_power_df\n",
    "final_df[\"Tcomfort\"] = final_df[\"reward\"] + final_df[\"e_cost\"]\n",
    "#final_df[\"P1_P2\"] = final_df[\"P1\"]/1000.0 + final_df[\"P2\"]/1000.0\n",
    "# final_df.head()\n",
    "print(f'total PV generation: {round(final_df[\"PV\"].sum()*.25/1000.0)}') \n",
    "print(f'total ecost: {round(final_df[\"e_cost\"].sum())}') \n",
    "print(f'total net_energy: {round(final_df[\"net_energy\"].sum())}') \n",
    "print(f'total energy positif: {round(final_df[final_df.net_energy > 0][\"net_energy\"].sum())}') \n",
    "\n",
    "# Baseline\n",
    "year =2014\n",
    "columns = ['FLEXLAB-XR-ZONEB LIGHTS:Lights Electric Power [W](TimeStep)',\n",
    "               'FLEXLAB-XR-ZONEB ELECEQ:Electric Equipment Electric Power [W](TimeStep)',\n",
    "               'SYS-B HEATING COIL:Heating Coil Heating Rate [W](TimeStep)',\n",
    "               'SYS-B COOLING COIL:Cooling Coil Total Cooling Rate [W](TimeStep)',\n",
    "               'SYS-B SUPPLY FAN:Fan Electric Power [W](TimeStep)',\n",
    "               'SYS-B CW SEC CIRC PUMP2:Pump Electric Power [W](TimeStep)',\n",
    "               'SYS-B HW SEC CIRC PUMP2:Pump Electric Power [W](TimeStep)']\n",
    "baseline_df = pd.read_csv(f'../utilities/comparison baseline/data/{year}.csv',usecols=columns)\n",
    "baseline_df.columns = ['lig_base','mels_base','hea_base','coo_base','fan_base','cooPump_base','heaPump_base']\n",
    "baseline_df['hea_base'] = baseline_df['hea_base'] / 0.95\n",
    "baseline_df['coo_base'] = baseline_df['coo_base'] / 3.0\n",
    "baseline_df.index = pd.to_datetime(index)\n",
    "# baseline_df.head()\n",
    "final_df = pd.concat([final_df,baseline_df],axis=1)\n",
    "print(f'total cooling DRL: {round(final_df[\"cool_power\"].sum()/1000.0)}') \n",
    "print(f'total cooling baseline: {round(final_df[\"coo_base\"].sum()/1000.0)}') \n",
    "print(f'total fan DRL: {round(final_df[\"fan_power\"].sum()/1000.0)}') \n",
    "print(f'total fan baseline: {round(final_df[\"fan_base\"].sum()/1000.0)}') \n",
    "print(f'total heating DRL: {round(final_df[\"heat_power\"].sum()/1000.0)}') \n",
    "print(f'total heating baseline: {round(final_df[\"hea_base\"].sum()/1000.0)}') "
   ]
  },
  {
   "cell_type": "code",
   "execution_count": 6,
   "metadata": {},
   "outputs": [],
   "source": [
    "plot_df(final_df, filename='../saves_LRC/saves/DRL_Master/Test_203/all_columns_ddpg_test_203_2014_vs_base.html')"
   ]
  },
  {
   "cell_type": "code",
   "execution_count": null,
   "metadata": {},
   "outputs": [],
   "source": []
  },
  {
   "cell_type": "code",
   "execution_count": 7,
   "metadata": {
    "tags": []
   },
   "outputs": [
    {
     "output_type": "stream",
     "name": "stdout",
     "text": "total PV generation: 5414.0\ntotal ecost: 517.0\ntotal net_energy: 3330.0\ntotal energy positif: 3886.0\ntotal cooling DRL: 4220.0\ntotal cooling baseline: 4599.0\ntotal fan DRL: 1973.0\ntotal fan baseline: 3730.0\ntotal heating DRL: 2238.0\ntotal heating baseline: 470.0\n"
    }
   ],
   "source": [
    "index = pd.date_range(start='1/1/{0}'.format(2014), end='1/1/{0}'.format(2014+1), periods=35040+1)\n",
    "index = index[:-1]\n",
    "\n",
    "actions_df = pd.read_csv(\"../saves_LRC/saves/DRL_Master/Test_208/actions_df_ddpg_test_208_2014.csv\")\n",
    "reward_df = pd.read_csv(\"../saves_LRC/saves/DRL_Master/Test_208/obs_df_ddpg_test_208_2014.csv\")\n",
    "obs_df = pd.read_csv(\"../saves_LRC/saves/DRL_Master/Test_208/reward_df_ddpg_test_208_2014.csv\")\n",
    "e_cost_df = pd.read_csv(\"../saves_LRC/saves/DRL_Master/Test_208/e_costs_df_ddpg_test_208_2014.csv\")\n",
    "fan_power_df = pd.read_csv(\"../saves_LRC/saves/DRL_Master/Test_208/fan_power_df_ddpg_test_208_2014.csv\")\n",
    "cool_power_df = pd.read_csv(\"../saves_LRC/saves/DRL_Master/Test_208/cool_power_df_ddpg_test_208_2014.csv\")\n",
    "heat_power_df = pd.read_csv(\"../saves_LRC/saves/DRL_Master/Test_208/heat_power_df_ddpg_test_208_2014.csv\")\n",
    "plugs_load_df = pd.read_csv(\"../saves_LRC/saves/DRL_Master/Test_208/plugs_load_df_ddpg_test_208_2014.csv\")\n",
    "\n",
    "\n",
    "\n",
    "actions_df.index = pd.to_datetime(index)\n",
    "reward_df.index = pd.to_datetime(index)\n",
    "obs_df.index = pd.to_datetime(index)\n",
    "e_cost_df.index = pd.to_datetime(index)\n",
    "fan_power_df.index = pd.to_datetime(index)\n",
    "cool_power_df.index = pd.to_datetime(index)\n",
    "heat_power_df.index = pd.to_datetime(index)\n",
    "plugs_load_df.index = pd.to_datetime(index)\n",
    "#net_energy_df.index = pd.to_datetime(index)\n",
    "#net_power_df.index = pd.to_datetime(index)\n",
    "\n",
    "e_price_2017 = pd.read_csv(\"../e_tariffs/e_d_price_2014_shed.csv\", index_col=0, parse_dates=True)\n",
    "e_price_2017.index = pd.to_datetime(e_price_2017.index)\n",
    "\n",
    "final_df = pd.concat([e_price_2017, obs_df, reward_df, actions_df,e_cost_df,fan_power_df,cool_power_df,heat_power_df,plugs_load_df],axis=1) #,net_energy_df,net_power_df\n",
    "final_df[\"Tcomfort\"] = final_df[\"reward\"] + final_df[\"e_cost\"]\n",
    "#final_df[\"P1_P2\"] = final_df[\"P1\"]/1000.0 + final_df[\"P2\"]/1000.0\n",
    "# final_df.head()\n",
    "print(f'total PV generation: {round(final_df[\"PV\"].sum()*.25/1000.0)}') \n",
    "print(f'total ecost: {round(final_df[\"e_cost\"].sum())}') \n",
    "print(f'total net_energy: {round(final_df[\"net_energy\"].sum())}') \n",
    "print(f'total energy positif: {round(final_df[final_df.net_energy > 0][\"net_energy\"].sum())}') \n",
    "\n",
    "# Baseline\n",
    "year =2014\n",
    "columns = ['FLEXLAB-XR-ZONEB LIGHTS:Lights Electric Power [W](TimeStep)',\n",
    "               'FLEXLAB-XR-ZONEB ELECEQ:Electric Equipment Electric Power [W](TimeStep)',\n",
    "               'SYS-B HEATING COIL:Heating Coil Heating Rate [W](TimeStep)',\n",
    "               'SYS-B COOLING COIL:Cooling Coil Total Cooling Rate [W](TimeStep)',\n",
    "               'SYS-B SUPPLY FAN:Fan Electric Power [W](TimeStep)',\n",
    "               'SYS-B CW SEC CIRC PUMP2:Pump Electric Power [W](TimeStep)',\n",
    "               'SYS-B HW SEC CIRC PUMP2:Pump Electric Power [W](TimeStep)']\n",
    "baseline_df = pd.read_csv(f'../utilities/comparison baseline/data/{year}.csv',usecols=columns)\n",
    "baseline_df.columns = ['lig_base','mels_base','hea_base','coo_base','fan_base','cooPump_base','heaPump_base']\n",
    "baseline_df['hea_base'] = baseline_df['hea_base'] / 0.95\n",
    "baseline_df['coo_base'] = baseline_df['coo_base'] / 3.0\n",
    "baseline_df.index = pd.to_datetime(index)\n",
    "# baseline_df.head()\n",
    "final_df = pd.concat([final_df,baseline_df],axis=1)\n",
    "print(f'total cooling DRL: {round(final_df[\"cool_power\"].sum()/1000.0)}') \n",
    "print(f'total cooling baseline: {round(final_df[\"coo_base\"].sum()/1000.0)}') \n",
    "print(f'total fan DRL: {round(final_df[\"fan_power\"].sum()/1000.0)}') \n",
    "print(f'total fan baseline: {round(final_df[\"fan_base\"].sum()/1000.0)}') \n",
    "print(f'total heating DRL: {round(final_df[\"heat_power\"].sum()/1000.0)}') \n",
    "print(f'total heating baseline: {round(final_df[\"hea_base\"].sum()/1000.0)}') "
   ]
  },
  {
   "cell_type": "code",
   "execution_count": 8,
   "metadata": {},
   "outputs": [],
   "source": [
    "plot_df(final_df, filename='../saves_LRC/saves/DRL_Master/Test_208/all_columns_ddpg_test_208_2014_vs_base.html')"
   ]
  },
  {
   "cell_type": "code",
   "execution_count": null,
   "metadata": {},
   "outputs": [],
   "source": []
  },
  {
   "cell_type": "code",
   "execution_count": null,
   "metadata": {},
   "outputs": [],
   "source": []
  },
  {
   "cell_type": "code",
   "execution_count": null,
   "metadata": {},
   "outputs": [],
   "source": []
  },
  {
   "cell_type": "code",
   "execution_count": 3,
   "metadata": {
    "tags": []
   },
   "outputs": [
    {
     "output_type": "stream",
     "name": "stdout",
     "text": "total PV generation: 4392.0\ntotal ecost: 573.0\ntotal net_energy: 3973.0\ntotal energy positif: 4284.0\ntotal cooling DRL: 3096.0\ntotal cooling baseline: 4599.0\ntotal fan DRL: 2201.0\ntotal fan baseline: 3730.0\ntotal heating DRL: 1675.0\ntotal heating baseline: 470.0\n"
    }
   ],
   "source": [
    "index = pd.date_range(start='1/1/{0}'.format(2014), end='1/1/{0}'.format(2014+1), periods=35040+1)\n",
    "index = index[:-1]\n",
    "\n",
    "actions_df = pd.read_csv(\"../saves_LRC/saves/DRL_Master/Test_203/actions_df_ddpg_test_203_2020.csv\")\n",
    "reward_df = pd.read_csv(\"../saves_LRC/saves/DRL_Master/Test_203/obs_df_ddpg_test_203_2020.csv\")\n",
    "obs_df = pd.read_csv(\"../saves_LRC/saves/DRL_Master/Test_203/reward_df_ddpg_test_203_2020.csv\")\n",
    "e_cost_df = pd.read_csv(\"../saves_LRC/saves/DRL_Master/Test_203/e_costs_df_ddpg_test_203_2020.csv\")\n",
    "fan_power_df = pd.read_csv(\"../saves_LRC/saves/DRL_Master/Test_203/fan_power_df_ddpg_test_203_2020.csv\")\n",
    "cool_power_df = pd.read_csv(\"../saves_LRC/saves/DRL_Master/Test_203/cool_power_df_ddpg_test_203_2020.csv\")\n",
    "heat_power_df = pd.read_csv(\"../saves_LRC/saves/DRL_Master/Test_203/heat_power_df_ddpg_test_203_2020.csv\")\n",
    "plugs_load_df = pd.read_csv(\"../saves_LRC/saves/DRL_Master/Test_203/plugs_load_df_ddpg_test_203_2020.csv\")\n",
    "\n",
    "\n",
    "\n",
    "actions_df.index = pd.to_datetime(index)\n",
    "reward_df.index = pd.to_datetime(index)\n",
    "obs_df.index = pd.to_datetime(index)\n",
    "e_cost_df.index = pd.to_datetime(index)\n",
    "fan_power_df.index = pd.to_datetime(index)\n",
    "cool_power_df.index = pd.to_datetime(index)\n",
    "heat_power_df.index = pd.to_datetime(index)\n",
    "plugs_load_df.index = pd.to_datetime(index)\n",
    "#net_energy_df.index = pd.to_datetime(index)\n",
    "#net_power_df.index = pd.to_datetime(index)\n",
    "\n",
    "e_price_2017 = pd.read_csv(\"../e_tariffs/e_d_price_2020_shed_new.csv\", index_col=0, parse_dates=True)\n",
    "e_price_2017.index = pd.to_datetime(e_price_2017.index)\n",
    "\n",
    "final_df = pd.concat([e_price_2017, obs_df, reward_df, actions_df,e_cost_df,fan_power_df,cool_power_df,heat_power_df,plugs_load_df],axis=1) #,net_energy_df,net_power_df\n",
    "final_df[\"Tcomfort\"] = final_df[\"reward\"] + final_df[\"e_cost\"]\n",
    "#final_df[\"P1_P2\"] = final_df[\"P1\"]/1000.0 + final_df[\"P2\"]/1000.0\n",
    "# final_df.head()\n",
    "print(f'total PV generation: {round(final_df[\"PV\"].sum()*.25/1000.0)}') \n",
    "print(f'total ecost: {round(final_df[\"e_cost\"].sum())}') \n",
    "print(f'total net_energy: {round(final_df[\"net_energy\"].sum())}') \n",
    "print(f'total energy positif: {round(final_df[final_df.net_energy > 0][\"net_energy\"].sum())}') \n",
    "\n",
    "# Baseline\n",
    "year =2014\n",
    "columns = ['FLEXLAB-XR-ZONEB LIGHTS:Lights Electric Power [W](TimeStep)',\n",
    "               'FLEXLAB-XR-ZONEB ELECEQ:Electric Equipment Electric Power [W](TimeStep)',\n",
    "               'SYS-B HEATING COIL:Heating Coil Heating Rate [W](TimeStep)',\n",
    "               'SYS-B COOLING COIL:Cooling Coil Total Cooling Rate [W](TimeStep)',\n",
    "               'SYS-B SUPPLY FAN:Fan Electric Power [W](TimeStep)',\n",
    "               'SYS-B CW SEC CIRC PUMP2:Pump Electric Power [W](TimeStep)',\n",
    "               'SYS-B HW SEC CIRC PUMP2:Pump Electric Power [W](TimeStep)']\n",
    "baseline_df = pd.read_csv(f'../utilities/comparison baseline/data/{year}.csv',usecols=columns)\n",
    "baseline_df.columns = ['lig_base','mels_base','hea_base','coo_base','fan_base','cooPump_base','heaPump_base']\n",
    "baseline_df['hea_base'] = baseline_df['hea_base'] / 0.95\n",
    "baseline_df['coo_base'] = baseline_df['coo_base'] / 3.0\n",
    "baseline_df.index = pd.to_datetime(index)\n",
    "# baseline_df.head()\n",
    "final_df = pd.concat([final_df,baseline_df],axis=1)\n",
    "print(f'total cooling DRL: {round(final_df[\"cool_power\"].sum()/1000.0)}') \n",
    "print(f'total cooling baseline: {round(final_df[\"coo_base\"].sum()/1000.0)}') \n",
    "print(f'total fan DRL: {round(final_df[\"fan_power\"].sum()/1000.0)}') \n",
    "print(f'total fan baseline: {round(final_df[\"fan_base\"].sum()/1000.0)}') \n",
    "print(f'total heating DRL: {round(final_df[\"heat_power\"].sum()/1000.0)}') \n",
    "print(f'total heating baseline: {round(final_df[\"hea_base\"].sum()/1000.0)}') "
   ]
  },
  {
   "cell_type": "code",
   "execution_count": 4,
   "metadata": {},
   "outputs": [],
   "source": [
    "plot_df(final_df, filename='../saves_LRC/saves/DRL_Master/Test_203/all_columns_ddpg_test_203_2020_vs_base.html')"
   ]
  },
  {
   "cell_type": "code",
   "execution_count": 2,
   "metadata": {},
   "outputs": [],
   "source": [
    "actions_df = pd.read_csv(\"../saves_LRC/saves/DRL_Master/Test_203/actions_df_ddpg_test_203_2020.csv\")\n",
    "reward_df = pd.read_csv(\"../saves_LRC/saves/DRL_Master/Test_203/obs_df_ddpg_test_203_2020.csv\")\n",
    "obs_df = pd.read_csv(\"../saves_LRC/saves/DRL_Master/Test_203/reward_df_ddpg_test_203_2020.csv\")\n",
    "e_cost_df = pd.read_csv(\"../saves_LRC/saves/DRL_Master/Test_203/e_costs_df_ddpg_test_203_2020.csv\")\n",
    "fan_power_df = pd.read_csv(\"../saves_LRC/saves/DRL_Master/Test_203/fan_power_df_ddpg_test_203_2020.csv\")\n",
    "cool_power_df = pd.read_csv(\"../saves_LRC/saves/DRL_Master/Test_203/cool_power_df_ddpg_test_203_2020.csv\")\n",
    "heat_power_df = pd.read_csv(\"../saves_LRC/saves/DRL_Master/Test_203/heat_power_df_ddpg_test_203_2020.csv\")\n",
    "plugs_load_df = pd.read_csv(\"../saves_LRC/saves/DRL_Master/Test_203/plugs_load_df_ddpg_test_203_2020.csv\")"
   ]
  },
  {
   "cell_type": "code",
   "execution_count": 11,
   "metadata": {},
   "outputs": [],
   "source": [
    "final_df = pd.concat([obs_df, reward_df, actions_df,e_cost_df,fan_power_df,cool_power_df,heat_power_df,plugs_load_df],axis=1)"
   ]
  },
  {
   "cell_type": "code",
   "execution_count": 12,
   "metadata": {},
   "outputs": [
    {
     "output_type": "execute_result",
     "data": {
      "text/plain": "(35040, 21)"
     },
     "metadata": {},
     "execution_count": 12
    }
   ],
   "source": [
    "final_df.shape"
   ]
  },
  {
   "cell_type": "code",
   "execution_count": null,
   "metadata": {},
   "outputs": [],
   "source": []
  }
 ],
 "metadata": {
  "kernelspec": {
   "display_name": "Python 3",
   "language": "python",
   "name": "python3"
  },
  "language_info": {
   "codemirror_mode": {
    "name": "ipython",
    "version": 3
   },
   "file_extension": ".py",
   "mimetype": "text/x-python",
   "name": "python",
   "nbconvert_exporter": "python",
   "pygments_lexer": "ipython3",
   "version": "3.6.8-final"
  }
 },
 "nbformat": 4,
 "nbformat_minor": 2
}