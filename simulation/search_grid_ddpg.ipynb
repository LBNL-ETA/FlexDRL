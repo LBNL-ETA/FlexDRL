{
 "cells": [
  {
   "cell_type": "markdown",
   "metadata": {},
   "source": [
    "# Notebook to automaticaly generate configuration files using Random Search approach"
   ]
  },
  {
   "cell_type": "code",
   "execution_count": 1,
   "metadata": {},
   "outputs": [],
   "source": [
    "import random\n",
    "import yaml\n",
    "random.seed(123)\n"
   ]
  },
  {
   "cell_type": "markdown",
   "metadata": {},
   "source": [
    "### Define the structure of the configuration files\n",
    "The structure of the configuration file is defined as a python dictionary, where the keys are the hyperparameters name and the values are list of discrete values to chose from   "
   ]
  },
  {
   "cell_type": "code",
   "execution_count": 2,
   "metadata": {},
   "outputs": [],
   "source": [
    "# EE: Energy efficiency\n",
    "# param_grid = {\n",
    "#     'test_iterations' : [5],\n",
    "#     'actor_learning_rate': [0.00005],\n",
    "#     'critic_learning_rate': [0.0001],\n",
    "#     'gamma': [0.98],\n",
    "#     'replay_buffer_size': [1500000],\n",
    "#     'initial_replay_buffer_size': [1500000],\n",
    "#     'batch_size': [128],\n",
    "#     'ou_enable': [True],\n",
    "#     'ou_theta': [0.15, 0.20],\n",
    "#     'ou_sigma': [0.20, 0.3, 0.4],\n",
    "#     'ou_mu': [0.0],\n",
    "#     'epsilon': [0.3],\n",
    "#     'nn_features1': [350, 400, 450],\n",
    "#     'nn_features2': [350, 400],\n",
    "#     'episode_simulation_days': [365],\n",
    "#     'pv_panels_number': [10.0],\n",
    "#     'alpha_reward': [100.0],\n",
    "#     'beta_reward': [1.5,3.0],\n",
    "#     'gamma_reward': [1.5],\n",
    "#     'eprice_ahead': [0],\n",
    "#     'light_ctrl': [False]\n",
    "# }\n",
    "\n",
    "# Load Shift\n",
    "param_grid = {\n",
    "    'test_iterations' : [5],\n",
    "    'actor_learning_rate': [0.00005],\n",
    "    'critic_learning_rate': [0.0001],\n",
    "    'gamma': [0.98],\n",
    "    'replay_buffer_size': [1500000],\n",
    "    'initial_replay_buffer_size': [1500000],\n",
    "    'batch_size': [128],\n",
    "    'ou_enable': [True],\n",
    "    'ou_theta': [0.15, 0.20],\n",
    "    'ou_sigma': [0.3, 0.4],\n",
    "    'ou_mu': [0.0],\n",
    "    'epsilon': [0.3],\n",
    "    'nn_features1': [400, 450],\n",
    "    'nn_features2': [350, 400],\n",
    "    'episode_simulation_days': [365],\n",
    "    'pv_panels_number': [10.0],\n",
    "    'alpha_reward': [100.0],\n",
    "    'beta_reward': [3.0,4.5],\n",
    "    'gamma_reward': [1.5],\n",
    "    'eprice_ahead': [2,3,4],\n",
    "    'light_ctrl': [False]\n",
    "}"
   ]
  },
  {
   "cell_type": "markdown",
   "metadata": {},
   "source": [
    "### Compute the total number of possible combinations\n"
   ]
  },
  {
   "cell_type": "code",
   "execution_count": 3,
   "metadata": {
    "tags": []
   },
   "outputs": [
    {
     "output_type": "stream",
     "name": "stdout",
     "text": "There are 96 combinations\n"
    }
   ],
   "source": [
    "com = 1\n",
    "for x in param_grid.values():\n",
    "    com *= len(x)\n",
    "print('There are {} combinations'.format(com))"
   ]
  },
  {
   "cell_type": "code",
   "execution_count": 4,
   "metadata": {},
   "outputs": [],
   "source": [
    "def random_search_config(param_grid, eval_count = 10, starting_count = 155):\n",
    "    \"\"\"\n",
    "    eval_count: number of configuration files generated using random search\n",
    "    stating_count: value used as starting point for indexation  \n",
    "    \"\"\"\n",
    "    for i in range(eval_count):\n",
    "        hyperparameters = {k: random.sample(v, 1)[0] for k, v in param_grid.items()}\n",
    "        test_num = i + starting_count\n",
    "        test_name = \"Test_\" + str(test_num)\n",
    "        test_config_path = \"test_configuration/\" + test_name + \"_configuration.yaml\"\n",
    "        config = {\"test_name\":test_name}\n",
    "        config.update(hyperparameters)\n",
    "        #print(config)\n",
    "        with open(test_config_path, 'w') as file:\n",
    "            yaml.dump(config, file, default_flow_style=False)\n"
   ]
  },
  {
   "cell_type": "code",
   "execution_count": 1,
   "metadata": {
    "tags": []
   },
   "outputs": [],
   "source": [
    "random_search_config(param_grid, eval_count = 25, starting_count = 200)"
   ]
  },
  {
   "cell_type": "code",
   "execution_count": null,
   "metadata": {},
   "outputs": [],
   "source": []
  }
 ],
 "metadata": {
  "language_info": {
   "codemirror_mode": {
    "name": "ipython",
    "version": 3
   },
   "file_extension": ".py",
   "mimetype": "text/x-python",
   "name": "python",
   "nbconvert_exporter": "python",
   "pygments_lexer": "ipython3",
   "version": "3.6.8-final"
  },
  "orig_nbformat": 2,
  "kernelspec": {
   "name": "python36864bitbaseconda83f0f7daf4974cbebd49ef9d4b466cc7",
   "display_name": "Python 3.6.8 64-bit ('base': conda)"
  }
 },
 "nbformat": 4,
 "nbformat_minor": 2
}