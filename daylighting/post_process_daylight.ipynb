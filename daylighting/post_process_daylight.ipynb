{
 "cells": [
  {
   "cell_type": "code",
   "execution_count": 2,
   "metadata": {},
   "outputs": [],
   "source": [
    "import pandas as pd"
   ]
  },
  {
   "cell_type": "code",
   "execution_count": 41,
   "metadata": {},
   "outputs": [
    {
     "output_type": "execute_result",
     "data": {
      "text/plain": "978.1549266000001"
     },
     "metadata": {},
     "execution_count": 41
    }
   ],
   "source": [
    "DL_df = pd.read_csv(\"SFO_2013.csv\")\n",
    "DL_df = DL_df.rename(columns={\"Date/Time\": \"date_time\", \"FLEXLAB-XR-ZONEB:Daylighting Reference Point 1 Illuminance [lux](TimeStep)\": \"Daylighting_B\"})\n",
    "index = pd.date_range(start='1/1/{0}'.format(2013), end='1/1/{0}'.format(2013+1), periods=35041)\n",
    "daylight_df = pd.DataFrame(index, columns=['date_time'])\n",
    "daylight_df = daylight_df[:-1]\n",
    "daylight_df[\"Daylighting_B\"] =0.0 \n",
    "daylight_df[\"Daylighting_B\"] = DL_df[\"Daylighting_B\"]\n",
    "daylight_df.to_csv('daylight_SFO_2013.csv', index=False)\n",
    "max(daylight_df[\"Daylighting_B\"])"
   ]
  },
  {
   "cell_type": "code",
   "execution_count": 42,
   "metadata": {},
   "outputs": [
    {
     "output_type": "execute_result",
     "data": {
      "text/plain": "1169.25507"
     },
     "metadata": {},
     "execution_count": 42
    }
   ],
   "source": [
    "DL_df = pd.read_csv(\"SFO_2014.csv\")\n",
    "DL_df = DL_df.rename(columns={\"Date/Time\": \"date_time\", \"FLEXLAB-XR-ZONEB:Daylighting Reference Point 1 Illuminance [lux](TimeStep)\": \"Daylighting_B\"})\n",
    "index = pd.date_range(start='1/1/{0}'.format(2014), end='1/1/{0}'.format(2014+1), periods=35041)\n",
    "daylight_df = pd.DataFrame(index, columns=['date_time'])\n",
    "daylight_df = daylight_df[:-1]\n",
    "daylight_df[\"Daylighting_B\"] =0.0 \n",
    "daylight_df[\"Daylighting_B\"] = DL_df[\"Daylighting_B\"]\n",
    "daylight_df.to_csv('daylight_SFO_2014.csv', index=False)\n",
    "max(daylight_df[\"Daylighting_B\"])\n"
   ]
  },
  {
   "cell_type": "code",
   "execution_count": 43,
   "metadata": {},
   "outputs": [
    {
     "output_type": "execute_result",
     "data": {
      "text/plain": "1014.950109"
     },
     "metadata": {},
     "execution_count": 43
    }
   ],
   "source": [
    "DL_df = pd.read_csv(\"SFO_2015.csv\")\n",
    "DL_df = DL_df.rename(columns={\"Date/Time\": \"date_time\", \"FLEXLAB-XR-ZONEB:Daylighting Reference Point 1 Illuminance [lux](TimeStep)\": \"Daylighting_B\"})\n",
    "index = pd.date_range(start='1/1/{0}'.format(2015), end='1/1/{0}'.format(2015+1), periods=35041)\n",
    "daylight_df = pd.DataFrame(index, columns=['date_time'])\n",
    "daylight_df = daylight_df[:-1]\n",
    "daylight_df[\"Daylighting_B\"] =0.0 \n",
    "daylight_df[\"Daylighting_B\"] = DL_df[\"Daylighting_B\"]\n",
    "daylight_df.to_csv('daylight_SFO_2015.csv', index=False)\n",
    "max(daylight_df[\"Daylighting_B\"])"
   ]
  },
  {
   "cell_type": "code",
   "execution_count": 44,
   "metadata": {},
   "outputs": [
    {
     "output_type": "execute_result",
     "data": {
      "text/plain": "948.2403393"
     },
     "metadata": {},
     "execution_count": 44
    }
   ],
   "source": [
    "DL_df = pd.read_csv(\"SFO_2017.csv\")\n",
    "DL_df = DL_df.rename(columns={\"Date/Time\": \"date_time\", \"FLEXLAB-XR-ZONEB:Daylighting Reference Point 1 Illuminance [lux](TimeStep)\": \"Daylighting_B\"})\n",
    "index = pd.date_range(start='1/1/{0}'.format(2017), end='1/1/{0}'.format(2017+1), periods=35041)\n",
    "daylight_df = pd.DataFrame(index, columns=['date_time'])\n",
    "daylight_df = daylight_df[:-1]\n",
    "daylight_df[\"Daylighting_B\"] =0.0 \n",
    "daylight_df[\"Daylighting_B\"] = DL_df[\"Daylighting_B\"]\n",
    "daylight_df.to_csv('daylight_SFO_2017.csv', index=False)\n",
    "max(daylight_df[\"Daylighting_B\"])"
   ]
  },
  {
   "cell_type": "code",
   "execution_count": 48,
   "metadata": {},
   "outputs": [
    {
     "output_type": "execute_result",
     "data": {
      "text/plain": "932.4124625"
     },
     "metadata": {},
     "execution_count": 48
    }
   ],
   "source": [
    "DL_df = pd.read_csv(\"SFO_TMY.csv\")\n",
    "DL_df = DL_df.rename(columns={\"Date/Time\": \"date_time\", \"FLEXLAB-XR-ZONEB:Daylighting Reference Point 1 Illuminance [lux](TimeStep)\": \"Daylighting_B\"})\n",
    "index = pd.date_range(start='1/1/{0}'.format(2017), end='1/1/{0}'.format(2017+1), periods=35041)\n",
    "daylight_df = pd.DataFrame(index, columns=['date_time'])\n",
    "daylight_df = daylight_df[:-1]\n",
    "daylight_df[\"Daylighting_B\"] =0.0 \n",
    "daylight_df[\"Daylighting_B\"] = DL_df[\"Daylighting_B\"]\n",
    "daylight_df.to_csv('daylight_SFO_TMY.csv', index=False)\n",
    "max(daylight_df[\"Daylighting_B\"])"
   ]
  },
  {
   "cell_type": "code",
   "execution_count": 45,
   "metadata": {},
   "outputs": [
    {
     "output_type": "execute_result",
     "data": {
      "text/plain": "1005.6391070000001"
     },
     "metadata": {},
     "execution_count": 45
    }
   ],
   "source": [
    "DL_df = pd.read_csv(\"flexlab_2018.csv\")\n",
    "DL_df = DL_df.rename(columns={\"Date/Time\": \"date_time\", \"FLEXLAB-XR-ZONEB:Daylighting Reference Point 1 Illuminance [lux](TimeStep)\": \"Daylighting_B\"})\n",
    "index = pd.date_range(start='1/1/{0}'.format(2018), end='1/1/{0}'.format(2018+1), periods=35041)\n",
    "daylight_df = pd.DataFrame(index, columns=['date_time'])\n",
    "daylight_df = daylight_df[:-1]\n",
    "daylight_df[\"Daylighting_B\"] =0.0 \n",
    "daylight_df[\"Daylighting_B\"] = DL_df[\"Daylighting_B\"]\n",
    "daylight_df.to_csv('daylight_flexlab_2018.csv', index=False)\n",
    "max(daylight_df[\"Daylighting_B\"])"
   ]
  },
  {
   "cell_type": "code",
   "execution_count": 46,
   "metadata": {},
   "outputs": [
    {
     "output_type": "execute_result",
     "data": {
      "text/plain": "1019.1577869999999"
     },
     "metadata": {},
     "execution_count": 46
    }
   ],
   "source": [
    "DL_df = pd.read_csv(\"Chicago_TMY.csv\")\n",
    "DL_df = DL_df.rename(columns={\"Date/Time\": \"date_time\", \"FLEXLAB-XR-ZONEB:Daylighting Reference Point 1 Illuminance [lux](TimeStep)\": \"Daylighting_B\"})\n",
    "index = pd.date_range(start='1/1/{0}'.format(2017), end='1/1/{0}'.format(2017+1), periods=35041)\n",
    "daylight_df = pd.DataFrame(index, columns=['date_time'])\n",
    "daylight_df = daylight_df[:-1]\n",
    "daylight_df[\"Daylighting_B\"] =0.0 \n",
    "daylight_df[\"Daylighting_B\"] = DL_df[\"Daylighting_B\"]\n",
    "daylight_df.to_csv('daylight_Chicago_TMY.csv', index=False)\n",
    "max(daylight_df[\"Daylighting_B\"])"
   ]
  },
  {
   "cell_type": "code",
   "execution_count": 47,
   "metadata": {},
   "outputs": [
    {
     "output_type": "execute_result",
     "data": {
      "text/plain": "892.2073822000001"
     },
     "metadata": {},
     "execution_count": 47
    }
   ],
   "source": [
    "DL_df = pd.read_csv(\"Miami_TMY.csv\")\n",
    "DL_df = DL_df.rename(columns={\"Date/Time\": \"date_time\", \"FLEXLAB-XR-ZONEB:Daylighting Reference Point 1 Illuminance [lux](TimeStep)\": \"Daylighting_B\"})\n",
    "index = pd.date_range(start='1/1/{0}'.format(2017), end='1/1/{0}'.format(2017+1), periods=35041)\n",
    "daylight_df = pd.DataFrame(index, columns=['date_time'])\n",
    "daylight_df = daylight_df[:-1]\n",
    "daylight_df[\"Daylighting_B\"] =0.0 \n",
    "daylight_df[\"Daylighting_B\"] = DL_df[\"Daylighting_B\"]\n",
    "daylight_df.to_csv('daylight_Miami_TMY.csv', index=False)\n",
    "max(daylight_df[\"Daylighting_B\"])"
   ]
  },
  {
   "cell_type": "code",
   "execution_count": null,
   "metadata": {},
   "outputs": [],
   "source": []
  },
  {
   "cell_type": "code",
   "execution_count": null,
   "metadata": {},
   "outputs": [],
   "source": []
  },
  {
   "cell_type": "code",
   "execution_count": null,
   "metadata": {},
   "outputs": [],
   "source": []
  },
  {
   "cell_type": "code",
   "execution_count": null,
   "metadata": {},
   "outputs": [],
   "source": []
  },
  {
   "cell_type": "code",
   "execution_count": 2,
   "metadata": {},
   "outputs": [],
   "source": [
    "def time_converter(year,idx,total_timestep=35040):\n",
    "    \"\"\"\n",
    "    Input\n",
    "    -------------------\n",
    "    year: int, year to be converted\n",
    "    idx: int, index of timestep in the specific year, SHOULD start from zero\n",
    "    total_timestep: total timestep of the specific year\n",
    "    \n",
    "    Output\n",
    "    -------------------\n",
    "    pandas Timestamp of the time corresponding to the idx\n",
    "    \"\"\"\n",
    "    index = pd.date_range(start='1/1/{0}'.format(year), end='1/1/{0}'.format(year+1), periods=total_timestep+1)\n",
    "    time = index[idx]\n",
    "    return time"
   ]
  },
  {
   "cell_type": "code",
   "execution_count": 3,
   "metadata": {},
   "outputs": [],
   "source": [
    "def price_generator(year,total_timestep=35040):\n",
    "    index = pd.date_range(start='1/1/{0}'.format(year), end='1/1/{0}'.format(year+1), periods=total_timestep+1)\n",
    "    e_price_df = pd.DataFrame(index, columns=['date_time'])\n",
    "    e_price_df['e_price'] = 0\n",
    "    for idx in range(total_timestep):\n",
    "        time = index[idx]\n",
    "        if 0 <= time.hour < 14:\n",
    "            e_price = 8\n",
    "        elif 14 <= time.hour < 16 or 21 <= time.hour < 23:\n",
    "            e_price = 16\n",
    "        elif 16 <= time.hour < 21:\n",
    "            e_price = 25\n",
    "        else :\n",
    "            e_price = 8\n",
    "        e_price_df.loc[idx,'e_price'] = e_price\n",
    "        \n",
    "    return e_price_df\n",
    "            \n",
    "    "
   ]
  },
  {
   "cell_type": "code",
   "execution_count": 19,
   "metadata": {},
   "outputs": [],
   "source": [
    "e_price_df_2015 = price_generator(2015,total_timestep=35040)\n",
    "e_price_df_2015.to_csv('e_price_2015.csv', index=False)"
   ]
  },
  {
   "cell_type": "code",
   "execution_count": 20,
   "metadata": {},
   "outputs": [],
   "source": [
    "e_price_df_2013 = price_generator(2013,total_timestep=35040)\n",
    "e_price_df_2013.to_csv('e_price_2013.csv', index=False)"
   ]
  },
  {
   "cell_type": "code",
   "execution_count": 21,
   "metadata": {},
   "outputs": [],
   "source": [
    "e_price_df_2014 = price_generator(2014,total_timestep=35040)\n",
    "e_price_df_2014.to_csv('e_price_2014.csv', index=False)"
   ]
  },
  {
   "cell_type": "code",
   "execution_count": 22,
   "metadata": {},
   "outputs": [],
   "source": [
    "e_price_df_2017 = price_generator(2017,total_timestep=35040)\n",
    "e_price_df_2017.to_csv('e_price_2017.csv', index=False)"
   ]
  },
  {
   "cell_type": "code",
   "execution_count": 24,
   "metadata": {},
   "outputs": [
    {
     "data": {
      "text/plain": [
       "10"
      ]
     },
     "execution_count": 24,
     "metadata": {},
     "output_type": "execute_result"
    }
   ],
   "source": [
    "max(5,10)"
   ]
  },
  {
   "cell_type": "code",
   "execution_count": 4,
   "metadata": {},
   "outputs": [],
   "source": [
    "e_price_df_2018 = price_generator(2018,total_timestep=35040)\n",
    "e_price_df_2018.to_csv('e_price_2018.csv', index=False)"
   ]
  },
  {
   "cell_type": "code",
   "execution_count": null,
   "metadata": {},
   "outputs": [],
   "source": []
  },
  {
   "cell_type": "code",
   "execution_count": null,
   "metadata": {},
   "outputs": [],
   "source": []
  },
  {
   "cell_type": "code",
   "execution_count": null,
   "metadata": {},
   "outputs": [],
   "source": []
  },
  {
   "cell_type": "code",
   "execution_count": 19,
   "metadata": {},
   "outputs": [
    {
     "output_type": "execute_result",
     "data": {
      "text/plain": "                     e_price  d_price\ndate_time                            \n2017-01-01 00:00:00   0.1115    21.08\n2017-01-01 00:15:00   0.1115    21.08\n2017-01-01 00:30:00   0.1115    21.08\n2017-01-01 00:45:00   0.1115    21.08\n2017-01-01 01:00:00   0.1115    21.08",
      "text/html": "<div>\n<style scoped>\n    .dataframe tbody tr th:only-of-type {\n        vertical-align: middle;\n    }\n\n    .dataframe tbody tr th {\n        vertical-align: top;\n    }\n\n    .dataframe thead th {\n        text-align: right;\n    }\n</style>\n<table border=\"1\" class=\"dataframe\">\n  <thead>\n    <tr style=\"text-align: right;\">\n      <th></th>\n      <th>e_price</th>\n      <th>d_price</th>\n    </tr>\n    <tr>\n      <th>date_time</th>\n      <th></th>\n      <th></th>\n    </tr>\n  </thead>\n  <tbody>\n    <tr>\n      <th>2017-01-01 00:00:00</th>\n      <td>0.1115</td>\n      <td>21.08</td>\n    </tr>\n    <tr>\n      <th>2017-01-01 00:15:00</th>\n      <td>0.1115</td>\n      <td>21.08</td>\n    </tr>\n    <tr>\n      <th>2017-01-01 00:30:00</th>\n      <td>0.1115</td>\n      <td>21.08</td>\n    </tr>\n    <tr>\n      <th>2017-01-01 00:45:00</th>\n      <td>0.1115</td>\n      <td>21.08</td>\n    </tr>\n    <tr>\n      <th>2017-01-01 01:00:00</th>\n      <td>0.1115</td>\n      <td>21.08</td>\n    </tr>\n  </tbody>\n</table>\n</div>"
     },
     "metadata": {},
     "execution_count": 19
    }
   ],
   "source": [
    "ed2017 = pd.read_csv(\"e_d_price_2017.csv\", index_col=0, parse_dates=True)\n",
    "ed2017.head()"
   ]
  },
  {
   "cell_type": "code",
   "execution_count": 5,
   "metadata": {},
   "outputs": [],
   "source": [
    "ed2017_hourly =ed2017.resample('60T').mean()"
   ]
  },
  {
   "cell_type": "code",
   "execution_count": 7,
   "metadata": {},
   "outputs": [
    {
     "output_type": "execute_result",
     "data": {
      "text/plain": "(8761, 2)"
     },
     "metadata": {},
     "execution_count": 7
    }
   ],
   "source": [
    "ed2017_hourly.shape\n",
    ""
   ]
  },
  {
   "cell_type": "code",
   "execution_count": 8,
   "metadata": {},
   "outputs": [
    {
     "output_type": "execute_result",
     "data": {
      "text/plain": "8760"
     },
     "metadata": {},
     "execution_count": 8
    }
   ],
   "source": [
    "24*365"
   ]
  },
  {
   "cell_type": "code",
   "execution_count": 9,
   "metadata": {},
   "outputs": [
    {
     "output_type": "execute_result",
     "data": {
      "text/plain": "16"
     },
     "metadata": {},
     "execution_count": 9
    }
   ],
   "source": [
    "4*4\n",
    ""
   ]
  },
  {
   "cell_type": "code",
   "execution_count": null,
   "metadata": {},
   "outputs": [],
   "source": [
    "data$tow <- data$hour + lubridate::minute(data$dts)/60 + data$wday*24"
   ]
  },
  {
   "cell_type": "code",
   "execution_count": 25,
   "metadata": {},
   "outputs": [
    {
     "output_type": "execute_result",
     "data": {
      "text/plain": "Timestamp('2017-01-01 05:00:00')"
     },
     "metadata": {},
     "execution_count": 25
    }
   ],
   "source": [
    "# index_1 = pd.to_datetime(ed2017.index)\n",
    "ed2017.index[20]"
   ]
  },
  {
   "cell_type": "code",
   "execution_count": 31,
   "metadata": {},
   "outputs": [
    {
     "output_type": "execute_result",
     "data": {
      "text/plain": "Timestamp('2017-01-01 05:15:00')"
     },
     "metadata": {},
     "execution_count": 31
    }
   ],
   "source": [
    "toto =ed2017.index[21]\n",
    "toto"
   ]
  },
  {
   "cell_type": "code",
   "execution_count": 32,
   "metadata": {},
   "outputs": [
    {
     "output_type": "execute_result",
     "data": {
      "text/plain": "5"
     },
     "metadata": {},
     "execution_count": 32
    }
   ],
   "source": [
    "toto.hour"
   ]
  },
  {
   "cell_type": "code",
   "execution_count": 33,
   "metadata": {},
   "outputs": [
    {
     "output_type": "execute_result",
     "data": {
      "text/plain": "15"
     },
     "metadata": {},
     "execution_count": 33
    }
   ],
   "source": [
    "toto.minute"
   ]
  },
  {
   "cell_type": "code",
   "execution_count": 51,
   "metadata": {},
   "outputs": [
    {
     "output_type": "execute_result",
     "data": {
      "text/plain": "6"
     },
     "metadata": {},
     "execution_count": 51
    }
   ],
   "source": [
    "toto.weekday()"
   ]
  },
  {
   "cell_type": "code",
   "execution_count": 47,
   "metadata": {},
   "outputs": [
    {
     "output_type": "execute_result",
     "data": {
      "text/plain": "Float64Index([167.75,    0.0,   0.25,    0.5,   0.75,    1.0,   1.25,    1.5,\n                1.75,    2.0,   2.25,    2.5,   2.75,    3.0,   3.25,    3.5,\n                3.75,    4.0,   4.25,    4.5,   4.75,    5.0,   5.25,    5.5,\n                5.75,    6.0,   6.25,    6.5,   6.75,    7.0,   7.25,    7.5,\n                7.75,    8.0,   8.25,    8.5,   8.75,    9.0,   9.25,    9.5,\n                9.75,   10.0,  10.25,   10.5,  10.75,   11.0,  11.25,   11.5,\n               11.75,   12.0,  12.25,   12.5,  12.75,   13.0,  13.25,   13.5,\n               13.75,   14.0,  14.25,   14.5,  14.75,   15.0,  15.25,   15.5,\n               15.75,   16.0,  16.25,   16.5,  16.75,   17.0,  17.25,   17.5,\n               17.75,   18.0,  18.25,   18.5,  18.75,   19.0,  19.25,   19.5,\n               19.75,   20.0,  20.25,   20.5,  20.75,   21.0,  21.25,   21.5,\n               21.75,   22.0,  22.25,   22.5,  22.75,   23.0,  23.25,   23.5,\n               23.75,   24.0,  24.25,   24.5],\n             dtype='float64', name='date_time')"
     },
     "metadata": {},
     "execution_count": 47
    }
   ],
   "source": [
    "titi = ed2017.index.hour + ed2017.index.minute/60.0 + ed2017.index.weekday* 24\n",
    "titi[95:195]"
   ]
  },
  {
   "cell_type": "code",
   "execution_count": 48,
   "metadata": {},
   "outputs": [
    {
     "output_type": "execute_result",
     "data": {
      "text/plain": "671.0"
     },
     "metadata": {},
     "execution_count": 48
    }
   ],
   "source": [
    "167.75/.25\n",
    ""
   ]
  },
  {
   "cell_type": "code",
   "execution_count": 49,
   "metadata": {},
   "outputs": [
    {
     "output_type": "execute_result",
     "data": {
      "text/plain": "672"
     },
     "metadata": {},
     "execution_count": 49
    }
   ],
   "source": [
    "24*4*7"
   ]
  },
  {
   "cell_type": "code",
   "execution_count": null,
   "metadata": {},
   "outputs": [],
   "source": [
    "minuteOfWeek = 24*60*timeVec$wday+60*timeVec$hour + timeVec$min\n",
    "intervalOfWeek = 1+floor(minuteOfWeek/intervalMinutes)"
   ]
  },
  {
   "cell_type": "code",
   "execution_count": null,
   "metadata": {},
   "outputs": [],
   "source": [
    "titi = 60 * ed2017.index.hour + ed2017.index.minute + toto.weekday() * 24 * 60"
   ]
  },
  {
   "cell_type": "code",
   "execution_count": 59,
   "metadata": {},
   "outputs": [],
   "source": [
    "dts = pd.date_range(start='1/1/{0}'.format(2017), end='1/1/{0}'.format(2017+1), periods=35040+1)"
   ]
  },
  {
   "cell_type": "code",
   "execution_count": 57,
   "metadata": {},
   "outputs": [
    {
     "output_type": "execute_result",
     "data": {
      "text/plain": "35040.0"
     },
     "metadata": {},
     "execution_count": 57
    }
   ],
   "source": [
    "tow = 60 * ed2017.index.hour + ed2017.index.minute + toto.weekday() * 24 * 60\n",
    "tow"
   ]
  },
  {
   "cell_type": "code",
   "execution_count": null,
   "metadata": {},
   "outputs": [],
   "source": [
    "60*"
   ]
  }
 ],
 "metadata": {
  "kernelspec": {
   "display_name": "Python 3",
   "language": "python",
   "name": "python3"
  },
  "language_info": {
   "codemirror_mode": {
    "name": "ipython",
    "version": 3
   },
   "file_extension": ".py",
   "mimetype": "text/x-python",
   "name": "python",
   "nbconvert_exporter": "python",
   "pygments_lexer": "ipython3",
   "version": "3.6.8-final"
  }
 },
 "nbformat": 4,
 "nbformat_minor": 2
}