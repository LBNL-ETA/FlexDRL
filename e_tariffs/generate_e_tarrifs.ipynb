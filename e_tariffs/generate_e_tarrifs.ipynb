{
 "cells": [
  {
   "cell_type": "code",
   "execution_count": 1,
   "metadata": {},
   "outputs": [],
   "source": [
    "import pandas as pd"
   ]
  },
  {
   "cell_type": "code",
   "execution_count": 2,
   "metadata": {},
   "outputs": [],
   "source": [
    "def time_converter(year,idx,total_timestep=35040):\n",
    "    \"\"\"\n",
    "    Input\n",
    "    -------------------\n",
    "    year: int, year to be converted\n",
    "    idx: int, index of timestep in the specific year, SHOULD start from zero\n",
    "    total_timestep: total timestep of the specific year\n",
    "    \n",
    "    Output\n",
    "    -------------------\n",
    "    pandas Timestamp of the time corresponding to the idx\n",
    "    \"\"\"\n",
    "    index = pd.date_range(start='1/1/{0}'.format(year), end='1/1/{0}'.format(year+1), periods=total_timestep+1)\n",
    "    time = index[idx]\n",
    "    return time"
   ]
  },
  {
   "cell_type": "code",
   "execution_count": 3,
   "metadata": {},
   "outputs": [],
   "source": [
    "def price_generator(year,total_timestep=35040):\n",
    "    index = pd.date_range(start='1/1/{0}'.format(year), end='1/1/{0}'.format(year+1), periods=total_timestep+1)\n",
    "    e_price_df = pd.DataFrame(index, columns=['date_time'])\n",
    "    e_price_df['e_price'] = 0\n",
    "    for idx in range(total_timestep):\n",
    "        time = index[idx]\n",
    "        if 0 <= time.hour < 14:\n",
    "            e_price = 8\n",
    "        elif 14 <= time.hour < 16 or 21 <= time.hour < 23:\n",
    "            e_price = 16\n",
    "        elif 16 <= time.hour < 21:\n",
    "            e_price = 25\n",
    "        else :\n",
    "            e_price = 8\n",
    "        e_price_df.loc[idx,'e_price'] = e_price\n",
    "        \n",
    "    return e_price_df\n",
    "            \n",
    "    "
   ]
  },
  {
   "cell_type": "code",
   "execution_count": 4,
   "metadata": {},
   "outputs": [
    {
     "output_type": "error",
     "ename": "KeyboardInterrupt",
     "evalue": "",
     "traceback": [
      "\u001b[0;31m---------------------------------------------------------------------------\u001b[0m",
      "\u001b[0;31mKeyboardInterrupt\u001b[0m                         Traceback (most recent call last)",
      "\u001b[0;32m<ipython-input-4-736346a538e3>\u001b[0m in \u001b[0;36m<module>\u001b[0;34m\u001b[0m\n\u001b[0;32m----> 1\u001b[0;31m \u001b[0me_price_df_2015\u001b[0m \u001b[0;34m=\u001b[0m \u001b[0mprice_generator\u001b[0m\u001b[0;34m(\u001b[0m\u001b[0;36m2015\u001b[0m\u001b[0;34m,\u001b[0m\u001b[0mtotal_timestep\u001b[0m\u001b[0;34m=\u001b[0m\u001b[0;36m35040\u001b[0m\u001b[0;34m)\u001b[0m\u001b[0;34m\u001b[0m\u001b[0;34m\u001b[0m\u001b[0m\n\u001b[0m\u001b[1;32m      2\u001b[0m \u001b[0me_price_df_2015\u001b[0m\u001b[0;34m.\u001b[0m\u001b[0mto_csv\u001b[0m\u001b[0;34m(\u001b[0m\u001b[0;34m'e_price_2015.csv'\u001b[0m\u001b[0;34m,\u001b[0m \u001b[0mindex\u001b[0m\u001b[0;34m=\u001b[0m\u001b[0;32mFalse\u001b[0m\u001b[0;34m)\u001b[0m\u001b[0;34m\u001b[0m\u001b[0;34m\u001b[0m\u001b[0m\n",
      "\u001b[0;32m<ipython-input-3-65ee8a7171c1>\u001b[0m in \u001b[0;36mprice_generator\u001b[0;34m(year, total_timestep)\u001b[0m\n\u001b[1;32m     13\u001b[0m         \u001b[0;32melse\u001b[0m \u001b[0;34m:\u001b[0m\u001b[0;34m\u001b[0m\u001b[0;34m\u001b[0m\u001b[0m\n\u001b[1;32m     14\u001b[0m             \u001b[0me_price\u001b[0m \u001b[0;34m=\u001b[0m \u001b[0;36m8\u001b[0m\u001b[0;34m\u001b[0m\u001b[0;34m\u001b[0m\u001b[0m\n\u001b[0;32m---> 15\u001b[0;31m         \u001b[0me_price_df\u001b[0m\u001b[0;34m.\u001b[0m\u001b[0mloc\u001b[0m\u001b[0;34m[\u001b[0m\u001b[0midx\u001b[0m\u001b[0;34m,\u001b[0m\u001b[0;34m'e_price'\u001b[0m\u001b[0;34m]\u001b[0m \u001b[0;34m=\u001b[0m \u001b[0me_price\u001b[0m\u001b[0;34m\u001b[0m\u001b[0;34m\u001b[0m\u001b[0m\n\u001b[0m\u001b[1;32m     16\u001b[0m \u001b[0;34m\u001b[0m\u001b[0m\n\u001b[1;32m     17\u001b[0m     \u001b[0;32mreturn\u001b[0m \u001b[0me_price_df\u001b[0m\u001b[0;34m\u001b[0m\u001b[0;34m\u001b[0m\u001b[0m\n",
      "\u001b[0;32m/anaconda3/lib/python3.6/site-packages/pandas/core/indexing.py\u001b[0m in \u001b[0;36m__setitem__\u001b[0;34m(self, key, value)\u001b[0m\n\u001b[1;32m    187\u001b[0m             \u001b[0mkey\u001b[0m \u001b[0;34m=\u001b[0m \u001b[0mcom\u001b[0m\u001b[0;34m.\u001b[0m\u001b[0m_apply_if_callable\u001b[0m\u001b[0;34m(\u001b[0m\u001b[0mkey\u001b[0m\u001b[0;34m,\u001b[0m \u001b[0mself\u001b[0m\u001b[0;34m.\u001b[0m\u001b[0mobj\u001b[0m\u001b[0;34m)\u001b[0m\u001b[0;34m\u001b[0m\u001b[0;34m\u001b[0m\u001b[0m\n\u001b[1;32m    188\u001b[0m         \u001b[0mindexer\u001b[0m \u001b[0;34m=\u001b[0m \u001b[0mself\u001b[0m\u001b[0;34m.\u001b[0m\u001b[0m_get_setitem_indexer\u001b[0m\u001b[0;34m(\u001b[0m\u001b[0mkey\u001b[0m\u001b[0;34m)\u001b[0m\u001b[0;34m\u001b[0m\u001b[0;34m\u001b[0m\u001b[0m\n\u001b[0;32m--> 189\u001b[0;31m         \u001b[0mself\u001b[0m\u001b[0;34m.\u001b[0m\u001b[0m_setitem_with_indexer\u001b[0m\u001b[0;34m(\u001b[0m\u001b[0mindexer\u001b[0m\u001b[0;34m,\u001b[0m \u001b[0mvalue\u001b[0m\u001b[0;34m)\u001b[0m\u001b[0;34m\u001b[0m\u001b[0;34m\u001b[0m\u001b[0m\n\u001b[0m\u001b[1;32m    190\u001b[0m \u001b[0;34m\u001b[0m\u001b[0m\n\u001b[1;32m    191\u001b[0m     \u001b[0;32mdef\u001b[0m \u001b[0m_validate_key\u001b[0m\u001b[0;34m(\u001b[0m\u001b[0mself\u001b[0m\u001b[0;34m,\u001b[0m \u001b[0mkey\u001b[0m\u001b[0;34m,\u001b[0m \u001b[0maxis\u001b[0m\u001b[0;34m)\u001b[0m\u001b[0;34m:\u001b[0m\u001b[0;34m\u001b[0m\u001b[0;34m\u001b[0m\u001b[0m\n",
      "\u001b[0;32m/anaconda3/lib/python3.6/site-packages/pandas/core/indexing.py\u001b[0m in \u001b[0;36m_setitem_with_indexer\u001b[0;34m(self, indexer, value)\u001b[0m\n\u001b[1;32m    613\u001b[0m                 \u001b[0;31m# scalar\u001b[0m\u001b[0;34m\u001b[0m\u001b[0;34m\u001b[0m\u001b[0;34m\u001b[0m\u001b[0m\n\u001b[1;32m    614\u001b[0m                 \u001b[0;32mfor\u001b[0m \u001b[0mitem\u001b[0m \u001b[0;32min\u001b[0m \u001b[0mlabels\u001b[0m\u001b[0;34m:\u001b[0m\u001b[0;34m\u001b[0m\u001b[0;34m\u001b[0m\u001b[0m\n\u001b[0;32m--> 615\u001b[0;31m                     \u001b[0msetter\u001b[0m\u001b[0;34m(\u001b[0m\u001b[0mitem\u001b[0m\u001b[0;34m,\u001b[0m \u001b[0mvalue\u001b[0m\u001b[0;34m)\u001b[0m\u001b[0;34m\u001b[0m\u001b[0;34m\u001b[0m\u001b[0m\n\u001b[0m\u001b[1;32m    616\u001b[0m \u001b[0;34m\u001b[0m\u001b[0m\n\u001b[1;32m    617\u001b[0m         \u001b[0;32melse\u001b[0m\u001b[0;34m:\u001b[0m\u001b[0;34m\u001b[0m\u001b[0;34m\u001b[0m\u001b[0m\n",
      "\u001b[0;32m/anaconda3/lib/python3.6/site-packages/pandas/core/indexing.py\u001b[0m in \u001b[0;36msetter\u001b[0;34m(item, v)\u001b[0m\n\u001b[1;32m    537\u001b[0m                     \u001b[0ms\u001b[0m\u001b[0;34m.\u001b[0m\u001b[0m_consolidate_inplace\u001b[0m\u001b[0;34m(\u001b[0m\u001b[0;34m)\u001b[0m\u001b[0;34m\u001b[0m\u001b[0;34m\u001b[0m\u001b[0m\n\u001b[1;32m    538\u001b[0m                     \u001b[0ms\u001b[0m \u001b[0;34m=\u001b[0m \u001b[0ms\u001b[0m\u001b[0;34m.\u001b[0m\u001b[0mcopy\u001b[0m\u001b[0;34m(\u001b[0m\u001b[0;34m)\u001b[0m\u001b[0;34m\u001b[0m\u001b[0;34m\u001b[0m\u001b[0m\n\u001b[0;32m--> 539\u001b[0;31m                     \u001b[0ms\u001b[0m\u001b[0;34m.\u001b[0m\u001b[0m_data\u001b[0m \u001b[0;34m=\u001b[0m \u001b[0ms\u001b[0m\u001b[0;34m.\u001b[0m\u001b[0m_data\u001b[0m\u001b[0;34m.\u001b[0m\u001b[0msetitem\u001b[0m\u001b[0;34m(\u001b[0m\u001b[0mindexer\u001b[0m\u001b[0;34m=\u001b[0m\u001b[0mpi\u001b[0m\u001b[0;34m,\u001b[0m \u001b[0mvalue\u001b[0m\u001b[0;34m=\u001b[0m\u001b[0mv\u001b[0m\u001b[0;34m)\u001b[0m\u001b[0;34m\u001b[0m\u001b[0;34m\u001b[0m\u001b[0m\n\u001b[0m\u001b[1;32m    540\u001b[0m                     \u001b[0ms\u001b[0m\u001b[0;34m.\u001b[0m\u001b[0m_maybe_update_cacher\u001b[0m\u001b[0;34m(\u001b[0m\u001b[0mclear\u001b[0m\u001b[0;34m=\u001b[0m\u001b[0;32mTrue\u001b[0m\u001b[0;34m)\u001b[0m\u001b[0;34m\u001b[0m\u001b[0;34m\u001b[0m\u001b[0m\n\u001b[1;32m    541\u001b[0m \u001b[0;34m\u001b[0m\u001b[0m\n",
      "\u001b[0;32m/anaconda3/lib/python3.6/site-packages/pandas/core/internals.py\u001b[0m in \u001b[0;36msetitem\u001b[0;34m(self, **kwargs)\u001b[0m\n\u001b[1;32m   3691\u001b[0m \u001b[0;34m\u001b[0m\u001b[0m\n\u001b[1;32m   3692\u001b[0m     \u001b[0;32mdef\u001b[0m \u001b[0msetitem\u001b[0m\u001b[0;34m(\u001b[0m\u001b[0mself\u001b[0m\u001b[0;34m,\u001b[0m \u001b[0;34m**\u001b[0m\u001b[0mkwargs\u001b[0m\u001b[0;34m)\u001b[0m\u001b[0;34m:\u001b[0m\u001b[0;34m\u001b[0m\u001b[0;34m\u001b[0m\u001b[0m\n\u001b[0;32m-> 3693\u001b[0;31m         \u001b[0;32mreturn\u001b[0m \u001b[0mself\u001b[0m\u001b[0;34m.\u001b[0m\u001b[0mapply\u001b[0m\u001b[0;34m(\u001b[0m\u001b[0;34m'setitem'\u001b[0m\u001b[0;34m,\u001b[0m \u001b[0;34m**\u001b[0m\u001b[0mkwargs\u001b[0m\u001b[0;34m)\u001b[0m\u001b[0;34m\u001b[0m\u001b[0;34m\u001b[0m\u001b[0m\n\u001b[0m\u001b[1;32m   3694\u001b[0m \u001b[0;34m\u001b[0m\u001b[0m\n\u001b[1;32m   3695\u001b[0m     \u001b[0;32mdef\u001b[0m \u001b[0mputmask\u001b[0m\u001b[0;34m(\u001b[0m\u001b[0mself\u001b[0m\u001b[0;34m,\u001b[0m \u001b[0;34m**\u001b[0m\u001b[0mkwargs\u001b[0m\u001b[0;34m)\u001b[0m\u001b[0;34m:\u001b[0m\u001b[0;34m\u001b[0m\u001b[0;34m\u001b[0m\u001b[0m\n",
      "\u001b[0;32m/anaconda3/lib/python3.6/site-packages/pandas/core/internals.py\u001b[0m in \u001b[0;36mapply\u001b[0;34m(self, f, axes, filter, do_integrity_check, consolidate, **kwargs)\u001b[0m\n\u001b[1;32m   3579\u001b[0m \u001b[0;34m\u001b[0m\u001b[0m\n\u001b[1;32m   3580\u001b[0m             \u001b[0mkwargs\u001b[0m\u001b[0;34m[\u001b[0m\u001b[0;34m'mgr'\u001b[0m\u001b[0;34m]\u001b[0m \u001b[0;34m=\u001b[0m \u001b[0mself\u001b[0m\u001b[0;34m\u001b[0m\u001b[0;34m\u001b[0m\u001b[0m\n\u001b[0;32m-> 3581\u001b[0;31m             \u001b[0mapplied\u001b[0m \u001b[0;34m=\u001b[0m \u001b[0mgetattr\u001b[0m\u001b[0;34m(\u001b[0m\u001b[0mb\u001b[0m\u001b[0;34m,\u001b[0m \u001b[0mf\u001b[0m\u001b[0;34m)\u001b[0m\u001b[0;34m(\u001b[0m\u001b[0;34m**\u001b[0m\u001b[0mkwargs\u001b[0m\u001b[0;34m)\u001b[0m\u001b[0;34m\u001b[0m\u001b[0;34m\u001b[0m\u001b[0m\n\u001b[0m\u001b[1;32m   3582\u001b[0m             \u001b[0mresult_blocks\u001b[0m \u001b[0;34m=\u001b[0m \u001b[0m_extend_blocks\u001b[0m\u001b[0;34m(\u001b[0m\u001b[0mapplied\u001b[0m\u001b[0;34m,\u001b[0m \u001b[0mresult_blocks\u001b[0m\u001b[0;34m)\u001b[0m\u001b[0;34m\u001b[0m\u001b[0;34m\u001b[0m\u001b[0m\n\u001b[1;32m   3583\u001b[0m \u001b[0;34m\u001b[0m\u001b[0m\n",
      "\u001b[0;32m/anaconda3/lib/python3.6/site-packages/pandas/core/internals.py\u001b[0m in \u001b[0;36msetitem\u001b[0;34m(self, indexer, value, mgr)\u001b[0m\n\u001b[1;32m    941\u001b[0m \u001b[0;34m\u001b[0m\u001b[0m\n\u001b[1;32m    942\u001b[0m         \u001b[0;31m# coerce and try to infer the dtypes of the result\u001b[0m\u001b[0;34m\u001b[0m\u001b[0;34m\u001b[0m\u001b[0;34m\u001b[0m\u001b[0m\n\u001b[0;32m--> 943\u001b[0;31m         \u001b[0mvalues\u001b[0m \u001b[0;34m=\u001b[0m \u001b[0mself\u001b[0m\u001b[0;34m.\u001b[0m\u001b[0m_try_coerce_and_cast_result\u001b[0m\u001b[0;34m(\u001b[0m\u001b[0mvalues\u001b[0m\u001b[0;34m,\u001b[0m \u001b[0mdtype\u001b[0m\u001b[0;34m)\u001b[0m\u001b[0;34m\u001b[0m\u001b[0;34m\u001b[0m\u001b[0m\n\u001b[0m\u001b[1;32m    944\u001b[0m         \u001b[0mblock\u001b[0m \u001b[0;34m=\u001b[0m \u001b[0mself\u001b[0m\u001b[0;34m.\u001b[0m\u001b[0mmake_block\u001b[0m\u001b[0;34m(\u001b[0m\u001b[0mtransf\u001b[0m\u001b[0;34m(\u001b[0m\u001b[0mvalues\u001b[0m\u001b[0;34m)\u001b[0m\u001b[0;34m)\u001b[0m\u001b[0;34m\u001b[0m\u001b[0;34m\u001b[0m\u001b[0m\n\u001b[1;32m    945\u001b[0m         \u001b[0;32mreturn\u001b[0m \u001b[0mblock\u001b[0m\u001b[0;34m\u001b[0m\u001b[0;34m\u001b[0m\u001b[0m\n",
      "\u001b[0;32m/anaconda3/lib/python3.6/site-packages/pandas/core/internals.py\u001b[0m in \u001b[0;36m_try_coerce_and_cast_result\u001b[0;34m(self, result, dtype)\u001b[0m\n\u001b[1;32m    750\u001b[0m     \u001b[0;32mdef\u001b[0m \u001b[0m_try_coerce_and_cast_result\u001b[0m\u001b[0;34m(\u001b[0m\u001b[0mself\u001b[0m\u001b[0;34m,\u001b[0m \u001b[0mresult\u001b[0m\u001b[0;34m,\u001b[0m \u001b[0mdtype\u001b[0m\u001b[0;34m=\u001b[0m\u001b[0;32mNone\u001b[0m\u001b[0;34m)\u001b[0m\u001b[0;34m:\u001b[0m\u001b[0;34m\u001b[0m\u001b[0;34m\u001b[0m\u001b[0m\n\u001b[1;32m    751\u001b[0m         \u001b[0mresult\u001b[0m \u001b[0;34m=\u001b[0m \u001b[0mself\u001b[0m\u001b[0;34m.\u001b[0m\u001b[0m_try_coerce_result\u001b[0m\u001b[0;34m(\u001b[0m\u001b[0mresult\u001b[0m\u001b[0;34m)\u001b[0m\u001b[0;34m\u001b[0m\u001b[0;34m\u001b[0m\u001b[0m\n\u001b[0;32m--> 752\u001b[0;31m         \u001b[0mresult\u001b[0m \u001b[0;34m=\u001b[0m \u001b[0mself\u001b[0m\u001b[0;34m.\u001b[0m\u001b[0m_try_cast_result\u001b[0m\u001b[0;34m(\u001b[0m\u001b[0mresult\u001b[0m\u001b[0;34m,\u001b[0m \u001b[0mdtype\u001b[0m\u001b[0;34m=\u001b[0m\u001b[0mdtype\u001b[0m\u001b[0;34m)\u001b[0m\u001b[0;34m\u001b[0m\u001b[0;34m\u001b[0m\u001b[0m\n\u001b[0m\u001b[1;32m    753\u001b[0m         \u001b[0;32mreturn\u001b[0m \u001b[0mresult\u001b[0m\u001b[0;34m\u001b[0m\u001b[0;34m\u001b[0m\u001b[0m\n\u001b[1;32m    754\u001b[0m \u001b[0;34m\u001b[0m\u001b[0m\n",
      "\u001b[0;32m/anaconda3/lib/python3.6/site-packages/pandas/core/internals.py\u001b[0m in \u001b[0;36m_try_cast_result\u001b[0;34m(self, result, dtype)\u001b[0m\n\u001b[1;32m    730\u001b[0m \u001b[0;34m\u001b[0m\u001b[0m\n\u001b[1;32m    731\u001b[0m         \u001b[0;31m# may need to change the dtype here\u001b[0m\u001b[0;34m\u001b[0m\u001b[0;34m\u001b[0m\u001b[0;34m\u001b[0m\u001b[0m\n\u001b[0;32m--> 732\u001b[0;31m         \u001b[0;32mreturn\u001b[0m \u001b[0mmaybe_downcast_to_dtype\u001b[0m\u001b[0;34m(\u001b[0m\u001b[0mresult\u001b[0m\u001b[0;34m,\u001b[0m \u001b[0mdtype\u001b[0m\u001b[0;34m)\u001b[0m\u001b[0;34m\u001b[0m\u001b[0;34m\u001b[0m\u001b[0m\n\u001b[0m\u001b[1;32m    733\u001b[0m \u001b[0;34m\u001b[0m\u001b[0m\n\u001b[1;32m    734\u001b[0m     \u001b[0;32mdef\u001b[0m \u001b[0m_try_coerce_args\u001b[0m\u001b[0;34m(\u001b[0m\u001b[0mself\u001b[0m\u001b[0;34m,\u001b[0m \u001b[0mvalues\u001b[0m\u001b[0;34m,\u001b[0m \u001b[0mother\u001b[0m\u001b[0;34m)\u001b[0m\u001b[0;34m:\u001b[0m\u001b[0;34m\u001b[0m\u001b[0;34m\u001b[0m\u001b[0m\n",
      "\u001b[0;32m/anaconda3/lib/python3.6/site-packages/pandas/core/dtypes/cast.py\u001b[0m in \u001b[0;36mmaybe_downcast_to_dtype\u001b[0;34m(result, dtype)\u001b[0m\n\u001b[1;32m     85\u001b[0m     \u001b[0;32mif\u001b[0m \u001b[0misinstance\u001b[0m\u001b[0;34m(\u001b[0m\u001b[0mdtype\u001b[0m\u001b[0;34m,\u001b[0m \u001b[0mstring_types\u001b[0m\u001b[0;34m)\u001b[0m\u001b[0;34m:\u001b[0m\u001b[0;34m\u001b[0m\u001b[0;34m\u001b[0m\u001b[0m\n\u001b[1;32m     86\u001b[0m         \u001b[0;32mif\u001b[0m \u001b[0mdtype\u001b[0m \u001b[0;34m==\u001b[0m \u001b[0;34m'infer'\u001b[0m\u001b[0;34m:\u001b[0m\u001b[0;34m\u001b[0m\u001b[0;34m\u001b[0m\u001b[0m\n\u001b[0;32m---> 87\u001b[0;31m             \u001b[0minferred_type\u001b[0m \u001b[0;34m=\u001b[0m \u001b[0mlib\u001b[0m\u001b[0;34m.\u001b[0m\u001b[0minfer_dtype\u001b[0m\u001b[0;34m(\u001b[0m\u001b[0m_ensure_object\u001b[0m\u001b[0;34m(\u001b[0m\u001b[0mresult\u001b[0m\u001b[0;34m.\u001b[0m\u001b[0mravel\u001b[0m\u001b[0;34m(\u001b[0m\u001b[0;34m)\u001b[0m\u001b[0;34m)\u001b[0m\u001b[0;34m)\u001b[0m\u001b[0;34m\u001b[0m\u001b[0;34m\u001b[0m\u001b[0m\n\u001b[0m\u001b[1;32m     88\u001b[0m             \u001b[0;32mif\u001b[0m \u001b[0minferred_type\u001b[0m \u001b[0;34m==\u001b[0m \u001b[0;34m'boolean'\u001b[0m\u001b[0;34m:\u001b[0m\u001b[0;34m\u001b[0m\u001b[0;34m\u001b[0m\u001b[0m\n\u001b[1;32m     89\u001b[0m                 \u001b[0mdtype\u001b[0m \u001b[0;34m=\u001b[0m \u001b[0;34m'bool'\u001b[0m\u001b[0;34m\u001b[0m\u001b[0;34m\u001b[0m\u001b[0m\n",
      "\u001b[0;31mKeyboardInterrupt\u001b[0m: "
     ]
    }
   ],
   "source": [
    "e_price_df_2015 = price_generator(2015,total_timestep=35040)\n",
    "e_price_df_2015.to_csv('e_price_2015.csv', index=False)"
   ]
  },
  {
   "cell_type": "code",
   "execution_count": 20,
   "metadata": {},
   "outputs": [],
   "source": [
    "e_price_df_2013 = price_generator(2013,total_timestep=35040)\n",
    "e_price_df_2013.to_csv('e_price_2013.csv', index=False)"
   ]
  },
  {
   "cell_type": "code",
   "execution_count": 21,
   "metadata": {},
   "outputs": [],
   "source": [
    "e_price_df_2014 = price_generator(2014,total_timestep=35040)\n",
    "e_price_df_2014.to_csv('e_price_2014.csv', index=False)"
   ]
  },
  {
   "cell_type": "code",
   "execution_count": 22,
   "metadata": {},
   "outputs": [],
   "source": [
    "e_price_df_2017 = price_generator(2017,total_timestep=35040)\n",
    "e_price_df_2017.to_csv('e_price_2017.csv', index=False)"
   ]
  },
  {
   "cell_type": "code",
   "execution_count": 24,
   "metadata": {},
   "outputs": [
    {
     "data": {
      "text/plain": [
       "10"
      ]
     },
     "execution_count": 24,
     "metadata": {},
     "output_type": "execute_result"
    }
   ],
   "source": [
    "max(5,10)"
   ]
  },
  {
   "cell_type": "code",
   "execution_count": 4,
   "metadata": {},
   "outputs": [],
   "source": [
    "e_price_df_2018 = price_generator(2018,total_timestep=35040)\n",
    "e_price_df_2018.to_csv('e_price_2018.csv', index=False)"
   ]
  },
  {
   "cell_type": "code",
   "execution_count": null,
   "metadata": {},
   "outputs": [],
   "source": []
  },
  {
   "cell_type": "code",
   "execution_count": null,
   "metadata": {},
   "outputs": [],
   "source": []
  },
  {
   "cell_type": "code",
   "execution_count": null,
   "metadata": {},
   "outputs": [],
   "source": []
  },
  {
   "cell_type": "code",
   "execution_count": 2,
   "metadata": {},
   "outputs": [
    {
     "output_type": "execute_result",
     "data": {
      "text/plain": "                     e_price  d_price\ndate_time                            \n2017-01-01 00:00:00   0.1115    21.08\n2017-01-01 00:15:00   0.1115    21.08\n2017-01-01 00:30:00   0.1115    21.08\n2017-01-01 00:45:00   0.1115    21.08\n2017-01-01 01:00:00   0.1115    21.08",
      "text/html": "<div>\n<style scoped>\n    .dataframe tbody tr th:only-of-type {\n        vertical-align: middle;\n    }\n\n    .dataframe tbody tr th {\n        vertical-align: top;\n    }\n\n    .dataframe thead th {\n        text-align: right;\n    }\n</style>\n<table border=\"1\" class=\"dataframe\">\n  <thead>\n    <tr style=\"text-align: right;\">\n      <th></th>\n      <th>e_price</th>\n      <th>d_price</th>\n    </tr>\n    <tr>\n      <th>date_time</th>\n      <th></th>\n      <th></th>\n    </tr>\n  </thead>\n  <tbody>\n    <tr>\n      <th>2017-01-01 00:00:00</th>\n      <td>0.1115</td>\n      <td>21.08</td>\n    </tr>\n    <tr>\n      <th>2017-01-01 00:15:00</th>\n      <td>0.1115</td>\n      <td>21.08</td>\n    </tr>\n    <tr>\n      <th>2017-01-01 00:30:00</th>\n      <td>0.1115</td>\n      <td>21.08</td>\n    </tr>\n    <tr>\n      <th>2017-01-01 00:45:00</th>\n      <td>0.1115</td>\n      <td>21.08</td>\n    </tr>\n    <tr>\n      <th>2017-01-01 01:00:00</th>\n      <td>0.1115</td>\n      <td>21.08</td>\n    </tr>\n  </tbody>\n</table>\n</div>"
     },
     "metadata": {},
     "execution_count": 2
    }
   ],
   "source": [
    "ed2017 = pd.read_csv(\"e_d_price_2017.csv\", index_col=0, parse_dates=True)\n",
    "ed2017.head()"
   ]
  },
  {
   "cell_type": "code",
   "execution_count": 5,
   "metadata": {},
   "outputs": [],
   "source": [
    "ed2017_hourly =ed2017.resample('60T').mean()"
   ]
  },
  {
   "cell_type": "code",
   "execution_count": 7,
   "metadata": {},
   "outputs": [
    {
     "output_type": "execute_result",
     "data": {
      "text/plain": "(8761, 2)"
     },
     "metadata": {},
     "execution_count": 7
    }
   ],
   "source": [
    "ed2017_hourly.shape\n",
    ""
   ]
  },
  {
   "cell_type": "code",
   "execution_count": 8,
   "metadata": {},
   "outputs": [
    {
     "output_type": "execute_result",
     "data": {
      "text/plain": "8760"
     },
     "metadata": {},
     "execution_count": 8
    }
   ],
   "source": [
    "24*365"
   ]
  },
  {
   "cell_type": "code",
   "execution_count": 9,
   "metadata": {},
   "outputs": [
    {
     "output_type": "execute_result",
     "data": {
      "text/plain": "16"
     },
     "metadata": {},
     "execution_count": 9
    }
   ],
   "source": [
    "4*4\n",
    ""
   ]
  },
  {
   "cell_type": "code",
   "execution_count": null,
   "metadata": {},
   "outputs": [],
   "source": [
    "data$tow <- data$hour + lubridate::minute(data$dts)/60 + data$wday*24"
   ]
  },
  {
   "cell_type": "code",
   "execution_count": 25,
   "metadata": {},
   "outputs": [
    {
     "output_type": "execute_result",
     "data": {
      "text/plain": "Timestamp('2017-01-01 05:00:00')"
     },
     "metadata": {},
     "execution_count": 25
    }
   ],
   "source": [
    "# index_1 = pd.to_datetime(ed2017.index)\n",
    "ed2017.index[20]"
   ]
  },
  {
   "cell_type": "code",
   "execution_count": 31,
   "metadata": {},
   "outputs": [
    {
     "output_type": "execute_result",
     "data": {
      "text/plain": "Timestamp('2017-01-01 05:15:00')"
     },
     "metadata": {},
     "execution_count": 31
    }
   ],
   "source": [
    "toto =ed2017.index[21]\n",
    "toto"
   ]
  },
  {
   "cell_type": "code",
   "execution_count": 32,
   "metadata": {},
   "outputs": [
    {
     "output_type": "execute_result",
     "data": {
      "text/plain": "5"
     },
     "metadata": {},
     "execution_count": 32
    }
   ],
   "source": [
    "toto.hour"
   ]
  },
  {
   "cell_type": "code",
   "execution_count": 33,
   "metadata": {},
   "outputs": [
    {
     "output_type": "execute_result",
     "data": {
      "text/plain": "15"
     },
     "metadata": {},
     "execution_count": 33
    }
   ],
   "source": [
    "toto.minute"
   ]
  },
  {
   "cell_type": "code",
   "execution_count": 51,
   "metadata": {},
   "outputs": [
    {
     "output_type": "execute_result",
     "data": {
      "text/plain": "6"
     },
     "metadata": {},
     "execution_count": 51
    }
   ],
   "source": [
    "toto.weekday()"
   ]
  },
  {
   "cell_type": "code",
   "execution_count": 47,
   "metadata": {},
   "outputs": [
    {
     "output_type": "execute_result",
     "data": {
      "text/plain": "Float64Index([167.75,    0.0,   0.25,    0.5,   0.75,    1.0,   1.25,    1.5,\n                1.75,    2.0,   2.25,    2.5,   2.75,    3.0,   3.25,    3.5,\n                3.75,    4.0,   4.25,    4.5,   4.75,    5.0,   5.25,    5.5,\n                5.75,    6.0,   6.25,    6.5,   6.75,    7.0,   7.25,    7.5,\n                7.75,    8.0,   8.25,    8.5,   8.75,    9.0,   9.25,    9.5,\n                9.75,   10.0,  10.25,   10.5,  10.75,   11.0,  11.25,   11.5,\n               11.75,   12.0,  12.25,   12.5,  12.75,   13.0,  13.25,   13.5,\n               13.75,   14.0,  14.25,   14.5,  14.75,   15.0,  15.25,   15.5,\n               15.75,   16.0,  16.25,   16.5,  16.75,   17.0,  17.25,   17.5,\n               17.75,   18.0,  18.25,   18.5,  18.75,   19.0,  19.25,   19.5,\n               19.75,   20.0,  20.25,   20.5,  20.75,   21.0,  21.25,   21.5,\n               21.75,   22.0,  22.25,   22.5,  22.75,   23.0,  23.25,   23.5,\n               23.75,   24.0,  24.25,   24.5],\n             dtype='float64', name='date_time')"
     },
     "metadata": {},
     "execution_count": 47
    }
   ],
   "source": [
    "titi = ed2017.index.hour + ed2017.index.minute/60.0 + ed2017.index.weekday* 24\n",
    "titi[95:195]"
   ]
  },
  {
   "cell_type": "code",
   "execution_count": 48,
   "metadata": {},
   "outputs": [
    {
     "output_type": "execute_result",
     "data": {
      "text/plain": "671.0"
     },
     "metadata": {},
     "execution_count": 48
    }
   ],
   "source": [
    "167.75/.25\n",
    ""
   ]
  },
  {
   "cell_type": "code",
   "execution_count": 49,
   "metadata": {},
   "outputs": [
    {
     "output_type": "execute_result",
     "data": {
      "text/plain": "672"
     },
     "metadata": {},
     "execution_count": 49
    }
   ],
   "source": [
    "24*4*7"
   ]
  },
  {
   "cell_type": "code",
   "execution_count": null,
   "metadata": {},
   "outputs": [],
   "source": [
    "minuteOfWeek = 24*60*timeVec$wday+60*timeVec$hour + timeVec$min\n",
    "intervalOfWeek = 1+floor(minuteOfWeek/intervalMinutes)"
   ]
  },
  {
   "cell_type": "code",
   "execution_count": null,
   "metadata": {},
   "outputs": [],
   "source": [
    "titi = 60 * ed2017.index.hour + ed2017.index.minute + toto.weekday() * 24 * 60"
   ]
  },
  {
   "cell_type": "code",
   "execution_count": 59,
   "metadata": {},
   "outputs": [],
   "source": [
    "dts = pd.date_range(start='1/1/{0}'.format(2017), end='1/1/{0}'.format(2017+1), periods=35040+1)"
   ]
  },
  {
   "cell_type": "code",
   "execution_count": 57,
   "metadata": {},
   "outputs": [
    {
     "output_type": "execute_result",
     "data": {
      "text/plain": "35040.0"
     },
     "metadata": {},
     "execution_count": 57
    }
   ],
   "source": [
    "tow = 60 * ed2017.index.hour + ed2017.index.minute + toto.weekday() * 24 * 60\n",
    "tow"
   ]
  },
  {
   "cell_type": "code",
   "execution_count": null,
   "metadata": {},
   "outputs": [],
   "source": [
    "60*"
   ]
  },
  {
   "cell_type": "code",
   "execution_count": 3,
   "metadata": {},
   "outputs": [
    {
     "output_type": "execute_result",
     "data": {
      "text/plain": "                     e_price  d_price\ndate_time                            \n2017-01-01 00:00:00   0.1115    21.08\n2017-01-01 00:15:00   0.1115    21.08\n2017-01-01 00:30:00   0.1115    21.08\n2017-01-01 00:45:00   0.1115    21.08\n2017-01-01 01:00:00   0.1115    21.08",
      "text/html": "<div>\n<style scoped>\n    .dataframe tbody tr th:only-of-type {\n        vertical-align: middle;\n    }\n\n    .dataframe tbody tr th {\n        vertical-align: top;\n    }\n\n    .dataframe thead th {\n        text-align: right;\n    }\n</style>\n<table border=\"1\" class=\"dataframe\">\n  <thead>\n    <tr style=\"text-align: right;\">\n      <th></th>\n      <th>e_price</th>\n      <th>d_price</th>\n    </tr>\n    <tr>\n      <th>date_time</th>\n      <th></th>\n      <th></th>\n    </tr>\n  </thead>\n  <tbody>\n    <tr>\n      <th>2017-01-01 00:00:00</th>\n      <td>0.1115</td>\n      <td>21.08</td>\n    </tr>\n    <tr>\n      <th>2017-01-01 00:15:00</th>\n      <td>0.1115</td>\n      <td>21.08</td>\n    </tr>\n    <tr>\n      <th>2017-01-01 00:30:00</th>\n      <td>0.1115</td>\n      <td>21.08</td>\n    </tr>\n    <tr>\n      <th>2017-01-01 00:45:00</th>\n      <td>0.1115</td>\n      <td>21.08</td>\n    </tr>\n    <tr>\n      <th>2017-01-01 01:00:00</th>\n      <td>0.1115</td>\n      <td>21.08</td>\n    </tr>\n  </tbody>\n</table>\n</div>"
     },
     "metadata": {},
     "execution_count": 3
    }
   ],
   "source": [
    "ed2017 = pd.read_csv(\"e_d_price_2017.csv\", index_col=0, parse_dates=True)\n",
    "ed2017.head()"
   ]
  },
  {
   "cell_type": "code",
   "execution_count": 4,
   "metadata": {},
   "outputs": [],
   "source": [
    "i = 0\n",
    "#ed2017.loc[i:(i+96),'e_price'] \n",
    "# ed2017.loc[0:96,'e_price'] \n",
    "\n",
    "time_interval = pd.date_range(\n",
    "            start=\"1/1/{0}\".format(2017),\n",
    "            end=\"1/1/{0}\".format(2017 + 1),\n",
    "            periods=35040 + 1)\n"
   ]
  },
  {
   "cell_type": "code",
   "execution_count": 5,
   "metadata": {},
   "outputs": [
    {
     "output_type": "execute_result",
     "data": {
      "text/plain": "34944"
     },
     "metadata": {},
     "execution_count": 5
    }
   ],
   "source": [
    "35040-96"
   ]
  },
  {
   "cell_type": "code",
   "execution_count": 8,
   "metadata": {},
   "outputs": [
    {
     "output_type": "execute_result",
     "data": {
      "text/plain": "Timestamp('2017-12-30 00:30:00')"
     },
     "metadata": {},
     "execution_count": 8
    }
   ],
   "source": [
    "i =35040+2-96 -96\n",
    "j = i+(24*4-1)\n",
    "time_interval[i] \n"
   ]
  },
  {
   "cell_type": "code",
   "execution_count": 30,
   "metadata": {},
   "outputs": [
    {
     "output_type": "execute_result",
     "data": {
      "text/plain": "Timestamp('2017-12-31 00:15:00')"
     },
     "metadata": {},
     "execution_count": 30
    }
   ],
   "source": [
    "time_interval[j]"
   ]
  },
  {
   "cell_type": "code",
   "execution_count": 24,
   "metadata": {},
   "outputs": [
    {
     "output_type": "execute_result",
     "data": {
      "text/plain": "34944"
     },
     "metadata": {},
     "execution_count": 24
    }
   ],
   "source": [
    "(35040 - 95 - 1)"
   ]
  },
  {
   "cell_type": "code",
   "execution_count": 18,
   "metadata": {},
   "outputs": [
    {
     "output_type": "execute_result",
     "data": {
      "text/plain": "97"
     },
     "metadata": {},
     "execution_count": 18
    }
   ],
   "source": [
    "idx = ed2017.loc[time_interval[i]:time_interval[j]].index\n",
    "len(idx)"
   ]
  },
  {
   "cell_type": "code",
   "execution_count": 24,
   "metadata": {},
   "outputs": [],
   "source": [
    "df =ed2017.loc[idx,'e_price']"
   ]
  },
  {
   "cell_type": "code",
   "execution_count": 26,
   "metadata": {},
   "outputs": [
    {
     "output_type": "execute_result",
     "data": {
      "text/plain": "date_time\n0     0.1115\n1     0.1115\n2     0.1115\n3     0.1115\n4     0.1115\n5     0.1115\n6     0.1115\n7     0.1115\n8     0.1115\n9     0.1115\n10    0.1115\n11    0.1115\n12    0.1115\n13    0.1115\n14    0.1115\n15    0.1115\n16    0.1438\n17    0.1438\n18    0.1438\n19    0.1438\n20    0.1438\n21    0.1115\n22    0.1115\n23    0.1115\nName: e_price, dtype: float64"
     },
     "metadata": {},
     "execution_count": 26
    }
   ],
   "source": [
    "df.groupby([idx.hour]).mean()"
   ]
  },
  {
   "cell_type": "code",
   "execution_count": 27,
   "metadata": {},
   "outputs": [
    {
     "output_type": "execute_result",
     "data": {
      "text/plain": "date_time\n0     0.1115\n1     0.1115\n2     0.1115\n3     0.1115\n4     0.1115\n5     0.1115\n6     0.1115\n7     0.1115\n8     0.1115\n9     0.1115\n10    0.1115\n11    0.1115\n12    0.1115\n13    0.1115\n14    0.1115\n15    0.1115\n16    0.1438\n17    0.1438\n18    0.1438\n19    0.1438\n20    0.1438\n21    0.1115\n22    0.1115\n23    0.1115\nName: e_price, dtype: float64"
     },
     "metadata": {},
     "execution_count": 27
    }
   ],
   "source": [
    "i = 0\n",
    "j = i+95\n",
    "idx = ed2017.loc[time_interval[i]:time_interval[j]].index\n",
    "df =ed2017.loc[idx,'e_price']\n",
    "df.groupby([idx.hour]).mean()"
   ]
  },
  {
   "cell_type": "code",
   "execution_count": 7,
   "metadata": {},
   "outputs": [],
   "source": [
    "\n",
    "def get_data_from_df(df, start_time=None, end_time=None):\n",
    "    \"\"\"Get a DataFrame of all price variables from csv files\n",
    "        Parameters\n",
    "        ----------\n",
    "        start_time : datetime\n",
    "            Start time of timeseries\n",
    "        end_time : datetime\n",
    "            End time of timeseries\n",
    "        -------\n",
    "        df: pandas DataFrame\n",
    "            DataFrame where each column is a variable in the variables section in the configuration\n",
    "    \"\"\"\n",
    "    df.index = pd.to_datetime(df.index)\n",
    "    idx = df.loc[start_time:end_time].index\n",
    "    df = df.loc[idx,]\n",
    "\n",
    "    return df"
   ]
  },
  {
   "cell_type": "code",
   "execution_count": 45,
   "metadata": {},
   "outputs": [
    {
     "output_type": "execute_result",
     "data": {
      "text/plain": "date_time\n1    0.1115\n2    0.1115\n3    0.1115\nName: e_price, dtype: float64"
     },
     "metadata": {},
     "execution_count": 45
    }
   ],
   "source": [
    "i = 103\n",
    "j = i+ (4*3 -(1))\n",
    "start = time_interval[i]\n",
    "end = time_interval[j-i%4]\n",
    "df_price = get_data_from_df(\n",
    "            df=ed2017, \n",
    "            start_time=start, \n",
    "            end_time=end)\n",
    "df_price.groupby([df_price.index.hour])['e_price'].mean()"
   ]
  },
  {
   "cell_type": "code",
   "execution_count": 58,
   "metadata": {},
   "outputs": [
    {
     "output_type": "execute_result",
     "data": {
      "text/plain": "            date_time  e_price  d_price\n0 2017-01-01 14:15:00   0.1115    21.08\n1 2017-01-01 14:30:00   0.1115    21.08\n2 2017-01-01 14:45:00   0.1115    21.08\n3 2017-01-01 15:00:00   0.1115    21.08\n4 2017-01-01 15:15:00   0.1115    21.08",
      "text/html": "<div>\n<style scoped>\n    .dataframe tbody tr th:only-of-type {\n        vertical-align: middle;\n    }\n\n    .dataframe tbody tr th {\n        vertical-align: top;\n    }\n\n    .dataframe thead th {\n        text-align: right;\n    }\n</style>\n<table border=\"1\" class=\"dataframe\">\n  <thead>\n    <tr style=\"text-align: right;\">\n      <th></th>\n      <th>date_time</th>\n      <th>e_price</th>\n      <th>d_price</th>\n    </tr>\n  </thead>\n  <tbody>\n    <tr>\n      <th>0</th>\n      <td>2017-01-01 14:15:00</td>\n      <td>0.1115</td>\n      <td>21.08</td>\n    </tr>\n    <tr>\n      <th>1</th>\n      <td>2017-01-01 14:30:00</td>\n      <td>0.1115</td>\n      <td>21.08</td>\n    </tr>\n    <tr>\n      <th>2</th>\n      <td>2017-01-01 14:45:00</td>\n      <td>0.1115</td>\n      <td>21.08</td>\n    </tr>\n    <tr>\n      <th>3</th>\n      <td>2017-01-01 15:00:00</td>\n      <td>0.1115</td>\n      <td>21.08</td>\n    </tr>\n    <tr>\n      <th>4</th>\n      <td>2017-01-01 15:15:00</td>\n      <td>0.1115</td>\n      <td>21.08</td>\n    </tr>\n  </tbody>\n</table>\n</div>"
     },
     "metadata": {},
     "execution_count": 58
    }
   ],
   "source": [
    "i = 57\n",
    "j = i+ (4*(2 -1))\n",
    "start = time_interval[i]\n",
    "end = time_interval[j]\n",
    "df_price = get_data_from_df(\n",
    "            df=ed2017, \n",
    "            start_time=start, \n",
    "            end_time=end)\n",
    "#df_price.groupby([df_price.index.hour])['e_price'].mean()\n",
    "\n",
    "df_price = df_price.reset_index()\n",
    "df_price"
   ]
  },
  {
   "cell_type": "code",
   "execution_count": 57,
   "metadata": {},
   "outputs": [
    {
     "output_type": "execute_result",
     "data": {
      "text/plain": "array([0.1115, 0.1115, 0.1438])"
     },
     "metadata": {},
     "execution_count": 57
    }
   ],
   "source": [
    "eprice_ahead_lst = []\n",
    "for k in range(0,df_price.shape[0],4):\n",
    "    eprice_ahead_lst.append(df_price.iloc[k][\"e_price\"])\n",
    "\n",
    "np.array(eprice_ahead_lst)"
   ]
  },
  {
   "cell_type": "code",
   "execution_count": 38,
   "metadata": {},
   "outputs": [],
   "source": [
    "titi=df_price.groupby([df_price.index.hour])['e_price'].mean()"
   ]
  },
  {
   "cell_type": "code",
   "execution_count": 39,
   "metadata": {},
   "outputs": [
    {
     "output_type": "error",
     "ename": "AttributeError",
     "evalue": "'Series' object has no attribute 'to_numpy'",
     "traceback": [
      "\u001b[0;31m---------------------------------------------------------------------------\u001b[0m",
      "\u001b[0;31mAttributeError\u001b[0m                            Traceback (most recent call last)",
      "\u001b[0;32m<ipython-input-39-e9b08d3ea94f>\u001b[0m in \u001b[0;36m<module>\u001b[0;34m\u001b[0m\n\u001b[0;32m----> 1\u001b[0;31m \u001b[0mtiti\u001b[0m\u001b[0;34m.\u001b[0m\u001b[0mto_numpy\u001b[0m\u001b[0;34m(\u001b[0m\u001b[0;34m)\u001b[0m\u001b[0;34m\u001b[0m\u001b[0;34m\u001b[0m\u001b[0m\n\u001b[0m",
      "\u001b[0;32m/anaconda3/lib/python3.6/site-packages/pandas/core/generic.py\u001b[0m in \u001b[0;36m__getattr__\u001b[0;34m(self, name)\u001b[0m\n\u001b[1;32m   4374\u001b[0m             \u001b[0;32mif\u001b[0m \u001b[0mself\u001b[0m\u001b[0;34m.\u001b[0m\u001b[0m_info_axis\u001b[0m\u001b[0;34m.\u001b[0m\u001b[0m_can_hold_identifiers_and_holds_name\u001b[0m\u001b[0;34m(\u001b[0m\u001b[0mname\u001b[0m\u001b[0;34m)\u001b[0m\u001b[0;34m:\u001b[0m\u001b[0;34m\u001b[0m\u001b[0;34m\u001b[0m\u001b[0m\n\u001b[1;32m   4375\u001b[0m                 \u001b[0;32mreturn\u001b[0m \u001b[0mself\u001b[0m\u001b[0;34m[\u001b[0m\u001b[0mname\u001b[0m\u001b[0;34m]\u001b[0m\u001b[0;34m\u001b[0m\u001b[0;34m\u001b[0m\u001b[0m\n\u001b[0;32m-> 4376\u001b[0;31m             \u001b[0;32mreturn\u001b[0m \u001b[0mobject\u001b[0m\u001b[0;34m.\u001b[0m\u001b[0m__getattribute__\u001b[0m\u001b[0;34m(\u001b[0m\u001b[0mself\u001b[0m\u001b[0;34m,\u001b[0m \u001b[0mname\u001b[0m\u001b[0;34m)\u001b[0m\u001b[0;34m\u001b[0m\u001b[0;34m\u001b[0m\u001b[0m\n\u001b[0m\u001b[1;32m   4377\u001b[0m \u001b[0;34m\u001b[0m\u001b[0m\n\u001b[1;32m   4378\u001b[0m     \u001b[0;32mdef\u001b[0m \u001b[0m__setattr__\u001b[0m\u001b[0;34m(\u001b[0m\u001b[0mself\u001b[0m\u001b[0;34m,\u001b[0m \u001b[0mname\u001b[0m\u001b[0;34m,\u001b[0m \u001b[0mvalue\u001b[0m\u001b[0;34m)\u001b[0m\u001b[0;34m:\u001b[0m\u001b[0;34m\u001b[0m\u001b[0;34m\u001b[0m\u001b[0m\n",
      "\u001b[0;31mAttributeError\u001b[0m: 'Series' object has no attribute 'to_numpy'"
     ]
    }
   ],
   "source": [
    "titi.to_numpy()"
   ]
  },
  {
   "cell_type": "code",
   "execution_count": 54,
   "metadata": {},
   "outputs": [],
   "source": [
    "import numpy as np\n",
    "#np.array(titi)"
   ]
  },
  {
   "cell_type": "code",
   "execution_count": 44,
   "metadata": {},
   "outputs": [
    {
     "output_type": "execute_result",
     "data": {
      "text/plain": "Timestamp('2017-01-02 23:30:00')"
     },
     "metadata": {},
     "execution_count": 44
    }
   ],
   "source": [
    "time_interval[j+95]"
   ]
  },
  {
   "cell_type": "code",
   "execution_count": 2,
   "metadata": {},
   "outputs": [],
   "source": [
    "main_obs_names = [\n",
    "            \"TOD\", \"OutTemp\", \"OutRH\", \"OutSI\",\n",
    "            \"ZoneTempB\", \"net_power\",\"net_energy\",\n",
    "            \"ZoneTotalIlluB\", \"SOC\", \"PV\"]"
   ]
  },
  {
   "cell_type": "code",
   "execution_count": 3,
   "metadata": {},
   "outputs": [],
   "source": [
    "eprice_24_ahead =[\n",
    "            \"eprice_t0\", \"eprice_t1\",\"eprice_t2\",\n",
    "            \"eprice_t3\", \"eprice_t4\", \"eprice_t5\",\n",
    "            \"eprice_t6\", \"eprice_t7\", \"eprice_t8\",\n",
    "            \"eprice_t9\", \"eprice_t10\", \"eprice_t11\",\n",
    "            \"eprice_t12\", \"eprice_t13\", \"eprice_t14\",\n",
    "            \"eprice_t15\", \"eprice_t16\", \"eprice_t17\",\n",
    "            \"eprice_t18\", \"eprice_t19\", \"eprice_t20\",\n",
    "            \"eprice_t21\", \"eprice_t22\", \"eprice_t23\"]"
   ]
  },
  {
   "cell_type": "code",
   "execution_count": 13,
   "metadata": {},
   "outputs": [
    {
     "output_type": "execute_result",
     "data": {
      "text/plain": "['eprice_t0', 'eprice_t1', 'eprice_t2', 'eprice_t3']"
     },
     "metadata": {},
     "execution_count": 13
    }
   ],
   "source": [
    "eprice_ehead =4\n",
    "eprice_x_ahead = eprice_24_ahead[0:eprice_ehead] \n",
    "eprice_x_ahead"
   ]
  },
  {
   "cell_type": "code",
   "execution_count": 14,
   "metadata": {},
   "outputs": [
    {
     "output_type": "execute_result",
     "data": {
      "text/plain": "['TOD',\n 'OutTemp',\n 'OutRH',\n 'OutSI',\n 'ZoneTempB',\n 'net_power',\n 'net_energy',\n 'ZoneTotalIlluB',\n 'SOC',\n 'PV']"
     },
     "metadata": {},
     "execution_count": 14
    }
   ],
   "source": [
    "main_obs_names"
   ]
  },
  {
   "cell_type": "code",
   "execution_count": 15,
   "metadata": {},
   "outputs": [
    {
     "output_type": "execute_result",
     "data": {
      "text/plain": "['TOD',\n 'OutTemp',\n 'OutRH',\n 'OutSI',\n 'ZoneTempB',\n 'net_power',\n 'net_energy',\n 'ZoneTotalIlluB',\n 'SOC',\n 'PV',\n 'eprice_t0',\n 'eprice_t1',\n 'eprice_t2',\n 'eprice_t3']"
     },
     "metadata": {},
     "execution_count": 15
    }
   ],
   "source": [
    "main_obs_names + eprice_x_ahead"
   ]
  },
  {
   "cell_type": "code",
   "execution_count": 17,
   "metadata": {},
   "outputs": [
    {
     "output_type": "execute_result",
     "data": {
      "text/plain": "array([3, 3, 3, 3])"
     },
     "metadata": {},
     "execution_count": 17
    }
   ],
   "source": [
    "import numpy as np\n",
    "np.repeat(3, 4)"
   ]
  },
  {
   "cell_type": "code",
   "execution_count": 18,
   "metadata": {},
   "outputs": [],
   "source": [
    "min_eprice = 10.0"
   ]
  },
  {
   "cell_type": "code",
   "execution_count": 21,
   "metadata": {},
   "outputs": [
    {
     "output_type": "execute_result",
     "data": {
      "text/plain": "array([10., 10., 10., 10., 10., 10., 10., 10., 10., 10., 10., 10., 10.,\n       10., 10., 10., 10., 10., 10., 10., 10., 10., 10., 10.])"
     },
     "metadata": {},
     "execution_count": 21
    }
   ],
   "source": [
    "np.repeat(min_eprice, 24)"
   ]
  },
  {
   "cell_type": "code",
   "execution_count": 26,
   "metadata": {},
   "outputs": [
    {
     "output_type": "stream",
     "name": "stdout",
     "text": "[  0.   -20.     0.     0.     5.    -5.    -1.25   0.     0.     0.\n 100.   100.   100.   100.  ]\n[2.375e+01 4.000e+01 1.000e+02 2.000e+04 3.500e+01 2.000e+01 5.000e+00\n 1.200e+03 1.000e+00 5.000e+03 1.000e+03 1.000e+03 1.000e+03 1.000e+03]\n"
    }
   ],
   "source": [
    "eprice_ehead =4\n",
    "min_eprice = 100\n",
    "max_eprice = 1000\n",
    "main_obs_low = np.array([\n",
    "            0.0, -20.0, 0.0, 0.0, \n",
    "            5.0, -5.0, -1.25, \n",
    "            0.0, 0.0, 0.0])\n",
    "main_obs_high = np.array([\n",
    "            23.75, 40.0, 100.0, 20000.0,\n",
    "            35.0, 20.0, 5.0,\n",
    "            1200.0, 1.0, 5000.0\n",
    "        ])\n",
    "eprice_x_ahead_low = np.repeat(min_eprice, eprice_ehead)\n",
    "eprice_x_ahead_high = np.repeat(max_eprice, eprice_ehead)\n",
    "\n",
    "obs_space_low = (main_obs_low,eprice_x_ahead_low)\n",
    "obs_space_low = np.concatenate(obs_space_low)\n",
    "obs_space_high = (main_obs_high,eprice_x_ahead_high)\n",
    "obs_space_high = np.concatenate(obs_space_high)\n",
    "\n",
    "print(obs_space_low)\n",
    "print(obs_space_high)"
   ]
  },
  {
   "cell_type": "code",
   "execution_count": 27,
   "metadata": {},
   "outputs": [
    {
     "output_type": "execute_result",
     "data": {
      "text/plain": "14"
     },
     "metadata": {},
     "execution_count": 27
    }
   ],
   "source": [
    "len(obs_space_low)"
   ]
  },
  {
   "cell_type": "code",
   "execution_count": 20,
   "metadata": {},
   "outputs": [
    {
     "output_type": "stream",
     "name": "stdout",
     "text": "2017-01-02 12:30:00\n"
    }
   ],
   "source": [
    "start = time_interval[146] \n",
    "print(start)"
   ]
  },
  {
   "cell_type": "code",
   "execution_count": 32,
   "metadata": {},
   "outputs": [],
   "source": [
    "from datetime import timedelta\n",
    "import numpy as np"
   ]
  },
  {
   "cell_type": "code",
   "execution_count": 34,
   "metadata": {},
   "outputs": [
    {
     "output_type": "stream",
     "name": "stdout",
     "text": "2017-01-02 17:15:00\n"
    }
   ],
   "source": [
    "times_ahead = 5 * 60\n",
    "\n",
    "end = start + timedelta(minutes = times_ahead-15)\n",
    "print(end)"
   ]
  },
  {
   "cell_type": "code",
   "execution_count": 38,
   "metadata": {},
   "outputs": [
    {
     "output_type": "execute_result",
     "data": {
      "text/plain": "date_time\n12    0.1115\n13    0.1115\n14    0.1115\n15    0.1115\n16    0.1438\n17    0.1438\nName: e_price, dtype: float64"
     },
     "metadata": {},
     "execution_count": 38
    }
   ],
   "source": [
    "df_price = get_data_from_df(\n",
    "            df=ed2017, \n",
    "            start_time=start, \n",
    "            end_time=end)\n",
    "df = df_price.groupby([df_price.index.hour])['e_price'].mean()\n",
    "df"
   ]
  },
  {
   "cell_type": "code",
   "execution_count": 42,
   "metadata": {},
   "outputs": [
    {
     "output_type": "execute_result",
     "data": {
      "text/plain": "array([0.1115, 0.1115, 0.1115, 0.1115, 0.1438])"
     },
     "metadata": {},
     "execution_count": 42
    }
   ],
   "source": [
    "hours_ahead = 5\n",
    "np.array(df.iloc[0:hours_ahead,])"
   ]
  },
  {
   "cell_type": "code",
   "execution_count": 43,
   "metadata": {},
   "outputs": [],
   "source": [
    "action_names = [\"SaFrB\", \"SaTempB\", \"LigB_input\", \"P_ctrl\"]"
   ]
  },
  {
   "cell_type": "code",
   "execution_count": 48,
   "metadata": {},
   "outputs": [
    {
     "output_type": "execute_result",
     "data": {
      "text/plain": "4"
     },
     "metadata": {},
     "execution_count": 48
    }
   ],
   "source": [
    "len(action_names)"
   ]
  },
  {
   "cell_type": "code",
   "execution_count": 46,
   "metadata": {},
   "outputs": [],
   "source": [
    "action_space_low = np.array([0.05, 10.0, 0.0, -3300.0])"
   ]
  },
  {
   "cell_type": "code",
   "execution_count": 47,
   "metadata": {},
   "outputs": [
    {
     "output_type": "execute_result",
     "data": {
      "text/plain": "4"
     },
     "metadata": {},
     "execution_count": 47
    }
   ],
   "source": [
    "action_space_low.shape[0]"
   ]
  },
  {
   "cell_type": "code",
   "execution_count": null,
   "metadata": {},
   "outputs": [],
   "source": [
    "action_space_low = np.array([0.05, 10.0, 0.0, -3300.0])"
   ]
  }
 ],
 "metadata": {
  "kernelspec": {
   "display_name": "Python 3",
   "language": "python",
   "name": "python3"
  },
  "language_info": {
   "codemirror_mode": {
    "name": "ipython",
    "version": 3
   },
   "file_extension": ".py",
   "mimetype": "text/x-python",
   "name": "python",
   "nbconvert_exporter": "python",
   "pygments_lexer": "ipython3",
   "version": "3.6.8-final"
  }
 },
 "nbformat": 4,
 "nbformat_minor": 2
}