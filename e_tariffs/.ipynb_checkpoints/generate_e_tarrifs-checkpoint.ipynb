{
 "cells": [
  {
   "cell_type": "code",
   "execution_count": 1,
   "metadata": {},
   "outputs": [],
   "source": [
    "import pandas as pd"
   ]
  },
  {
   "cell_type": "code",
   "execution_count": 2,
   "metadata": {},
   "outputs": [],
   "source": [
    "def time_converter(year,idx,total_timestep=35040):\n",
    "    \"\"\"\n",
    "    Input\n",
    "    -------------------\n",
    "    year: int, year to be converted\n",
    "    idx: int, index of timestep in the specific year, SHOULD start from zero\n",
    "    total_timestep: total timestep of the specific year\n",
    "    \n",
    "    Output\n",
    "    -------------------\n",
    "    pandas Timestamp of the time corresponding to the idx\n",
    "    \"\"\"\n",
    "    index = pd.date_range(start='1/1/{0}'.format(year), end='1/1/{0}'.format(year+1), periods=total_timestep+1)\n",
    "    time = index[idx]\n",
    "    return time"
   ]
  },
  {
   "cell_type": "code",
   "execution_count": 18,
   "metadata": {},
   "outputs": [],
   "source": [
    "def price_generator(year,total_timestep=35040):\n",
    "    index = pd.date_range(start='1/1/{0}'.format(year), end='1/1/{0}'.format(year+1), periods=total_timestep+1)\n",
    "    e_price_df = pd.DataFrame(index, columns=['date_time'])\n",
    "    e_price_df['e_price'] = 0\n",
    "    for idx in range(total_timestep):\n",
    "        time = index[idx]\n",
    "        if 0 <= time.hour < 14:\n",
    "            e_price = 8\n",
    "        elif 14 <= time.hour < 16 or 21 <= time.hour < 23:\n",
    "            e_price = 16\n",
    "        elif 16 <= time.hour < 21:\n",
    "            e_price = 25\n",
    "        else :\n",
    "            e_price = 8\n",
    "        e_price_df.loc[idx,'e_price'] = e_price\n",
    "        \n",
    "    return e_price_df\n",
    "            \n",
    "    "
   ]
  },
  {
   "cell_type": "code",
   "execution_count": 19,
   "metadata": {},
   "outputs": [],
   "source": [
    "e_price_df_2015 = price_generator(2015,total_timestep=35040)\n",
    "e_price_df_2015.to_csv('e_price_2015.csv', index=False)"
   ]
  },
  {
   "cell_type": "code",
   "execution_count": 20,
   "metadata": {},
   "outputs": [],
   "source": [
    "e_price_df_2013 = price_generator(2013,total_timestep=35040)\n",
    "e_price_df_2013.to_csv('e_price_2013.csv', index=False)"
   ]
  },
  {
   "cell_type": "code",
   "execution_count": 21,
   "metadata": {},
   "outputs": [],
   "source": [
    "e_price_df_2014 = price_generator(2014,total_timestep=35040)\n",
    "e_price_df_2014.to_csv('e_price_2014.csv', index=False)"
   ]
  },
  {
   "cell_type": "code",
   "execution_count": 22,
   "metadata": {},
   "outputs": [],
   "source": [
    "e_price_df_2017 = price_generator(2017,total_timestep=35040)\n",
    "e_price_df_2017.to_csv('e_price_2017.csv', index=False)"
   ]
  },
  {
   "cell_type": "code",
   "execution_count": null,
   "metadata": {},
   "outputs": [],
   "source": []
  }
 ],
 "metadata": {
  "kernelspec": {
   "display_name": "Python 3",
   "language": "python",
   "name": "python3"
  },
  "language_info": {
   "codemirror_mode": {
    "name": "ipython",
    "version": 3
   },
   "file_extension": ".py",
   "mimetype": "text/x-python",
   "name": "python",
   "nbconvert_exporter": "python",
   "pygments_lexer": "ipython3",
   "version": "3.6.8"
  }
 },
 "nbformat": 4,
 "nbformat_minor": 2
}
